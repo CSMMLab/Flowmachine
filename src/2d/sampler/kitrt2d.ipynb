{
 "cells": [
  {
   "cell_type": "code",
   "execution_count": 10,
   "metadata": {},
   "outputs": [],
   "source": [
    "using KitBase, Plots, JLD2, Distributions, LinearAlgebra, Flux, KitBase.WriteVTK\n",
    "using Flux: onecold, @epochs"
   ]
  },
  {
   "cell_type": "code",
   "execution_count": 4,
   "metadata": {},
   "outputs": [
    {
     "data": {
      "text/plain": [
       "accuracy (generic function with 1 method)"
      ]
     },
     "execution_count": 4,
     "metadata": {},
     "output_type": "execute_result"
    }
   ],
   "source": [
    "function regime_data(ks, w, prim, swx, swy, f)\n",
    "    Mu, Mv, Mxi, _, _1 = gauss_moments(prim, ks.gas.K)\n",
    "    a = pdf_slope(prim, swx, ks.gas.K)\n",
    "    b = pdf_slope(prim, swy, ks.gas.K)\n",
    "    swt = -prim[1] .* (moments_conserve_slope(a, Mu, Mv, Mxi, 1, 0) .+ moments_conserve_slope(b, Mu, Mv, Mxi, 0, 1))\n",
    "    A = pdf_slope(prim, swt, ks.gas.K)\n",
    "    tau = vhs_collision_time(prim, ks.gas.μᵣ, ks.gas.ω)\n",
    "    \n",
    "    fr = chapman_enskog(ks.vs.u, ks.vs.v, prim, a, b, A, tau)\n",
    "    L = norm((f .- fr) ./ prim[1])\n",
    "\n",
    "    sw = (swx.^2 + swy.^2).^0.5\n",
    "    x = [w; sw; tau]\n",
    "    y = ifelse(L <= 0.005, [1.0, 0.0], [0.0, 1.0])\n",
    "\n",
    "    return x, y\n",
    "end\n",
    "\n",
    "function regime_number(Y, rg=1)\n",
    "   idx = 0\n",
    "    for i in axes(Y, 2)\n",
    "       if Y[1, i] == rg\n",
    "            idx += 1\n",
    "        end\n",
    "    end\n",
    "    println(\"NS regime: $(idx) of $(size(Y, 2))\")\n",
    "    return nothing\n",
    "end\n",
    "\n",
    "function accuracy(nn, X, Y)\n",
    "    Y1 = nn(X)\n",
    "\n",
    "    YA1 = [onecold(Y1[:, i]) for i in axes(Y1, 2)]\n",
    "    YA = [onecold(Y[:, i]) for i in axes(Y, 2)]\n",
    "\n",
    "    accuracy = 0.0\n",
    "    for i in eachindex(YA)\n",
    "        if YA[i] == YA1[i]\n",
    "            accuracy += 1.0\n",
    "        end\n",
    "    end\n",
    "    accuracy /= length(YA)\n",
    "\n",
    "    return accuracy\n",
    "end"
   ]
  },
  {
   "cell_type": "code",
   "execution_count": null,
   "metadata": {},
   "outputs": [],
   "source": []
  },
  {
   "cell_type": "code",
   "execution_count": null,
   "metadata": {},
   "outputs": [],
   "source": []
  },
  {
   "cell_type": "code",
   "execution_count": 5,
   "metadata": {},
   "outputs": [],
   "source": [
    "file = open(\"/home2/vavrines/Coding/KiT-RT/result/logs/test_a10_ev5.csv\")\n",
    "data = []\n",
    "for line in eachline(file)\n",
    "    a = split(line, \",\")\n",
    "    b = [parse(Float64, a[i]) for i = 2:length(a)]\n",
    "    push!(data, b)\n",
    "end"
   ]
  },
  {
   "cell_type": "code",
   "execution_count": 6,
   "metadata": {},
   "outputs": [
    {
     "data": {
      "text/plain": [
       "-4.998084560095"
      ]
     },
     "execution_count": 6,
     "metadata": {},
     "output_type": "execute_result"
    }
   ],
   "source": [
    "data[1] |> minimum"
   ]
  },
  {
   "cell_type": "code",
   "execution_count": 7,
   "metadata": {},
   "outputs": [
    {
     "data": {
      "text/plain": [
       "6400-element Vector{Float64}:\n",
       "  0.002932191272\n",
       "  0.008792052591\n",
       "  0.014638357201\n",
       "  0.020462090525\n",
       "  0.02625427279\n",
       "  0.032005972868\n",
       "  0.037708322056\n",
       "  0.043352527745\n",
       "  0.048929886978\n",
       "  0.054431799872\n",
       "  0.059849782875\n",
       "  0.065175481852\n",
       "  0.07040068496\n",
       "  ⋮\n",
       " -2.181630817797\n",
       " -2.003362722442\n",
       " -1.822005586975\n",
       " -1.637839050954\n",
       " -1.45114708583\n",
       " -1.262217557081\n",
       " -1.071341780347\n",
       " -0.878814072239\n",
       " -0.68493129653\n",
       " -0.489992406406\n",
       " -0.294297983507\n",
       " -0.098149774448"
      ]
     },
     "execution_count": 7,
     "metadata": {},
     "output_type": "execute_result"
    }
   ],
   "source": [
    "data[2]"
   ]
  },
  {
   "cell_type": "code",
   "execution_count": 8,
   "metadata": {},
   "outputs": [
    {
     "data": {
      "text/plain": [
       "0.014050650464"
      ]
     },
     "execution_count": 8,
     "metadata": {},
     "output_type": "execute_result"
    }
   ],
   "source": [
    "data[4] |> minimum"
   ]
  },
  {
   "cell_type": "code",
   "execution_count": null,
   "metadata": {},
   "outputs": [],
   "source": []
  },
  {
   "cell_type": "code",
   "execution_count": 11,
   "metadata": {},
   "outputs": [
    {
     "data": {
      "text/plain": [
       "6400-element Vector{Float64}:\n",
       "  0.002932191272\n",
       "  0.008792052591\n",
       "  0.014638357201\n",
       "  0.020462090525\n",
       "  0.02625427279\n",
       "  0.032005972868\n",
       "  0.037708322056\n",
       "  0.043352527745\n",
       "  0.048929886978\n",
       "  0.054431799872\n",
       "  0.059849782875\n",
       "  0.065175481852\n",
       "  0.07040068496\n",
       "  ⋮\n",
       " -2.181630817797\n",
       " -2.003362722442\n",
       " -1.822005586975\n",
       " -1.637839050954\n",
       " -1.45114708583\n",
       " -1.262217557081\n",
       " -1.071341780347\n",
       " -0.878814072239\n",
       " -0.68493129653\n",
       " -0.489992406406\n",
       " -0.294297983507\n",
       " -0.098149774448"
      ]
     },
     "execution_count": 11,
     "metadata": {},
     "output_type": "execute_result"
    }
   ],
   "source": [
    "u = data[1]\n",
    "v = data[2]"
   ]
  },
  {
   "cell_type": "code",
   "execution_count": 12,
   "metadata": {},
   "outputs": [
    {
     "ename": "LoadError",
     "evalue": "DimensionMismatch(\"input should be a 2D or 3D array.\")",
     "output_type": "error",
     "traceback": [
      "DimensionMismatch(\"input should be a 2D or 3D array.\")",
      "",
      "Stacktrace:",
      " [1] vtk_write_array(filename::String, arrays::Tuple{Vector{Float64}, Vector{Float64}}, labels::Tuple{String, String})",
      "   @ WriteVTK ~/.julia/packages/WriteVTK/lPORE/src/gridtypes/array.jl:23",
      " [2] top-level scope",
      "   @ In[12]:1",
      " [3] eval",
      "   @ ./boot.jl:360 [inlined]",
      " [4] include_string(mapexpr::typeof(REPL.softscope), mod::Module, code::String, filename::String)",
      "   @ Base ./loading.jl:1116"
     ]
    }
   ],
   "source": [
    "vtk_write_array(\"test.vtk\", (u, v), (\"u\", \"v\"))"
   ]
  },
  {
   "cell_type": "code",
   "execution_count": null,
   "metadata": {},
   "outputs": [],
   "source": []
  }
 ],
 "metadata": {
  "kernelspec": {
   "display_name": "Julia 1.6.2",
   "language": "julia",
   "name": "julia-1.6"
  },
  "language_info": {
   "file_extension": ".jl",
   "mimetype": "application/julia",
   "name": "julia",
   "version": "1.6.2"
  }
 },
 "nbformat": 4,
 "nbformat_minor": 4
}
