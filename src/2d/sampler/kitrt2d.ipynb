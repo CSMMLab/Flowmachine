{
 "cells": [
  {
   "cell_type": "code",
   "execution_count": 1,
   "metadata": {},
   "outputs": [
    {
     "name": "stderr",
     "output_type": "stream",
     "text": [
      "┌ Info: Kinetic will run serially\n",
      "└ @ KitBase /home2/vavrines/.julia/packages/KitBase/5jIce/src/KitBase.jl:61\n",
      "┌ Info: Kinetic will run with CUDA\n",
      "└ @ KitBase /home2/vavrines/.julia/packages/KitBase/5jIce/src/KitBase.jl:65\n",
      "┌ Info: 1: NVIDIA GeForce RTX 3070\n",
      "└ @ KitBase /home2/vavrines/.julia/packages/KitBase/5jIce/src/KitBase.jl:67\n",
      "┌ Info: Scalar operation is disabled in CUDA\n",
      "└ @ KitBase /home2/vavrines/.julia/packages/KitBase/5jIce/src/KitBase.jl:69\n"
     ]
    }
   ],
   "source": [
    "using KitBase, Plots, JLD2, Distributions, LinearAlgebra, Flux\n",
    "using Flux: onecold, @epochs"
   ]
  },
  {
   "cell_type": "code",
   "execution_count": 2,
   "metadata": {},
   "outputs": [
    {
     "data": {
      "text/plain": [
       "accuracy (generic function with 1 method)"
      ]
     },
     "execution_count": 2,
     "metadata": {},
     "output_type": "execute_result"
    }
   ],
   "source": [
    "function regime_data(ks, w, prim, swx, swy, f)\n",
    "    Mu, Mv, Mxi, _, _1 = gauss_moments(prim, ks.gas.K)\n",
    "    a = pdf_slope(prim, swx, ks.gas.K)\n",
    "    b = pdf_slope(prim, swy, ks.gas.K)\n",
    "    swt = -prim[1] .* (moments_conserve_slope(a, Mu, Mv, Mxi, 1, 0) .+ moments_conserve_slope(b, Mu, Mv, Mxi, 0, 1))\n",
    "    A = pdf_slope(prim, swt, ks.gas.K)\n",
    "    tau = vhs_collision_time(prim, ks.gas.μᵣ, ks.gas.ω)\n",
    "    \n",
    "    fr = chapman_enskog(ks.vs.u, ks.vs.v, prim, a, b, A, tau)\n",
    "    L = norm((f .- fr) ./ prim[1])\n",
    "\n",
    "    sw = (swx.^2 + swy.^2).^0.5\n",
    "    x = [w; sw; tau]\n",
    "    y = ifelse(L <= 0.005, [1.0, 0.0], [0.0, 1.0])\n",
    "\n",
    "    return x, y\n",
    "end\n",
    "\n",
    "function regime_number(Y, rg=1)\n",
    "   idx = 0\n",
    "    for i in axes(Y, 2)\n",
    "       if Y[1, i] == rg\n",
    "            idx += 1\n",
    "        end\n",
    "    end\n",
    "    println(\"NS regime: $(idx) of $(size(Y, 2))\")\n",
    "    return nothing\n",
    "end\n",
    "\n",
    "function accuracy(nn, X, Y)\n",
    "    Y1 = nn(X)\n",
    "\n",
    "    YA1 = [onecold(Y1[:, i]) for i in axes(Y1, 2)]\n",
    "    YA = [onecold(Y[:, i]) for i in axes(Y, 2)]\n",
    "\n",
    "    accuracy = 0.0\n",
    "    for i in eachindex(YA)\n",
    "        if YA[i] == YA1[i]\n",
    "            accuracy += 1.0\n",
    "        end\n",
    "    end\n",
    "    accuracy /= length(YA)\n",
    "\n",
    "    return accuracy\n",
    "end"
   ]
  },
  {
   "cell_type": "code",
   "execution_count": null,
   "metadata": {},
   "outputs": [],
   "source": []
  },
  {
   "cell_type": "code",
   "execution_count": null,
   "metadata": {},
   "outputs": [],
   "source": []
  },
  {
   "cell_type": "code",
   "execution_count": 7,
   "metadata": {},
   "outputs": [],
   "source": [
    "file = open(\"/home2/vavrines/Coding/KiT-RT/result/logs/test_a10_ev5.csv\")\n",
    "data = []\n",
    "for line in eachline(file)\n",
    "    a = split(line, \",\")\n",
    "    b = [parse(Float64, a[i]) for i = 2:length(a)]\n",
    "    push!(data, b)\n",
    "end"
   ]
  },
  {
   "cell_type": "code",
   "execution_count": 14,
   "metadata": {},
   "outputs": [
    {
     "data": {
      "text/plain": [
       "-1.999876940123"
      ]
     },
     "execution_count": 14,
     "metadata": {},
     "output_type": "execute_result"
    }
   ],
   "source": [
    "data[1] |> minimum"
   ]
  },
  {
   "cell_type": "code",
   "execution_count": 9,
   "metadata": {},
   "outputs": [
    {
     "data": {
      "text/plain": [
       "40000-element Vector{Float64}:\n",
       "  0.000188396899\n",
       "  0.000565144214\n",
       "  0.000941752088\n",
       "  0.001318127598\n",
       "  0.00169417788\n",
       "  0.00206981015\n",
       "  0.002444931724\n",
       "  0.002819450048\n",
       "  0.003193272715\n",
       "  0.00356630749\n",
       "  0.003938462332\n",
       "  0.004309645417\n",
       "  0.004679765162\n",
       "  ⋮\n",
       " -0.359310470138\n",
       " -0.328363615832\n",
       " -0.297335742717\n",
       " -0.266234506457\n",
       " -0.235067580816\n",
       " -0.203842655767\n",
       " -0.172567435592\n",
       " -0.141249636986\n",
       " -0.109896987144\n",
       " -0.078517221866\n",
       " -0.047118083638\n",
       " -0.015707319728"
      ]
     },
     "execution_count": 9,
     "metadata": {},
     "output_type": "execute_result"
    }
   ],
   "source": [
    "data[2]"
   ]
  },
  {
   "cell_type": "code",
   "execution_count": 13,
   "metadata": {},
   "outputs": [
    {
     "data": {
      "text/plain": [
       "2.3196276e-5"
      ]
     },
     "execution_count": 13,
     "metadata": {},
     "output_type": "execute_result"
    }
   ],
   "source": [
    "data[4] |> minimum"
   ]
  },
  {
   "cell_type": "code",
   "execution_count": null,
   "metadata": {},
   "outputs": [],
   "source": []
  }
 ],
 "metadata": {
  "kernelspec": {
   "display_name": "Julia 1.6.2",
   "language": "julia",
   "name": "julia-1.6"
  },
  "language_info": {
   "file_extension": ".jl",
   "mimetype": "application/julia",
   "name": "julia",
   "version": "1.6.2"
  }
 },
 "nbformat": 4,
 "nbformat_minor": 4
}
