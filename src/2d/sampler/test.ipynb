{
 "cells": [
  {
   "cell_type": "code",
   "execution_count": 26,
   "metadata": {},
   "outputs": [],
   "source": [
    "using KitBase, Distributions, LinearAlgebra, Flux\n",
    "using KitBase.Plots, KitBase.JLD2, KitBase.WriteVTK\n",
    "using Flux: @epochs"
   ]
  },
  {
   "cell_type": "code",
   "execution_count": 27,
   "metadata": {},
   "outputs": [
    {
     "data": {
      "text/plain": [
       "mpdf (generic function with 1 method)"
      ]
     },
     "execution_count": 27,
     "metadata": {},
     "output_type": "execute_result"
    }
   ],
   "source": [
    "function get_moments(f, u, v, ω)\n",
    "    w = zeros(eltype(f), 4)\n",
    "    w[1] = discrete_moments(f, u, ω, 0)\n",
    "    w[2] = discrete_moments(f, u, ω, 1)\n",
    "    w[3] = discrete_moments(f, v, ω, 1)\n",
    "    w[4] = 0.5 * (discrete_moments(f, u, ω, 2) + discrete_moments(f, v, ω, 2))\n",
    "    return w\n",
    "end\n",
    "\n",
    "mpdf(u, v, prim) = @. prim[1] * (prim[4] / π) * exp(-prim[4] * ((u - prim[2])^2 + (v - prim[3])^2))"
   ]
  },
  {
   "cell_type": "code",
   "execution_count": 33,
   "metadata": {},
   "outputs": [
    {
     "data": {
      "text/plain": [
       "50"
      ]
     },
     "execution_count": 33,
     "metadata": {},
     "output_type": "execute_result"
    }
   ],
   "source": [
    "#file = open(\"/home2/vavrines/Coding/KiT-RT/result/logs/a2_ev5.csv\")\n",
    "file = open(\"/home2/vavrines/Coding/KiT-RT/result/logs/xxx.csv\")\n",
    "data = []\n",
    "for line in eachline(file)\n",
    "    a = split(line, \",\")\n",
    "    b = [parse(Float64, a[i]) for i = 2:length(a)]\n",
    "    push!(data, b)\n",
    "end\n",
    "pdfs = data[5:end]\n",
    "nd = length(pdfs) ÷ 2"
   ]
  },
  {
   "cell_type": "code",
   "execution_count": 34,
   "metadata": {},
   "outputs": [
    {
     "data": {
      "text/plain": [
       "VelocitySpace2D{Float64,Int64,Vector{Float64}}\n",
       "domain: (-5.0,5.0) × (-5.0,5.0)\n",
       "resolution: 8 × 8\n",
       "ghost in u: 0\n",
       "ghost in v: 0\n"
      ]
     },
     "execution_count": 34,
     "metadata": {},
     "output_type": "execute_result"
    }
   ],
   "source": [
    "nqa = sqrt(length(data[1])) |> Int\n",
    "vs = VSpace2D(-5.0, 5.0, nqa, -5.0, 5.0, nqa, data[1], data[2], zero(data[1]), zero(data[2]), data[4])"
   ]
  },
  {
   "cell_type": "code",
   "execution_count": 35,
   "metadata": {},
   "outputs": [],
   "source": [
    "mdfs = deepcopy(pdfs)\n",
    "for i in eachindex(mdfs)\n",
    "    w = get_moments(pdfs[i], vs.u, vs.v, vs.weights)\n",
    "    prim = conserve_prim(w, 2.0)\n",
    "    #mdfs[i] = maxwellian(vs.u, vs.v, prim)\n",
    "    mdfs[i] = mpdf(vs.u, vs.v, prim)\n",
    "end"
   ]
  },
  {
   "cell_type": "code",
   "execution_count": null,
   "metadata": {},
   "outputs": [],
   "source": []
  },
  {
   "cell_type": "code",
   "execution_count": null,
   "metadata": {},
   "outputs": [],
   "source": [
    "idx = 599\n",
    "w = get_moments(pdfs[idx], vs.u, vs.v, vs.weights)\n"
   ]
  },
  {
   "cell_type": "code",
   "execution_count": null,
   "metadata": {},
   "outputs": [],
   "source": [
    "w = get_moments(mdfs[idx], vs.u, vs.v, vs.weights)"
   ]
  },
  {
   "cell_type": "code",
   "execution_count": null,
   "metadata": {},
   "outputs": [],
   "source": []
  },
  {
   "cell_type": "code",
   "execution_count": null,
   "metadata": {},
   "outputs": [],
   "source": []
  },
  {
   "cell_type": "code",
   "execution_count": null,
   "metadata": {},
   "outputs": [],
   "source": [
    "w = get_moments(pdfs[599], vs.u, vs.v, vs.weights)\n",
    "prim = conserve_prim(w, 2.0)\n",
    "#mdfs[i] = maxwellian(vs.u, vs.v, prim)\n",
    "m = mpdf(vs.u, vs.v, prim)"
   ]
  },
  {
   "cell_type": "code",
   "execution_count": null,
   "metadata": {},
   "outputs": [],
   "source": [
    "pdfs[599]"
   ]
  },
  {
   "cell_type": "code",
   "execution_count": null,
   "metadata": {},
   "outputs": [],
   "source": [
    "prim"
   ]
  },
  {
   "cell_type": "code",
   "execution_count": null,
   "metadata": {},
   "outputs": [],
   "source": [
    "w"
   ]
  },
  {
   "cell_type": "code",
   "execution_count": null,
   "metadata": {},
   "outputs": [],
   "source": []
  },
  {
   "cell_type": "code",
   "execution_count": null,
   "metadata": {},
   "outputs": [],
   "source": [
    "vs.weights |> sum"
   ]
  },
  {
   "cell_type": "code",
   "execution_count": null,
   "metadata": {},
   "outputs": [],
   "source": []
  },
  {
   "cell_type": "code",
   "execution_count": null,
   "metadata": {},
   "outputs": [],
   "source": [
    "pi * 25"
   ]
  },
  {
   "cell_type": "code",
   "execution_count": null,
   "metadata": {},
   "outputs": [],
   "source": []
  },
  {
   "cell_type": "code",
   "execution_count": null,
   "metadata": {},
   "outputs": [],
   "source": [
    "using KitBase\n",
    "\n",
    "file = open(\"/home2/vavrines/Coding/KiT-RT/result/logs/a2_ev5.csv\")\n",
    "data = []\n",
    "for line in eachline(file)\n",
    "    a = split(line, \",\")\n",
    "    b = [parse(Float64, a[i]) for i = 2:length(a)]\n",
    "    push!(data, b)\n",
    "end\n",
    "@show data[4] |> sum\n",
    "\n",
    "vs1 = VSpace2D(-5, 5, 80, -5, 5, 80)\n",
    "@show vs1.weights |> sum;"
   ]
  },
  {
   "cell_type": "code",
   "execution_count": null,
   "metadata": {},
   "outputs": [],
   "source": []
  },
  {
   "cell_type": "code",
   "execution_count": null,
   "metadata": {},
   "outputs": [],
   "source": []
  },
  {
   "cell_type": "code",
   "execution_count": null,
   "metadata": {},
   "outputs": [],
   "source": []
  },
  {
   "cell_type": "code",
   "execution_count": 36,
   "metadata": {},
   "outputs": [
    {
     "data": {
      "text/plain": [
       "95"
      ]
     },
     "execution_count": 36,
     "metadata": {},
     "output_type": "execute_result"
    }
   ],
   "source": [
    "idx = rand() * length(pdfs) |> round |> Int\n",
    "#norm(mdfs[idx] .- pdfs[idx])"
   ]
  },
  {
   "cell_type": "code",
   "execution_count": 37,
   "metadata": {},
   "outputs": [
    {
     "data": {
      "image/svg+xml": [
       "<?xml version=\"1.0\" encoding=\"utf-8\"?>\n",
       "<svg xmlns=\"http://www.w3.org/2000/svg\" xmlns:xlink=\"http://www.w3.org/1999/xlink\" width=\"600\" height=\"400\" viewBox=\"0 0 2400 1600\">\n",
       "<defs>\n",
       "  <clipPath id=\"clip750\">\n",
       "    <rect x=\"0\" y=\"0\" width=\"2400\" height=\"1600\"/>\n",
       "  </clipPath>\n",
       "</defs>\n",
       "<path clip-path=\"url(#clip750)\" d=\"\n",
       "M0 1600 L2400 1600 L2400 0 L0 0  Z\n",
       "  \" fill=\"#ffffff\" fill-rule=\"evenodd\" fill-opacity=\"1\"/>\n",
       "<defs>\n",
       "  <clipPath id=\"clip751\">\n",
       "    <rect x=\"480\" y=\"0\" width=\"1681\" height=\"1600\"/>\n",
       "  </clipPath>\n",
       "</defs>\n",
       "<path clip-path=\"url(#clip750)\" d=\"\n",
       "M149.191 1408.07 L2112.76 1408.07 L2112.76 125.619 L149.191 125.619  Z\n",
       "  \" fill=\"#ffffff\" fill-rule=\"evenodd\" fill-opacity=\"1\"/>\n",
       "<defs>\n",
       "  <clipPath id=\"clip752\">\n",
       "    <rect x=\"149\" y=\"125\" width=\"1965\" height=\"1283\"/>\n",
       "  </clipPath>\n",
       "</defs>\n",
       "<polyline clip-path=\"url(#clip752)\" style=\"stroke:#000000; stroke-linecap:butt; stroke-linejoin:round; stroke-width:2; stroke-opacity:0.1; fill:none\" points=\"\n",
       "  378.059,1408.07 378.059,125.619 \n",
       "  \"/>\n",
       "<polyline clip-path=\"url(#clip752)\" style=\"stroke:#000000; stroke-linecap:butt; stroke-linejoin:round; stroke-width:2; stroke-opacity:0.1; fill:none\" points=\"\n",
       "  629.031,1408.07 629.031,125.619 \n",
       "  \"/>\n",
       "<polyline clip-path=\"url(#clip752)\" style=\"stroke:#000000; stroke-linecap:butt; stroke-linejoin:round; stroke-width:2; stroke-opacity:0.1; fill:none\" points=\"\n",
       "  880.002,1408.07 880.002,125.619 \n",
       "  \"/>\n",
       "<polyline clip-path=\"url(#clip752)\" style=\"stroke:#000000; stroke-linecap:butt; stroke-linejoin:round; stroke-width:2; stroke-opacity:0.1; fill:none\" points=\"\n",
       "  1130.97,1408.07 1130.97,125.619 \n",
       "  \"/>\n",
       "<polyline clip-path=\"url(#clip752)\" style=\"stroke:#000000; stroke-linecap:butt; stroke-linejoin:round; stroke-width:2; stroke-opacity:0.1; fill:none\" points=\"\n",
       "  1381.94,1408.07 1381.94,125.619 \n",
       "  \"/>\n",
       "<polyline clip-path=\"url(#clip752)\" style=\"stroke:#000000; stroke-linecap:butt; stroke-linejoin:round; stroke-width:2; stroke-opacity:0.1; fill:none\" points=\"\n",
       "  1632.92,1408.07 1632.92,125.619 \n",
       "  \"/>\n",
       "<polyline clip-path=\"url(#clip752)\" style=\"stroke:#000000; stroke-linecap:butt; stroke-linejoin:round; stroke-width:2; stroke-opacity:0.1; fill:none\" points=\"\n",
       "  1883.89,1408.07 1883.89,125.619 \n",
       "  \"/>\n",
       "<polyline clip-path=\"url(#clip750)\" style=\"stroke:#000000; stroke-linecap:butt; stroke-linejoin:round; stroke-width:4; stroke-opacity:1; fill:none\" points=\"\n",
       "  149.191,1408.07 2112.76,1408.07 \n",
       "  \"/>\n",
       "<polyline clip-path=\"url(#clip750)\" style=\"stroke:#000000; stroke-linecap:butt; stroke-linejoin:round; stroke-width:4; stroke-opacity:1; fill:none\" points=\"\n",
       "  378.059,1408.07 378.059,1391.23 \n",
       "  \"/>\n",
       "<polyline clip-path=\"url(#clip750)\" style=\"stroke:#000000; stroke-linecap:butt; stroke-linejoin:round; stroke-width:4; stroke-opacity:1; fill:none\" points=\"\n",
       "  629.031,1408.07 629.031,1391.23 \n",
       "  \"/>\n",
       "<polyline clip-path=\"url(#clip750)\" style=\"stroke:#000000; stroke-linecap:butt; stroke-linejoin:round; stroke-width:4; stroke-opacity:1; fill:none\" points=\"\n",
       "  880.002,1408.07 880.002,1391.23 \n",
       "  \"/>\n",
       "<polyline clip-path=\"url(#clip750)\" style=\"stroke:#000000; stroke-linecap:butt; stroke-linejoin:round; stroke-width:4; stroke-opacity:1; fill:none\" points=\"\n",
       "  1130.97,1408.07 1130.97,1391.23 \n",
       "  \"/>\n",
       "<polyline clip-path=\"url(#clip750)\" style=\"stroke:#000000; stroke-linecap:butt; stroke-linejoin:round; stroke-width:4; stroke-opacity:1; fill:none\" points=\"\n",
       "  1381.94,1408.07 1381.94,1391.23 \n",
       "  \"/>\n",
       "<polyline clip-path=\"url(#clip750)\" style=\"stroke:#000000; stroke-linecap:butt; stroke-linejoin:round; stroke-width:4; stroke-opacity:1; fill:none\" points=\"\n",
       "  1632.92,1408.07 1632.92,1391.23 \n",
       "  \"/>\n",
       "<polyline clip-path=\"url(#clip750)\" style=\"stroke:#000000; stroke-linecap:butt; stroke-linejoin:round; stroke-width:4; stroke-opacity:1; fill:none\" points=\"\n",
       "  1883.89,1408.07 1883.89,1391.23 \n",
       "  \"/>\n",
       "<path clip-path=\"url(#clip750)\" d=\"M347.122 1453.64 L376.798 1453.64 L376.798 1457.58 L347.122 1457.58 L347.122 1453.64 Z\" fill=\"#000000\" fill-rule=\"evenodd\" fill-opacity=\"1\" /><path clip-path=\"url(#clip750)\" d=\"M397.469 1451.33 Q394.321 1451.33 392.469 1453.48 Q390.64 1455.63 390.64 1459.38 Q390.64 1463.11 392.469 1465.29 Q394.321 1467.44 397.469 1467.44 Q400.617 1467.44 402.446 1465.29 Q404.297 1463.11 404.297 1459.38 Q404.297 1455.63 402.446 1453.48 Q400.617 1451.33 397.469 1451.33 M406.751 1436.68 L406.751 1440.94 Q404.992 1440.1 403.186 1439.66 Q401.404 1439.22 399.645 1439.22 Q395.015 1439.22 392.561 1442.35 Q390.131 1445.47 389.784 1451.79 Q391.149 1449.78 393.209 1448.71 Q395.27 1447.63 397.746 1447.63 Q402.955 1447.63 405.964 1450.8 Q408.996 1453.95 408.996 1459.38 Q408.996 1464.71 405.848 1467.93 Q402.7 1471.14 397.469 1471.14 Q391.473 1471.14 388.302 1466.56 Q385.131 1461.95 385.131 1453.23 Q385.131 1445.03 389.02 1440.17 Q392.909 1435.29 399.459 1435.29 Q401.219 1435.29 403.001 1435.64 Q404.807 1435.98 406.751 1436.68 Z\" fill=\"#000000\" fill-rule=\"evenodd\" fill-opacity=\"1\" /><path clip-path=\"url(#clip750)\" d=\"M597.931 1453.64 L627.607 1453.64 L627.607 1457.58 L597.931 1457.58 L597.931 1453.64 Z\" fill=\"#000000\" fill-rule=\"evenodd\" fill-opacity=\"1\" /><path clip-path=\"url(#clip750)\" d=\"M650.547 1439.99 L638.741 1458.44 L650.547 1458.44 L650.547 1439.99 M649.32 1435.91 L655.199 1435.91 L655.199 1458.44 L660.13 1458.44 L660.13 1462.32 L655.199 1462.32 L655.199 1470.47 L650.547 1470.47 L650.547 1462.32 L634.945 1462.32 L634.945 1457.81 L649.32 1435.91 Z\" fill=\"#000000\" fill-rule=\"evenodd\" fill-opacity=\"1\" /><path clip-path=\"url(#clip750)\" d=\"M849.944 1453.64 L879.62 1453.64 L879.62 1457.58 L849.944 1457.58 L849.944 1453.64 Z\" fill=\"#000000\" fill-rule=\"evenodd\" fill-opacity=\"1\" /><path clip-path=\"url(#clip750)\" d=\"M893.74 1466.54 L910.06 1466.54 L910.06 1470.47 L888.115 1470.47 L888.115 1466.54 Q890.777 1463.78 895.361 1459.15 Q899.967 1454.5 901.148 1453.16 Q903.393 1450.63 904.273 1448.9 Q905.175 1447.14 905.175 1445.45 Q905.175 1442.7 903.231 1440.96 Q901.31 1439.22 898.208 1439.22 Q896.009 1439.22 893.555 1439.99 Q891.125 1440.75 888.347 1442.3 L888.347 1437.58 Q891.171 1436.45 893.625 1435.87 Q896.078 1435.29 898.115 1435.29 Q903.486 1435.29 906.68 1437.97 Q909.874 1440.66 909.874 1445.15 Q909.874 1447.28 909.064 1449.2 Q908.277 1451.1 906.171 1453.69 Q905.592 1454.36 902.49 1457.58 Q899.388 1460.77 893.74 1466.54 Z\" fill=\"#000000\" fill-rule=\"evenodd\" fill-opacity=\"1\" /><path clip-path=\"url(#clip750)\" d=\"M1130.97 1438.99 Q1127.36 1438.99 1125.53 1442.56 Q1123.73 1446.1 1123.73 1453.23 Q1123.73 1460.33 1125.53 1463.9 Q1127.36 1467.44 1130.97 1467.44 Q1134.61 1467.44 1136.41 1463.9 Q1138.24 1460.33 1138.24 1453.23 Q1138.24 1446.1 1136.41 1442.56 Q1134.61 1438.99 1130.97 1438.99 M1130.97 1435.29 Q1136.78 1435.29 1139.84 1439.89 Q1142.92 1444.48 1142.92 1453.23 Q1142.92 1461.95 1139.84 1466.56 Q1136.78 1471.14 1130.97 1471.14 Q1125.16 1471.14 1122.08 1466.56 Q1119.03 1461.95 1119.03 1453.23 Q1119.03 1444.48 1122.08 1439.89 Q1125.16 1435.29 1130.97 1435.29 Z\" fill=\"#000000\" fill-rule=\"evenodd\" fill-opacity=\"1\" /><path clip-path=\"url(#clip750)\" d=\"M1376.6 1466.54 L1392.92 1466.54 L1392.92 1470.47 L1370.97 1470.47 L1370.97 1466.54 Q1373.63 1463.78 1378.22 1459.15 Q1382.82 1454.5 1384 1453.16 Q1386.25 1450.63 1387.13 1448.9 Q1388.03 1447.14 1388.03 1445.45 Q1388.03 1442.7 1386.09 1440.96 Q1384.17 1439.22 1381.07 1439.22 Q1378.87 1439.22 1376.41 1439.99 Q1373.98 1440.75 1371.2 1442.3 L1371.2 1437.58 Q1374.03 1436.45 1376.48 1435.87 Q1378.94 1435.29 1380.97 1435.29 Q1386.34 1435.29 1389.54 1437.97 Q1392.73 1440.66 1392.73 1445.15 Q1392.73 1447.28 1391.92 1449.2 Q1391.13 1451.1 1389.03 1453.69 Q1388.45 1454.36 1385.35 1457.58 Q1382.25 1460.77 1376.6 1466.54 Z\" fill=\"#000000\" fill-rule=\"evenodd\" fill-opacity=\"1\" /><path clip-path=\"url(#clip750)\" d=\"M1635.93 1439.99 L1624.12 1458.44 L1635.93 1458.44 L1635.93 1439.99 M1634.7 1435.91 L1640.58 1435.91 L1640.58 1458.44 L1645.51 1458.44 L1645.51 1462.32 L1640.58 1462.32 L1640.58 1470.47 L1635.93 1470.47 L1635.93 1462.32 L1620.32 1462.32 L1620.32 1457.81 L1634.7 1435.91 Z\" fill=\"#000000\" fill-rule=\"evenodd\" fill-opacity=\"1\" /><path clip-path=\"url(#clip750)\" d=\"M1884.29 1451.33 Q1881.14 1451.33 1879.29 1453.48 Q1877.46 1455.63 1877.46 1459.38 Q1877.46 1463.11 1879.29 1465.29 Q1881.14 1467.44 1884.29 1467.44 Q1887.44 1467.44 1889.27 1465.29 Q1891.12 1463.11 1891.12 1459.38 Q1891.12 1455.63 1889.27 1453.48 Q1887.44 1451.33 1884.29 1451.33 M1893.58 1436.68 L1893.58 1440.94 Q1891.82 1440.1 1890.01 1439.66 Q1888.23 1439.22 1886.47 1439.22 Q1881.84 1439.22 1879.39 1442.35 Q1876.95 1445.47 1876.61 1451.79 Q1877.97 1449.78 1880.03 1448.71 Q1882.09 1447.63 1884.57 1447.63 Q1889.78 1447.63 1892.79 1450.8 Q1895.82 1453.95 1895.82 1459.38 Q1895.82 1464.71 1892.67 1467.93 Q1889.52 1471.14 1884.29 1471.14 Q1878.3 1471.14 1875.13 1466.56 Q1871.95 1461.95 1871.95 1453.23 Q1871.95 1445.03 1875.84 1440.17 Q1879.73 1435.29 1886.28 1435.29 Q1888.04 1435.29 1889.83 1435.64 Q1891.63 1435.98 1893.58 1436.68 Z\" fill=\"#000000\" fill-rule=\"evenodd\" fill-opacity=\"1\" /><polyline clip-path=\"url(#clip752)\" style=\"stroke:#000000; stroke-linecap:butt; stroke-linejoin:round; stroke-width:2; stroke-opacity:0.1; fill:none\" points=\"\n",
       "  149.191,1268.79 2112.76,1268.79 \n",
       "  \"/>\n",
       "<polyline clip-path=\"url(#clip752)\" style=\"stroke:#000000; stroke-linecap:butt; stroke-linejoin:round; stroke-width:2; stroke-opacity:0.1; fill:none\" points=\"\n",
       "  149.191,1017.82 2112.76,1017.82 \n",
       "  \"/>\n",
       "<polyline clip-path=\"url(#clip752)\" style=\"stroke:#000000; stroke-linecap:butt; stroke-linejoin:round; stroke-width:2; stroke-opacity:0.1; fill:none\" points=\"\n",
       "  149.191,766.846 2112.76,766.846 \n",
       "  \"/>\n",
       "<polyline clip-path=\"url(#clip752)\" style=\"stroke:#000000; stroke-linecap:butt; stroke-linejoin:round; stroke-width:2; stroke-opacity:0.1; fill:none\" points=\"\n",
       "  149.191,515.875 2112.76,515.875 \n",
       "  \"/>\n",
       "<polyline clip-path=\"url(#clip752)\" style=\"stroke:#000000; stroke-linecap:butt; stroke-linejoin:round; stroke-width:2; stroke-opacity:0.1; fill:none\" points=\"\n",
       "  149.191,264.903 2112.76,264.903 \n",
       "  \"/>\n",
       "<polyline clip-path=\"url(#clip750)\" style=\"stroke:#000000; stroke-linecap:butt; stroke-linejoin:round; stroke-width:4; stroke-opacity:1; fill:none\" points=\"\n",
       "  149.191,1408.07 149.191,125.619 \n",
       "  \"/>\n",
       "<polyline clip-path=\"url(#clip750)\" style=\"stroke:#000000; stroke-linecap:butt; stroke-linejoin:round; stroke-width:4; stroke-opacity:1; fill:none\" points=\"\n",
       "  149.191,1268.79 166.03,1268.79 \n",
       "  \"/>\n",
       "<polyline clip-path=\"url(#clip750)\" style=\"stroke:#000000; stroke-linecap:butt; stroke-linejoin:round; stroke-width:4; stroke-opacity:1; fill:none\" points=\"\n",
       "  149.191,1017.82 166.03,1017.82 \n",
       "  \"/>\n",
       "<polyline clip-path=\"url(#clip750)\" style=\"stroke:#000000; stroke-linecap:butt; stroke-linejoin:round; stroke-width:4; stroke-opacity:1; fill:none\" points=\"\n",
       "  149.191,766.846 166.03,766.846 \n",
       "  \"/>\n",
       "<polyline clip-path=\"url(#clip750)\" style=\"stroke:#000000; stroke-linecap:butt; stroke-linejoin:round; stroke-width:4; stroke-opacity:1; fill:none\" points=\"\n",
       "  149.191,515.875 166.03,515.875 \n",
       "  \"/>\n",
       "<polyline clip-path=\"url(#clip750)\" style=\"stroke:#000000; stroke-linecap:butt; stroke-linejoin:round; stroke-width:4; stroke-opacity:1; fill:none\" points=\"\n",
       "  149.191,264.903 166.03,264.903 \n",
       "  \"/>\n",
       "<path clip-path=\"url(#clip750)\" d=\"M50.9921 1269.24 L80.6679 1269.24 L80.6679 1273.18 L50.9921 1273.18 L50.9921 1269.24 Z\" fill=\"#000000\" fill-rule=\"evenodd\" fill-opacity=\"1\" /><path clip-path=\"url(#clip750)\" d=\"M103.608 1255.58 L91.8021 1274.03 L103.608 1274.03 L103.608 1255.58 M102.381 1251.51 L108.26 1251.51 L108.26 1274.03 L113.191 1274.03 L113.191 1277.92 L108.26 1277.92 L108.26 1286.07 L103.608 1286.07 L103.608 1277.92 L88.0058 1277.92 L88.0058 1273.41 L102.381 1251.51 Z\" fill=\"#000000\" fill-rule=\"evenodd\" fill-opacity=\"1\" /><path clip-path=\"url(#clip750)\" d=\"M53.0754 1018.27 L82.7512 1018.27 L82.7512 1022.2 L53.0754 1022.2 L53.0754 1018.27 Z\" fill=\"#000000\" fill-rule=\"evenodd\" fill-opacity=\"1\" /><path clip-path=\"url(#clip750)\" d=\"M96.8715 1031.16 L113.191 1031.16 L113.191 1035.1 L91.2465 1035.1 L91.2465 1031.16 Q93.9086 1028.41 98.4919 1023.78 Q103.098 1019.13 104.279 1017.78 Q106.524 1015.26 107.404 1013.52 Q108.307 1011.76 108.307 1010.07 Q108.307 1007.32 106.362 1005.58 Q104.441 1003.85 101.339 1003.85 Q99.14 1003.85 96.6863 1004.61 Q94.2558 1005.38 91.478 1006.93 L91.478 1002.2 Q94.3021 1001.07 96.7558 1000.49 Q99.2095 999.912 101.246 999.912 Q106.617 999.912 109.811 1002.6 Q113.006 1005.28 113.006 1009.77 Q113.006 1011.9 112.196 1013.82 Q111.408 1015.72 109.302 1018.32 Q108.723 1018.99 105.621 1022.2 Q102.52 1025.4 96.8715 1031.16 Z\" fill=\"#000000\" fill-rule=\"evenodd\" fill-opacity=\"1\" /><path clip-path=\"url(#clip750)\" d=\"M101.246 752.645 Q97.6354 752.645 95.8067 756.209 Q94.0012 759.751 94.0012 766.881 Q94.0012 773.987 95.8067 777.552 Q97.6354 781.094 101.246 781.094 Q104.881 781.094 106.686 777.552 Q108.515 773.987 108.515 766.881 Q108.515 759.751 106.686 756.209 Q104.881 752.645 101.246 752.645 M101.246 748.941 Q107.057 748.941 110.112 753.547 Q113.191 758.131 113.191 766.881 Q113.191 775.608 110.112 780.214 Q107.057 784.797 101.246 784.797 Q95.4363 784.797 92.3576 780.214 Q89.3021 775.608 89.3021 766.881 Q89.3021 758.131 92.3576 753.547 Q95.4363 748.941 101.246 748.941 Z\" fill=\"#000000\" fill-rule=\"evenodd\" fill-opacity=\"1\" /><path clip-path=\"url(#clip750)\" d=\"M96.8715 529.219 L113.191 529.219 L113.191 533.155 L91.2465 533.155 L91.2465 529.219 Q93.9086 526.465 98.4919 521.835 Q103.098 517.182 104.279 515.84 Q106.524 513.317 107.404 511.581 Q108.307 509.821 108.307 508.132 Q108.307 505.377 106.362 503.641 Q104.441 501.905 101.339 501.905 Q99.14 501.905 96.6863 502.669 Q94.2558 503.432 91.478 504.983 L91.478 500.261 Q94.3021 499.127 96.7558 498.548 Q99.2095 497.97 101.246 497.97 Q106.617 497.97 109.811 500.655 Q113.006 503.34 113.006 507.831 Q113.006 509.96 112.196 511.882 Q111.408 513.78 109.302 516.372 Q108.723 517.044 105.621 520.261 Q102.52 523.456 96.8715 529.219 Z\" fill=\"#000000\" fill-rule=\"evenodd\" fill-opacity=\"1\" /><path clip-path=\"url(#clip750)\" d=\"M103.608 251.697 L91.8021 270.146 L103.608 270.146 L103.608 251.697 M102.381 247.623 L108.26 247.623 L108.26 270.146 L113.191 270.146 L113.191 274.035 L108.26 274.035 L108.26 282.183 L103.608 282.183 L103.608 274.035 L88.0058 274.035 L88.0058 269.521 L102.381 247.623 Z\" fill=\"#000000\" fill-rule=\"evenodd\" fill-opacity=\"1\" /><circle clip-path=\"url(#clip752)\" cx=\"1302.67\" cy=\"732.694\" r=\"14\" fill=\"#fafda1\" fill-rule=\"evenodd\" fill-opacity=\"1\" stroke=\"#000000\" stroke-opacity=\"1\" stroke-width=\"3.2\"/>\n",
       "<circle clip-path=\"url(#clip752)\" cx=\"1276.53\" cy=\"669.59\" r=\"14\" fill=\"#fcfea4\" fill-rule=\"evenodd\" fill-opacity=\"1\" stroke=\"#000000\" stroke-opacity=\"1\" stroke-width=\"3.2\"/>\n",
       "<circle clip-path=\"url(#clip752)\" cx=\"1228.23\" cy=\"621.293\" r=\"14\" fill=\"#fcfea4\" fill-rule=\"evenodd\" fill-opacity=\"1\" stroke=\"#000000\" stroke-opacity=\"1\" stroke-width=\"3.2\"/>\n",
       "<circle clip-path=\"url(#clip752)\" cx=\"1165.12\" cy=\"595.154\" r=\"14\" fill=\"#fafda1\" fill-rule=\"evenodd\" fill-opacity=\"1\" stroke=\"#000000\" stroke-opacity=\"1\" stroke-width=\"3.2\"/>\n",
       "<circle clip-path=\"url(#clip752)\" cx=\"1096.82\" cy=\"595.154\" r=\"14\" fill=\"#f8fc9c\" fill-rule=\"evenodd\" fill-opacity=\"1\" stroke=\"#000000\" stroke-opacity=\"1\" stroke-width=\"3.2\"/>\n",
       "<circle clip-path=\"url(#clip752)\" cx=\"1033.72\" cy=\"621.293\" r=\"14\" fill=\"#f7fb99\" fill-rule=\"evenodd\" fill-opacity=\"1\" stroke=\"#000000\" stroke-opacity=\"1\" stroke-width=\"3.2\"/>\n",
       "<circle clip-path=\"url(#clip752)\" cx=\"985.42\" cy=\"669.59\" r=\"14\" fill=\"#f7fb99\" fill-rule=\"evenodd\" fill-opacity=\"1\" stroke=\"#000000\" stroke-opacity=\"1\" stroke-width=\"3.2\"/>\n",
       "<circle clip-path=\"url(#clip752)\" cx=\"959.282\" cy=\"732.694\" r=\"14\" fill=\"#f8fc9c\" fill-rule=\"evenodd\" fill-opacity=\"1\" stroke=\"#000000\" stroke-opacity=\"1\" stroke-width=\"3.2\"/>\n",
       "<circle clip-path=\"url(#clip752)\" cx=\"959.282\" cy=\"800.998\" r=\"14\" fill=\"#fafda1\" fill-rule=\"evenodd\" fill-opacity=\"1\" stroke=\"#000000\" stroke-opacity=\"1\" stroke-width=\"3.2\"/>\n",
       "<circle clip-path=\"url(#clip752)\" cx=\"985.42\" cy=\"864.101\" r=\"14\" fill=\"#fcfea4\" fill-rule=\"evenodd\" fill-opacity=\"1\" stroke=\"#000000\" stroke-opacity=\"1\" stroke-width=\"3.2\"/>\n",
       "<circle clip-path=\"url(#clip752)\" cx=\"1033.72\" cy=\"912.399\" r=\"14\" fill=\"#fcfea4\" fill-rule=\"evenodd\" fill-opacity=\"1\" stroke=\"#000000\" stroke-opacity=\"1\" stroke-width=\"3.2\"/>\n",
       "<circle clip-path=\"url(#clip752)\" cx=\"1096.82\" cy=\"938.538\" r=\"14\" fill=\"#fafda1\" fill-rule=\"evenodd\" fill-opacity=\"1\" stroke=\"#000000\" stroke-opacity=\"1\" stroke-width=\"3.2\"/>\n",
       "<circle clip-path=\"url(#clip752)\" cx=\"1165.12\" cy=\"938.538\" r=\"14\" fill=\"#f8fc9c\" fill-rule=\"evenodd\" fill-opacity=\"1\" stroke=\"#000000\" stroke-opacity=\"1\" stroke-width=\"3.2\"/>\n",
       "<circle clip-path=\"url(#clip752)\" cx=\"1228.23\" cy=\"912.399\" r=\"14\" fill=\"#f7fb99\" fill-rule=\"evenodd\" fill-opacity=\"1\" stroke=\"#000000\" stroke-opacity=\"1\" stroke-width=\"3.2\"/>\n",
       "<circle clip-path=\"url(#clip752)\" cx=\"1276.53\" cy=\"864.101\" r=\"14\" fill=\"#f7fb99\" fill-rule=\"evenodd\" fill-opacity=\"1\" stroke=\"#000000\" stroke-opacity=\"1\" stroke-width=\"3.2\"/>\n",
       "<circle clip-path=\"url(#clip752)\" cx=\"1302.67\" cy=\"800.998\" r=\"14\" fill=\"#f8fc9c\" fill-rule=\"evenodd\" fill-opacity=\"1\" stroke=\"#000000\" stroke-opacity=\"1\" stroke-width=\"3.2\"/>\n",
       "<circle clip-path=\"url(#clip752)\" cx=\"1502.92\" cy=\"692.862\" r=\"14\" fill=\"#01010b\" fill-rule=\"evenodd\" fill-opacity=\"1\" stroke=\"#000000\" stroke-opacity=\"1\" stroke-width=\"3.2\"/>\n",
       "<circle clip-path=\"url(#clip752)\" cx=\"1446.29\" cy=\"556.157\" r=\"14\" fill=\"#01010b\" fill-rule=\"evenodd\" fill-opacity=\"1\" stroke=\"#000000\" stroke-opacity=\"1\" stroke-width=\"3.2\"/>\n",
       "<circle clip-path=\"url(#clip752)\" cx=\"1341.66\" cy=\"451.528\" r=\"14\" fill=\"#01010b\" fill-rule=\"evenodd\" fill-opacity=\"1\" stroke=\"#000000\" stroke-opacity=\"1\" stroke-width=\"3.2\"/>\n",
       "<circle clip-path=\"url(#clip752)\" cx=\"1204.96\" cy=\"394.903\" r=\"14\" fill=\"#01010b\" fill-rule=\"evenodd\" fill-opacity=\"1\" stroke=\"#000000\" stroke-opacity=\"1\" stroke-width=\"3.2\"/>\n",
       "<circle clip-path=\"url(#clip752)\" cx=\"1056.99\" cy=\"394.903\" r=\"14\" fill=\"#01010b\" fill-rule=\"evenodd\" fill-opacity=\"1\" stroke=\"#000000\" stroke-opacity=\"1\" stroke-width=\"3.2\"/>\n",
       "<circle clip-path=\"url(#clip752)\" cx=\"920.285\" cy=\"451.528\" r=\"14\" fill=\"#01010b\" fill-rule=\"evenodd\" fill-opacity=\"1\" stroke=\"#000000\" stroke-opacity=\"1\" stroke-width=\"3.2\"/>\n",
       "<circle clip-path=\"url(#clip752)\" cx=\"815.655\" cy=\"556.157\" r=\"14\" fill=\"#01010b\" fill-rule=\"evenodd\" fill-opacity=\"1\" stroke=\"#000000\" stroke-opacity=\"1\" stroke-width=\"3.2\"/>\n",
       "<circle clip-path=\"url(#clip752)\" cx=\"759.03\" cy=\"692.862\" r=\"14\" fill=\"#01010b\" fill-rule=\"evenodd\" fill-opacity=\"1\" stroke=\"#000000\" stroke-opacity=\"1\" stroke-width=\"3.2\"/>\n",
       "<circle clip-path=\"url(#clip752)\" cx=\"759.03\" cy=\"840.83\" r=\"14\" fill=\"#01010b\" fill-rule=\"evenodd\" fill-opacity=\"1\" stroke=\"#000000\" stroke-opacity=\"1\" stroke-width=\"3.2\"/>\n",
       "<circle clip-path=\"url(#clip752)\" cx=\"815.655\" cy=\"977.535\" r=\"14\" fill=\"#01010b\" fill-rule=\"evenodd\" fill-opacity=\"1\" stroke=\"#000000\" stroke-opacity=\"1\" stroke-width=\"3.2\"/>\n",
       "<circle clip-path=\"url(#clip752)\" cx=\"920.285\" cy=\"1082.16\" r=\"14\" fill=\"#01010b\" fill-rule=\"evenodd\" fill-opacity=\"1\" stroke=\"#000000\" stroke-opacity=\"1\" stroke-width=\"3.2\"/>\n",
       "<circle clip-path=\"url(#clip752)\" cx=\"1056.99\" cy=\"1138.79\" r=\"14\" fill=\"#01010b\" fill-rule=\"evenodd\" fill-opacity=\"1\" stroke=\"#000000\" stroke-opacity=\"1\" stroke-width=\"3.2\"/>\n",
       "<circle clip-path=\"url(#clip752)\" cx=\"1204.96\" cy=\"1138.79\" r=\"14\" fill=\"#01010b\" fill-rule=\"evenodd\" fill-opacity=\"1\" stroke=\"#000000\" stroke-opacity=\"1\" stroke-width=\"3.2\"/>\n",
       "<circle clip-path=\"url(#clip752)\" cx=\"1341.66\" cy=\"1082.16\" r=\"14\" fill=\"#01010b\" fill-rule=\"evenodd\" fill-opacity=\"1\" stroke=\"#000000\" stroke-opacity=\"1\" stroke-width=\"3.2\"/>\n",
       "<circle clip-path=\"url(#clip752)\" cx=\"1446.29\" cy=\"977.535\" r=\"14\" fill=\"#01010b\" fill-rule=\"evenodd\" fill-opacity=\"1\" stroke=\"#000000\" stroke-opacity=\"1\" stroke-width=\"3.2\"/>\n",
       "<circle clip-path=\"url(#clip752)\" cx=\"1502.92\" cy=\"840.83\" r=\"14\" fill=\"#01010b\" fill-rule=\"evenodd\" fill-opacity=\"1\" stroke=\"#000000\" stroke-opacity=\"1\" stroke-width=\"3.2\"/>\n",
       "<circle clip-path=\"url(#clip752)\" cx=\"1654.52\" cy=\"662.707\" r=\"14\" fill=\"#000003\" fill-rule=\"evenodd\" fill-opacity=\"1\" stroke=\"#000000\" stroke-opacity=\"1\" stroke-width=\"3.2\"/>\n",
       "<circle clip-path=\"url(#clip752)\" cx=\"1574.81\" cy=\"470.283\" r=\"14\" fill=\"#000003\" fill-rule=\"evenodd\" fill-opacity=\"1\" stroke=\"#000000\" stroke-opacity=\"1\" stroke-width=\"3.2\"/>\n",
       "<circle clip-path=\"url(#clip752)\" cx=\"1427.54\" cy=\"323.008\" r=\"14\" fill=\"#000003\" fill-rule=\"evenodd\" fill-opacity=\"1\" stroke=\"#000000\" stroke-opacity=\"1\" stroke-width=\"3.2\"/>\n",
       "<circle clip-path=\"url(#clip752)\" cx=\"1235.11\" cy=\"243.303\" r=\"14\" fill=\"#000003\" fill-rule=\"evenodd\" fill-opacity=\"1\" stroke=\"#000000\" stroke-opacity=\"1\" stroke-width=\"3.2\"/>\n",
       "<circle clip-path=\"url(#clip752)\" cx=\"1026.83\" cy=\"243.303\" r=\"14\" fill=\"#000003\" fill-rule=\"evenodd\" fill-opacity=\"1\" stroke=\"#000000\" stroke-opacity=\"1\" stroke-width=\"3.2\"/>\n",
       "<circle clip-path=\"url(#clip752)\" cx=\"834.41\" cy=\"323.008\" r=\"14\" fill=\"#000003\" fill-rule=\"evenodd\" fill-opacity=\"1\" stroke=\"#000000\" stroke-opacity=\"1\" stroke-width=\"3.2\"/>\n",
       "<circle clip-path=\"url(#clip752)\" cx=\"687.135\" cy=\"470.283\" r=\"14\" fill=\"#000003\" fill-rule=\"evenodd\" fill-opacity=\"1\" stroke=\"#000000\" stroke-opacity=\"1\" stroke-width=\"3.2\"/>\n",
       "<circle clip-path=\"url(#clip752)\" cx=\"607.431\" cy=\"662.707\" r=\"14\" fill=\"#000003\" fill-rule=\"evenodd\" fill-opacity=\"1\" stroke=\"#000000\" stroke-opacity=\"1\" stroke-width=\"3.2\"/>\n",
       "<circle clip-path=\"url(#clip752)\" cx=\"607.431\" cy=\"870.985\" r=\"14\" fill=\"#000003\" fill-rule=\"evenodd\" fill-opacity=\"1\" stroke=\"#000000\" stroke-opacity=\"1\" stroke-width=\"3.2\"/>\n",
       "<circle clip-path=\"url(#clip752)\" cx=\"687.135\" cy=\"1063.41\" r=\"14\" fill=\"#000003\" fill-rule=\"evenodd\" fill-opacity=\"1\" stroke=\"#000000\" stroke-opacity=\"1\" stroke-width=\"3.2\"/>\n",
       "<circle clip-path=\"url(#clip752)\" cx=\"834.41\" cy=\"1210.68\" r=\"14\" fill=\"#000003\" fill-rule=\"evenodd\" fill-opacity=\"1\" stroke=\"#000000\" stroke-opacity=\"1\" stroke-width=\"3.2\"/>\n",
       "<circle clip-path=\"url(#clip752)\" cx=\"1026.83\" cy=\"1290.39\" r=\"14\" fill=\"#000003\" fill-rule=\"evenodd\" fill-opacity=\"1\" stroke=\"#000000\" stroke-opacity=\"1\" stroke-width=\"3.2\"/>\n",
       "<circle clip-path=\"url(#clip752)\" cx=\"1235.11\" cy=\"1290.39\" r=\"14\" fill=\"#000003\" fill-rule=\"evenodd\" fill-opacity=\"1\" stroke=\"#000000\" stroke-opacity=\"1\" stroke-width=\"3.2\"/>\n",
       "<circle clip-path=\"url(#clip752)\" cx=\"1427.54\" cy=\"1210.68\" r=\"14\" fill=\"#000003\" fill-rule=\"evenodd\" fill-opacity=\"1\" stroke=\"#000000\" stroke-opacity=\"1\" stroke-width=\"3.2\"/>\n",
       "<circle clip-path=\"url(#clip752)\" cx=\"1574.81\" cy=\"1063.41\" r=\"14\" fill=\"#000003\" fill-rule=\"evenodd\" fill-opacity=\"1\" stroke=\"#000000\" stroke-opacity=\"1\" stroke-width=\"3.2\"/>\n",
       "<circle clip-path=\"url(#clip752)\" cx=\"1654.52\" cy=\"870.985\" r=\"14\" fill=\"#000003\" fill-rule=\"evenodd\" fill-opacity=\"1\" stroke=\"#000000\" stroke-opacity=\"1\" stroke-width=\"3.2\"/>\n",
       "<circle clip-path=\"url(#clip752)\" cx=\"1735.9\" cy=\"646.518\" r=\"14\" fill=\"#000003\" fill-rule=\"evenodd\" fill-opacity=\"1\" stroke=\"#000000\" stroke-opacity=\"1\" stroke-width=\"3.2\"/>\n",
       "<circle clip-path=\"url(#clip752)\" cx=\"1643.81\" cy=\"424.18\" r=\"14\" fill=\"#000003\" fill-rule=\"evenodd\" fill-opacity=\"1\" stroke=\"#000000\" stroke-opacity=\"1\" stroke-width=\"3.2\"/>\n",
       "<circle clip-path=\"url(#clip752)\" cx=\"1473.64\" cy=\"254.01\" r=\"14\" fill=\"#000003\" fill-rule=\"evenodd\" fill-opacity=\"1\" stroke=\"#000000\" stroke-opacity=\"1\" stroke-width=\"3.2\"/>\n",
       "<circle clip-path=\"url(#clip752)\" cx=\"1251.3\" cy=\"161.915\" r=\"14\" fill=\"#000003\" fill-rule=\"evenodd\" fill-opacity=\"1\" stroke=\"#000000\" stroke-opacity=\"1\" stroke-width=\"3.2\"/>\n",
       "<circle clip-path=\"url(#clip752)\" cx=\"1010.65\" cy=\"161.915\" r=\"14\" fill=\"#000003\" fill-rule=\"evenodd\" fill-opacity=\"1\" stroke=\"#000000\" stroke-opacity=\"1\" stroke-width=\"3.2\"/>\n",
       "<circle clip-path=\"url(#clip752)\" cx=\"788.307\" cy=\"254.01\" r=\"14\" fill=\"#000003\" fill-rule=\"evenodd\" fill-opacity=\"1\" stroke=\"#000000\" stroke-opacity=\"1\" stroke-width=\"3.2\"/>\n",
       "<circle clip-path=\"url(#clip752)\" cx=\"618.138\" cy=\"424.18\" r=\"14\" fill=\"#000003\" fill-rule=\"evenodd\" fill-opacity=\"1\" stroke=\"#000000\" stroke-opacity=\"1\" stroke-width=\"3.2\"/>\n",
       "<circle clip-path=\"url(#clip752)\" cx=\"526.042\" cy=\"646.518\" r=\"14\" fill=\"#000003\" fill-rule=\"evenodd\" fill-opacity=\"1\" stroke=\"#000000\" stroke-opacity=\"1\" stroke-width=\"3.2\"/>\n",
       "<circle clip-path=\"url(#clip752)\" cx=\"526.042\" cy=\"887.174\" r=\"14\" fill=\"#000003\" fill-rule=\"evenodd\" fill-opacity=\"1\" stroke=\"#000000\" stroke-opacity=\"1\" stroke-width=\"3.2\"/>\n",
       "<circle clip-path=\"url(#clip752)\" cx=\"618.138\" cy=\"1109.51\" r=\"14\" fill=\"#000003\" fill-rule=\"evenodd\" fill-opacity=\"1\" stroke=\"#000000\" stroke-opacity=\"1\" stroke-width=\"3.2\"/>\n",
       "<circle clip-path=\"url(#clip752)\" cx=\"788.307\" cy=\"1279.68\" r=\"14\" fill=\"#000003\" fill-rule=\"evenodd\" fill-opacity=\"1\" stroke=\"#000000\" stroke-opacity=\"1\" stroke-width=\"3.2\"/>\n",
       "<circle clip-path=\"url(#clip752)\" cx=\"1010.65\" cy=\"1371.78\" r=\"14\" fill=\"#000003\" fill-rule=\"evenodd\" fill-opacity=\"1\" stroke=\"#000000\" stroke-opacity=\"1\" stroke-width=\"3.2\"/>\n",
       "<circle clip-path=\"url(#clip752)\" cx=\"1251.3\" cy=\"1371.78\" r=\"14\" fill=\"#000003\" fill-rule=\"evenodd\" fill-opacity=\"1\" stroke=\"#000000\" stroke-opacity=\"1\" stroke-width=\"3.2\"/>\n",
       "<circle clip-path=\"url(#clip752)\" cx=\"1473.64\" cy=\"1279.68\" r=\"14\" fill=\"#000003\" fill-rule=\"evenodd\" fill-opacity=\"1\" stroke=\"#000000\" stroke-opacity=\"1\" stroke-width=\"3.2\"/>\n",
       "<circle clip-path=\"url(#clip752)\" cx=\"1643.81\" cy=\"1109.51\" r=\"14\" fill=\"#000003\" fill-rule=\"evenodd\" fill-opacity=\"1\" stroke=\"#000000\" stroke-opacity=\"1\" stroke-width=\"3.2\"/>\n",
       "<circle clip-path=\"url(#clip752)\" cx=\"1735.9\" cy=\"887.174\" r=\"14\" fill=\"#000003\" fill-rule=\"evenodd\" fill-opacity=\"1\" stroke=\"#000000\" stroke-opacity=\"1\" stroke-width=\"3.2\"/>\n",
       "<defs>\n",
       "  <clipPath id=\"clip753\">\n",
       "    <rect x=\"2160\" y=\"125\" width=\"73\" height=\"1283\"/>\n",
       "  </clipPath>\n",
       "</defs>\n",
       "<g clip-path=\"url(#clip753)\">\n",
       "<image width=\"72\" height=\"1282\" xlink:href=\"data:image/png;base64,\n",
       "iVBORw0KGgoAAAANSUhEUgAAAEgAAAUCCAYAAACpFrXqAAALKElEQVR4nO3dwY3sRhAFQY5Q/lsh\n",
       "L6XfLQtUeSQPERYMEg9Eo4c7+/v3/H0f/tdfb3+ArxMoCBQECgKFOffftz/Dp1lQECgIFAQKc++f\n",
       "tz/Dp1lQECgIFAQKTtLBgoJAQaAgUJjrIb2yoCBQECgIFOYeD+mNBQWBgkBBoOAkHSwoCBQECgIF\n",
       "D+lgQUGgIFAQKLjuCBYUBAoCBYHCPE7SKwsKAgWBgkDBdUewoCBQECgIFOZx3bGyoCBQECgIFOY5\n",
       "/7z9GT7NgoJAQaAgUHAnHSwoCBQECgIF1x3BgoJAQaAgUPCQDhYUBAoCBYGC645gQUGgIFAQKMzP\n",
       "SXplQUGgIFAQKMxz/J70xoKCQEGgIFBwkg4WFAQKAgWBgpN0sKAgUBAoCBS83REsKAgUBAoChfk5\n",
       "Sa8sKAgUBAoCBa/gBQsKAgWBgkDBSTpYUBAoCBQECr44DBYUBAoCBYGCk3SwoCBQECgIFJykgwUF\n",
       "gYJAQaDgJB0sKAgUBAoChXnOefszfJoFBYGCQEGg4CQdLCgIFAQKAgV30sGCgkBBoCBQ8JAOFhQE\n",
       "CgIFgcL83EmvLCgIFAQKAgUn6WBBQaAgUBAoeLsjWFAQKAgUBAquO4IFBYGCQEGg4LojWFAQKAgU\n",
       "BAquO4IFBYGCQEGg4CEdLCgIFAQKAgV/cRgsKAgUBAoCBSfpYEFBoCBQECh4SAcLCgIFgYJAwUM6\n",
       "WFAQKAgUBAoe0sGCgkBBoCBQmOd6SG8sKAgUBAoCBSfpYEFBoCBQECh4SAcLCgIFgYJAwUM6WFAQ\n",
       "KAgUBArznPv2Z/g0CwoCBYGCQMFJOlhQECgIFAQKTtLBgoJAQaAgUHCSDhYUBAoCBYGCk3SwoCBQ\n",
       "ECgIFOZxkF5ZUBAoCBQECvNcJ+mNBQWBgkBBoOAkHSwoCBQECgIFD+lgQUGgIFAQKIzfV9pZUBAo\n",
       "CBQECk7SwYKCQEGgIFDwkA4WFAQKAgWBwjzn9/Zn+DQLCgIFgYJAYe71kN5YUBAoCBQECq47ggUF\n",
       "gYJAQaDguiNYUBAoCBQECnOPRht1gkBBoCBQcJIOFhQECgIFgcI8vjhcWVAQKAgUBApznaRXFhQE\n",
       "CgIFgcI87qRX6gSBgkBBoOAkHSwoCBQECgIFd9LBgoJAQaAgUPAKXlAnCBQECgIFr+AFCwoCBYGC\n",
       "QMGddLCgIFAQKAgU5l6NNuoEgYJAQaDguiNYUBAoCBQECq47ggUFgYJAQaAwj+uOlTpBoCBQECg4\n",
       "SQcLCgIFgYJAwUM6WFAQKAgUBAr+4jBYUBAoCBQECv7iMKgTBAoCBYGCf0QbLCgIFAQKAgV30sGC\n",
       "gkBBoCBQ8HvSQZ0gUBAoCBRcdwQLCgIFgYJAwXVHsKAgUBAoCBScpIMFBYGCQEGg4BW8oE4QKAgU\n",
       "BApO0sGCgkBBoCBQcCcdLCgIFAQKAgUn6WBBQaAgUBAo+NH/YEFBoCBQECj491lBnSBQECgIFFx3\n",
       "BAsKAgWBgkDBF4fBgoJAQaAgUHCSDhYUBAoCBYHCHA/plQUFgYJAQaDgLw6DOkGgIFAQKLjuCBYU\n",
       "BAoCBYGCh3SwoCBQECgIFLzdESwoCBQECgIFJ+lgQUGgIFAQKHhIBwsKAgWBgkDBn4UHdYJAQaAg\n",
       "UJjjTnplQUGgIFAQKLjuCBYUBAoCBYGCh3SwoCBQECgIFDykgwUFgYJAQaDgtzuCBQWBgkBBoOAk\n",
       "HSwoCBQECgIFD+lgQUGgIFAQKHhPOqgTBAoCBYGC96SDBQWBgkBBoOC6I1hQECgIFAQKHtLBgoJA\n",
       "QaAgUPAKXrCgIFAQKAgUnKSDBQWBgkBBoDD38ZDeWFAQKAgUBAquO4IFBYGCQEGg4LojWFAQKAgU\n",
       "BApO0sGCgkBBoCBQcJIOFhQECgIFgYKTdLCgIFAQKAgUnKSDBQWBgkBBoOAhHSwoCBQECgKFOd6T\n",
       "XllQECgIFAQKTtLBgoJAQaAgUBAo+GY1WFAQKAgUBApz79sf4dssKAgUBAoCBSfpYEFBoCBQECj4\n",
       "BapgQUGgIFAQKDhJBwsKAgWBgkDB6y/BgoJAQaAgUPAiebCgIFAQKAgUvN0RLCgIFAQKAgV30sGC\n",
       "gkBBoCBQcCcdLCgIFAQKAgV30sGCgkBBoCBQcN0RLCgIFAQKAgVfHAYLCgIFgYJAwXVHsKAgUBAo\n",
       "CBR8cRgsKAgUBAoChTlvf4KPs6AgUBAoCBScpIMFBYGCQEGg4O2OYEFBoCBQECi47ggWFAQKAgWB\n",
       "guuOYEFBoCBQECg4SQcLCgIFgYJAwUk6WFAQKAgUBAq+OAwWFAQKAgWBwvir8J0FBYGCQEGg4CQd\n",
       "LCgIFAQKAgVfHAYLCgIFgYJAwReHwYKCQEGgIFBwkg4WFAQKAgWBgpN0sKAgUBAoCBTmeL1jZUFB\n",
       "oCBQECi47ggWFAQKAgWBguuOYEFBoCBQECg4SQcLCgIFgYJAwT+iDRYUBAoCBYGCf0QbLCgIFAQK\n",
       "AgVvdwQLCgIFgYJAwQ8sBQsKAgWBgkDBDywFCwoCBYGCQMEXh8GCgkBBoCBQ8ApesKAgUBAoCBT8\n",
       "MUuwoCBQECgIFJykgwUFgYJAQaDgFbxgQUGgIFAQKHgFL1hQECgIFAQKTtLBgoJAQaAgUPAKXrCg\n",
       "IFAQKAgU/HZHsKAgUBAoCBRcdwQLCgIFgYJAwReHwYKCQEGgIFBwkg4WFAQKAgWBgpN0sKAgUBAo\n",
       "CBScpIMFBYGCQEGg4CEdLCgIFAQKAgXXHcGCgkBBoCBQcJIOFhQECgIFgYKTdLCgIFAQKAgUnKSD\n",
       "BQWBgkBBoOC3O4IFBYGCQEGg4Ef/gwUFgYJAQaDguiNYUBAoCBQECnMfT+mNBQWBgkBBoOAkHSwo\n",
       "CBQECgIFXxwGCwoCBYGCQMEXh8GCgkBBoCBQcN0RLCgIFAQKAgVfHAYLCgIFgYJAwUk6WFAQKAgU\n",
       "BAp+uyNYUBAoCBQECnO83rGyoCBQECgIFLzdESwoCBQECgKFuU7SKwsKAgWBgkDBSTpYUBAoCBQE\n",
       "Cu6kgwUFgYJAQaDg7Y5gQUGgIFAQKMzxxywrCwoCBYGCQMF1R7CgIFAQKAgU/Fl4sKAgUBAoCBS8\n",
       "3REsKAgUBAoCBXfSwYKCQEGgIFBw3REsKAgUBAoChTmPC4+NBQWBgkBBoOC6I1hQECgIFAQKHtLB\n",
       "goJAQaAgUHAnHSwoCBQECgIFd9LBgoJAQaAgUJjzc5LeWFAQKAgUBApO0sGCgkBBoCBQmOshvbKg\n",
       "IFAQKAgUnKSDBQWBgkBBoDDn5yG9saAgUBAoCBScpIMFBYGCQEGg4E46WFAQKAgUBApO0sGCgkBB\n",
       "oCBQ8JAOFhQECgIFgYIvDoMFBYGCQEGgMPf58/Zn+DQLCgIFgYJAwXVHsKAgUBAoCBS83REsKAgU\n",
       "BAoChTnXdcfGgoJAQaAgUHCSDhYUBAoCBYHCHF8criwoCBQECgIFJ+lgQUGgIFAQKDhJBwsKAgWB\n",
       "gkBh7nWS3lhQECgIFAQKrjuCBQWBgkBBoOAVvGBBQaAgUBAoOEkHCwoCBYGCQGGuk/TKgoJAQaAg\n",
       "UHCSDhYUBAoCBYHCHG93rCwoCBQECgIFP1UaLCgIFAQKAgXvSQcLCgIFgYJAwZ10sKAgUBAoCBSc\n",
       "pIMFBYGCQEGg4CEdLCgIFAQKAgVfHAYLCgIFgYJAwUk6WFAQKAgUBArz+OJwZUFBoCBQECg4SQcL\n",
       "CgIFgYJAwSt4wYKCQEGgIFCYx0l6ZUFBoCBQECh4uyNYUBAoCBQECr44DBYUBAoCBYGC645gQUGg\n",
       "IFAQKMx97tuf4dMsKAgUBAoCBdcdwYKCQEGgIFCYx0l6ZUFBoCBQECj8B4fT7RNf7MS5AAAAAElF\n",
       "TkSuQmCC\n",
       "\" transform=\"translate(2161, 126)\"/>\n",
       "</g>\n",
       "<path clip-path=\"url(#clip750)\" d=\"M2280.7 1126.02 Q2277.09 1126.02 2275.26 1129.59 Q2273.45 1133.13 2273.45 1140.26 Q2273.45 1147.36 2275.26 1150.93 Q2277.09 1154.47 2280.7 1154.47 Q2284.33 1154.47 2286.14 1150.93 Q2287.97 1147.36 2287.97 1140.26 Q2287.97 1133.13 2286.14 1129.59 Q2284.33 1126.02 2280.7 1126.02 M2280.7 1122.32 Q2286.51 1122.32 2289.57 1126.92 Q2292.64 1131.51 2292.64 1140.26 Q2292.64 1148.98 2289.57 1153.59 Q2286.51 1158.17 2280.7 1158.17 Q2274.89 1158.17 2271.81 1153.59 Q2268.76 1148.98 2268.76 1140.26 Q2268.76 1131.51 2271.81 1126.92 Q2274.89 1122.32 2280.7 1122.32 Z\" fill=\"#000000\" fill-rule=\"evenodd\" fill-opacity=\"1\" /><path clip-path=\"url(#clip750)\" d=\"M2300.86 1151.62 L2305.75 1151.62 L2305.75 1157.5 L2300.86 1157.5 L2300.86 1151.62 Z\" fill=\"#000000\" fill-rule=\"evenodd\" fill-opacity=\"1\" /><path clip-path=\"url(#clip750)\" d=\"M2325.93 1126.02 Q2322.32 1126.02 2320.49 1129.59 Q2318.69 1133.13 2318.69 1140.26 Q2318.69 1147.36 2320.49 1150.93 Q2322.32 1154.47 2325.93 1154.47 Q2329.57 1154.47 2331.37 1150.93 Q2333.2 1147.36 2333.2 1140.26 Q2333.2 1133.13 2331.37 1129.59 Q2329.57 1126.02 2325.93 1126.02 M2325.93 1122.32 Q2331.74 1122.32 2334.8 1126.92 Q2337.88 1131.51 2337.88 1140.26 Q2337.88 1148.98 2334.8 1153.59 Q2331.74 1158.17 2325.93 1158.17 Q2320.12 1158.17 2317.04 1153.59 Q2313.99 1148.98 2313.99 1140.26 Q2313.99 1131.51 2317.04 1126.92 Q2320.12 1122.32 2325.93 1122.32 Z\" fill=\"#000000\" fill-rule=\"evenodd\" fill-opacity=\"1\" /><path clip-path=\"url(#clip750)\" d=\"M2350.12 1153.57 L2366.44 1153.57 L2366.44 1157.5 L2344.5 1157.5 L2344.5 1153.57 Q2347.16 1150.81 2351.74 1146.18 Q2356.35 1141.53 2357.53 1140.19 Q2359.77 1137.67 2360.65 1135.93 Q2361.56 1134.17 2361.56 1132.48 Q2361.56 1129.73 2359.61 1127.99 Q2357.69 1126.25 2354.59 1126.25 Q2352.39 1126.25 2349.94 1127.02 Q2347.51 1127.78 2344.73 1129.33 L2344.73 1124.61 Q2347.55 1123.48 2350.01 1122.9 Q2352.46 1122.32 2354.5 1122.32 Q2359.87 1122.32 2363.06 1125 Q2366.26 1127.69 2366.26 1132.18 Q2366.26 1134.31 2365.45 1136.23 Q2364.66 1138.13 2362.55 1140.72 Q2361.97 1141.39 2358.87 1144.61 Q2355.77 1147.8 2350.12 1153.57 Z\" fill=\"#000000\" fill-rule=\"evenodd\" fill-opacity=\"1\" /><path clip-path=\"url(#clip750)\" d=\"M2376.3 1122.94 L2394.66 1122.94 L2394.66 1126.88 L2380.58 1126.88 L2380.58 1135.35 Q2381.6 1135 2382.62 1134.84 Q2383.64 1134.66 2384.66 1134.66 Q2390.45 1134.66 2393.82 1137.83 Q2397.2 1141 2397.2 1146.42 Q2397.2 1151.99 2393.73 1155.1 Q2390.26 1158.17 2383.94 1158.17 Q2381.76 1158.17 2379.5 1157.8 Q2377.25 1157.43 2374.84 1156.69 L2374.84 1151.99 Q2376.93 1153.13 2379.15 1153.68 Q2381.37 1154.24 2383.85 1154.24 Q2387.85 1154.24 2390.19 1152.13 Q2392.53 1150.03 2392.53 1146.42 Q2392.53 1142.8 2390.19 1140.7 Q2387.85 1138.59 2383.85 1138.59 Q2381.97 1138.59 2380.1 1139.01 Q2378.25 1139.42 2376.3 1140.3 L2376.3 1122.94 Z\" fill=\"#000000\" fill-rule=\"evenodd\" fill-opacity=\"1\" /><path clip-path=\"url(#clip750)\" d=\"M2280.7 861.795 Q2277.09 861.795 2275.26 865.36 Q2273.45 868.902 2273.45 876.032 Q2273.45 883.138 2275.26 886.703 Q2277.09 890.244 2280.7 890.244 Q2284.33 890.244 2286.14 886.703 Q2287.97 883.138 2287.97 876.032 Q2287.97 868.902 2286.14 865.36 Q2284.33 861.795 2280.7 861.795 M2280.7 858.092 Q2286.51 858.092 2289.57 862.698 Q2292.64 867.282 2292.64 876.032 Q2292.64 884.758 2289.57 889.365 Q2286.51 893.948 2280.7 893.948 Q2274.89 893.948 2271.81 889.365 Q2268.76 884.758 2268.76 876.032 Q2268.76 867.282 2271.81 862.698 Q2274.89 858.092 2280.7 858.092 Z\" fill=\"#000000\" fill-rule=\"evenodd\" fill-opacity=\"1\" /><path clip-path=\"url(#clip750)\" d=\"M2300.86 887.397 L2305.75 887.397 L2305.75 893.277 L2300.86 893.277 L2300.86 887.397 Z\" fill=\"#000000\" fill-rule=\"evenodd\" fill-opacity=\"1\" /><path clip-path=\"url(#clip750)\" d=\"M2325.93 861.795 Q2322.32 861.795 2320.49 865.36 Q2318.69 868.902 2318.69 876.032 Q2318.69 883.138 2320.49 886.703 Q2322.32 890.244 2325.93 890.244 Q2329.57 890.244 2331.37 886.703 Q2333.2 883.138 2333.2 876.032 Q2333.2 868.902 2331.37 865.36 Q2329.57 861.795 2325.93 861.795 M2325.93 858.092 Q2331.74 858.092 2334.8 862.698 Q2337.88 867.282 2337.88 876.032 Q2337.88 884.758 2334.8 889.365 Q2331.74 893.948 2325.93 893.948 Q2320.12 893.948 2317.04 889.365 Q2313.99 884.758 2313.99 876.032 Q2313.99 867.282 2317.04 862.698 Q2320.12 858.092 2325.93 858.092 Z\" fill=\"#000000\" fill-rule=\"evenodd\" fill-opacity=\"1\" /><path clip-path=\"url(#clip750)\" d=\"M2346.14 858.717 L2364.5 858.717 L2364.5 862.652 L2350.42 862.652 L2350.42 871.124 Q2351.44 870.777 2352.46 870.615 Q2353.48 870.43 2354.5 870.43 Q2360.28 870.43 2363.66 873.601 Q2367.04 876.772 2367.04 882.189 Q2367.04 887.768 2363.57 890.869 Q2360.1 893.948 2353.78 893.948 Q2351.6 893.948 2349.33 893.578 Q2347.09 893.207 2344.68 892.467 L2344.68 887.768 Q2346.76 888.902 2348.99 889.457 Q2351.21 890.013 2353.69 890.013 Q2357.69 890.013 2360.03 887.906 Q2362.37 885.8 2362.37 882.189 Q2362.37 878.578 2360.03 876.471 Q2357.69 874.365 2353.69 874.365 Q2351.81 874.365 2349.94 874.782 Q2348.08 875.198 2346.14 876.078 L2346.14 858.717 Z\" fill=\"#000000\" fill-rule=\"evenodd\" fill-opacity=\"1\" /><path clip-path=\"url(#clip750)\" d=\"M2386.26 861.795 Q2382.64 861.795 2380.82 865.36 Q2379.01 868.902 2379.01 876.032 Q2379.01 883.138 2380.82 886.703 Q2382.64 890.244 2386.26 890.244 Q2389.89 890.244 2391.7 886.703 Q2393.52 883.138 2393.52 876.032 Q2393.52 868.902 2391.7 865.36 Q2389.89 861.795 2386.26 861.795 M2386.26 858.092 Q2392.07 858.092 2395.12 862.698 Q2398.2 867.282 2398.2 876.032 Q2398.2 884.758 2395.12 889.365 Q2392.07 893.948 2386.26 893.948 Q2380.45 893.948 2377.37 889.365 Q2374.31 884.758 2374.31 876.032 Q2374.31 867.282 2377.37 862.698 Q2380.45 858.092 2386.26 858.092 Z\" fill=\"#000000\" fill-rule=\"evenodd\" fill-opacity=\"1\" /><path clip-path=\"url(#clip750)\" d=\"M2280.7 597.569 Q2277.09 597.569 2275.26 601.134 Q2273.45 604.675 2273.45 611.805 Q2273.45 618.911 2275.26 622.476 Q2277.09 626.018 2280.7 626.018 Q2284.33 626.018 2286.14 622.476 Q2287.97 618.911 2287.97 611.805 Q2287.97 604.675 2286.14 601.134 Q2284.33 597.569 2280.7 597.569 M2280.7 593.865 Q2286.51 593.865 2289.57 598.472 Q2292.64 603.055 2292.64 611.805 Q2292.64 620.532 2289.57 625.138 Q2286.51 629.722 2280.7 629.722 Q2274.89 629.722 2271.81 625.138 Q2268.76 620.532 2268.76 611.805 Q2268.76 603.055 2271.81 598.472 Q2274.89 593.865 2280.7 593.865 Z\" fill=\"#000000\" fill-rule=\"evenodd\" fill-opacity=\"1\" /><path clip-path=\"url(#clip750)\" d=\"M2300.86 623.171 L2305.75 623.171 L2305.75 629.05 L2300.86 629.05 L2300.86 623.171 Z\" fill=\"#000000\" fill-rule=\"evenodd\" fill-opacity=\"1\" /><path clip-path=\"url(#clip750)\" d=\"M2325.93 597.569 Q2322.32 597.569 2320.49 601.134 Q2318.69 604.675 2318.69 611.805 Q2318.69 618.911 2320.49 622.476 Q2322.32 626.018 2325.93 626.018 Q2329.57 626.018 2331.37 622.476 Q2333.2 618.911 2333.2 611.805 Q2333.2 604.675 2331.37 601.134 Q2329.57 597.569 2325.93 597.569 M2325.93 593.865 Q2331.74 593.865 2334.8 598.472 Q2337.88 603.055 2337.88 611.805 Q2337.88 620.532 2334.8 625.138 Q2331.74 629.722 2325.93 629.722 Q2320.12 629.722 2317.04 625.138 Q2313.99 620.532 2313.99 611.805 Q2313.99 603.055 2317.04 598.472 Q2320.12 593.865 2325.93 593.865 Z\" fill=\"#000000\" fill-rule=\"evenodd\" fill-opacity=\"1\" /><path clip-path=\"url(#clip750)\" d=\"M2344.91 594.49 L2367.14 594.49 L2367.14 596.481 L2354.59 629.05 L2349.7 629.05 L2361.51 598.425 L2344.91 598.425 L2344.91 594.49 Z\" fill=\"#000000\" fill-rule=\"evenodd\" fill-opacity=\"1\" /><path clip-path=\"url(#clip750)\" d=\"M2376.3 594.49 L2394.66 594.49 L2394.66 598.425 L2380.58 598.425 L2380.58 606.898 Q2381.6 606.55 2382.62 606.388 Q2383.64 606.203 2384.66 606.203 Q2390.45 606.203 2393.82 609.374 Q2397.2 612.546 2397.2 617.962 Q2397.2 623.541 2393.73 626.643 Q2390.26 629.722 2383.94 629.722 Q2381.76 629.722 2379.5 629.351 Q2377.25 628.981 2374.84 628.24 L2374.84 623.541 Q2376.93 624.675 2379.15 625.231 Q2381.37 625.786 2383.85 625.786 Q2387.85 625.786 2390.19 623.68 Q2392.53 621.573 2392.53 617.962 Q2392.53 614.351 2390.19 612.245 Q2387.85 610.138 2383.85 610.138 Q2381.97 610.138 2380.1 610.555 Q2378.25 610.972 2376.3 611.851 L2376.3 594.49 Z\" fill=\"#000000\" fill-rule=\"evenodd\" fill-opacity=\"1\" /><path clip-path=\"url(#clip750)\" d=\"M2280.7 333.342 Q2277.09 333.342 2275.26 336.907 Q2273.45 340.449 2273.45 347.578 Q2273.45 354.685 2275.26 358.25 Q2277.09 361.791 2280.7 361.791 Q2284.33 361.791 2286.14 358.25 Q2287.97 354.685 2287.97 347.578 Q2287.97 340.449 2286.14 336.907 Q2284.33 333.342 2280.7 333.342 M2280.7 329.639 Q2286.51 329.639 2289.57 334.245 Q2292.64 338.828 2292.64 347.578 Q2292.64 356.305 2289.57 360.912 Q2286.51 365.495 2280.7 365.495 Q2274.89 365.495 2271.81 360.912 Q2268.76 356.305 2268.76 347.578 Q2268.76 338.828 2271.81 334.245 Q2274.89 329.639 2280.7 329.639 Z\" fill=\"#000000\" fill-rule=\"evenodd\" fill-opacity=\"1\" /><path clip-path=\"url(#clip750)\" d=\"M2300.86 358.944 L2305.75 358.944 L2305.75 364.824 L2300.86 364.824 L2300.86 358.944 Z\" fill=\"#000000\" fill-rule=\"evenodd\" fill-opacity=\"1\" /><path clip-path=\"url(#clip750)\" d=\"M2316.74 360.888 L2324.38 360.888 L2324.38 334.523 L2316.07 336.19 L2316.07 331.93 L2324.33 330.264 L2329.01 330.264 L2329.01 360.888 L2336.65 360.888 L2336.65 364.824 L2316.74 364.824 L2316.74 360.888 Z\" fill=\"#000000\" fill-rule=\"evenodd\" fill-opacity=\"1\" /><path clip-path=\"url(#clip750)\" d=\"M2356.09 333.342 Q2352.48 333.342 2350.65 336.907 Q2348.85 340.449 2348.85 347.578 Q2348.85 354.685 2350.65 358.25 Q2352.48 361.791 2356.09 361.791 Q2359.73 361.791 2361.53 358.25 Q2363.36 354.685 2363.36 347.578 Q2363.36 340.449 2361.53 336.907 Q2359.73 333.342 2356.09 333.342 M2356.09 329.639 Q2361.9 329.639 2364.96 334.245 Q2368.04 338.828 2368.04 347.578 Q2368.04 356.305 2364.96 360.912 Q2361.9 365.495 2356.09 365.495 Q2350.28 365.495 2347.2 360.912 Q2344.15 356.305 2344.15 347.578 Q2344.15 338.828 2347.2 334.245 Q2350.28 329.639 2356.09 329.639 Z\" fill=\"#000000\" fill-rule=\"evenodd\" fill-opacity=\"1\" /><path clip-path=\"url(#clip750)\" d=\"M2386.26 333.342 Q2382.64 333.342 2380.82 336.907 Q2379.01 340.449 2379.01 347.578 Q2379.01 354.685 2380.82 358.25 Q2382.64 361.791 2386.26 361.791 Q2389.89 361.791 2391.7 358.25 Q2393.52 354.685 2393.52 347.578 Q2393.52 340.449 2391.7 336.907 Q2389.89 333.342 2386.26 333.342 M2386.26 329.639 Q2392.07 329.639 2395.12 334.245 Q2398.2 338.828 2398.2 347.578 Q2398.2 356.305 2395.12 360.912 Q2392.07 365.495 2386.26 365.495 Q2380.45 365.495 2377.37 360.912 Q2374.31 356.305 2374.31 347.578 Q2374.31 338.828 2377.37 334.245 Q2380.45 329.639 2386.26 329.639 Z\" fill=\"#000000\" fill-rule=\"evenodd\" fill-opacity=\"1\" /><polyline clip-path=\"url(#clip750)\" style=\"stroke:#000000; stroke-linecap:butt; stroke-linejoin:round; stroke-width:4; stroke-opacity:1; fill:none\" points=\"\n",
       "  2232.76,1408.07 2232.76,1143.85 2256.76,1143.85 2232.76,1143.85 2232.76,879.626 2256.76,879.626 2232.76,879.626 2232.76,615.399 2256.76,615.399 2232.76,615.399 \n",
       "  2232.76,351.172 2256.76,351.172 2232.76,351.172 2232.76,125.619 \n",
       "  \"/>\n",
       "<path clip-path=\"url(#clip750)\" d=\"\n",
       "M1613.21 277.273 L2047.3 277.273 L2047.3 173.593 L1613.21 173.593  Z\n",
       "  \" fill=\"#ffffff\" fill-rule=\"evenodd\" fill-opacity=\"1\"/>\n",
       "<polyline clip-path=\"url(#clip750)\" style=\"stroke:#000000; stroke-linecap:butt; stroke-linejoin:round; stroke-width:4; stroke-opacity:1; fill:none\" points=\"\n",
       "  1613.21,277.273 2047.3,277.273 2047.3,173.593 1613.21,173.593 1613.21,277.273 \n",
       "  \"/>\n",
       "<circle clip-path=\"url(#clip750)\" cx=\"1700.47\" cy=\"225.433\" r=\"23\" fill=\"#fafda1\" fill-rule=\"evenodd\" fill-opacity=\"1\" stroke=\"#000000\" stroke-opacity=\"1\" stroke-width=\"5.12\"/>\n",
       "<path clip-path=\"url(#clip750)\" d=\"M1789.97 241.995 L1789.97 237.736 Q1791.73 238.569 1793.53 239.009 Q1795.34 239.449 1797.07 239.449 Q1801.7 239.449 1804.13 236.347 Q1806.59 233.222 1806.93 226.879 Q1805.59 228.87 1803.53 229.935 Q1801.47 231 1798.97 231 Q1793.79 231 1790.75 227.875 Q1787.74 224.727 1787.74 219.287 Q1787.74 213.963 1790.89 210.745 Q1794.04 207.528 1799.27 207.528 Q1805.27 207.528 1808.42 212.134 Q1811.59 216.717 1811.59 225.467 Q1811.59 233.639 1807.7 238.523 Q1803.83 243.384 1797.28 243.384 Q1795.52 243.384 1793.72 243.037 Q1791.91 242.689 1789.97 241.995 M1799.27 227.342 Q1802.42 227.342 1804.25 225.19 Q1806.1 223.037 1806.1 219.287 Q1806.1 215.56 1804.25 213.407 Q1802.42 211.231 1799.27 211.231 Q1796.12 211.231 1794.27 213.407 Q1792.44 215.56 1792.44 219.287 Q1792.44 223.037 1794.27 225.19 Q1796.12 227.342 1799.27 227.342 Z\" fill=\"#000000\" fill-rule=\"evenodd\" fill-opacity=\"1\" /><path clip-path=\"url(#clip750)\" d=\"M1820.04 208.153 L1838.39 208.153 L1838.39 212.088 L1824.32 212.088 L1824.32 220.56 Q1825.34 220.213 1826.36 220.051 Q1827.37 219.865 1828.39 219.865 Q1834.18 219.865 1837.56 223.037 Q1840.94 226.208 1840.94 231.625 Q1840.94 237.203 1837.47 240.305 Q1833.99 243.384 1827.67 243.384 Q1825.5 243.384 1823.23 243.013 Q1820.98 242.643 1818.58 241.902 L1818.58 237.203 Q1820.66 238.338 1822.88 238.893 Q1825.11 239.449 1827.58 239.449 Q1831.59 239.449 1833.92 237.342 Q1836.26 235.236 1836.26 231.625 Q1836.26 228.014 1833.92 225.907 Q1831.59 223.801 1827.58 223.801 Q1825.71 223.801 1823.83 224.217 Q1821.98 224.634 1820.04 225.514 L1820.04 208.153 Z\" fill=\"#000000\" fill-rule=\"evenodd\" fill-opacity=\"1\" /><path clip-path=\"url(#clip750)\" d=\"M1847.4 227.828 L1859.87 227.828 L1859.87 231.625 L1847.4 231.625 L1847.4 227.828 Z\" fill=\"#000000\" fill-rule=\"evenodd\" fill-opacity=\"1\" /><path clip-path=\"url(#clip750)\" d=\"M1870.87 209.426 L1870.87 216.787 L1879.64 216.787 L1879.64 220.097 L1870.87 220.097 L1870.87 234.171 Q1870.87 237.342 1871.73 238.245 Q1872.6 239.148 1875.27 239.148 L1879.64 239.148 L1879.64 242.713 L1875.27 242.713 Q1870.34 242.713 1868.46 240.884 Q1866.59 239.032 1866.59 234.171 L1866.59 220.097 L1863.46 220.097 L1863.46 216.787 L1866.59 216.787 L1866.59 209.426 L1870.87 209.426 Z\" fill=\"#000000\" fill-rule=\"evenodd\" fill-opacity=\"1\" /><path clip-path=\"url(#clip750)\" d=\"M1906.79 227.065 L1906.79 242.713 L1902.54 242.713 L1902.54 227.203 Q1902.54 223.523 1901.1 221.694 Q1899.66 219.865 1896.79 219.865 Q1893.35 219.865 1891.35 222.065 Q1889.36 224.264 1889.36 228.06 L1889.36 242.713 L1885.08 242.713 L1885.08 206.694 L1889.36 206.694 L1889.36 220.815 Q1890.89 218.477 1892.95 217.319 Q1895.04 216.162 1897.74 216.162 Q1902.21 216.162 1904.5 218.94 Q1906.79 221.694 1906.79 227.065 Z\" fill=\"#000000\" fill-rule=\"evenodd\" fill-opacity=\"1\" /><path clip-path=\"url(#clip750)\" d=\"M1934.48 238.824 L1934.48 252.574 L1930.2 252.574 L1930.2 216.787 L1934.48 216.787 L1934.48 220.722 Q1935.82 218.407 1937.86 217.296 Q1939.92 216.162 1942.77 216.162 Q1947.49 216.162 1950.43 219.912 Q1953.39 223.662 1953.39 229.773 Q1953.39 235.884 1950.43 239.634 Q1947.49 243.384 1942.77 243.384 Q1939.92 243.384 1937.86 242.273 Q1935.82 241.139 1934.48 238.824 M1948.97 229.773 Q1948.97 225.074 1947.03 222.412 Q1945.1 219.727 1941.72 219.727 Q1938.35 219.727 1936.4 222.412 Q1934.48 225.074 1934.48 229.773 Q1934.48 234.472 1936.4 237.157 Q1938.35 239.819 1941.72 239.819 Q1945.1 239.819 1947.03 237.157 Q1948.97 234.472 1948.97 229.773 Z\" fill=\"#000000\" fill-rule=\"evenodd\" fill-opacity=\"1\" /><path clip-path=\"url(#clip750)\" d=\"M1977.51 220.722 L1977.51 206.694 L1981.77 206.694 L1981.77 242.713 L1977.51 242.713 L1977.51 238.824 Q1976.17 241.139 1974.11 242.273 Q1972.07 243.384 1969.2 243.384 Q1964.5 243.384 1961.54 239.634 Q1958.6 235.884 1958.6 229.773 Q1958.6 223.662 1961.54 219.912 Q1964.5 216.162 1969.2 216.162 Q1972.07 216.162 1974.11 217.296 Q1976.17 218.407 1977.51 220.722 M1963 229.773 Q1963 234.472 1964.92 237.157 Q1966.86 239.819 1970.24 239.819 Q1973.62 239.819 1975.57 237.157 Q1977.51 234.472 1977.51 229.773 Q1977.51 225.074 1975.57 222.412 Q1973.62 219.727 1970.24 219.727 Q1966.86 219.727 1964.92 222.412 Q1963 225.074 1963 229.773 Z\" fill=\"#000000\" fill-rule=\"evenodd\" fill-opacity=\"1\" /><path clip-path=\"url(#clip750)\" d=\"M2003.67 206.694 L2003.67 210.236 L1999.59 210.236 Q1997.3 210.236 1996.4 211.162 Q1995.52 212.088 1995.52 214.495 L1995.52 216.787 L2002.53 216.787 L2002.53 220.097 L1995.52 220.097 L1995.52 242.713 L1991.24 242.713 L1991.24 220.097 L1987.16 220.097 L1987.16 216.787 L1991.24 216.787 L1991.24 214.981 Q1991.24 210.653 1993.25 208.685 Q1995.27 206.694 1999.64 206.694 L2003.67 206.694 Z\" fill=\"#000000\" fill-rule=\"evenodd\" fill-opacity=\"1\" /></svg>\n"
      ]
     },
     "execution_count": 37,
     "metadata": {},
     "output_type": "execute_result"
    }
   ],
   "source": [
    "scatter(vs.u, vs.v, marker_z=pdfs[idx], legend=true, ratio=1, label=\"$(idx)-th pdf\")"
   ]
  },
  {
   "cell_type": "code",
   "execution_count": null,
   "metadata": {},
   "outputs": [],
   "source": [
    "scatter(vs.u, vs.v, marker_z=mdfs[idx], legend=true, ratio=1, label=\"$(idx)-th pdf\")"
   ]
  },
  {
   "cell_type": "code",
   "execution_count": null,
   "metadata": {},
   "outputs": [],
   "source": [
    "idx = 22"
   ]
  },
  {
   "cell_type": "code",
   "execution_count": null,
   "metadata": {},
   "outputs": [],
   "source": [
    "get_moments(mdfs[idx], vs.u, vs.v, vs.weights)"
   ]
  },
  {
   "cell_type": "code",
   "execution_count": null,
   "metadata": {},
   "outputs": [],
   "source": [
    "w = get_moments(pdfs[idx], vs.u, vs.v, vs.weights)"
   ]
  },
  {
   "cell_type": "code",
   "execution_count": null,
   "metadata": {},
   "outputs": [],
   "source": [
    "prim = conserve_prim(w, 2)"
   ]
  },
  {
   "cell_type": "code",
   "execution_count": null,
   "metadata": {},
   "outputs": [],
   "source": [
    "prim_conserve(prim, 2)"
   ]
  },
  {
   "cell_type": "code",
   "execution_count": null,
   "metadata": {},
   "outputs": [],
   "source": [
    "m = maxwellian(vs.u, vs.v, prim)"
   ]
  },
  {
   "cell_type": "code",
   "execution_count": null,
   "metadata": {},
   "outputs": [],
   "source": [
    "get_moments(m, vs.u, vs.v, vs.weights)"
   ]
  },
  {
   "cell_type": "code",
   "execution_count": null,
   "metadata": {},
   "outputs": [],
   "source": []
  },
  {
   "cell_type": "code",
   "execution_count": null,
   "metadata": {},
   "outputs": [],
   "source": [
    "prim = [1.0, 0.0, 0.0, 1.0]\n",
    "w = prim_conserve(prim, 2.0)"
   ]
  },
  {
   "cell_type": "code",
   "execution_count": null,
   "metadata": {},
   "outputs": [],
   "source": [
    "M = maxwellian(vs.u, vs.v, prim)"
   ]
  },
  {
   "cell_type": "code",
   "execution_count": null,
   "metadata": {},
   "outputs": [],
   "source": [
    "get_moments(M, vs.u, vs.v, vs.weights)"
   ]
  },
  {
   "cell_type": "code",
   "execution_count": null,
   "metadata": {},
   "outputs": [],
   "source": [
    "sum(M .* vs.weights)"
   ]
  },
  {
   "cell_type": "code",
   "execution_count": null,
   "metadata": {},
   "outputs": [],
   "source": []
  },
  {
   "cell_type": "markdown",
   "metadata": {},
   "source": [
    "### MWE"
   ]
  },
  {
   "cell_type": "code",
   "execution_count": 24,
   "metadata": {},
   "outputs": [
    {
     "data": {
      "text/plain": [
       "([0.029863216717, 0.029817169801, 0.029725146971, 0.029587290119, 0.029403811809, 0.029174994954, 0.02890119237, 0.028582826243, 0.028220387469, 0.027814434904  …  0.931037663881, 0.944626188315, 0.956758167634, 0.967414895206, 0.97657993913, 0.984239167571, 0.990380770555, 0.994995278175, 0.998075575194, 0.999616912019], [0.000586438254, 0.001758410518, 0.00292767144, 0.004092418105, 0.005250854558, 0.006401194574, 0.007541664411, 0.008670505549, 0.009785977396, 0.010886359974  …  -0.364401117395, -0.327567810191, -0.290229417166, -0.252443511416, -0.214268356069, -0.175762814448, -0.136986259306, -0.097998481281, -0.058859596701, -0.01962995489], [2.2481041e-5, 2.2481041e-5, 2.2481041e-5, 2.2481041e-5, 2.2481041e-5, 2.2481041e-5, 2.2481041e-5, 2.2481041e-5, 2.2481041e-5, 2.2481041e-5  …  0.00076611298, 0.00076611298, 0.00076611298, 0.00076611298, 0.00076611298, 0.00076611298, 0.00076611298, 0.00076611298, 0.00076611298, 0.00076611298])"
      ]
     },
     "execution_count": 24,
     "metadata": {},
     "output_type": "execute_result"
    }
   ],
   "source": [
    "using KitBase\n",
    "\n",
    "function get_moments(f, u, v, ω)\n",
    "    w = zeros(eltype(f), 4)\n",
    "    w[1] = discrete_moments(f, u, ω, 0)\n",
    "    w[2] = discrete_moments(f, u, ω, 1)\n",
    "    w[3] = discrete_moments(f, v, ω, 1)\n",
    "    w[4] = 0.5 * (discrete_moments(f, u, ω, 2) + discrete_moments(f, v, ω, 2))\n",
    "    return w\n",
    "end\n",
    "\n",
    "mpdf(u, v, prim) = @. prim[1] * (prim[4] / π) * exp(-prim[4] * ((u - prim[2])^2 + (v - prim[3])^2))\n",
    "\n",
    "#file = open(\"/home2/vavrines/Coding/KiT-RT/result/logs/a2_ev5.csv\")\n",
    "file = open(\"/home2/vavrines/Coding/KiT-RT/result/logs/a2_ev1.csv\")\n",
    "data = []\n",
    "for line in eachline(file)\n",
    "    a = split(line, \",\")\n",
    "    b = [parse(Float64, a[i]) for i = 2:length(a)]\n",
    "    push!(data, b)\n",
    "end\n",
    "\n",
    "u, v, weights = data[1], data[2], data[4]"
   ]
  },
  {
   "cell_type": "code",
   "execution_count": 25,
   "metadata": {},
   "outputs": [
    {
     "name": "stdout",
     "output_type": "stream",
     "text": [
      "(sum(M .* weights), w[1]) = (0.5380795070069435, 1.0)\n"
     ]
    },
    {
     "data": {
      "text/plain": [
       "(0.5380795070069435, 1.0)"
      ]
     },
     "execution_count": 25,
     "metadata": {},
     "output_type": "execute_result"
    }
   ],
   "source": [
    "prim = [1., 0., 0., 1.]\n",
    "M = mpdf(u, v, prim)\n",
    "w = prim_conserve(prim, 2.0)\n",
    "\n",
    "@show sum(M .* weights), w[1]"
   ]
  },
  {
   "cell_type": "code",
   "execution_count": null,
   "metadata": {},
   "outputs": [],
   "source": []
  },
  {
   "cell_type": "code",
   "execution_count": null,
   "metadata": {},
   "outputs": [],
   "source": [
    "W[1] = prim[1]\n",
    "W[2] = prim[1] * prim[2]\n",
    "W[3] = prim[1] * prim[3]\n",
    "W[4] = 0.5 * prim[1] / prim[4] / (γ - 1.0) + 0.5 * prim[1] * (prim[2]^2 + prim[3]^2)"
   ]
  },
  {
   "cell_type": "code",
   "execution_count": null,
   "metadata": {},
   "outputs": [],
   "source": []
  },
  {
   "cell_type": "code",
   "execution_count": 15,
   "metadata": {},
   "outputs": [
    {
     "data": {
      "text/plain": [
       "4-element Vector{Float64}:\n",
       "  0.5106703721377844\n",
       "  1.4939953939066698e-18\n",
       " -1.4410895195609113e-18\n",
       "  0.2610472445463818"
      ]
     },
     "execution_count": 15,
     "metadata": {},
     "output_type": "execute_result"
    }
   ],
   "source": [
    "get_moments(M, u, v, weights)"
   ]
  },
  {
   "cell_type": "code",
   "execution_count": 16,
   "metadata": {},
   "outputs": [
    {
     "data": {
      "text/plain": [
       "4-element Vector{Float64}:\n",
       " 1.0\n",
       " 0.0\n",
       " 0.0\n",
       " 0.5"
      ]
     },
     "execution_count": 16,
     "metadata": {},
     "output_type": "execute_result"
    }
   ],
   "source": [
    "w"
   ]
  },
  {
   "cell_type": "code",
   "execution_count": 18,
   "metadata": {},
   "outputs": [
    {
     "data": {
      "text/plain": [
       "78.53981633983997"
      ]
     },
     "execution_count": 18,
     "metadata": {},
     "output_type": "execute_result"
    }
   ],
   "source": [
    "weights |> sum"
   ]
  },
  {
   "cell_type": "code",
   "execution_count": 19,
   "metadata": {},
   "outputs": [
    {
     "data": {
      "text/plain": [
       "78.53981633974483"
      ]
     },
     "execution_count": 19,
     "metadata": {},
     "output_type": "execute_result"
    }
   ],
   "source": [
    "pi * 5^2"
   ]
  },
  {
   "cell_type": "code",
   "execution_count": 21,
   "metadata": {},
   "outputs": [
    {
     "data": {
      "text/plain": [
       "6400-element Vector{Float64}:\n",
       " 0.0\n",
       " 0.0\n",
       " 0.0\n",
       " 0.0\n",
       " 0.0\n",
       " 0.0\n",
       " 0.0\n",
       " 0.0\n",
       " 0.0\n",
       " 0.0\n",
       " 0.0\n",
       " 0.0\n",
       " 0.0\n",
       " ⋮\n",
       " 0.0\n",
       " 0.0\n",
       " 0.0\n",
       " 0.0\n",
       " 0.0\n",
       " 0.0\n",
       " 0.0\n",
       " 0.0\n",
       " 0.0\n",
       " 0.0\n",
       " 0.0\n",
       " 0.0"
      ]
     },
     "execution_count": 21,
     "metadata": {},
     "output_type": "execute_result"
    }
   ],
   "source": [
    "data[3]"
   ]
  },
  {
   "cell_type": "code",
   "execution_count": null,
   "metadata": {},
   "outputs": [],
   "source": []
  }
 ],
 "metadata": {
  "kernelspec": {
   "display_name": "Julia 1.6.4",
   "language": "julia",
   "name": "julia-1.6"
  },
  "language_info": {
   "file_extension": ".jl",
   "mimetype": "application/julia",
   "name": "julia",
   "version": "1.6.4"
  }
 },
 "nbformat": 4,
 "nbformat_minor": 4
}
