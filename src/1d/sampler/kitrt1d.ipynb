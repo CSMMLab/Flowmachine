{
 "cells": [
  {
   "cell_type": "markdown",
   "metadata": {},
   "source": [
    "# Playground with sampled data from KiT-RT\n",
    "\n",
    "### Setup"
   ]
  },
  {
   "cell_type": "code",
   "execution_count": 1,
   "metadata": {},
   "outputs": [
    {
     "name": "stderr",
     "output_type": "stream",
     "text": [
      "┌ Info: Kinetic will run serially\n",
      "└ @ KitBase /home2/vavrines/.julia/packages/KitBase/YV1tk/src/KitBase.jl:61\n",
      "┌ Info: Kinetic will run with CUDA\n",
      "└ @ KitBase /home2/vavrines/.julia/packages/KitBase/YV1tk/src/KitBase.jl:65\n",
      "┌ Info: 1: NVIDIA GeForce RTX 3070\n",
      "└ @ KitBase /home2/vavrines/.julia/packages/KitBase/YV1tk/src/KitBase.jl:67\n",
      "┌ Info: Scalar operation is disabled in CUDA\n",
      "└ @ KitBase /home2/vavrines/.julia/packages/KitBase/YV1tk/src/KitBase.jl:69\n"
     ]
    }
   ],
   "source": [
    "using KitBase, Plots, JLD2, Distributions, LinearAlgebra, Flux\n",
    "using Flux: onecold, @epochs"
   ]
  },
  {
   "cell_type": "code",
   "execution_count": 217,
   "metadata": {},
   "outputs": [
    {
     "data": {
      "text/plain": [
       "accuracy (generic function with 1 method)"
      ]
     },
     "execution_count": 217,
     "metadata": {},
     "output_type": "execute_result"
    }
   ],
   "source": [
    "function regime_data(w, sw, f, u, K, Kn, μ=ref_vhs_vis(Kn, 1.0, 0.5), ω=0.81)\n",
    "    gam = heat_capacity_ratio(K, 1)\n",
    "    prim = conserve_prim(w, gam)\n",
    "    Mu, Mxi, _, _1 = gauss_moments(prim, K)\n",
    "    a = pdf_slope(prim, sw, K)\n",
    "    swt = -prim[1] .* moments_conserve_slope(a, Mu, Mxi, 1)\n",
    "    A = pdf_slope(prim, swt, K)\n",
    "    tau = vhs_collision_time(prim, μ, ω)\n",
    "    fr = chapman_enskog(u, prim, a, A, tau)\n",
    "    L = norm((f .- fr) ./ prim[1])\n",
    "\n",
    "    x = [w; sw; tau]\n",
    "    y = ifelse(L <= 0.005, [1.0, 0.0], [0.0, 1.0])\n",
    "    return x, y\n",
    "end\n",
    "\n",
    "function regime_number(Y, rg=1)\n",
    "   idx = 0\n",
    "    for i in axes(Y, 2)\n",
    "       if Y[1, i] == rg\n",
    "            idx += 1\n",
    "        end\n",
    "    end\n",
    "    println(\"NS regime: $(idx) of $(size(Y, 2))\")\n",
    "    return nothing\n",
    "end\n",
    "\n",
    "function accuracy(nn, X, Y)\n",
    "    Y1 = nn(X)\n",
    "\n",
    "    YA1 = [onecold(Y1[:, i]) for i in axes(Y1, 2)]\n",
    "    YA = [onecold(Y[:, i]) for i in axes(Y, 2)]\n",
    "\n",
    "    accuracy = 0.0\n",
    "    for i in eachindex(YA)\n",
    "        if YA[i] == YA1[i]\n",
    "            accuracy += 1.0\n",
    "        end\n",
    "    end\n",
    "    accuracy /= length(YA)\n",
    "\n",
    "    return accuracy\n",
    "end"
   ]
  },
  {
   "cell_type": "markdown",
   "metadata": {},
   "source": [
    "### Dataset"
   ]
  },
  {
   "cell_type": "code",
   "execution_count": 255,
   "metadata": {},
   "outputs": [],
   "source": [
    "file = open(\"../../../data/1d/a3_ev5.csv\")\n",
    "data = []\n",
    "for line in eachline(file)\n",
    "    a = split(line, \",\")\n",
    "    b = [parse(Float64, a[i]) for i = 2:length(a)]\n",
    "    push!(data, b)\n",
    "end\n",
    "pdfs = data[3:end];"
   ]
  },
  {
   "cell_type": "code",
   "execution_count": 256,
   "metadata": {},
   "outputs": [
    {
     "data": {
      "text/plain": [
       "6003"
      ]
     },
     "execution_count": 256,
     "metadata": {},
     "output_type": "execute_result"
    }
   ],
   "source": [
    "file = open(\"../../../data/1d/a6_ev5.csv\")\n",
    "for line in eachline(file)\n",
    "    a = split(line, \",\")\n",
    "    b = [parse(Float64, a[i]) for i = 2:length(a)]\n",
    "    push!(data, b)\n",
    "end\n",
    "pdfs = [pdfs; data[3:end]]\n",
    "\n",
    "file = open(\"../../../data/1d/a8_ev5.csv\")\n",
    "for line in eachline(file)\n",
    "    a = split(line, \",\")\n",
    "    b = [parse(Float64, a[i]) for i = 2:length(a)]\n",
    "    push!(data, b)\n",
    "end\n",
    "pdfs = [pdfs; data[3:end]]\n",
    "nd = length(pdfs) ÷ 2"
   ]
  },
  {
   "cell_type": "code",
   "execution_count": 257,
   "metadata": {},
   "outputs": [
    {
     "data": {
      "text/plain": [
       "VelocitySpace1D{Float64,Int64,Vector{Float64},Vector{Float64}}\n",
       "domain: (-5.0,5.0)\n",
       "resolution: 100\n",
       "ghost: 0\n"
      ]
     },
     "execution_count": 257,
     "metadata": {},
     "output_type": "execute_result"
    }
   ],
   "source": [
    "vs = VSpace1D(-5.0, 5.0, length(data[1]), data[1], data[1][2:end] .- data[1][1:end-1], data[2])"
   ]
  },
  {
   "cell_type": "code",
   "execution_count": 258,
   "metadata": {},
   "outputs": [],
   "source": [
    "dist = Uniform(0.004, 0.1)\n",
    "dxs = rand(dist, nd)\n",
    "dist = Uniform(0.00001, 1.0)\n",
    "kns = rand(dist, nd);\n",
    "dist = Uniform(0.1, 1.0)\n",
    "rhos = rand(dist, nd);"
   ]
  },
  {
   "cell_type": "code",
   "execution_count": 259,
   "metadata": {
    "scrolled": true
   },
   "outputs": [],
   "source": [
    "X = [1.0, 0.0, 1.0, 0.0, 0.0, 0.0, 1.0]\n",
    "Y = [1.0, 0.0]\n",
    "for i = 1:nd\n",
    "    try\n",
    "        #fL = pdfs[i]; fR = pdfs[nd*2-i]\n",
    "        fL = pop!(pdfs) .* pop!(rhos); fR = pop!(pdfs) .* pop!(rhos) # shuffle\n",
    "        wL = moments_conserve(fL, vs.u, vs.weights); wR = moments_conserve(fR, vs.u, vs.weights)\n",
    "        #@show wL, wR\n",
    "        w = @. (wL + wR) / 2\n",
    "        sw = @. (wR - wL) / dxs[i]\n",
    "        f = @. (fL + fR) / 2\n",
    "        \n",
    "        tmpx, tmpy = regime_data(w, sw, f, vs.u, 0, kns[i])\n",
    "        X = hcat(X, tmpx)\n",
    "        Y = hcat(Y, tmpy)\n",
    "    catch\n",
    "    end\n",
    "end"
   ]
  },
  {
   "cell_type": "code",
   "execution_count": 260,
   "metadata": {},
   "outputs": [
    {
     "name": "stdout",
     "output_type": "stream",
     "text": [
      "NS regime: 168 of 3000\n"
     ]
    }
   ],
   "source": [
    "regime_number(Y)"
   ]
  },
  {
   "cell_type": "code",
   "execution_count": 208,
   "metadata": {},
   "outputs": [
    {
     "data": {
      "image/svg+xml": [
       "<?xml version=\"1.0\" encoding=\"utf-8\"?>\n",
       "<svg xmlns=\"http://www.w3.org/2000/svg\" xmlns:xlink=\"http://www.w3.org/1999/xlink\" width=\"600\" height=\"400\" viewBox=\"0 0 2400 1600\">\n",
       "<defs>\n",
       "  <clipPath id=\"clip230\">\n",
       "    <rect x=\"0\" y=\"0\" width=\"2400\" height=\"1600\"/>\n",
       "  </clipPath>\n",
       "</defs>\n",
       "<path clip-path=\"url(#clip230)\" d=\"\n",
       "M0 1600 L2400 1600 L2400 0 L0 0  Z\n",
       "  \" fill=\"#ffffff\" fill-rule=\"evenodd\" fill-opacity=\"1\"/>\n",
       "<defs>\n",
       "  <clipPath id=\"clip231\">\n",
       "    <rect x=\"480\" y=\"0\" width=\"1681\" height=\"1600\"/>\n",
       "  </clipPath>\n",
       "</defs>\n",
       "<path clip-path=\"url(#clip230)\" d=\"\n",
       "M219.866 1486.45 L2352.76 1486.45 L2352.76 47.2441 L219.866 47.2441  Z\n",
       "  \" fill=\"#ffffff\" fill-rule=\"evenodd\" fill-opacity=\"1\"/>\n",
       "<defs>\n",
       "  <clipPath id=\"clip232\">\n",
       "    <rect x=\"219\" y=\"47\" width=\"2134\" height=\"1440\"/>\n",
       "  </clipPath>\n",
       "</defs>\n",
       "<polyline clip-path=\"url(#clip232)\" style=\"stroke:#000000; stroke-linecap:butt; stroke-linejoin:round; stroke-width:2; stroke-opacity:0.1; fill:none\" points=\"\n",
       "  481.217,1486.45 481.217,47.2441 \n",
       "  \"/>\n",
       "<polyline clip-path=\"url(#clip232)\" style=\"stroke:#000000; stroke-linecap:butt; stroke-linejoin:round; stroke-width:2; stroke-opacity:0.1; fill:none\" points=\"\n",
       "  883.764,1486.45 883.764,47.2441 \n",
       "  \"/>\n",
       "<polyline clip-path=\"url(#clip232)\" style=\"stroke:#000000; stroke-linecap:butt; stroke-linejoin:round; stroke-width:2; stroke-opacity:0.1; fill:none\" points=\"\n",
       "  1286.31,1486.45 1286.31,47.2441 \n",
       "  \"/>\n",
       "<polyline clip-path=\"url(#clip232)\" style=\"stroke:#000000; stroke-linecap:butt; stroke-linejoin:round; stroke-width:2; stroke-opacity:0.1; fill:none\" points=\"\n",
       "  1688.86,1486.45 1688.86,47.2441 \n",
       "  \"/>\n",
       "<polyline clip-path=\"url(#clip232)\" style=\"stroke:#000000; stroke-linecap:butt; stroke-linejoin:round; stroke-width:2; stroke-opacity:0.1; fill:none\" points=\"\n",
       "  2091.41,1486.45 2091.41,47.2441 \n",
       "  \"/>\n",
       "<polyline clip-path=\"url(#clip230)\" style=\"stroke:#000000; stroke-linecap:butt; stroke-linejoin:round; stroke-width:4; stroke-opacity:1; fill:none\" points=\"\n",
       "  219.866,1486.45 2352.76,1486.45 \n",
       "  \"/>\n",
       "<polyline clip-path=\"url(#clip230)\" style=\"stroke:#000000; stroke-linecap:butt; stroke-linejoin:round; stroke-width:4; stroke-opacity:1; fill:none\" points=\"\n",
       "  481.217,1486.45 481.217,1467.55 \n",
       "  \"/>\n",
       "<polyline clip-path=\"url(#clip230)\" style=\"stroke:#000000; stroke-linecap:butt; stroke-linejoin:round; stroke-width:4; stroke-opacity:1; fill:none\" points=\"\n",
       "  883.764,1486.45 883.764,1467.55 \n",
       "  \"/>\n",
       "<polyline clip-path=\"url(#clip230)\" style=\"stroke:#000000; stroke-linecap:butt; stroke-linejoin:round; stroke-width:4; stroke-opacity:1; fill:none\" points=\"\n",
       "  1286.31,1486.45 1286.31,1467.55 \n",
       "  \"/>\n",
       "<polyline clip-path=\"url(#clip230)\" style=\"stroke:#000000; stroke-linecap:butt; stroke-linejoin:round; stroke-width:4; stroke-opacity:1; fill:none\" points=\"\n",
       "  1688.86,1486.45 1688.86,1467.55 \n",
       "  \"/>\n",
       "<polyline clip-path=\"url(#clip230)\" style=\"stroke:#000000; stroke-linecap:butt; stroke-linejoin:round; stroke-width:4; stroke-opacity:1; fill:none\" points=\"\n",
       "  2091.41,1486.45 2091.41,1467.55 \n",
       "  \"/>\n",
       "<path clip-path=\"url(#clip230)\" d=\"M450.117 1532.02 L479.793 1532.02 L479.793 1535.95 L450.117 1535.95 L450.117 1532.02 Z\" fill=\"#000000\" fill-rule=\"evenodd\" fill-opacity=\"1\" /><path clip-path=\"url(#clip230)\" d=\"M502.733 1518.36 L490.927 1536.81 L502.733 1536.81 L502.733 1518.36 M501.506 1514.29 L507.385 1514.29 L507.385 1536.81 L512.316 1536.81 L512.316 1540.7 L507.385 1540.7 L507.385 1548.85 L502.733 1548.85 L502.733 1540.7 L487.131 1540.7 L487.131 1536.19 L501.506 1514.29 Z\" fill=\"#000000\" fill-rule=\"evenodd\" fill-opacity=\"1\" /><path clip-path=\"url(#clip230)\" d=\"M853.706 1532.02 L883.382 1532.02 L883.382 1535.95 L853.706 1535.95 L853.706 1532.02 Z\" fill=\"#000000\" fill-rule=\"evenodd\" fill-opacity=\"1\" /><path clip-path=\"url(#clip230)\" d=\"M897.502 1544.91 L913.822 1544.91 L913.822 1548.85 L891.877 1548.85 L891.877 1544.91 Q894.539 1542.16 899.123 1537.53 Q903.729 1532.88 904.91 1531.53 Q907.155 1529.01 908.035 1527.27 Q908.937 1525.51 908.937 1523.82 Q908.937 1521.07 906.993 1519.33 Q905.072 1517.6 901.97 1517.6 Q899.771 1517.6 897.317 1518.36 Q894.886 1519.13 892.109 1520.68 L892.109 1515.95 Q894.933 1514.82 897.386 1514.24 Q899.84 1513.66 901.877 1513.66 Q907.248 1513.66 910.442 1516.35 Q913.636 1519.03 913.636 1523.52 Q913.636 1525.65 912.826 1527.57 Q912.039 1529.47 909.933 1532.07 Q909.354 1532.74 906.252 1535.95 Q903.15 1539.15 897.502 1544.91 Z\" fill=\"#000000\" fill-rule=\"evenodd\" fill-opacity=\"1\" /><path clip-path=\"url(#clip230)\" d=\"M1286.31 1517.37 Q1282.7 1517.37 1280.87 1520.93 Q1279.07 1524.47 1279.07 1531.6 Q1279.07 1538.71 1280.87 1542.27 Q1282.7 1545.82 1286.31 1545.82 Q1289.95 1545.82 1291.75 1542.27 Q1293.58 1538.71 1293.58 1531.6 Q1293.58 1524.47 1291.75 1520.93 Q1289.95 1517.37 1286.31 1517.37 M1286.31 1513.66 Q1292.12 1513.66 1295.18 1518.27 Q1298.26 1522.85 1298.26 1531.6 Q1298.26 1540.33 1295.18 1544.94 Q1292.12 1549.52 1286.31 1549.52 Q1280.5 1549.52 1277.42 1544.94 Q1274.37 1540.33 1274.37 1531.6 Q1274.37 1522.85 1277.42 1518.27 Q1280.5 1513.66 1286.31 1513.66 Z\" fill=\"#000000\" fill-rule=\"evenodd\" fill-opacity=\"1\" /><path clip-path=\"url(#clip230)\" d=\"M1683.51 1544.91 L1699.83 1544.91 L1699.83 1548.85 L1677.89 1548.85 L1677.89 1544.91 Q1680.55 1542.16 1685.13 1537.53 Q1689.74 1532.88 1690.92 1531.53 Q1693.16 1529.01 1694.04 1527.27 Q1694.95 1525.51 1694.95 1523.82 Q1694.95 1521.07 1693 1519.33 Q1691.08 1517.6 1687.98 1517.6 Q1685.78 1517.6 1683.33 1518.36 Q1680.9 1519.13 1678.12 1520.68 L1678.12 1515.95 Q1680.94 1514.82 1683.4 1514.24 Q1685.85 1513.66 1687.89 1513.66 Q1693.26 1513.66 1696.45 1516.35 Q1699.65 1519.03 1699.65 1523.52 Q1699.65 1525.65 1698.84 1527.57 Q1698.05 1529.47 1695.94 1532.07 Q1695.36 1532.74 1692.26 1535.95 Q1689.16 1539.15 1683.51 1544.91 Z\" fill=\"#000000\" fill-rule=\"evenodd\" fill-opacity=\"1\" /><path clip-path=\"url(#clip230)\" d=\"M2094.41 1518.36 L2082.61 1536.81 L2094.41 1536.81 L2094.41 1518.36 M2093.19 1514.29 L2099.07 1514.29 L2099.07 1536.81 L2104 1536.81 L2104 1540.7 L2099.07 1540.7 L2099.07 1548.85 L2094.41 1548.85 L2094.41 1540.7 L2078.81 1540.7 L2078.81 1536.19 L2093.19 1514.29 Z\" fill=\"#000000\" fill-rule=\"evenodd\" fill-opacity=\"1\" /><polyline clip-path=\"url(#clip232)\" style=\"stroke:#000000; stroke-linecap:butt; stroke-linejoin:round; stroke-width:2; stroke-opacity:0.1; fill:none\" points=\"\n",
       "  219.866,1445.72 2352.76,1445.72 \n",
       "  \"/>\n",
       "<polyline clip-path=\"url(#clip232)\" style=\"stroke:#000000; stroke-linecap:butt; stroke-linejoin:round; stroke-width:2; stroke-opacity:0.1; fill:none\" points=\"\n",
       "  219.866,1115.96 2352.76,1115.96 \n",
       "  \"/>\n",
       "<polyline clip-path=\"url(#clip232)\" style=\"stroke:#000000; stroke-linecap:butt; stroke-linejoin:round; stroke-width:2; stroke-opacity:0.1; fill:none\" points=\"\n",
       "  219.866,786.205 2352.76,786.205 \n",
       "  \"/>\n",
       "<polyline clip-path=\"url(#clip232)\" style=\"stroke:#000000; stroke-linecap:butt; stroke-linejoin:round; stroke-width:2; stroke-opacity:0.1; fill:none\" points=\"\n",
       "  219.866,456.45 2352.76,456.45 \n",
       "  \"/>\n",
       "<polyline clip-path=\"url(#clip232)\" style=\"stroke:#000000; stroke-linecap:butt; stroke-linejoin:round; stroke-width:2; stroke-opacity:0.1; fill:none\" points=\"\n",
       "  219.866,126.694 2352.76,126.694 \n",
       "  \"/>\n",
       "<polyline clip-path=\"url(#clip230)\" style=\"stroke:#000000; stroke-linecap:butt; stroke-linejoin:round; stroke-width:4; stroke-opacity:1; fill:none\" points=\"\n",
       "  219.866,1486.45 219.866,47.2441 \n",
       "  \"/>\n",
       "<polyline clip-path=\"url(#clip230)\" style=\"stroke:#000000; stroke-linecap:butt; stroke-linejoin:round; stroke-width:4; stroke-opacity:1; fill:none\" points=\"\n",
       "  219.866,1445.72 238.764,1445.72 \n",
       "  \"/>\n",
       "<polyline clip-path=\"url(#clip230)\" style=\"stroke:#000000; stroke-linecap:butt; stroke-linejoin:round; stroke-width:4; stroke-opacity:1; fill:none\" points=\"\n",
       "  219.866,1115.96 238.764,1115.96 \n",
       "  \"/>\n",
       "<polyline clip-path=\"url(#clip230)\" style=\"stroke:#000000; stroke-linecap:butt; stroke-linejoin:round; stroke-width:4; stroke-opacity:1; fill:none\" points=\"\n",
       "  219.866,786.205 238.764,786.205 \n",
       "  \"/>\n",
       "<polyline clip-path=\"url(#clip230)\" style=\"stroke:#000000; stroke-linecap:butt; stroke-linejoin:round; stroke-width:4; stroke-opacity:1; fill:none\" points=\"\n",
       "  219.866,456.45 238.764,456.45 \n",
       "  \"/>\n",
       "<polyline clip-path=\"url(#clip230)\" style=\"stroke:#000000; stroke-linecap:butt; stroke-linejoin:round; stroke-width:4; stroke-opacity:1; fill:none\" points=\"\n",
       "  219.866,126.694 238.764,126.694 \n",
       "  \"/>\n",
       "<path clip-path=\"url(#clip230)\" d=\"M126.691 1431.51 Q123.08 1431.51 121.251 1435.08 Q119.445 1438.62 119.445 1445.75 Q119.445 1452.86 121.251 1456.42 Q123.08 1459.96 126.691 1459.96 Q130.325 1459.96 132.13 1456.42 Q133.959 1452.86 133.959 1445.75 Q133.959 1438.62 132.13 1435.08 Q130.325 1431.51 126.691 1431.51 M126.691 1427.81 Q132.501 1427.81 135.556 1432.42 Q138.635 1437 138.635 1445.75 Q138.635 1454.48 135.556 1459.08 Q132.501 1463.67 126.691 1463.67 Q120.88 1463.67 117.802 1459.08 Q114.746 1454.48 114.746 1445.75 Q114.746 1437 117.802 1432.42 Q120.88 1427.81 126.691 1427.81 Z\" fill=\"#000000\" fill-rule=\"evenodd\" fill-opacity=\"1\" /><path clip-path=\"url(#clip230)\" d=\"M146.853 1457.12 L151.737 1457.12 L151.737 1463 L146.853 1463 L146.853 1457.12 Z\" fill=\"#000000\" fill-rule=\"evenodd\" fill-opacity=\"1\" /><path clip-path=\"url(#clip230)\" d=\"M171.922 1431.51 Q168.311 1431.51 166.482 1435.08 Q164.677 1438.62 164.677 1445.75 Q164.677 1452.86 166.482 1456.42 Q168.311 1459.96 171.922 1459.96 Q175.556 1459.96 177.362 1456.42 Q179.19 1452.86 179.19 1445.75 Q179.19 1438.62 177.362 1435.08 Q175.556 1431.51 171.922 1431.51 M171.922 1427.81 Q177.732 1427.81 180.788 1432.42 Q183.866 1437 183.866 1445.75 Q183.866 1454.48 180.788 1459.08 Q177.732 1463.67 171.922 1463.67 Q166.112 1463.67 163.033 1459.08 Q159.978 1454.48 159.978 1445.75 Q159.978 1437 163.033 1432.42 Q166.112 1427.81 171.922 1427.81 Z\" fill=\"#000000\" fill-rule=\"evenodd\" fill-opacity=\"1\" /><path clip-path=\"url(#clip230)\" d=\"M127.917 1101.76 Q124.306 1101.76 122.478 1105.32 Q120.672 1108.87 120.672 1116 Q120.672 1123.1 122.478 1126.67 Q124.306 1130.21 127.917 1130.21 Q131.552 1130.21 133.357 1126.67 Q135.186 1123.1 135.186 1116 Q135.186 1108.87 133.357 1105.32 Q131.552 1101.76 127.917 1101.76 M127.917 1098.06 Q133.728 1098.06 136.783 1102.66 Q139.862 1107.25 139.862 1116 Q139.862 1124.72 136.783 1129.33 Q133.728 1133.91 127.917 1133.91 Q122.107 1133.91 119.029 1129.33 Q115.973 1124.72 115.973 1116 Q115.973 1107.25 119.029 1102.66 Q122.107 1098.06 127.917 1098.06 Z\" fill=\"#000000\" fill-rule=\"evenodd\" fill-opacity=\"1\" /><path clip-path=\"url(#clip230)\" d=\"M148.079 1127.36 L152.964 1127.36 L152.964 1133.24 L148.079 1133.24 L148.079 1127.36 Z\" fill=\"#000000\" fill-rule=\"evenodd\" fill-opacity=\"1\" /><path clip-path=\"url(#clip230)\" d=\"M163.959 1129.31 L171.598 1129.31 L171.598 1102.94 L163.288 1104.61 L163.288 1100.35 L171.552 1098.68 L176.227 1098.68 L176.227 1129.31 L183.866 1129.31 L183.866 1133.24 L163.959 1133.24 L163.959 1129.31 Z\" fill=\"#000000\" fill-rule=\"evenodd\" fill-opacity=\"1\" /><path clip-path=\"url(#clip230)\" d=\"M128.288 772.004 Q124.677 772.004 122.848 775.569 Q121.043 779.11 121.043 786.24 Q121.043 793.346 122.848 796.911 Q124.677 800.453 128.288 800.453 Q131.922 800.453 133.728 796.911 Q135.556 793.346 135.556 786.24 Q135.556 779.11 133.728 775.569 Q131.922 772.004 128.288 772.004 M128.288 768.3 Q134.098 768.3 137.154 772.907 Q140.232 777.49 140.232 786.24 Q140.232 794.967 137.154 799.573 Q134.098 804.156 128.288 804.156 Q122.478 804.156 119.399 799.573 Q116.343 794.967 116.343 786.24 Q116.343 777.49 119.399 772.907 Q122.478 768.3 128.288 768.3 Z\" fill=\"#000000\" fill-rule=\"evenodd\" fill-opacity=\"1\" /><path clip-path=\"url(#clip230)\" d=\"M148.45 797.605 L153.334 797.605 L153.334 803.485 L148.45 803.485 L148.45 797.605 Z\" fill=\"#000000\" fill-rule=\"evenodd\" fill-opacity=\"1\" /><path clip-path=\"url(#clip230)\" d=\"M167.547 799.55 L183.866 799.55 L183.866 803.485 L161.922 803.485 L161.922 799.55 Q164.584 796.795 169.167 792.166 Q173.774 787.513 174.954 786.17 Q177.2 783.647 178.079 781.911 Q178.982 780.152 178.982 778.462 Q178.982 775.707 177.038 773.971 Q175.116 772.235 172.014 772.235 Q169.815 772.235 167.362 772.999 Q164.931 773.763 162.153 775.314 L162.153 770.592 Q164.977 769.457 167.431 768.879 Q169.885 768.3 171.922 768.3 Q177.292 768.3 180.487 770.985 Q183.681 773.67 183.681 778.161 Q183.681 780.291 182.871 782.212 Q182.084 784.11 179.977 786.703 Q179.399 787.374 176.297 790.592 Q173.195 793.786 167.547 799.55 Z\" fill=\"#000000\" fill-rule=\"evenodd\" fill-opacity=\"1\" /><path clip-path=\"url(#clip230)\" d=\"M127.339 442.248 Q123.728 442.248 121.899 445.813 Q120.093 449.355 120.093 456.485 Q120.093 463.591 121.899 467.156 Q123.728 470.697 127.339 470.697 Q130.973 470.697 132.779 467.156 Q134.607 463.591 134.607 456.485 Q134.607 449.355 132.779 445.813 Q130.973 442.248 127.339 442.248 M127.339 438.545 Q133.149 438.545 136.204 443.151 Q139.283 447.735 139.283 456.485 Q139.283 465.211 136.204 469.818 Q133.149 474.401 127.339 474.401 Q121.529 474.401 118.45 469.818 Q115.394 465.211 115.394 456.485 Q115.394 447.735 118.45 443.151 Q121.529 438.545 127.339 438.545 Z\" fill=\"#000000\" fill-rule=\"evenodd\" fill-opacity=\"1\" /><path clip-path=\"url(#clip230)\" d=\"M147.501 467.85 L152.385 467.85 L152.385 473.73 L147.501 473.73 L147.501 467.85 Z\" fill=\"#000000\" fill-rule=\"evenodd\" fill-opacity=\"1\" /><path clip-path=\"url(#clip230)\" d=\"M176.737 455.096 Q180.093 455.813 181.968 458.082 Q183.866 460.35 183.866 463.684 Q183.866 468.799 180.348 471.6 Q176.829 474.401 170.348 474.401 Q168.172 474.401 165.857 473.961 Q163.565 473.545 161.112 472.688 L161.112 468.174 Q163.056 469.309 165.371 469.887 Q167.686 470.466 170.209 470.466 Q174.607 470.466 176.899 468.73 Q179.214 466.994 179.214 463.684 Q179.214 460.628 177.061 458.915 Q174.931 457.179 171.112 457.179 L167.084 457.179 L167.084 453.336 L171.297 453.336 Q174.746 453.336 176.575 451.971 Q178.403 450.582 178.403 447.989 Q178.403 445.327 176.505 443.915 Q174.63 442.48 171.112 442.48 Q169.19 442.48 166.991 442.897 Q164.792 443.313 162.153 444.193 L162.153 440.026 Q164.815 439.286 167.13 438.915 Q169.468 438.545 171.528 438.545 Q176.852 438.545 179.954 440.975 Q183.056 443.383 183.056 447.503 Q183.056 450.373 181.413 452.364 Q179.769 454.332 176.737 455.096 Z\" fill=\"#000000\" fill-rule=\"evenodd\" fill-opacity=\"1\" /><path clip-path=\"url(#clip230)\" d=\"M126.205 112.493 Q122.593 112.493 120.765 116.058 Q118.959 119.6 118.959 126.729 Q118.959 133.836 120.765 137.4 Q122.593 140.942 126.205 140.942 Q129.839 140.942 131.644 137.4 Q133.473 133.836 133.473 126.729 Q133.473 119.6 131.644 116.058 Q129.839 112.493 126.205 112.493 M126.205 108.789 Q132.015 108.789 135.07 113.396 Q138.149 117.979 138.149 126.729 Q138.149 135.456 135.07 140.062 Q132.015 144.646 126.205 144.646 Q120.394 144.646 117.316 140.062 Q114.26 135.456 114.26 126.729 Q114.26 117.979 117.316 113.396 Q120.394 108.789 126.205 108.789 Z\" fill=\"#000000\" fill-rule=\"evenodd\" fill-opacity=\"1\" /><path clip-path=\"url(#clip230)\" d=\"M146.366 138.095 L151.251 138.095 L151.251 143.974 L146.366 143.974 L146.366 138.095 Z\" fill=\"#000000\" fill-rule=\"evenodd\" fill-opacity=\"1\" /><path clip-path=\"url(#clip230)\" d=\"M174.283 113.489 L162.477 131.938 L174.283 131.938 L174.283 113.489 M173.056 109.414 L178.936 109.414 L178.936 131.938 L183.866 131.938 L183.866 135.826 L178.936 135.826 L178.936 143.974 L174.283 143.974 L174.283 135.826 L158.681 135.826 L158.681 131.313 L173.056 109.414 Z\" fill=\"#000000\" fill-rule=\"evenodd\" fill-opacity=\"1\" /><path clip-path=\"url(#clip230)\" d=\"M58.5933 948.698 L58.5933 926.259 L64.0042 926.259 L64.0042 956.433 L58.5933 956.433 Q54.8057 952.772 48.44 946.47 Q42.0425 940.136 40.1964 938.513 Q36.7271 935.426 34.34 934.216 Q31.921 932.975 29.5975 932.975 Q25.8099 932.975 23.4228 935.649 Q21.0356 938.29 21.0356 942.555 Q21.0356 945.579 22.086 948.953 Q23.1363 952.295 25.2688 956.114 L18.7758 956.114 Q17.2162 952.231 16.4205 948.857 Q15.6248 945.484 15.6248 942.683 Q15.6248 935.298 19.3169 930.906 Q23.009 926.514 29.1837 926.514 Q32.112 926.514 34.7537 927.628 Q37.3637 928.71 40.9285 931.606 Q41.8515 932.402 46.2757 936.667 Q50.668 940.932 58.5933 948.698 Z\" fill=\"#000000\" fill-rule=\"evenodd\" fill-opacity=\"1\" /><path clip-path=\"url(#clip230)\" d=\"M22.086 895.099 L47.4533 911.332 L47.4533 895.099 L22.086 895.099 M16.4842 896.786 L16.4842 888.702 L47.4533 888.702 L47.4533 881.922 L52.8005 881.922 L52.8005 888.702 L64.0042 888.702 L64.0042 895.099 L52.8005 895.099 L52.8005 916.551 L46.5939 916.551 L16.4842 896.786 Z\" fill=\"#000000\" fill-rule=\"evenodd\" fill-opacity=\"1\" /><path clip-path=\"url(#clip230)\" d=\"M58.5933 870.177 L58.5933 859.674 L22.3406 859.674 L24.6323 871.1 L18.7758 871.1 L16.4842 859.738 L16.4842 853.308 L58.5933 853.308 L58.5933 842.805 L64.0042 842.805 L64.0042 870.177 L58.5933 870.177 Z\" fill=\"#000000\" fill-rule=\"evenodd\" fill-opacity=\"1\" /><path clip-path=\"url(#clip230)\" d=\"M38.3822 810.34 Q39.3689 805.725 42.4881 803.146 Q45.6073 800.536 50.1906 800.536 Q57.2247 800.536 61.0759 805.374 Q64.9272 810.212 64.9272 819.124 Q64.9272 822.116 64.3224 825.299 Q63.7495 828.45 62.5719 831.824 L56.3653 831.824 Q57.9249 829.15 58.7206 825.967 Q59.5163 822.785 59.5163 819.315 Q59.5163 813.268 57.1292 810.117 Q54.7421 806.934 50.1906 806.934 Q45.9892 806.934 43.6339 809.894 Q41.2468 812.822 41.2468 818.074 L41.2468 823.612 L35.9632 823.612 L35.9632 817.819 Q35.9632 813.077 34.0853 810.562 Q32.1756 808.048 28.6108 808.048 Q24.9505 808.048 23.009 810.658 Q21.0356 813.236 21.0356 818.074 Q21.0356 820.716 21.6086 823.739 Q22.1815 826.763 23.3909 830.392 L17.6618 830.392 Q16.6433 826.731 16.134 823.549 Q15.6248 820.334 15.6248 817.501 Q15.6248 810.181 18.9668 805.916 Q22.277 801.65 27.9424 801.65 Q31.8892 801.65 34.6264 803.91 Q37.3318 806.17 38.3822 810.34 Z\" fill=\"#000000\" fill-rule=\"evenodd\" fill-opacity=\"1\" /><path clip-path=\"url(#clip230)\" d=\"M43.5384 792.134 L43.5384 774.978 L48.7583 774.978 L48.7583 792.134 L43.5384 792.134 Z\" fill=\"#000000\" fill-rule=\"evenodd\" fill-opacity=\"1\" /><path clip-path=\"url(#clip230)\" d=\"M18.2347 759.86 L28.3562 759.86 L28.3562 747.797 L32.9077 747.797 L32.9077 759.86 L52.2594 759.86 Q56.6199 759.86 57.8613 758.682 Q59.1026 757.472 59.1026 753.812 L59.1026 747.797 L64.0042 747.797 L64.0042 753.812 Q64.0042 760.592 61.4897 763.17 Q58.9434 765.748 52.2594 765.748 L32.9077 765.748 L32.9077 770.045 L28.3562 770.045 L28.3562 765.748 L18.2347 765.748 L18.2347 759.86 Z\" fill=\"#000000\" fill-rule=\"evenodd\" fill-opacity=\"1\" /><path clip-path=\"url(#clip230)\" d=\"M42.4881 710.462 L64.0042 710.462 L64.0042 716.318 L42.679 716.318 Q37.6183 716.318 35.1038 718.292 Q32.5894 720.265 32.5894 724.212 Q32.5894 728.954 35.6131 731.691 Q38.6368 734.429 43.8567 734.429 L64.0042 734.429 L64.0042 740.317 L14.479 740.317 L14.479 734.429 L33.8944 734.429 Q30.6797 732.328 29.0883 729.495 Q27.4968 726.631 27.4968 722.907 Q27.4968 716.764 31.3163 713.613 Q35.1038 710.462 42.4881 710.462 Z\" fill=\"#000000\" fill-rule=\"evenodd\" fill-opacity=\"1\" /><path clip-path=\"url(#clip230)\" d=\"M58.657 672.395 L77.5631 672.395 L77.5631 678.283 L28.3562 678.283 L28.3562 672.395 L33.7671 672.395 Q30.5842 670.549 29.0564 667.748 Q27.4968 664.915 27.4968 661 Q27.4968 654.507 32.6531 650.465 Q37.8093 646.391 46.212 646.391 Q54.6147 646.391 59.771 650.465 Q64.9272 654.507 64.9272 661 Q64.9272 664.915 63.3994 667.748 Q61.8398 670.549 58.657 672.395 M46.212 652.47 Q39.7508 652.47 36.0905 655.144 Q32.3984 657.786 32.3984 662.432 Q32.3984 667.079 36.0905 669.753 Q39.7508 672.395 46.212 672.395 Q52.6732 672.395 56.3653 669.753 Q60.0256 667.079 60.0256 662.432 Q60.0256 657.786 56.3653 655.144 Q52.6732 652.47 46.212 652.47 Z\" fill=\"#000000\" fill-rule=\"evenodd\" fill-opacity=\"1\" /><path clip-path=\"url(#clip230)\" d=\"M33.7671 613.226 L14.479 613.226 L14.479 607.369 L64.0042 607.369 L64.0042 613.226 L58.657 613.226 Q61.8398 615.072 63.3994 617.904 Q64.9272 620.705 64.9272 624.652 Q64.9272 631.113 59.771 635.187 Q54.6147 639.229 46.212 639.229 Q37.8093 639.229 32.6531 635.187 Q27.4968 631.113 27.4968 624.652 Q27.4968 620.705 29.0564 617.904 Q30.5842 615.072 33.7671 613.226 M46.212 633.182 Q52.6732 633.182 56.3653 630.54 Q60.0256 627.867 60.0256 623.22 Q60.0256 618.573 56.3653 615.899 Q52.6732 613.226 46.212 613.226 Q39.7508 613.226 36.0905 615.899 Q32.3984 618.573 32.3984 623.22 Q32.3984 627.867 36.0905 630.54 Q39.7508 633.182 46.212 633.182 Z\" fill=\"#000000\" fill-rule=\"evenodd\" fill-opacity=\"1\" /><path clip-path=\"url(#clip230)\" d=\"M14.479 577.259 L19.3487 577.259 L19.3487 582.861 Q19.3487 586.012 20.6219 587.253 Q21.895 588.463 25.2052 588.463 L28.3562 588.463 L28.3562 578.819 L32.9077 578.819 L32.9077 588.463 L64.0042 588.463 L64.0042 594.351 L32.9077 594.351 L32.9077 599.953 L28.3562 599.953 L28.3562 594.351 L25.8736 594.351 Q19.9216 594.351 17.2162 591.582 Q14.479 588.813 14.479 582.797 L14.479 577.259 Z\" fill=\"#000000\" fill-rule=\"evenodd\" fill-opacity=\"1\" /><polyline clip-path=\"url(#clip232)\" style=\"stroke:#009af9; stroke-linecap:butt; stroke-linejoin:round; stroke-width:4; stroke-opacity:1; fill:none\" points=\"\n",
       "  280.231,1445.72 281.461,1445.72 283.671,1445.72 286.862,1445.72 291.029,1445.72 296.168,1445.72 302.275,1445.72 309.343,1445.72 317.366,1445.72 326.336,1445.72 \n",
       "  336.243,1445.72 347.079,1445.72 358.833,1445.72 371.493,1445.72 385.046,1445.72 399.481,1445.72 414.782,1445.72 430.934,1445.72 447.922,1445.72 465.729,1445.72 \n",
       "  484.338,1445.72 503.731,1445.72 523.888,1445.72 544.791,1445.72 566.418,1445.71 588.748,1445.7 611.76,1445.58 635.431,1444.85 659.737,1441.8 684.656,1432.72 \n",
       "  710.163,1412.69 736.233,1378.47 762.841,1331.15 789.959,1275.78 817.563,1218.35 845.625,1162.85 874.118,1110.14 903.013,1058.56 932.282,1005.04 961.898,946.089 \n",
       "  991.83,878.56 1022.05,800.111 1052.53,709.726 1083.24,608.232 1114.14,498.788 1145.22,387.108 1176.43,281.171 1207.75,190.259 1239.14,123.451 1270.58,87.9763 \n",
       "  1302.04,88.0048 1333.48,124.289 1364.88,194.711 1396.2,295.376 1427.41,421.632 1458.48,568.471 1489.39,729.984 1520.09,898.055 1550.57,1061.21 1580.79,1205.16 \n",
       "  1610.72,1316.57 1640.34,1388.93 1669.61,1426.38 1698.5,1440.94 1727,1444.92 1755.06,1445.63 1782.66,1445.71 1809.78,1445.72 1836.39,1445.72 1862.46,1445.72 \n",
       "  1887.97,1445.72 1912.88,1445.72 1937.19,1445.72 1960.86,1445.72 1983.87,1445.72 2006.2,1445.72 2027.83,1445.72 2048.73,1445.72 2068.89,1445.72 2088.28,1445.72 \n",
       "  2106.89,1445.72 2124.7,1445.72 2141.69,1445.72 2157.84,1445.72 2173.14,1445.72 2187.58,1445.72 2201.13,1445.72 2213.79,1445.72 2225.54,1445.72 2236.38,1445.72 \n",
       "  2246.29,1445.72 2255.26,1445.72 2263.28,1445.72 2270.35,1445.72 2276.45,1445.72 2281.59,1445.72 2285.76,1445.72 2288.95,1445.72 2291.16,1445.72 2292.39,1445.72 \n",
       "  \n",
       "  \"/>\n",
       "<path clip-path=\"url(#clip230)\" d=\"\n",
       "M1992.24 198.898 L2281.66 198.898 L2281.66 95.2176 L1992.24 95.2176  Z\n",
       "  \" fill=\"#ffffff\" fill-rule=\"evenodd\" fill-opacity=\"1\"/>\n",
       "<polyline clip-path=\"url(#clip230)\" style=\"stroke:#000000; stroke-linecap:butt; stroke-linejoin:round; stroke-width:4; stroke-opacity:1; fill:none\" points=\"\n",
       "  1992.24,198.898 2281.66,198.898 2281.66,95.2176 1992.24,95.2176 1992.24,198.898 \n",
       "  \"/>\n",
       "<polyline clip-path=\"url(#clip230)\" style=\"stroke:#009af9; stroke-linecap:butt; stroke-linejoin:round; stroke-width:4; stroke-opacity:1; fill:none\" points=\"\n",
       "  2015.94,147.058 2158.13,147.058 \n",
       "  \"/>\n",
       "<path clip-path=\"url(#clip230)\" d=\"M2195.67 166.745 Q2193.87 171.375 2192.16 172.787 Q2190.44 174.199 2187.57 174.199 L2184.17 174.199 L2184.17 170.634 L2186.67 170.634 Q2188.43 170.634 2189.4 169.8 Q2190.37 168.967 2191.55 165.865 L2192.32 163.921 L2181.83 138.412 L2186.35 138.412 L2194.45 158.689 L2202.55 138.412 L2207.06 138.412 L2195.67 166.745 Z\" fill=\"#000000\" fill-rule=\"evenodd\" fill-opacity=\"1\" /><path clip-path=\"url(#clip230)\" d=\"M2214.35 160.402 L2221.99 160.402 L2221.99 134.037 L2213.68 135.703 L2213.68 131.444 L2221.95 129.778 L2226.62 129.778 L2226.62 160.402 L2234.26 160.402 L2234.26 164.338 L2214.35 164.338 L2214.35 160.402 Z\" fill=\"#000000\" fill-rule=\"evenodd\" fill-opacity=\"1\" /></svg>\n"
      ]
     },
     "execution_count": 208,
     "metadata": {},
     "output_type": "execute_result"
    }
   ],
   "source": [
    "idx = Int(floor(rand() * size(X, 2)))\n",
    "plot(data[1], data[idx], ylabel=\"$(idx)-th pdf\")"
   ]
  },
  {
   "cell_type": "markdown",
   "metadata": {},
   "source": [
    "### Model"
   ]
  },
  {
   "cell_type": "code",
   "execution_count": 224,
   "metadata": {},
   "outputs": [
    {
     "data": {
      "text/plain": [
       "1-element Vector{Symbol}:\n",
       " :nn"
      ]
     },
     "execution_count": 224,
     "metadata": {},
     "output_type": "execute_result"
    }
   ],
   "source": [
    "@load \"../nn.jld2\" nn"
   ]
  },
  {
   "cell_type": "code",
   "execution_count": 261,
   "metadata": {},
   "outputs": [
    {
     "data": {
      "text/plain": [
       "0.9423333333333334"
      ]
     },
     "execution_count": 261,
     "metadata": {},
     "output_type": "execute_result"
    }
   ],
   "source": [
    "accuracy(nn, X, Y)"
   ]
  },
  {
   "cell_type": "code",
   "execution_count": 262,
   "metadata": {},
   "outputs": [
    {
     "data": {
      "text/plain": [
       "ADAM(0.001, (0.9, 0.999), IdDict{Any, Any}())"
      ]
     },
     "execution_count": 262,
     "metadata": {},
     "output_type": "execute_result"
    }
   ],
   "source": [
    "data = Flux.Data.DataLoader((X, Y), shuffle = true)\n",
    "ps = Flux.params(nn)\n",
    "sqnorm(x) = sum(abs2, x)\n",
    "loss(x, y) = sum(abs2, nn(x) - y) / size(x, 2) #+ 1e-6 * sum(sqnorm, ps)\n",
    "cb = () -> println(\"loss: $(loss(X, Y))\")\n",
    "opt = ADAM()"
   ]
  },
  {
   "cell_type": "code",
   "execution_count": 263,
   "metadata": {
    "scrolled": true
   },
   "outputs": [
    {
     "name": "stderr",
     "output_type": "stream",
     "text": [
      "┌ Info: Epoch 1\n",
      "└ @ Main /home2/vavrines/.julia/packages/Flux/BPPNj/src/optimise/train.jl:138\n"
     ]
    },
    {
     "name": "stdout",
     "output_type": "stream",
     "text": [
      "loss: 0.10570831551668361\n",
      "loss: 0.10335545363912388\n"
     ]
    },
    {
     "name": "stderr",
     "output_type": "stream",
     "text": [
      "┌ Info: Epoch 2\n",
      "└ @ Main /home2/vavrines/.julia/packages/Flux/BPPNj/src/optimise/train.jl:138\n"
     ]
    },
    {
     "name": "stdout",
     "output_type": "stream",
     "text": [
      "loss: 0.09952715330333488\n"
     ]
    },
    {
     "name": "stderr",
     "output_type": "stream",
     "text": [
      "┌ Info: Epoch 3\n",
      "└ @ Main /home2/vavrines/.julia/packages/Flux/BPPNj/src/optimise/train.jl:138\n"
     ]
    },
    {
     "name": "stdout",
     "output_type": "stream",
     "text": [
      "loss: 0.10037609985886062\n"
     ]
    },
    {
     "name": "stderr",
     "output_type": "stream",
     "text": [
      "┌ Info: Epoch 4\n",
      "└ @ Main /home2/vavrines/.julia/packages/Flux/BPPNj/src/optimise/train.jl:138\n"
     ]
    },
    {
     "name": "stdout",
     "output_type": "stream",
     "text": [
      "loss: 0.1046458053609582\n"
     ]
    },
    {
     "name": "stderr",
     "output_type": "stream",
     "text": [
      "┌ Info: Epoch 5\n",
      "└ @ Main /home2/vavrines/.julia/packages/Flux/BPPNj/src/optimise/train.jl:138\n"
     ]
    },
    {
     "name": "stdout",
     "output_type": "stream",
     "text": [
      "loss: 0.10146299737811408\n"
     ]
    },
    {
     "name": "stderr",
     "output_type": "stream",
     "text": [
      "┌ Info: Epoch 6\n",
      "└ @ Main /home2/vavrines/.julia/packages/Flux/BPPNj/src/optimise/train.jl:138\n"
     ]
    },
    {
     "name": "stdout",
     "output_type": "stream",
     "text": [
      "loss: 0.09824401591930071\n"
     ]
    },
    {
     "name": "stderr",
     "output_type": "stream",
     "text": [
      "┌ Info: Epoch 7\n",
      "└ @ Main /home2/vavrines/.julia/packages/Flux/BPPNj/src/optimise/train.jl:138\n"
     ]
    },
    {
     "name": "stdout",
     "output_type": "stream",
     "text": [
      "loss: 0.09736370280279459\n"
     ]
    },
    {
     "name": "stderr",
     "output_type": "stream",
     "text": [
      "┌ Info: Epoch 8\n",
      "└ @ Main /home2/vavrines/.julia/packages/Flux/BPPNj/src/optimise/train.jl:138\n"
     ]
    },
    {
     "name": "stdout",
     "output_type": "stream",
     "text": [
      "loss: 0.11599570178474837\n"
     ]
    },
    {
     "name": "stderr",
     "output_type": "stream",
     "text": [
      "┌ Info: Epoch 9\n",
      "└ @ Main /home2/vavrines/.julia/packages/Flux/BPPNj/src/optimise/train.jl:138\n"
     ]
    },
    {
     "name": "stdout",
     "output_type": "stream",
     "text": [
      "loss: 0.10201713641902649\n"
     ]
    },
    {
     "name": "stderr",
     "output_type": "stream",
     "text": [
      "┌ Info: Epoch 10\n",
      "└ @ Main /home2/vavrines/.julia/packages/Flux/BPPNj/src/optimise/train.jl:138\n"
     ]
    },
    {
     "name": "stdout",
     "output_type": "stream",
     "text": [
      "loss: 0.12973952197471655\n"
     ]
    },
    {
     "name": "stderr",
     "output_type": "stream",
     "text": [
      "┌ Info: Epoch 11\n",
      "└ @ Main /home2/vavrines/.julia/packages/Flux/BPPNj/src/optimise/train.jl:138\n"
     ]
    },
    {
     "name": "stdout",
     "output_type": "stream",
     "text": [
      "loss: 0.09954605891260052\n"
     ]
    },
    {
     "name": "stderr",
     "output_type": "stream",
     "text": [
      "┌ Info: Epoch 12\n",
      "└ @ Main /home2/vavrines/.julia/packages/Flux/BPPNj/src/optimise/train.jl:138\n"
     ]
    },
    {
     "name": "stdout",
     "output_type": "stream",
     "text": [
      "loss: 0.09799180972457515\n"
     ]
    },
    {
     "name": "stderr",
     "output_type": "stream",
     "text": [
      "┌ Info: Epoch 13\n",
      "└ @ Main /home2/vavrines/.julia/packages/Flux/BPPNj/src/optimise/train.jl:138\n"
     ]
    },
    {
     "name": "stdout",
     "output_type": "stream",
     "text": [
      "loss: 0.10123553890683733\n"
     ]
    },
    {
     "name": "stderr",
     "output_type": "stream",
     "text": [
      "┌ Info: Epoch 14\n",
      "└ @ Main /home2/vavrines/.julia/packages/Flux/BPPNj/src/optimise/train.jl:138\n"
     ]
    },
    {
     "name": "stdout",
     "output_type": "stream",
     "text": [
      "loss: 0.09685225621941773\n"
     ]
    },
    {
     "name": "stderr",
     "output_type": "stream",
     "text": [
      "┌ Info: Epoch 15\n",
      "└ @ Main /home2/vavrines/.julia/packages/Flux/BPPNj/src/optimise/train.jl:138\n"
     ]
    },
    {
     "name": "stdout",
     "output_type": "stream",
     "text": [
      "loss: 0.09548397850458719\n"
     ]
    },
    {
     "name": "stderr",
     "output_type": "stream",
     "text": [
      "┌ Info: Epoch 16\n",
      "└ @ Main /home2/vavrines/.julia/packages/Flux/BPPNj/src/optimise/train.jl:138\n"
     ]
    },
    {
     "name": "stdout",
     "output_type": "stream",
     "text": [
      "loss: 0.09918320048975386\n"
     ]
    },
    {
     "name": "stderr",
     "output_type": "stream",
     "text": [
      "┌ Info: Epoch 17\n",
      "└ @ Main /home2/vavrines/.julia/packages/Flux/BPPNj/src/optimise/train.jl:138\n"
     ]
    },
    {
     "name": "stdout",
     "output_type": "stream",
     "text": [
      "loss: 0.09536554267417932\n"
     ]
    },
    {
     "name": "stderr",
     "output_type": "stream",
     "text": [
      "┌ Info: Epoch 18\n",
      "└ @ Main /home2/vavrines/.julia/packages/Flux/BPPNj/src/optimise/train.jl:138\n"
     ]
    },
    {
     "name": "stdout",
     "output_type": "stream",
     "text": [
      "loss: 0.09587485417265221\n"
     ]
    },
    {
     "name": "stderr",
     "output_type": "stream",
     "text": [
      "┌ Info: Epoch 19\n",
      "└ @ Main /home2/vavrines/.julia/packages/Flux/BPPNj/src/optimise/train.jl:138\n"
     ]
    },
    {
     "name": "stdout",
     "output_type": "stream",
     "text": [
      "loss: 0.0931199784230256\n"
     ]
    },
    {
     "name": "stderr",
     "output_type": "stream",
     "text": [
      "┌ Info: Epoch 20\n",
      "└ @ Main /home2/vavrines/.julia/packages/Flux/BPPNj/src/optimise/train.jl:138\n"
     ]
    },
    {
     "name": "stdout",
     "output_type": "stream",
     "text": [
      "loss: 0.09578479927901189\n"
     ]
    },
    {
     "name": "stderr",
     "output_type": "stream",
     "text": [
      "┌ Info: Epoch 21\n",
      "└ @ Main /home2/vavrines/.julia/packages/Flux/BPPNj/src/optimise/train.jl:138\n"
     ]
    },
    {
     "name": "stdout",
     "output_type": "stream",
     "text": [
      "loss: 0.0945617892117471\n"
     ]
    },
    {
     "name": "stderr",
     "output_type": "stream",
     "text": [
      "┌ Info: Epoch 22\n",
      "└ @ Main /home2/vavrines/.julia/packages/Flux/BPPNj/src/optimise/train.jl:138\n"
     ]
    },
    {
     "name": "stdout",
     "output_type": "stream",
     "text": [
      "loss: 0.0916508844773017\n"
     ]
    },
    {
     "name": "stderr",
     "output_type": "stream",
     "text": [
      "┌ Info: Epoch 23\n",
      "└ @ Main /home2/vavrines/.julia/packages/Flux/BPPNj/src/optimise/train.jl:138\n"
     ]
    },
    {
     "name": "stdout",
     "output_type": "stream",
     "text": [
      "loss: 0.09301302607513318\n"
     ]
    },
    {
     "name": "stderr",
     "output_type": "stream",
     "text": [
      "┌ Info: Epoch 24\n",
      "└ @ Main /home2/vavrines/.julia/packages/Flux/BPPNj/src/optimise/train.jl:138\n"
     ]
    },
    {
     "name": "stdout",
     "output_type": "stream",
     "text": [
      "loss: 0.09521776201507055\n"
     ]
    },
    {
     "name": "stderr",
     "output_type": "stream",
     "text": [
      "┌ Info: Epoch 25\n",
      "└ @ Main /home2/vavrines/.julia/packages/Flux/BPPNj/src/optimise/train.jl:138\n"
     ]
    },
    {
     "name": "stdout",
     "output_type": "stream",
     "text": [
      "loss: 0.09689473221694893\n"
     ]
    },
    {
     "name": "stderr",
     "output_type": "stream",
     "text": [
      "┌ Info: Epoch 26\n",
      "└ @ Main /home2/vavrines/.julia/packages/Flux/BPPNj/src/optimise/train.jl:138\n"
     ]
    },
    {
     "name": "stdout",
     "output_type": "stream",
     "text": [
      "loss: 0.09191884807921401\n"
     ]
    },
    {
     "name": "stderr",
     "output_type": "stream",
     "text": [
      "┌ Info: Epoch 27\n",
      "└ @ Main /home2/vavrines/.julia/packages/Flux/BPPNj/src/optimise/train.jl:138\n"
     ]
    },
    {
     "name": "stdout",
     "output_type": "stream",
     "text": [
      "loss: 0.09323244238425962\n"
     ]
    },
    {
     "name": "stderr",
     "output_type": "stream",
     "text": [
      "┌ Info: Epoch 28\n",
      "└ @ Main /home2/vavrines/.julia/packages/Flux/BPPNj/src/optimise/train.jl:138\n"
     ]
    },
    {
     "name": "stdout",
     "output_type": "stream",
     "text": [
      "loss: 0.09838615372042567\n"
     ]
    },
    {
     "name": "stderr",
     "output_type": "stream",
     "text": [
      "┌ Info: Epoch 29\n",
      "└ @ Main /home2/vavrines/.julia/packages/Flux/BPPNj/src/optimise/train.jl:138\n"
     ]
    },
    {
     "name": "stdout",
     "output_type": "stream",
     "text": [
      "loss: 0.09619492874323411\n"
     ]
    },
    {
     "name": "stderr",
     "output_type": "stream",
     "text": [
      "┌ Info: Epoch 30\n",
      "└ @ Main /home2/vavrines/.julia/packages/Flux/BPPNj/src/optimise/train.jl:138\n"
     ]
    },
    {
     "name": "stdout",
     "output_type": "stream",
     "text": [
      "loss: 0.0919083113707297\n"
     ]
    },
    {
     "name": "stderr",
     "output_type": "stream",
     "text": [
      "┌ Info: Epoch 31\n",
      "└ @ Main /home2/vavrines/.julia/packages/Flux/BPPNj/src/optimise/train.jl:138\n"
     ]
    },
    {
     "name": "stdout",
     "output_type": "stream",
     "text": [
      "loss: 0.09255374525521029\n"
     ]
    },
    {
     "name": "stderr",
     "output_type": "stream",
     "text": [
      "┌ Info: Epoch 32\n",
      "└ @ Main /home2/vavrines/.julia/packages/Flux/BPPNj/src/optimise/train.jl:138\n"
     ]
    },
    {
     "name": "stdout",
     "output_type": "stream",
     "text": [
      "loss: 0.09048212725885021\n"
     ]
    },
    {
     "name": "stderr",
     "output_type": "stream",
     "text": [
      "┌ Info: Epoch 33\n",
      "└ @ Main /home2/vavrines/.julia/packages/Flux/BPPNj/src/optimise/train.jl:138\n"
     ]
    },
    {
     "name": "stdout",
     "output_type": "stream",
     "text": [
      "loss: 0.09226827482847705\n"
     ]
    },
    {
     "name": "stderr",
     "output_type": "stream",
     "text": [
      "┌ Info: Epoch 34\n",
      "└ @ Main /home2/vavrines/.julia/packages/Flux/BPPNj/src/optimise/train.jl:138\n"
     ]
    },
    {
     "name": "stdout",
     "output_type": "stream",
     "text": [
      "loss: 0.0892775179962238\n"
     ]
    },
    {
     "name": "stderr",
     "output_type": "stream",
     "text": [
      "┌ Info: Epoch 35\n",
      "└ @ Main /home2/vavrines/.julia/packages/Flux/BPPNj/src/optimise/train.jl:138\n"
     ]
    },
    {
     "name": "stdout",
     "output_type": "stream",
     "text": [
      "loss: 0.17511650900948733\n"
     ]
    },
    {
     "name": "stderr",
     "output_type": "stream",
     "text": [
      "┌ Info: Epoch 36\n",
      "└ @ Main /home2/vavrines/.julia/packages/Flux/BPPNj/src/optimise/train.jl:138\n"
     ]
    },
    {
     "name": "stdout",
     "output_type": "stream",
     "text": [
      "loss: 0.09583736740408814\n"
     ]
    },
    {
     "name": "stderr",
     "output_type": "stream",
     "text": [
      "┌ Info: Epoch 37\n",
      "└ @ Main /home2/vavrines/.julia/packages/Flux/BPPNj/src/optimise/train.jl:138\n"
     ]
    },
    {
     "name": "stdout",
     "output_type": "stream",
     "text": [
      "loss: 0.08965129532969465\n"
     ]
    },
    {
     "name": "stderr",
     "output_type": "stream",
     "text": [
      "┌ Info: Epoch 38\n",
      "└ @ Main /home2/vavrines/.julia/packages/Flux/BPPNj/src/optimise/train.jl:138\n"
     ]
    },
    {
     "name": "stdout",
     "output_type": "stream",
     "text": [
      "loss: 0.09049989510155888\n"
     ]
    },
    {
     "name": "stderr",
     "output_type": "stream",
     "text": [
      "┌ Info: Epoch 39\n",
      "└ @ Main /home2/vavrines/.julia/packages/Flux/BPPNj/src/optimise/train.jl:138\n",
      "┌ Info: Epoch 40\n",
      "└ @ Main /home2/vavrines/.julia/packages/Flux/BPPNj/src/optimise/train.jl:138\n"
     ]
    },
    {
     "name": "stdout",
     "output_type": "stream",
     "text": [
      "loss: 0.08948841782941254\n",
      "loss: 0.08973490223008719\n"
     ]
    },
    {
     "name": "stderr",
     "output_type": "stream",
     "text": [
      "┌ Info: Epoch 41\n",
      "└ @ Main /home2/vavrines/.julia/packages/Flux/BPPNj/src/optimise/train.jl:138\n"
     ]
    },
    {
     "name": "stdout",
     "output_type": "stream",
     "text": [
      "loss: 0.08952034498933366\n"
     ]
    },
    {
     "name": "stderr",
     "output_type": "stream",
     "text": [
      "┌ Info: Epoch 42\n",
      "└ @ Main /home2/vavrines/.julia/packages/Flux/BPPNj/src/optimise/train.jl:138\n"
     ]
    },
    {
     "name": "stdout",
     "output_type": "stream",
     "text": [
      "loss: 0.09022018316278174\n"
     ]
    },
    {
     "name": "stderr",
     "output_type": "stream",
     "text": [
      "┌ Info: Epoch 43\n",
      "└ @ Main /home2/vavrines/.julia/packages/Flux/BPPNj/src/optimise/train.jl:138\n"
     ]
    },
    {
     "name": "stdout",
     "output_type": "stream",
     "text": [
      "loss: 0.1704755442249523\n"
     ]
    },
    {
     "name": "stderr",
     "output_type": "stream",
     "text": [
      "┌ Info: Epoch 44\n",
      "└ @ Main /home2/vavrines/.julia/packages/Flux/BPPNj/src/optimise/train.jl:138\n"
     ]
    },
    {
     "name": "stdout",
     "output_type": "stream",
     "text": [
      "loss: 0.1359825551879489\n"
     ]
    },
    {
     "name": "stderr",
     "output_type": "stream",
     "text": [
      "┌ Info: Epoch 45\n",
      "└ @ Main /home2/vavrines/.julia/packages/Flux/BPPNj/src/optimise/train.jl:138\n"
     ]
    },
    {
     "name": "stdout",
     "output_type": "stream",
     "text": [
      "loss: 0.09329096016486044\n"
     ]
    },
    {
     "name": "stderr",
     "output_type": "stream",
     "text": [
      "┌ Info: Epoch 46\n",
      "└ @ Main /home2/vavrines/.julia/packages/Flux/BPPNj/src/optimise/train.jl:138\n"
     ]
    },
    {
     "name": "stdout",
     "output_type": "stream",
     "text": [
      "loss: 0.09087790536267525\n"
     ]
    },
    {
     "name": "stderr",
     "output_type": "stream",
     "text": [
      "┌ Info: Epoch 47\n",
      "└ @ Main /home2/vavrines/.julia/packages/Flux/BPPNj/src/optimise/train.jl:138\n"
     ]
    },
    {
     "name": "stdout",
     "output_type": "stream",
     "text": [
      "loss: 0.0893045493539576\n"
     ]
    },
    {
     "name": "stderr",
     "output_type": "stream",
     "text": [
      "┌ Info: Epoch 48\n",
      "└ @ Main /home2/vavrines/.julia/packages/Flux/BPPNj/src/optimise/train.jl:138\n"
     ]
    },
    {
     "name": "stdout",
     "output_type": "stream",
     "text": [
      "loss: 0.09007659592401605\n"
     ]
    },
    {
     "name": "stderr",
     "output_type": "stream",
     "text": [
      "┌ Info: Epoch 49\n",
      "└ @ Main /home2/vavrines/.julia/packages/Flux/BPPNj/src/optimise/train.jl:138\n"
     ]
    },
    {
     "name": "stdout",
     "output_type": "stream",
     "text": [
      "loss: 0.08942899429687921\n"
     ]
    },
    {
     "name": "stderr",
     "output_type": "stream",
     "text": [
      "┌ Info: Epoch 50\n",
      "└ @ Main /home2/vavrines/.julia/packages/Flux/BPPNj/src/optimise/train.jl:138\n"
     ]
    }
   ],
   "source": [
    "@epochs 50 Flux.train!(loss, ps, data, opt, cb = Flux.throttle(cb, 1))"
   ]
  },
  {
   "cell_type": "code",
   "execution_count": 265,
   "metadata": {},
   "outputs": [],
   "source": [
    "cd(@__DIR__)\n",
    "@save \"nn_rif.jld2\" nn # reinforcement neural model"
   ]
  },
  {
   "cell_type": "code",
   "execution_count": 17,
   "metadata": {},
   "outputs": [],
   "source": []
  },
  {
   "cell_type": "markdown",
   "metadata": {},
   "source": [
    "### Test"
   ]
  },
  {
   "cell_type": "code",
   "execution_count": 264,
   "metadata": {},
   "outputs": [
    {
     "data": {
      "text/plain": [
       "0.947"
      ]
     },
     "execution_count": 264,
     "metadata": {},
     "output_type": "execute_result"
    }
   ],
   "source": [
    "accuracy(nn, X, Y)"
   ]
  },
  {
   "cell_type": "code",
   "execution_count": 215,
   "metadata": {},
   "outputs": [
    {
     "data": {
      "text/plain": [
       "2×3000 Matrix{Float64}:\n",
       " 0.0349645  0.0349645  0.0349645  …  0.0349645  0.0349645  0.0349645\n",
       " 0.965223   0.965223   0.965223      0.965223   0.965223   0.965223"
      ]
     },
     "execution_count": 215,
     "metadata": {},
     "output_type": "execute_result"
    }
   ],
   "source": [
    "nn(X)"
   ]
  },
  {
   "cell_type": "code",
   "execution_count": 216,
   "metadata": {},
   "outputs": [
    {
     "data": {
      "text/plain": [
       "7×3000 Matrix{Float64}:\n",
       " 1.0   0.724725   0.237012    0.467263   …   0.712398    0.844528\n",
       " 0.0   0.307156  -0.0186205   0.0443902      0.0082256  -0.00145812\n",
       " 1.0   0.359093   0.0496517   0.130641       0.324511    0.385258\n",
       " 0.0  -1.45087   14.2781     -2.5508        -7.4714      2.8997\n",
       " 0.0  12.2489    -1.82491    -4.02964       -0.386656    0.425634\n",
       " 0.0   8.31999    3.10256    -3.90737    …  -3.41789     1.31224\n",
       " 1.0   0.21187    3.25086     1.30511        0.352793    0.539888"
      ]
     },
     "execution_count": 216,
     "metadata": {},
     "output_type": "execute_result"
    }
   ],
   "source": [
    "X"
   ]
  },
  {
   "cell_type": "code",
   "execution_count": null,
   "metadata": {},
   "outputs": [],
   "source": []
  }
 ],
 "metadata": {
  "kernelspec": {
   "display_name": "Julia 1.6.2",
   "language": "julia",
   "name": "julia-1.6"
  },
  "language_info": {
   "file_extension": ".jl",
   "mimetype": "application/julia",
   "name": "julia",
   "version": "1.6.2"
  }
 },
 "nbformat": 4,
 "nbformat_minor": 4
}
