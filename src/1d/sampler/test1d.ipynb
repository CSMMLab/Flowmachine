{
 "cells": [
  {
   "cell_type": "code",
   "execution_count": 1,
   "metadata": {},
   "outputs": [
    {
     "name": "stderr",
     "output_type": "stream",
     "text": [
      "┌ Info: Kinetic will run serially\n",
      "└ @ KitBase /home2/vavrines/.julia/packages/KitBase/YzrAE/src/KitBase.jl:66\n"
     ]
    },
    {
     "ename": "LoadError",
     "evalue": "ArgumentError: Package JLD2 not found in current path:\n- Run `import Pkg; Pkg.add(\"JLD2\")` to install the JLD2 package.\n",
     "output_type": "error",
     "traceback": [
      "ArgumentError: Package JLD2 not found in current path:\n- Run `import Pkg; Pkg.add(\"JLD2\")` to install the JLD2 package.\n",
      "",
      "Stacktrace:",
      " [1] require(into::Module, mod::Symbol)",
      "   @ Base ./loading.jl:967",
      " [2] eval",
      "   @ ./boot.jl:373 [inlined]",
      " [3] include_string(mapexpr::typeof(REPL.softscope), mod::Module, code::String, filename::String)",
      "   @ Base ./loading.jl:1196"
     ]
    }
   ],
   "source": [
    "using KitBase, Plots, Distributions\n",
    "using KitBase.JLD2, KitBase.LinearAlgebra, Flux\n",
    "using Flux: @epochs"
   ]
  },
  {
   "cell_type": "code",
   "execution_count": null,
   "metadata": {},
   "outputs": [],
   "source": [
    "using "
   ]
  },
  {
   "cell_type": "code",
   "execution_count": null,
   "metadata": {},
   "outputs": [],
   "source": []
  },
  {
   "cell_type": "code",
   "execution_count": 11,
   "metadata": {},
   "outputs": [
    {
     "data": {
      "text/plain": [
       "0.01"
      ]
     },
     "execution_count": 11,
     "metadata": {},
     "output_type": "execute_result"
    }
   ],
   "source": [
    "file = open(\"/home2/vavrines/Downloads/pdfs.csv\")\n",
    "data = []\n",
    "for line in eachline(file)\n",
    "    a = split(line, \",\")\n",
    "    b = [parse(Float64, a[i]) for i = 2:length(a)]\n",
    "    push!(data, b)\n",
    "end\n",
    "pdfs = data[3:end];\n",
    "\n",
    "vs = VSpace1D(-5.0, 5.0, length(data[1]), data[1], data[1][2:end] .- data[1][1:end-1], data[2])\n",
    "δ = heaviside.(vs.u);\n",
    "\n",
    "kn = 1e-3\n",
    "dx = 1e-2"
   ]
  },
  {
   "cell_type": "code",
   "execution_count": 15,
   "metadata": {},
   "outputs": [
    {
     "data": {
      "text/plain": [
       "3-element Vector{Float64}:\n",
       "  -42.98882604193359\n",
       " -128.77578126631624\n",
       " -108.1439441658719"
      ]
     },
     "execution_count": 15,
     "metadata": {},
     "output_type": "execute_result"
    }
   ],
   "source": [
    "sw1 = @. (ws[2] - ws[1]) / dx\n",
    "sw2 = @. (ws[5] - ws[4]) / dx"
   ]
  },
  {
   "cell_type": "code",
   "execution_count": 58,
   "metadata": {},
   "outputs": [
    {
     "data": {
      "text/plain": [
       "99-element Vector{Float64}:\n",
       " -9.984919506396\n",
       " -9.962951347331\n",
       " -9.931249370374\n",
       " -9.88984395243\n",
       " -9.838775407061\n",
       " -9.778093584869\n",
       " -9.707857757637\n",
       " -9.628136542558\n",
       " -9.539007829255\n",
       " -9.440558701363\n",
       " -9.332885350431\n",
       " -9.216092981453\n",
       " -9.090295709825\n",
       "  ⋮\n",
       "  9.332885350431\n",
       "  9.440558701363\n",
       "  9.539007829255\n",
       "  9.628136542558\n",
       "  9.707857757637\n",
       "  9.778093584869\n",
       "  9.838775407061\n",
       "  9.88984395243\n",
       "  9.931249370374\n",
       "  9.962951347331\n",
       "  9.984919506396\n",
       "  9.997137267734"
      ]
     },
     "execution_count": 58,
     "metadata": {},
     "output_type": "execute_result"
    }
   ],
   "source": [
    "data[1]"
   ]
  },
  {
   "cell_type": "code",
   "execution_count": null,
   "metadata": {},
   "outputs": [],
   "source": []
  },
  {
   "cell_type": "code",
   "execution_count": 35,
   "metadata": {},
   "outputs": [],
   "source": [
    "ws = [moments_conserve(pdfs[i], data[1], data[2]) for i in axes(pdfs, 1)]\n",
    "w = zeros(9, 3)\n",
    "for i in 1:9\n",
    "    w[i, :] .= ws[i]\n",
    "end"
   ]
  },
  {
   "cell_type": "code",
   "execution_count": null,
   "metadata": {},
   "outputs": [],
   "source": []
  },
  {
   "cell_type": "code",
   "execution_count": 44,
   "metadata": {},
   "outputs": [
    {
     "data": {
      "text/plain": [
       "99-element Vector{Float64}:\n",
       " 5.380728949855418e-29\n",
       " 7.080732502204905e-29\n",
       " 1.0512275663312392e-28\n",
       " 1.7580956418181905e-28\n",
       " 3.3056781343517824e-28\n",
       " 6.971090478073525e-28\n",
       " 1.644075840196505e-27\n",
       " 4.322120427732453e-27\n",
       " 1.2618806558292814e-26\n",
       " 4.074782881042692e-26\n",
       " 1.4487937846281085e-25\n",
       " 5.6443776661186825e-25\n",
       " 2.397027093451581e-24\n",
       " ⋮\n",
       " 3.7646194930328153e-23\n",
       " 1.1251915273394029e-23\n",
       " 3.6833372227630026e-24\n",
       " 1.3264867997366951e-24\n",
       " 5.27693590968371e-25\n",
       " 2.327428808087206e-25\n",
       " 1.1418416222741473e-25\n",
       " 6.248915669648991e-26\n",
       " 3.823996925037514e-26\n",
       " 2.6217727145201525e-26\n",
       " 2.0169182968153374e-26\n",
       " 1.742715626859771e-26"
      ]
     },
     "execution_count": 44,
     "metadata": {},
     "output_type": "execute_result"
    }
   ],
   "source": [
    "gam = 3\n",
    "K = 0\n",
    "mu = ref_vhs_vis(kn, 1, 0.5)\n",
    "\n",
    "prim = conserve_prim(ws[3], gam)\n",
    "Mu, Mxi, _, _1 = gauss_moments(prim, K)\n",
    "a = pdf_slope(prim, sw1, K)\n",
    "swt = -prim[1] .* moments_conserve_slope(a, Mu, Mxi, 1)\n",
    "A = pdf_slope(prim, swt, K)\n",
    "tau1 = vhs_collision_time(prim, mu, 0.81)\n",
    "fr1 = chapman_enskog(vs.u, prim, a, A, tau1)"
   ]
  },
  {
   "cell_type": "code",
   "execution_count": 31,
   "metadata": {},
   "outputs": [
    {
     "data": {
      "text/plain": [
       "0.058002970476175975"
      ]
     },
     "execution_count": 31,
     "metadata": {},
     "output_type": "execute_result"
    }
   ],
   "source": [
    "using KitBase.LinearAlgebra\n",
    "norm(pdfs[3] .- fr) / ws[3][1]"
   ]
  },
  {
   "cell_type": "code",
   "execution_count": null,
   "metadata": {},
   "outputs": [],
   "source": []
  },
  {
   "cell_type": "code",
   "execution_count": 45,
   "metadata": {},
   "outputs": [
    {
     "data": {
      "text/plain": [
       "99-element Vector{Float64}:\n",
       " -2.524524030544728e-13\n",
       " -1.6099895500013658e-13\n",
       "  1.0582722047304412e-14\n",
       "  3.219632513013817e-13\n",
       "  8.845313940188903e-13\n",
       "  1.906873465974813e-12\n",
       "  3.7843471273239955e-12\n",
       "  7.277752314105652e-12\n",
       "  1.3874902310524745e-11\n",
       "  2.653305134130417e-11\n",
       "  5.122494060728617e-11\n",
       "  1.002013045909228e-10\n",
       "  1.9896032205919534e-10\n",
       "  ⋮\n",
       "  1.0840162253311951e-8\n",
       "  7.121240252104542e-9\n",
       "  4.828212134997009e-9\n",
       "  3.3838400509818355e-9\n",
       "  2.4549937305088078e-9\n",
       "  1.8461713906347193e-9\n",
       "  1.4407080010376436e-9\n",
       "  1.1678810027221619e-9\n",
       "  9.84259096188589e-10\n",
       "  8.6299746322711e-10\n",
       "  7.876429577557019e-10\n",
       "  7.48550691527989e-10"
      ]
     },
     "execution_count": 45,
     "metadata": {},
     "output_type": "execute_result"
    }
   ],
   "source": [
    "gam = 3\n",
    "K = 0\n",
    "mu = ref_vhs_vis(kn, 1, 0.5)\n",
    "\n",
    "prim = conserve_prim(ws[6], gam)\n",
    "Mu, Mxi, _, _1 = gauss_moments(prim, K)\n",
    "a = pdf_slope(prim, sw2, K)\n",
    "swt = -prim[1] .* moments_conserve_slope(a, Mu, Mxi, 1)\n",
    "A = pdf_slope(prim, swt, K)\n",
    "tau2 = vhs_collision_time(prim, mu, 0.81)\n",
    "fr2 = chapman_enskog(vs.u, prim, a, A, tau2)"
   ]
  },
  {
   "cell_type": "code",
   "execution_count": 33,
   "metadata": {},
   "outputs": [
    {
     "data": {
      "text/plain": [
       "0.24125528991597284"
      ]
     },
     "execution_count": 33,
     "metadata": {},
     "output_type": "execute_result"
    }
   ],
   "source": [
    "norm(pdfs[6] .- fr) / ws[6][1]"
   ]
  },
  {
   "cell_type": "code",
   "execution_count": null,
   "metadata": {},
   "outputs": [],
   "source": []
  },
  {
   "cell_type": "code",
   "execution_count": null,
   "metadata": {},
   "outputs": [],
   "source": []
  },
  {
   "cell_type": "code",
   "execution_count": null,
   "metadata": {},
   "outputs": [],
   "source": []
  },
  {
   "cell_type": "code",
   "execution_count": null,
   "metadata": {},
   "outputs": [],
   "source": []
  },
  {
   "cell_type": "code",
   "execution_count": null,
   "metadata": {},
   "outputs": [],
   "source": []
  },
  {
   "cell_type": "code",
   "execution_count": null,
   "metadata": {},
   "outputs": [],
   "source": []
  },
  {
   "cell_type": "code",
   "execution_count": null,
   "metadata": {},
   "outputs": [],
   "source": []
  },
  {
   "cell_type": "code",
   "execution_count": 53,
   "metadata": {},
   "outputs": [],
   "source": [
    "using DataFrames, KitBase.CSV\n",
    "cd(@__DIR__)"
   ]
  },
  {
   "cell_type": "code",
   "execution_count": 54,
   "metadata": {},
   "outputs": [
    {
     "data": {
      "text/plain": [
       "\"w.csv\""
      ]
     },
     "execution_count": 54,
     "metadata": {},
     "output_type": "execute_result"
    }
   ],
   "source": [
    "df = DataFrame(density=w[:, 1], velocity=w[:, 2], energy=w[:, 3])\n",
    "CSV.write(\"w.csv\", df)"
   ]
  },
  {
   "cell_type": "code",
   "execution_count": 55,
   "metadata": {},
   "outputs": [
    {
     "data": {
      "text/plain": [
       "\"gradient_w.csv\""
      ]
     },
     "execution_count": 55,
     "metadata": {},
     "output_type": "execute_result"
    }
   ],
   "source": [
    "df1 = DataFrame(gradient1=sw1, gradient2=sw2)\n",
    "CSV.write(\"gradient_w.csv\", df1)"
   ]
  },
  {
   "cell_type": "code",
   "execution_count": 56,
   "metadata": {},
   "outputs": [
    {
     "data": {
      "text/plain": [
       "\"fns.csv\""
      ]
     },
     "execution_count": 56,
     "metadata": {},
     "output_type": "execute_result"
    }
   ],
   "source": [
    "df2 = DataFrame(fns1=fr1, fns2=fr2)\n",
    "CSV.write(\"fns.csv\", df2)"
   ]
  },
  {
   "cell_type": "code",
   "execution_count": 57,
   "metadata": {},
   "outputs": [
    {
     "data": {
      "text/plain": [
       "\"paras.csv\""
      ]
     },
     "execution_count": 57,
     "metadata": {},
     "output_type": "execute_result"
    }
   ],
   "source": [
    "df3 = DataFrame(tau1=tau1, tau2=tau2, kn=kn, dx=dx)\n",
    "CSV.write(\"paras.csv\", df3)"
   ]
  },
  {
   "cell_type": "code",
   "execution_count": null,
   "metadata": {},
   "outputs": [],
   "source": []
  },
  {
   "cell_type": "code",
   "execution_count": null,
   "metadata": {},
   "outputs": [],
   "source": []
  },
  {
   "cell_type": "code",
   "execution_count": null,
   "metadata": {},
   "outputs": [],
   "source": []
  },
  {
   "cell_type": "code",
   "execution_count": 2,
   "metadata": {},
   "outputs": [
    {
     "data": {
      "text/plain": [
       "accuracy (generic function with 1 method)"
      ]
     },
     "execution_count": 2,
     "metadata": {},
     "output_type": "execute_result"
    }
   ],
   "source": [
    "function regime_data(w, sw, f, u, K, Kn, μ=ref_vhs_vis(Kn, 1.0, 0.5), ω=0.81)\n",
    "    gam = heat_capacity_ratio(K, 1)\n",
    "    prim = conserve_prim(w, gam)\n",
    "    Mu, Mxi, _, _1 = gauss_moments(prim, K)\n",
    "    a = pdf_slope(prim, sw, K)\n",
    "    swt = -prim[1] .* moments_conserve_slope(a, Mu, Mxi, 1)\n",
    "    A = pdf_slope(prim, swt, K)\n",
    "    tau = vhs_collision_time(prim, μ, ω)\n",
    "    fr = chapman_enskog(u, prim, a, A, tau)\n",
    "    L = norm((f .- fr) ./ prim[1])\n",
    "\n",
    "    x = [w; sw; tau]\n",
    "    y = ifelse(L <= 0.005, [1.0, 0.0], [0.0, 1.0])\n",
    "    return x, y\n",
    "end\n",
    "\n",
    "function regime_number(Y, rg=1)\n",
    "   idx = 0\n",
    "    for i in axes(Y, 2)\n",
    "       if Y[1, i] == rg\n",
    "            idx += 1\n",
    "        end\n",
    "    end\n",
    "    println(\"NS regime: $(idx) of $(size(Y, 2))\")\n",
    "    return nothing\n",
    "end\n",
    "\n",
    "function accuracy(nn, X, Y)\n",
    "    Y1 = nn(X)\n",
    "\n",
    "    YA1 = [onecold(Y1[:, i]) for i in axes(Y1, 2)]\n",
    "    YA = [onecold(Y[:, i]) for i in axes(Y, 2)]\n",
    "\n",
    "    accuracy = 0.0\n",
    "    for i in eachindex(YA)\n",
    "        if YA[i] == YA1[i]\n",
    "            accuracy += 1.0\n",
    "        end\n",
    "    end\n",
    "    accuracy /= length(YA)\n",
    "\n",
    "    return accuracy\n",
    "end"
   ]
  },
  {
   "cell_type": "code",
   "execution_count": 3,
   "metadata": {},
   "outputs": [],
   "source": [
    "file = open(\"../../../data/1d/a2_ev10.csv\")\n",
    "data = []\n",
    "for line in eachline(file)\n",
    "    a = split(line, \",\")\n",
    "    b = [parse(Float64, a[i]) for i = 2:length(a)]\n",
    "    push!(data, b)\n",
    "end\n",
    "pdfs = data[3:end];"
   ]
  },
  {
   "cell_type": "code",
   "execution_count": 4,
   "metadata": {},
   "outputs": [
    {
     "data": {
      "text/plain": [
       "VelocitySpace1D{Float64,Int64,Vector{Float64},Vector{Float64}}\n",
       "domain: (-5.0,5.0)\n",
       "resolution: 100\n",
       "ghost: 0\n"
      ]
     },
     "execution_count": 4,
     "metadata": {},
     "output_type": "execute_result"
    }
   ],
   "source": [
    "vs = VSpace1D(-5.0, 5.0, length(data[1]), data[1], data[1][2:end] .- data[1][1:end-1], data[2])"
   ]
  },
  {
   "cell_type": "code",
   "execution_count": 6,
   "metadata": {},
   "outputs": [
    {
     "data": {
      "text/plain": [
       "9294"
      ]
     },
     "execution_count": 6,
     "metadata": {},
     "output_type": "execute_result"
    }
   ],
   "source": [
    "idx = Int(floor(rand() * length(pdfs)))\n",
    "#plot(vs.u, data[idx], ylabel=\"$(idx)-th pdf\")"
   ]
  },
  {
   "cell_type": "code",
   "execution_count": 7,
   "metadata": {},
   "outputs": [
    {
     "data": {
      "text/plain": [
       "100-element Vector{Float64}:\n",
       " 4.495308253081194e-10\n",
       " 4.722107531139246e-10\n",
       " 5.158292504608523e-10\n",
       " 5.857717069576202e-10\n",
       " 6.911756428452162e-10\n",
       " 8.468481319739438e-10\n",
       " 1.0765522262042944e-9\n",
       " 1.418632493530664e-9\n",
       " 1.935716306517525e-9\n",
       " 2.7316379752209462e-9\n",
       " 3.981344287241651e-9\n",
       " 5.98442208873995e-9\n",
       " 9.2620903457038e-9\n",
       " ⋮\n",
       " 5.98442208873995e-9\n",
       " 3.981344287241651e-9\n",
       " 2.7316379752209462e-9\n",
       " 1.935716306517525e-9\n",
       " 1.418632493530664e-9\n",
       " 1.0765522262042944e-9\n",
       " 8.468481319739438e-10\n",
       " 6.911756428452162e-10\n",
       " 5.857717069576202e-10\n",
       " 5.158292504608523e-10\n",
       " 4.722107531139246e-10\n",
       " 4.495308253081194e-10"
      ]
     },
     "execution_count": 7,
     "metadata": {},
     "output_type": "execute_result"
    }
   ],
   "source": [
    "w = moments_conserve(data[idx], vs.u, vs.weights)\n",
    "prim = conserve_prim(w, 3.0)\n",
    "M = maxwellian(vs.u, prim)"
   ]
  },
  {
   "cell_type": "code",
   "execution_count": 8,
   "metadata": {},
   "outputs": [
    {
     "data": {
      "text/plain": [
       "3-element Vector{Float64}:\n",
       "  1.000000000000806\n",
       " -1.780278789328296e-17\n",
       "  1.239999988981912"
      ]
     },
     "execution_count": 8,
     "metadata": {},
     "output_type": "execute_result"
    }
   ],
   "source": [
    "w"
   ]
  },
  {
   "cell_type": "code",
   "execution_count": 9,
   "metadata": {},
   "outputs": [
    {
     "data": {
      "text/plain": [
       "3-element Vector{Float64}:\n",
       "  0.9999999997858208\n",
       " -1.4417469300292612e-17\n",
       "  1.239999977694907"
      ]
     },
     "execution_count": 9,
     "metadata": {},
     "output_type": "execute_result"
    }
   ],
   "source": [
    "moments_conserve(M, vs.u, vs.weights)"
   ]
  },
  {
   "cell_type": "code",
   "execution_count": null,
   "metadata": {},
   "outputs": [],
   "source": []
  },
  {
   "cell_type": "code",
   "execution_count": 27,
   "metadata": {},
   "outputs": [
    {
     "data": {
      "image/svg+xml": [
       "<?xml version=\"1.0\" encoding=\"utf-8\"?>\n",
       "<svg xmlns=\"http://www.w3.org/2000/svg\" xmlns:xlink=\"http://www.w3.org/1999/xlink\" width=\"600\" height=\"400\" viewBox=\"0 0 2400 1600\">\n",
       "<defs>\n",
       "  <clipPath id=\"clip040\">\n",
       "    <rect x=\"0\" y=\"0\" width=\"2400\" height=\"1600\"/>\n",
       "  </clipPath>\n",
       "</defs>\n",
       "<path clip-path=\"url(#clip040)\" d=\"\n",
       "M0 1600 L2400 1600 L2400 0 L0 0  Z\n",
       "  \" fill=\"#ffffff\" fill-rule=\"evenodd\" fill-opacity=\"1\"/>\n",
       "<defs>\n",
       "  <clipPath id=\"clip041\">\n",
       "    <rect x=\"480\" y=\"0\" width=\"1681\" height=\"1600\"/>\n",
       "  </clipPath>\n",
       "</defs>\n",
       "<path clip-path=\"url(#clip040)\" d=\"\n",
       "M249.542 1486.45 L2352.76 1486.45 L2352.76 47.2441 L249.542 47.2441  Z\n",
       "  \" fill=\"#ffffff\" fill-rule=\"evenodd\" fill-opacity=\"1\"/>\n",
       "<defs>\n",
       "  <clipPath id=\"clip042\">\n",
       "    <rect x=\"249\" y=\"47\" width=\"2104\" height=\"1440\"/>\n",
       "  </clipPath>\n",
       "</defs>\n",
       "<polyline clip-path=\"url(#clip042)\" style=\"stroke:#000000; stroke-linecap:butt; stroke-linejoin:round; stroke-width:2; stroke-opacity:0.1; fill:none\" points=\"\n",
       "  308.783,1486.45 308.783,47.2441 \n",
       "  \"/>\n",
       "<polyline clip-path=\"url(#clip042)\" style=\"stroke:#000000; stroke-linecap:butt; stroke-linejoin:round; stroke-width:2; stroke-opacity:0.1; fill:none\" points=\"\n",
       "  804.966,1486.45 804.966,47.2441 \n",
       "  \"/>\n",
       "<polyline clip-path=\"url(#clip042)\" style=\"stroke:#000000; stroke-linecap:butt; stroke-linejoin:round; stroke-width:2; stroke-opacity:0.1; fill:none\" points=\"\n",
       "  1301.15,1486.45 1301.15,47.2441 \n",
       "  \"/>\n",
       "<polyline clip-path=\"url(#clip042)\" style=\"stroke:#000000; stroke-linecap:butt; stroke-linejoin:round; stroke-width:2; stroke-opacity:0.1; fill:none\" points=\"\n",
       "  1797.33,1486.45 1797.33,47.2441 \n",
       "  \"/>\n",
       "<polyline clip-path=\"url(#clip042)\" style=\"stroke:#000000; stroke-linecap:butt; stroke-linejoin:round; stroke-width:2; stroke-opacity:0.1; fill:none\" points=\"\n",
       "  2293.52,1486.45 2293.52,47.2441 \n",
       "  \"/>\n",
       "<polyline clip-path=\"url(#clip040)\" style=\"stroke:#000000; stroke-linecap:butt; stroke-linejoin:round; stroke-width:4; stroke-opacity:1; fill:none\" points=\"\n",
       "  249.542,1486.45 2352.76,1486.45 \n",
       "  \"/>\n",
       "<polyline clip-path=\"url(#clip040)\" style=\"stroke:#000000; stroke-linecap:butt; stroke-linejoin:round; stroke-width:4; stroke-opacity:1; fill:none\" points=\"\n",
       "  308.783,1486.45 308.783,1467.55 \n",
       "  \"/>\n",
       "<polyline clip-path=\"url(#clip040)\" style=\"stroke:#000000; stroke-linecap:butt; stroke-linejoin:round; stroke-width:4; stroke-opacity:1; fill:none\" points=\"\n",
       "  804.966,1486.45 804.966,1467.55 \n",
       "  \"/>\n",
       "<polyline clip-path=\"url(#clip040)\" style=\"stroke:#000000; stroke-linecap:butt; stroke-linejoin:round; stroke-width:4; stroke-opacity:1; fill:none\" points=\"\n",
       "  1301.15,1486.45 1301.15,1467.55 \n",
       "  \"/>\n",
       "<polyline clip-path=\"url(#clip040)\" style=\"stroke:#000000; stroke-linecap:butt; stroke-linejoin:round; stroke-width:4; stroke-opacity:1; fill:none\" points=\"\n",
       "  1797.33,1486.45 1797.33,1467.55 \n",
       "  \"/>\n",
       "<polyline clip-path=\"url(#clip040)\" style=\"stroke:#000000; stroke-linecap:butt; stroke-linejoin:round; stroke-width:4; stroke-opacity:1; fill:none\" points=\"\n",
       "  2293.52,1486.45 2293.52,1467.55 \n",
       "  \"/>\n",
       "<path clip-path=\"url(#clip040)\" d=\"M262.846 1532.02 L292.521 1532.02 L292.521 1535.95 L262.846 1535.95 L262.846 1532.02 Z\" fill=\"#000000\" fill-rule=\"evenodd\" fill-opacity=\"1\" /><path clip-path=\"url(#clip040)\" d=\"M303.424 1544.91 L311.063 1544.91 L311.063 1518.55 L302.753 1520.21 L302.753 1515.95 L311.017 1514.29 L315.693 1514.29 L315.693 1544.91 L323.331 1544.91 L323.331 1548.85 L303.424 1548.85 L303.424 1544.91 Z\" fill=\"#000000\" fill-rule=\"evenodd\" fill-opacity=\"1\" /><path clip-path=\"url(#clip040)\" d=\"M342.776 1517.37 Q339.165 1517.37 337.336 1520.93 Q335.53 1524.47 335.53 1531.6 Q335.53 1538.71 337.336 1542.27 Q339.165 1545.82 342.776 1545.82 Q346.41 1545.82 348.216 1542.27 Q350.044 1538.71 350.044 1531.6 Q350.044 1524.47 348.216 1520.93 Q346.41 1517.37 342.776 1517.37 M342.776 1513.66 Q348.586 1513.66 351.641 1518.27 Q354.72 1522.85 354.72 1531.6 Q354.72 1540.33 351.641 1544.94 Q348.586 1549.52 342.776 1549.52 Q336.966 1549.52 333.887 1544.94 Q330.831 1540.33 330.831 1531.6 Q330.831 1522.85 333.887 1518.27 Q336.966 1513.66 342.776 1513.66 Z\" fill=\"#000000\" fill-rule=\"evenodd\" fill-opacity=\"1\" /><path clip-path=\"url(#clip040)\" d=\"M774.607 1532.02 L804.283 1532.02 L804.283 1535.95 L774.607 1535.95 L774.607 1532.02 Z\" fill=\"#000000\" fill-rule=\"evenodd\" fill-opacity=\"1\" /><path clip-path=\"url(#clip040)\" d=\"M814.422 1514.29 L832.778 1514.29 L832.778 1518.22 L818.704 1518.22 L818.704 1526.7 Q819.723 1526.35 820.741 1526.19 Q821.76 1526 822.778 1526 Q828.565 1526 831.945 1529.17 Q835.325 1532.34 835.325 1537.76 Q835.325 1543.34 831.852 1546.44 Q828.38 1549.52 822.061 1549.52 Q819.885 1549.52 817.616 1549.15 Q815.371 1548.78 812.964 1548.04 L812.964 1543.34 Q815.047 1544.47 817.269 1545.03 Q819.491 1545.58 821.968 1545.58 Q825.973 1545.58 828.311 1543.48 Q830.649 1541.37 830.649 1537.76 Q830.649 1534.15 828.311 1532.04 Q825.973 1529.94 821.968 1529.94 Q820.093 1529.94 818.218 1530.35 Q816.366 1530.77 814.422 1531.65 L814.422 1514.29 Z\" fill=\"#000000\" fill-rule=\"evenodd\" fill-opacity=\"1\" /><path clip-path=\"url(#clip040)\" d=\"M1301.15 1517.37 Q1297.54 1517.37 1295.71 1520.93 Q1293.9 1524.47 1293.9 1531.6 Q1293.9 1538.71 1295.71 1542.27 Q1297.54 1545.82 1301.15 1545.82 Q1304.78 1545.82 1306.59 1542.27 Q1308.42 1538.71 1308.42 1531.6 Q1308.42 1524.47 1306.59 1520.93 Q1304.78 1517.37 1301.15 1517.37 M1301.15 1513.66 Q1306.96 1513.66 1310.01 1518.27 Q1313.09 1522.85 1313.09 1531.6 Q1313.09 1540.33 1310.01 1544.94 Q1306.96 1549.52 1301.15 1549.52 Q1295.34 1549.52 1292.26 1544.94 Q1289.2 1540.33 1289.2 1531.6 Q1289.2 1522.85 1292.26 1518.27 Q1295.34 1513.66 1301.15 1513.66 Z\" fill=\"#000000\" fill-rule=\"evenodd\" fill-opacity=\"1\" /><path clip-path=\"url(#clip040)\" d=\"M1787.61 1514.29 L1805.97 1514.29 L1805.97 1518.22 L1791.89 1518.22 L1791.89 1526.7 Q1792.91 1526.35 1793.93 1526.19 Q1794.95 1526 1795.97 1526 Q1801.75 1526 1805.13 1529.17 Q1808.51 1532.34 1808.51 1537.76 Q1808.51 1543.34 1805.04 1546.44 Q1801.57 1549.52 1795.25 1549.52 Q1793.07 1549.52 1790.8 1549.15 Q1788.56 1548.78 1786.15 1548.04 L1786.15 1543.34 Q1788.23 1544.47 1790.46 1545.03 Q1792.68 1545.58 1795.16 1545.58 Q1799.16 1545.58 1801.5 1543.48 Q1803.84 1541.37 1803.84 1537.76 Q1803.84 1534.15 1801.5 1532.04 Q1799.16 1529.94 1795.16 1529.94 Q1793.28 1529.94 1791.41 1530.35 Q1789.55 1530.77 1787.61 1531.65 L1787.61 1514.29 Z\" fill=\"#000000\" fill-rule=\"evenodd\" fill-opacity=\"1\" /><path clip-path=\"url(#clip040)\" d=\"M2268.2 1544.91 L2275.84 1544.91 L2275.84 1518.55 L2267.53 1520.21 L2267.53 1515.95 L2275.8 1514.29 L2280.47 1514.29 L2280.47 1544.91 L2288.11 1544.91 L2288.11 1548.85 L2268.2 1548.85 L2268.2 1544.91 Z\" fill=\"#000000\" fill-rule=\"evenodd\" fill-opacity=\"1\" /><path clip-path=\"url(#clip040)\" d=\"M2307.55 1517.37 Q2303.94 1517.37 2302.11 1520.93 Q2300.31 1524.47 2300.31 1531.6 Q2300.31 1538.71 2302.11 1542.27 Q2303.94 1545.82 2307.55 1545.82 Q2311.19 1545.82 2312.99 1542.27 Q2314.82 1538.71 2314.82 1531.6 Q2314.82 1524.47 2312.99 1520.93 Q2311.19 1517.37 2307.55 1517.37 M2307.55 1513.66 Q2313.36 1513.66 2316.42 1518.27 Q2319.5 1522.85 2319.5 1531.6 Q2319.5 1540.33 2316.42 1544.94 Q2313.36 1549.52 2307.55 1549.52 Q2301.74 1549.52 2298.67 1544.94 Q2295.61 1540.33 2295.61 1531.6 Q2295.61 1522.85 2298.67 1518.27 Q2301.74 1513.66 2307.55 1513.66 Z\" fill=\"#000000\" fill-rule=\"evenodd\" fill-opacity=\"1\" /><polyline clip-path=\"url(#clip042)\" style=\"stroke:#000000; stroke-linecap:butt; stroke-linejoin:round; stroke-width:2; stroke-opacity:0.1; fill:none\" points=\"\n",
       "  249.542,1445.72 2352.76,1445.72 \n",
       "  \"/>\n",
       "<polyline clip-path=\"url(#clip042)\" style=\"stroke:#000000; stroke-linecap:butt; stroke-linejoin:round; stroke-width:2; stroke-opacity:0.1; fill:none\" points=\"\n",
       "  249.542,1176.41 2352.76,1176.41 \n",
       "  \"/>\n",
       "<polyline clip-path=\"url(#clip042)\" style=\"stroke:#000000; stroke-linecap:butt; stroke-linejoin:round; stroke-width:2; stroke-opacity:0.1; fill:none\" points=\"\n",
       "  249.542,907.11 2352.76,907.11 \n",
       "  \"/>\n",
       "<polyline clip-path=\"url(#clip042)\" style=\"stroke:#000000; stroke-linecap:butt; stroke-linejoin:round; stroke-width:2; stroke-opacity:0.1; fill:none\" points=\"\n",
       "  249.542,637.807 2352.76,637.807 \n",
       "  \"/>\n",
       "<polyline clip-path=\"url(#clip042)\" style=\"stroke:#000000; stroke-linecap:butt; stroke-linejoin:round; stroke-width:2; stroke-opacity:0.1; fill:none\" points=\"\n",
       "  249.542,368.504 2352.76,368.504 \n",
       "  \"/>\n",
       "<polyline clip-path=\"url(#clip042)\" style=\"stroke:#000000; stroke-linecap:butt; stroke-linejoin:round; stroke-width:2; stroke-opacity:0.1; fill:none\" points=\"\n",
       "  249.542,99.2014 2352.76,99.2014 \n",
       "  \"/>\n",
       "<polyline clip-path=\"url(#clip040)\" style=\"stroke:#000000; stroke-linecap:butt; stroke-linejoin:round; stroke-width:4; stroke-opacity:1; fill:none\" points=\"\n",
       "  249.542,1486.45 249.542,47.2441 \n",
       "  \"/>\n",
       "<polyline clip-path=\"url(#clip040)\" style=\"stroke:#000000; stroke-linecap:butt; stroke-linejoin:round; stroke-width:4; stroke-opacity:1; fill:none\" points=\"\n",
       "  249.542,1445.72 268.44,1445.72 \n",
       "  \"/>\n",
       "<polyline clip-path=\"url(#clip040)\" style=\"stroke:#000000; stroke-linecap:butt; stroke-linejoin:round; stroke-width:4; stroke-opacity:1; fill:none\" points=\"\n",
       "  249.542,1176.41 268.44,1176.41 \n",
       "  \"/>\n",
       "<polyline clip-path=\"url(#clip040)\" style=\"stroke:#000000; stroke-linecap:butt; stroke-linejoin:round; stroke-width:4; stroke-opacity:1; fill:none\" points=\"\n",
       "  249.542,907.11 268.44,907.11 \n",
       "  \"/>\n",
       "<polyline clip-path=\"url(#clip040)\" style=\"stroke:#000000; stroke-linecap:butt; stroke-linejoin:round; stroke-width:4; stroke-opacity:1; fill:none\" points=\"\n",
       "  249.542,637.807 268.44,637.807 \n",
       "  \"/>\n",
       "<polyline clip-path=\"url(#clip040)\" style=\"stroke:#000000; stroke-linecap:butt; stroke-linejoin:round; stroke-width:4; stroke-opacity:1; fill:none\" points=\"\n",
       "  249.542,368.504 268.44,368.504 \n",
       "  \"/>\n",
       "<polyline clip-path=\"url(#clip040)\" style=\"stroke:#000000; stroke-linecap:butt; stroke-linejoin:round; stroke-width:4; stroke-opacity:1; fill:none\" points=\"\n",
       "  249.542,99.2014 268.44,99.2014 \n",
       "  \"/>\n",
       "<path clip-path=\"url(#clip040)\" d=\"M126.205 1431.51 Q122.593 1431.51 120.765 1435.08 Q118.959 1438.62 118.959 1445.75 Q118.959 1452.86 120.765 1456.42 Q122.593 1459.96 126.205 1459.96 Q129.839 1459.96 131.644 1456.42 Q133.473 1452.86 133.473 1445.75 Q133.473 1438.62 131.644 1435.08 Q129.839 1431.51 126.205 1431.51 M126.205 1427.81 Q132.015 1427.81 135.07 1432.42 Q138.149 1437 138.149 1445.75 Q138.149 1454.48 135.07 1459.08 Q132.015 1463.67 126.205 1463.67 Q120.394 1463.67 117.316 1459.08 Q114.26 1454.48 114.26 1445.75 Q114.26 1437 117.316 1432.42 Q120.394 1427.81 126.205 1427.81 Z\" fill=\"#000000\" fill-rule=\"evenodd\" fill-opacity=\"1\" /><path clip-path=\"url(#clip040)\" d=\"M146.366 1457.12 L151.251 1457.12 L151.251 1463 L146.366 1463 L146.366 1457.12 Z\" fill=\"#000000\" fill-rule=\"evenodd\" fill-opacity=\"1\" /><path clip-path=\"url(#clip040)\" d=\"M171.436 1431.51 Q167.825 1431.51 165.996 1435.08 Q164.19 1438.62 164.19 1445.75 Q164.19 1452.86 165.996 1456.42 Q167.825 1459.96 171.436 1459.96 Q175.07 1459.96 176.876 1456.42 Q178.704 1452.86 178.704 1445.75 Q178.704 1438.62 176.876 1435.08 Q175.07 1431.51 171.436 1431.51 M171.436 1427.81 Q177.246 1427.81 180.301 1432.42 Q183.38 1437 183.38 1445.75 Q183.38 1454.48 180.301 1459.08 Q177.246 1463.67 171.436 1463.67 Q165.626 1463.67 162.547 1459.08 Q159.491 1454.48 159.491 1445.75 Q159.491 1437 162.547 1432.42 Q165.626 1427.81 171.436 1427.81 Z\" fill=\"#000000\" fill-rule=\"evenodd\" fill-opacity=\"1\" /><path clip-path=\"url(#clip040)\" d=\"M201.598 1431.51 Q197.987 1431.51 196.158 1435.08 Q194.352 1438.62 194.352 1445.75 Q194.352 1452.86 196.158 1456.42 Q197.987 1459.96 201.598 1459.96 Q205.232 1459.96 207.037 1456.42 Q208.866 1452.86 208.866 1445.75 Q208.866 1438.62 207.037 1435.08 Q205.232 1431.51 201.598 1431.51 M201.598 1427.81 Q207.408 1427.81 210.463 1432.42 Q213.542 1437 213.542 1445.75 Q213.542 1454.48 210.463 1459.08 Q207.408 1463.67 201.598 1463.67 Q195.787 1463.67 192.709 1459.08 Q189.653 1454.48 189.653 1445.75 Q189.653 1437 192.709 1432.42 Q195.787 1427.81 201.598 1427.81 Z\" fill=\"#000000\" fill-rule=\"evenodd\" fill-opacity=\"1\" /><path clip-path=\"url(#clip040)\" d=\"M127.2 1162.21 Q123.589 1162.21 121.76 1165.78 Q119.955 1169.32 119.955 1176.45 Q119.955 1183.55 121.76 1187.12 Q123.589 1190.66 127.2 1190.66 Q130.834 1190.66 132.64 1187.12 Q134.468 1183.55 134.468 1176.45 Q134.468 1169.32 132.64 1165.78 Q130.834 1162.21 127.2 1162.21 M127.2 1158.51 Q133.01 1158.51 136.066 1163.11 Q139.144 1167.7 139.144 1176.45 Q139.144 1185.17 136.066 1189.78 Q133.01 1194.36 127.2 1194.36 Q121.39 1194.36 118.311 1189.78 Q115.256 1185.17 115.256 1176.45 Q115.256 1167.7 118.311 1163.11 Q121.39 1158.51 127.2 1158.51 Z\" fill=\"#000000\" fill-rule=\"evenodd\" fill-opacity=\"1\" /><path clip-path=\"url(#clip040)\" d=\"M147.362 1187.81 L152.246 1187.81 L152.246 1193.69 L147.362 1193.69 L147.362 1187.81 Z\" fill=\"#000000\" fill-rule=\"evenodd\" fill-opacity=\"1\" /><path clip-path=\"url(#clip040)\" d=\"M172.431 1162.21 Q168.82 1162.21 166.991 1165.78 Q165.186 1169.32 165.186 1176.45 Q165.186 1183.55 166.991 1187.12 Q168.82 1190.66 172.431 1190.66 Q176.065 1190.66 177.871 1187.12 Q179.7 1183.55 179.7 1176.45 Q179.7 1169.32 177.871 1165.78 Q176.065 1162.21 172.431 1162.21 M172.431 1158.51 Q178.241 1158.51 181.297 1163.11 Q184.376 1167.7 184.376 1176.45 Q184.376 1185.17 181.297 1189.78 Q178.241 1194.36 172.431 1194.36 Q166.621 1194.36 163.542 1189.78 Q160.487 1185.17 160.487 1176.45 Q160.487 1167.7 163.542 1163.11 Q166.621 1158.51 172.431 1158.51 Z\" fill=\"#000000\" fill-rule=\"evenodd\" fill-opacity=\"1\" /><path clip-path=\"url(#clip040)\" d=\"M192.639 1159.13 L210.996 1159.13 L210.996 1163.07 L196.922 1163.07 L196.922 1171.54 Q197.94 1171.19 198.959 1171.03 Q199.977 1170.85 200.996 1170.85 Q206.783 1170.85 210.162 1174.02 Q213.542 1177.19 213.542 1182.6 Q213.542 1188.18 210.07 1191.29 Q206.598 1194.36 200.278 1194.36 Q198.102 1194.36 195.834 1193.99 Q193.588 1193.62 191.181 1192.88 L191.181 1188.18 Q193.264 1189.32 195.487 1189.87 Q197.709 1190.43 200.186 1190.43 Q204.19 1190.43 206.528 1188.32 Q208.866 1186.22 208.866 1182.6 Q208.866 1178.99 206.528 1176.89 Q204.19 1174.78 200.186 1174.78 Q198.311 1174.78 196.436 1175.2 Q194.584 1175.61 192.639 1176.49 L192.639 1159.13 Z\" fill=\"#000000\" fill-rule=\"evenodd\" fill-opacity=\"1\" /><path clip-path=\"url(#clip040)\" d=\"M126.205 892.909 Q122.593 892.909 120.765 896.473 Q118.959 900.015 118.959 907.145 Q118.959 914.251 120.765 917.816 Q122.593 921.358 126.205 921.358 Q129.839 921.358 131.644 917.816 Q133.473 914.251 133.473 907.145 Q133.473 900.015 131.644 896.473 Q129.839 892.909 126.205 892.909 M126.205 889.205 Q132.015 889.205 135.07 893.811 Q138.149 898.395 138.149 907.145 Q138.149 915.871 135.07 920.478 Q132.015 925.061 126.205 925.061 Q120.394 925.061 117.316 920.478 Q114.26 915.871 114.26 907.145 Q114.26 898.395 117.316 893.811 Q120.394 889.205 126.205 889.205 Z\" fill=\"#000000\" fill-rule=\"evenodd\" fill-opacity=\"1\" /><path clip-path=\"url(#clip040)\" d=\"M146.366 918.51 L151.251 918.51 L151.251 924.39 L146.366 924.39 L146.366 918.51 Z\" fill=\"#000000\" fill-rule=\"evenodd\" fill-opacity=\"1\" /><path clip-path=\"url(#clip040)\" d=\"M162.246 920.455 L169.885 920.455 L169.885 894.089 L161.575 895.756 L161.575 891.497 L169.839 889.83 L174.514 889.83 L174.514 920.455 L182.153 920.455 L182.153 924.39 L162.246 924.39 L162.246 920.455 Z\" fill=\"#000000\" fill-rule=\"evenodd\" fill-opacity=\"1\" /><path clip-path=\"url(#clip040)\" d=\"M201.598 892.909 Q197.987 892.909 196.158 896.473 Q194.352 900.015 194.352 907.145 Q194.352 914.251 196.158 917.816 Q197.987 921.358 201.598 921.358 Q205.232 921.358 207.037 917.816 Q208.866 914.251 208.866 907.145 Q208.866 900.015 207.037 896.473 Q205.232 892.909 201.598 892.909 M201.598 889.205 Q207.408 889.205 210.463 893.811 Q213.542 898.395 213.542 907.145 Q213.542 915.871 210.463 920.478 Q207.408 925.061 201.598 925.061 Q195.787 925.061 192.709 920.478 Q189.653 915.871 189.653 907.145 Q189.653 898.395 192.709 893.811 Q195.787 889.205 201.598 889.205 Z\" fill=\"#000000\" fill-rule=\"evenodd\" fill-opacity=\"1\" /><path clip-path=\"url(#clip040)\" d=\"M127.2 623.606 Q123.589 623.606 121.76 627.171 Q119.955 630.712 119.955 637.842 Q119.955 644.948 121.76 648.513 Q123.589 652.055 127.2 652.055 Q130.834 652.055 132.64 648.513 Q134.468 644.948 134.468 637.842 Q134.468 630.712 132.64 627.171 Q130.834 623.606 127.2 623.606 M127.2 619.902 Q133.01 619.902 136.066 624.509 Q139.144 629.092 139.144 637.842 Q139.144 646.569 136.066 651.175 Q133.01 655.758 127.2 655.758 Q121.39 655.758 118.311 651.175 Q115.256 646.569 115.256 637.842 Q115.256 629.092 118.311 624.509 Q121.39 619.902 127.2 619.902 Z\" fill=\"#000000\" fill-rule=\"evenodd\" fill-opacity=\"1\" /><path clip-path=\"url(#clip040)\" d=\"M147.362 649.208 L152.246 649.208 L152.246 655.087 L147.362 655.087 L147.362 649.208 Z\" fill=\"#000000\" fill-rule=\"evenodd\" fill-opacity=\"1\" /><path clip-path=\"url(#clip040)\" d=\"M163.241 651.152 L170.88 651.152 L170.88 624.786 L162.57 626.453 L162.57 622.194 L170.834 620.527 L175.51 620.527 L175.51 651.152 L183.149 651.152 L183.149 655.087 L163.241 655.087 L163.241 651.152 Z\" fill=\"#000000\" fill-rule=\"evenodd\" fill-opacity=\"1\" /><path clip-path=\"url(#clip040)\" d=\"M192.639 620.527 L210.996 620.527 L210.996 624.462 L196.922 624.462 L196.922 632.934 Q197.94 632.587 198.959 632.425 Q199.977 632.24 200.996 632.24 Q206.783 632.24 210.162 635.411 Q213.542 638.583 213.542 643.999 Q213.542 649.578 210.07 652.68 Q206.598 655.758 200.278 655.758 Q198.102 655.758 195.834 655.388 Q193.588 655.018 191.181 654.277 L191.181 649.578 Q193.264 650.712 195.487 651.268 Q197.709 651.823 200.186 651.823 Q204.19 651.823 206.528 649.717 Q208.866 647.61 208.866 643.999 Q208.866 640.388 206.528 638.282 Q204.19 636.175 200.186 636.175 Q198.311 636.175 196.436 636.592 Q194.584 637.008 192.639 637.888 L192.639 620.527 Z\" fill=\"#000000\" fill-rule=\"evenodd\" fill-opacity=\"1\" /><path clip-path=\"url(#clip040)\" d=\"M126.205 354.303 Q122.593 354.303 120.765 357.868 Q118.959 361.409 118.959 368.539 Q118.959 375.645 120.765 379.21 Q122.593 382.752 126.205 382.752 Q129.839 382.752 131.644 379.21 Q133.473 375.645 133.473 368.539 Q133.473 361.409 131.644 357.868 Q129.839 354.303 126.205 354.303 M126.205 350.599 Q132.015 350.599 135.07 355.206 Q138.149 359.789 138.149 368.539 Q138.149 377.266 135.07 381.872 Q132.015 386.456 126.205 386.456 Q120.394 386.456 117.316 381.872 Q114.26 377.266 114.26 368.539 Q114.26 359.789 117.316 355.206 Q120.394 350.599 126.205 350.599 Z\" fill=\"#000000\" fill-rule=\"evenodd\" fill-opacity=\"1\" /><path clip-path=\"url(#clip040)\" d=\"M146.366 379.905 L151.251 379.905 L151.251 385.784 L146.366 385.784 L146.366 379.905 Z\" fill=\"#000000\" fill-rule=\"evenodd\" fill-opacity=\"1\" /><path clip-path=\"url(#clip040)\" d=\"M165.464 381.849 L181.783 381.849 L181.783 385.784 L159.839 385.784 L159.839 381.849 Q162.501 379.094 167.084 374.465 Q171.69 369.812 172.871 368.47 Q175.116 365.946 175.996 364.21 Q176.899 362.451 176.899 360.761 Q176.899 358.007 174.954 356.271 Q173.033 354.534 169.931 354.534 Q167.732 354.534 165.278 355.298 Q162.848 356.062 160.07 357.613 L160.07 352.891 Q162.894 351.757 165.348 351.178 Q167.802 350.599 169.839 350.599 Q175.209 350.599 178.403 353.284 Q181.598 355.97 181.598 360.46 Q181.598 362.59 180.788 364.511 Q180.001 366.409 177.894 369.002 Q177.315 369.673 174.214 372.891 Q171.112 376.085 165.464 381.849 Z\" fill=\"#000000\" fill-rule=\"evenodd\" fill-opacity=\"1\" /><path clip-path=\"url(#clip040)\" d=\"M201.598 354.303 Q197.987 354.303 196.158 357.868 Q194.352 361.409 194.352 368.539 Q194.352 375.645 196.158 379.21 Q197.987 382.752 201.598 382.752 Q205.232 382.752 207.037 379.21 Q208.866 375.645 208.866 368.539 Q208.866 361.409 207.037 357.868 Q205.232 354.303 201.598 354.303 M201.598 350.599 Q207.408 350.599 210.463 355.206 Q213.542 359.789 213.542 368.539 Q213.542 377.266 210.463 381.872 Q207.408 386.456 201.598 386.456 Q195.787 386.456 192.709 381.872 Q189.653 377.266 189.653 368.539 Q189.653 359.789 192.709 355.206 Q195.787 350.599 201.598 350.599 Z\" fill=\"#000000\" fill-rule=\"evenodd\" fill-opacity=\"1\" /><path clip-path=\"url(#clip040)\" d=\"M127.2 85.0001 Q123.589 85.0001 121.76 88.5649 Q119.955 92.1065 119.955 99.2361 Q119.955 106.343 121.76 109.907 Q123.589 113.449 127.2 113.449 Q130.834 113.449 132.64 109.907 Q134.468 106.343 134.468 99.2361 Q134.468 92.1065 132.64 88.5649 Q130.834 85.0001 127.2 85.0001 M127.2 81.2964 Q133.01 81.2964 136.066 85.9028 Q139.144 90.4861 139.144 99.2361 Q139.144 107.963 136.066 112.569 Q133.01 117.153 127.2 117.153 Q121.39 117.153 118.311 112.569 Q115.256 107.963 115.256 99.2361 Q115.256 90.4861 118.311 85.9028 Q121.39 81.2964 127.2 81.2964 Z\" fill=\"#000000\" fill-rule=\"evenodd\" fill-opacity=\"1\" /><path clip-path=\"url(#clip040)\" d=\"M147.362 110.602 L152.246 110.602 L152.246 116.481 L147.362 116.481 L147.362 110.602 Z\" fill=\"#000000\" fill-rule=\"evenodd\" fill-opacity=\"1\" /><path clip-path=\"url(#clip040)\" d=\"M166.459 112.546 L182.778 112.546 L182.778 116.481 L160.834 116.481 L160.834 112.546 Q163.496 109.792 168.079 105.162 Q172.686 100.509 173.866 99.1666 Q176.112 96.6435 176.991 94.9074 Q177.894 93.1482 177.894 91.4584 Q177.894 88.7037 175.95 86.9676 Q174.028 85.2315 170.927 85.2315 Q168.727 85.2315 166.274 85.9954 Q163.843 86.7593 161.065 88.3102 L161.065 83.588 Q163.89 82.4538 166.343 81.8751 Q168.797 81.2964 170.834 81.2964 Q176.204 81.2964 179.399 83.9815 Q182.593 86.6667 182.593 91.1574 Q182.593 93.287 181.783 95.2083 Q180.996 97.1065 178.889 99.6991 Q178.311 100.37 175.209 103.588 Q172.107 106.782 166.459 112.546 Z\" fill=\"#000000\" fill-rule=\"evenodd\" fill-opacity=\"1\" /><path clip-path=\"url(#clip040)\" d=\"M192.639 81.9214 L210.996 81.9214 L210.996 85.8565 L196.922 85.8565 L196.922 94.3287 Q197.94 93.9815 198.959 93.8195 Q199.977 93.6343 200.996 93.6343 Q206.783 93.6343 210.162 96.8055 Q213.542 99.9768 213.542 105.393 Q213.542 110.972 210.07 114.074 Q206.598 117.153 200.278 117.153 Q198.102 117.153 195.834 116.782 Q193.588 116.412 191.181 115.671 L191.181 110.972 Q193.264 112.106 195.487 112.662 Q197.709 113.217 200.186 113.217 Q204.19 113.217 206.528 111.111 Q208.866 109.005 208.866 105.393 Q208.866 101.782 206.528 99.6759 Q204.19 97.5694 200.186 97.5694 Q198.311 97.5694 196.436 97.9861 Q194.584 98.4028 192.639 99.2824 L192.639 81.9214 Z\" fill=\"#000000\" fill-rule=\"evenodd\" fill-opacity=\"1\" /><path clip-path=\"url(#clip040)\" d=\"M63.0175 932.975 L57.161 932.975 Q58.3069 930.556 58.9116 928.073 Q59.5163 925.591 59.5163 923.204 Q59.5163 916.838 55.2513 913.496 Q50.9545 910.122 42.2334 909.645 Q44.9707 911.491 46.4348 914.323 Q47.8989 917.156 47.8989 920.594 Q47.8989 927.723 43.6021 931.893 Q39.2734 936.031 31.7937 936.031 Q24.4731 936.031 20.049 931.702 Q15.6248 927.373 15.6248 920.18 Q15.6248 911.936 21.9587 907.608 Q28.2607 903.247 40.2919 903.247 Q51.5274 903.247 58.2432 908.594 Q64.9272 913.91 64.9272 922.917 Q64.9272 925.336 64.4498 927.819 Q63.9723 930.301 63.0175 932.975 M42.87 920.18 Q42.87 915.851 39.91 913.337 Q36.9499 910.791 31.7937 910.791 Q26.6693 910.791 23.7092 913.337 Q20.7174 915.851 20.7174 920.18 Q20.7174 924.509 23.7092 927.055 Q26.6693 929.569 31.7937 929.569 Q36.9499 929.569 39.91 927.055 Q42.87 924.509 42.87 920.18 Z\" fill=\"#000000\" fill-rule=\"evenodd\" fill-opacity=\"1\" /><path clip-path=\"url(#clip040)\" d=\"M63.0175 891.502 L57.161 891.502 Q58.3069 889.083 58.9116 886.601 Q59.5163 884.118 59.5163 881.731 Q59.5163 875.365 55.2513 872.023 Q50.9545 868.65 42.2334 868.172 Q44.9707 870.018 46.4348 872.851 Q47.8989 875.684 47.8989 879.121 Q47.8989 886.251 43.6021 890.42 Q39.2734 894.558 31.7937 894.558 Q24.4731 894.558 20.049 890.229 Q15.6248 885.901 15.6248 878.707 Q15.6248 870.464 21.9587 866.135 Q28.2607 861.775 40.2919 861.775 Q51.5274 861.775 58.2432 867.122 Q64.9272 872.437 64.9272 881.445 Q64.9272 883.864 64.4498 886.346 Q63.9723 888.829 63.0175 891.502 M42.87 878.707 Q42.87 874.379 39.91 871.864 Q36.9499 869.318 31.7937 869.318 Q26.6693 869.318 23.7092 871.864 Q20.7174 874.379 20.7174 878.707 Q20.7174 883.036 23.7092 885.582 Q26.6693 888.097 31.7937 888.097 Q36.9499 888.097 39.91 885.582 Q42.87 883.036 42.87 878.707 Z\" fill=\"#000000\" fill-rule=\"evenodd\" fill-opacity=\"1\" /><path clip-path=\"url(#clip040)\" d=\"M22.086 832.556 L47.4533 848.789 L47.4533 832.556 L22.086 832.556 M16.4842 834.243 L16.4842 826.158 L47.4533 826.158 L47.4533 819.379 L52.8005 819.379 L52.8005 826.158 L64.0042 826.158 L64.0042 832.556 L52.8005 832.556 L52.8005 854.008 L46.5939 854.008 L16.4842 834.243 Z\" fill=\"#000000\" fill-rule=\"evenodd\" fill-opacity=\"1\" /><path clip-path=\"url(#clip040)\" d=\"M43.5384 812.536 L43.5384 795.38 L48.7583 795.38 L48.7583 812.536 L43.5384 812.536 Z\" fill=\"#000000\" fill-rule=\"evenodd\" fill-opacity=\"1\" /><path clip-path=\"url(#clip040)\" d=\"M18.2347 780.262 L28.3562 780.262 L28.3562 768.199 L32.9077 768.199 L32.9077 780.262 L52.2594 780.262 Q56.6199 780.262 57.8613 779.084 Q59.1026 777.875 59.1026 774.214 L59.1026 768.199 L64.0042 768.199 L64.0042 774.214 Q64.0042 780.994 61.4897 783.572 Q58.9434 786.15 52.2594 786.15 L32.9077 786.15 L32.9077 790.447 L28.3562 790.447 L28.3562 786.15 L18.2347 786.15 L18.2347 780.262 Z\" fill=\"#000000\" fill-rule=\"evenodd\" fill-opacity=\"1\" /><path clip-path=\"url(#clip040)\" d=\"M42.4881 730.864 L64.0042 730.864 L64.0042 736.72 L42.679 736.72 Q37.6183 736.72 35.1038 738.694 Q32.5894 740.667 32.5894 744.614 Q32.5894 749.356 35.6131 752.093 Q38.6368 754.831 43.8567 754.831 L64.0042 754.831 L64.0042 760.719 L14.479 760.719 L14.479 754.831 L33.8944 754.831 Q30.6797 752.73 29.0883 749.897 Q27.4968 747.033 27.4968 743.309 Q27.4968 737.166 31.3163 734.015 Q35.1038 730.864 42.4881 730.864 Z\" fill=\"#000000\" fill-rule=\"evenodd\" fill-opacity=\"1\" /><path clip-path=\"url(#clip040)\" d=\"M58.657 692.797 L77.5631 692.797 L77.5631 698.685 L28.3562 698.685 L28.3562 692.797 L33.7671 692.797 Q30.5842 690.951 29.0564 688.15 Q27.4968 685.317 27.4968 681.402 Q27.4968 674.909 32.6531 670.867 Q37.8093 666.793 46.212 666.793 Q54.6147 666.793 59.771 670.867 Q64.9272 674.909 64.9272 681.402 Q64.9272 685.317 63.3994 688.15 Q61.8398 690.951 58.657 692.797 M46.212 672.872 Q39.7508 672.872 36.0905 675.546 Q32.3984 678.188 32.3984 682.835 Q32.3984 687.482 36.0905 690.155 Q39.7508 692.797 46.212 692.797 Q52.6732 692.797 56.3653 690.155 Q60.0256 687.482 60.0256 682.835 Q60.0256 678.188 56.3653 675.546 Q52.6732 672.872 46.212 672.872 Z\" fill=\"#000000\" fill-rule=\"evenodd\" fill-opacity=\"1\" /><path clip-path=\"url(#clip040)\" d=\"M33.7671 633.628 L14.479 633.628 L14.479 627.771 L64.0042 627.771 L64.0042 633.628 L58.657 633.628 Q61.8398 635.474 63.3994 638.306 Q64.9272 641.107 64.9272 645.054 Q64.9272 651.515 59.771 655.589 Q54.6147 659.632 46.212 659.632 Q37.8093 659.632 32.6531 655.589 Q27.4968 651.515 27.4968 645.054 Q27.4968 641.107 29.0564 638.306 Q30.5842 635.474 33.7671 633.628 M46.212 653.584 Q52.6732 653.584 56.3653 650.942 Q60.0256 648.269 60.0256 643.622 Q60.0256 638.975 56.3653 636.301 Q52.6732 633.628 46.212 633.628 Q39.7508 633.628 36.0905 636.301 Q32.3984 638.975 32.3984 643.622 Q32.3984 648.269 36.0905 650.942 Q39.7508 653.584 46.212 653.584 Z\" fill=\"#000000\" fill-rule=\"evenodd\" fill-opacity=\"1\" /><path clip-path=\"url(#clip040)\" d=\"M14.479 597.661 L19.3487 597.661 L19.3487 603.263 Q19.3487 606.414 20.6219 607.656 Q21.895 608.865 25.2052 608.865 L28.3562 608.865 L28.3562 599.221 L32.9077 599.221 L32.9077 608.865 L64.0042 608.865 L64.0042 614.753 L32.9077 614.753 L32.9077 620.355 L28.3562 620.355 L28.3562 614.753 L25.8736 614.753 Q19.9216 614.753 17.2162 611.984 Q14.479 609.215 14.479 603.2 L14.479 597.661 Z\" fill=\"#000000\" fill-rule=\"evenodd\" fill-opacity=\"1\" /><polyline clip-path=\"url(#clip042)\" style=\"stroke:#009af9; stroke-linecap:butt; stroke-linejoin:round; stroke-width:4; stroke-opacity:1; fill:none\" points=\"\n",
       "  309.067,1445.72 310.279,1445.72 312.459,1445.72 315.605,1445.72 319.714,1445.72 324.782,1445.72 330.804,1445.72 337.774,1445.72 345.685,1445.72 354.53,1445.72 \n",
       "  364.3,1445.72 374.985,1445.72 386.575,1445.72 399.059,1445.72 412.424,1445.72 426.657,1445.72 441.745,1445.72 457.673,1445.72 474.425,1445.71 491.984,1445.71 \n",
       "  510.335,1445.71 529.457,1445.71 549.334,1445.7 569.946,1445.69 591.272,1445.67 613.291,1445.63 635.983,1445.56 659.324,1445.42 683.293,1445.17 707.865,1444.7 \n",
       "  733.017,1443.87 758.725,1442.41 784.962,1439.88 811.703,1435.6 838.923,1428.52 866.594,1417.14 894.69,1399.36 923.184,1372.47 952.046,1333.16 981.249,1277.81 \n",
       "  1010.77,1202.93 1040.57,1105.93 1070.62,986.046 1100.9,845.343 1131.37,689.435 1162.02,527.72 1192.79,372.803 1223.68,239.041 1254.64,140.39 1285.64,87.9763 \n",
       "  1316.66,87.9763 1347.66,140.39 1378.62,239.041 1409.5,372.803 1440.28,527.72 1470.92,689.435 1501.4,845.343 1531.68,986.046 1561.73,1105.93 1591.53,1202.93 \n",
       "  1621.05,1277.81 1650.25,1333.16 1679.11,1372.47 1707.61,1399.36 1735.7,1417.14 1763.37,1428.52 1790.59,1435.6 1817.34,1439.88 1843.57,1442.41 1869.28,1443.87 \n",
       "  1894.43,1444.7 1919,1445.17 1942.97,1445.42 1966.32,1445.56 1989.01,1445.63 2011.03,1445.67 2032.35,1445.69 2052.96,1445.7 2072.84,1445.71 2091.96,1445.71 \n",
       "  2110.31,1445.71 2127.87,1445.71 2144.62,1445.72 2160.55,1445.72 2175.64,1445.72 2189.87,1445.72 2203.24,1445.72 2215.72,1445.72 2227.31,1445.72 2238,1445.72 \n",
       "  2247.77,1445.72 2256.61,1445.72 2264.52,1445.72 2271.49,1445.72 2277.52,1445.72 2282.58,1445.72 2286.69,1445.72 2289.84,1445.72 2292.02,1445.72 2293.23,1445.72 \n",
       "  \n",
       "  \"/>\n",
       "<polyline clip-path=\"url(#clip042)\" style=\"stroke:#e26f46; stroke-linecap:butt; stroke-linejoin:round; stroke-width:4; stroke-opacity:1; fill:none\" points=\"\n",
       "  309.067,1445.72 310.279,1445.72 312.459,1445.72 315.605,1445.72 319.714,1445.72 324.782,1445.72 330.804,1445.72 337.774,1445.72 345.685,1445.72 354.53,1445.72 \n",
       "  364.3,1445.72 374.985,1445.72 386.575,1445.72 399.059,1445.72 412.424,1445.72 426.657,1445.72 441.745,1445.72 457.673,1445.72 474.425,1445.71 491.984,1445.71 \n",
       "  510.335,1445.71 529.457,1445.71 549.334,1445.7 569.946,1445.69 591.272,1445.67 613.291,1445.63 635.983,1445.56 659.324,1445.42 683.293,1445.17 707.865,1444.7 \n",
       "  733.017,1443.87 758.725,1442.41 784.962,1439.88 811.703,1435.6 838.923,1428.52 866.594,1417.14 894.69,1399.36 923.184,1372.47 952.046,1333.16 981.249,1277.81 \n",
       "  1010.77,1202.93 1040.57,1105.93 1070.62,986.046 1100.9,845.343 1131.37,689.435 1162.02,527.72 1192.79,372.803 1223.68,239.041 1254.64,140.39 1285.64,87.9763 \n",
       "  1316.66,87.9763 1347.66,140.39 1378.62,239.041 1409.5,372.803 1440.28,527.72 1470.92,689.435 1501.4,845.343 1531.68,986.046 1561.73,1105.93 1591.53,1202.93 \n",
       "  1621.05,1277.81 1650.25,1333.16 1679.11,1372.47 1707.61,1399.36 1735.7,1417.14 1763.37,1428.52 1790.59,1435.6 1817.34,1439.88 1843.57,1442.41 1869.28,1443.87 \n",
       "  1894.43,1444.7 1919,1445.17 1942.97,1445.42 1966.32,1445.56 1989.01,1445.63 2011.03,1445.67 2032.35,1445.69 2052.96,1445.7 2072.84,1445.71 2091.96,1445.71 \n",
       "  2110.31,1445.71 2127.87,1445.71 2144.62,1445.72 2160.55,1445.72 2175.64,1445.72 2189.87,1445.72 2203.24,1445.72 2215.72,1445.72 2227.31,1445.72 2238,1445.72 \n",
       "  2247.77,1445.72 2256.61,1445.72 2264.52,1445.72 2271.49,1445.72 2277.52,1445.72 2282.58,1445.72 2286.69,1445.72 2289.84,1445.72 2292.02,1445.72 2293.23,1445.72 \n",
       "  \n",
       "  \"/>\n",
       "<path clip-path=\"url(#clip040)\" d=\"\n",
       "M1996.53 250.738 L2282.65 250.738 L2282.65 95.2176 L1996.53 95.2176  Z\n",
       "  \" fill=\"#ffffff\" fill-rule=\"evenodd\" fill-opacity=\"1\"/>\n",
       "<polyline clip-path=\"url(#clip040)\" style=\"stroke:#000000; stroke-linecap:butt; stroke-linejoin:round; stroke-width:4; stroke-opacity:1; fill:none\" points=\"\n",
       "  1996.53,250.738 2282.65,250.738 2282.65,95.2176 1996.53,95.2176 1996.53,250.738 \n",
       "  \"/>\n",
       "<polyline clip-path=\"url(#clip040)\" style=\"stroke:#009af9; stroke-linecap:butt; stroke-linejoin:round; stroke-width:4; stroke-opacity:1; fill:none\" points=\"\n",
       "  2019.9,147.058 2160.11,147.058 \n",
       "  \"/>\n",
       "<path clip-path=\"url(#clip040)\" d=\"M2197.32 166.745 Q2195.52 171.375 2193.8 172.787 Q2192.09 174.199 2189.22 174.199 L2185.82 174.199 L2185.82 170.634 L2188.32 170.634 Q2190.08 170.634 2191.05 169.8 Q2192.02 168.967 2193.2 165.865 L2193.97 163.921 L2183.48 138.412 L2187.99 138.412 L2196.1 158.689 L2204.2 138.412 L2208.71 138.412 L2197.32 166.745 Z\" fill=\"#000000\" fill-rule=\"evenodd\" fill-opacity=\"1\" /><path clip-path=\"url(#clip040)\" d=\"M2216 160.402 L2223.64 160.402 L2223.64 134.037 L2215.33 135.703 L2215.33 131.444 L2223.6 129.778 L2228.27 129.778 L2228.27 160.402 L2235.91 160.402 L2235.91 164.338 L2216 164.338 L2216 160.402 Z\" fill=\"#000000\" fill-rule=\"evenodd\" fill-opacity=\"1\" /><polyline clip-path=\"url(#clip040)\" style=\"stroke:#e26f46; stroke-linecap:butt; stroke-linejoin:round; stroke-width:4; stroke-opacity:1; fill:none\" points=\"\n",
       "  2019.9,198.898 2160.11,198.898 \n",
       "  \"/>\n",
       "<path clip-path=\"url(#clip040)\" d=\"M2197.32 218.585 Q2195.52 223.215 2193.8 224.627 Q2192.09 226.039 2189.22 226.039 L2185.82 226.039 L2185.82 222.474 L2188.32 222.474 Q2190.08 222.474 2191.05 221.64 Q2192.02 220.807 2193.2 217.705 L2193.97 215.761 L2183.48 190.252 L2187.99 190.252 L2196.1 210.529 L2204.2 190.252 L2208.71 190.252 L2197.32 218.585 Z\" fill=\"#000000\" fill-rule=\"evenodd\" fill-opacity=\"1\" /><path clip-path=\"url(#clip040)\" d=\"M2219.22 212.242 L2235.54 212.242 L2235.54 216.178 L2213.6 216.178 L2213.6 212.242 Q2216.26 209.488 2220.84 204.858 Q2225.45 200.205 2226.63 198.863 Q2228.87 196.34 2229.75 194.604 Q2230.66 192.844 2230.66 191.155 Q2230.66 188.4 2228.71 186.664 Q2226.79 184.928 2223.69 184.928 Q2221.49 184.928 2219.04 185.692 Q2216.61 186.455 2213.83 188.006 L2213.83 183.284 Q2216.65 182.15 2219.11 181.571 Q2221.56 180.993 2223.6 180.993 Q2228.97 180.993 2232.16 183.678 Q2235.36 186.363 2235.36 190.854 Q2235.36 192.983 2234.54 194.905 Q2233.76 196.803 2231.65 199.395 Q2231.07 200.067 2227.97 203.284 Q2224.87 206.479 2219.22 212.242 Z\" fill=\"#000000\" fill-rule=\"evenodd\" fill-opacity=\"1\" /></svg>\n"
      ]
     },
     "execution_count": 27,
     "metadata": {},
     "output_type": "execute_result"
    }
   ],
   "source": [
    "plot(vs.u, data[idx], ylabel=\"$(idx)-th pdf\")\n",
    "plot!(vs.u, M)"
   ]
  },
  {
   "cell_type": "code",
   "execution_count": null,
   "metadata": {},
   "outputs": [],
   "source": []
  }
 ],
 "metadata": {
  "kernelspec": {
   "display_name": "Julia 1.7.0",
   "language": "julia",
   "name": "julia-1.7"
  },
  "language_info": {
   "file_extension": ".jl",
   "mimetype": "application/julia",
   "name": "julia",
   "version": "1.7.0"
  }
 },
 "nbformat": 4,
 "nbformat_minor": 4
}
