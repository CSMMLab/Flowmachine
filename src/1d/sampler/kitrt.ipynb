{
 "cells": [
  {
   "cell_type": "code",
   "execution_count": 22,
   "metadata": {},
   "outputs": [],
   "source": [
    "using KitBase, Plots, JLD2, Distributions, LinearAlgebra, Flux\n",
    "using Flux: onecold, @epochs"
   ]
  },
  {
   "cell_type": "code",
   "execution_count": 13,
   "metadata": {},
   "outputs": [
    {
     "data": {
      "text/plain": [
       "accuracy (generic function with 1 method)"
      ]
     },
     "execution_count": 13,
     "metadata": {},
     "output_type": "execute_result"
    }
   ],
   "source": [
    "function regime_data(w, sw, f, u, K, Kn, μ=ref_vhs_vis(Kn, 1.0, 0.5), ω=0.81)\n",
    "    gam = heat_capacity_ratio(K, 1)\n",
    "    prim = conserve_prim(w, gam)\n",
    "    Mu, Mxi, _, _1 = gauss_moments(prim, K)\n",
    "    a = pdf_slope(prim, sw, K)\n",
    "    swt = -prim[1] .* moments_conserve_slope(a, Mu, Mxi, 1)\n",
    "    A = pdf_slope(prim, swt, K)\n",
    "    tau = vhs_collision_time(prim, μ, ω)\n",
    "    fr = chapman_enskog(u, prim, a, A, tau)\n",
    "    L = norm((f .- fr) ./ prim[1])\n",
    "\n",
    "    x = [w; sw; tau]\n",
    "    y = ifelse(L <= 0.005, [1.0, 0.0], [0.0, 1.0])\n",
    "    return x, y\n",
    "end\n",
    "\n",
    "function regime_number(Y, rg=1)\n",
    "   idx = 0\n",
    "    for i in axes(Y, 2)\n",
    "       if Y[1, i] == rg\n",
    "            idx += 1\n",
    "        end\n",
    "    end\n",
    "    println(\"NS regime: $(idx) of $(size(Y, 2))\")\n",
    "    return nothing\n",
    "end\n",
    "\n",
    "function accuracy(nn, X, Y)\n",
    "    Y1 = nn(X)\n",
    "\n",
    "    YA1 = [onecold(Y1[:, i]) for i in axes(Y1, 2)]\n",
    "    YA = [onecold(Y[:, i]) for i in axes(Y, 2)]\n",
    "\n",
    "    accuracy = 0.0\n",
    "    for i in eachindex(YA)\n",
    "        if YA[i] == YA1[i]\n",
    "            accuracy += 1.0\n",
    "        end\n",
    "    end\n",
    "    accuracy /= length(YA)\n",
    "\n",
    "    return accuracy\n",
    "end"
   ]
  },
  {
   "cell_type": "markdown",
   "metadata": {},
   "source": [
    "### Dataset"
   ]
  },
  {
   "cell_type": "code",
   "execution_count": 3,
   "metadata": {},
   "outputs": [
    {
     "data": {
      "text/plain": [
       "500"
      ]
     },
     "execution_count": 3,
     "metadata": {},
     "output_type": "execute_result"
    }
   ],
   "source": [
    "file = open(\"/home2/vavrines/Coding/KiT-RT/result/logs/test_a3_ev5_2.csv\")\n",
    "data = []\n",
    "for line in eachline(file)\n",
    "    a = split(line, \",\")\n",
    "    b = [parse(Float64, a[i]) for i = 2:length(a)]\n",
    "    push!(data, b)\n",
    "end\n",
    "pdfs = data[3:end]\n",
    "nd = length(pdfs) ÷ 2"
   ]
  },
  {
   "cell_type": "code",
   "execution_count": 4,
   "metadata": {},
   "outputs": [
    {
     "data": {
      "text/plain": [
       "VelocitySpace1D{Float64,Int64,Vector{Float64},Vector{Float64}}\n",
       "domain: (-5.0,5.0)\n",
       "resolution: 100\n",
       "ghost: 0\n"
      ]
     },
     "execution_count": 4,
     "metadata": {},
     "output_type": "execute_result"
    }
   ],
   "source": [
    "vs = VSpace1D(-5.0, 5.0, length(data[1]), data[1], data[1][2:end] .- data[1][1:end-1], data[2])"
   ]
  },
  {
   "cell_type": "code",
   "execution_count": 5,
   "metadata": {},
   "outputs": [],
   "source": [
    "dist = Uniform(0.0001, 0.1)\n",
    "dxs = rand(dist, nd)\n",
    "dist = Uniform(0.000001, 1.0)\n",
    "kns = rand(dist, nd);"
   ]
  },
  {
   "cell_type": "code",
   "execution_count": 6,
   "metadata": {
    "scrolled": true
   },
   "outputs": [],
   "source": [
    "X = zeros(7, nd)\n",
    "Y = zeros(2, nd)\n",
    "for i = 1:nd\n",
    "    #fL = pdfs[i]; fR = pdfs[nd*2-i]\n",
    "    fL = pop!(pdfs); fR = pop!(pdfs) # shuffle\n",
    "    wL = moments_conserve(fL, vs.u, vs.weights); wR = moments_conserve(fR, vs.u, vs.weights)\n",
    "    #@show wL, wR\n",
    "    w = @. (wL + wR) / 2\n",
    "    sw = @. (wR - wL) / dxs[i]\n",
    "    f = @. (fL + fR) / 2\n",
    "    \n",
    "    X[:, i], Y[:, i] = regime_data(w, sw, f, vs.u, 0, kns[i])\n",
    "end"
   ]
  },
  {
   "cell_type": "code",
   "execution_count": 7,
   "metadata": {},
   "outputs": [
    {
     "name": "stdout",
     "output_type": "stream",
     "text": [
      "NS regime: 103 of 500\n"
     ]
    }
   ],
   "source": [
    "regime_number(Y)"
   ]
  },
  {
   "cell_type": "code",
   "execution_count": 8,
   "metadata": {},
   "outputs": [
    {
     "data": {
      "image/svg+xml": [
       "<?xml version=\"1.0\" encoding=\"utf-8\"?>\n",
       "<svg xmlns=\"http://www.w3.org/2000/svg\" xmlns:xlink=\"http://www.w3.org/1999/xlink\" width=\"600\" height=\"400\" viewBox=\"0 0 2400 1600\">\n",
       "<defs>\n",
       "  <clipPath id=\"clip650\">\n",
       "    <rect x=\"0\" y=\"0\" width=\"2400\" height=\"1600\"/>\n",
       "  </clipPath>\n",
       "</defs>\n",
       "<path clip-path=\"url(#clip650)\" d=\"\n",
       "M0 1600 L2400 1600 L2400 0 L0 0  Z\n",
       "  \" fill=\"#ffffff\" fill-rule=\"evenodd\" fill-opacity=\"1\"/>\n",
       "<defs>\n",
       "  <clipPath id=\"clip651\">\n",
       "    <rect x=\"480\" y=\"0\" width=\"1681\" height=\"1600\"/>\n",
       "  </clipPath>\n",
       "</defs>\n",
       "<path clip-path=\"url(#clip650)\" d=\"\n",
       "M219.866 1486.45 L2352.76 1486.45 L2352.76 47.2441 L219.866 47.2441  Z\n",
       "  \" fill=\"#ffffff\" fill-rule=\"evenodd\" fill-opacity=\"1\"/>\n",
       "<defs>\n",
       "  <clipPath id=\"clip652\">\n",
       "    <rect x=\"219\" y=\"47\" width=\"2134\" height=\"1440\"/>\n",
       "  </clipPath>\n",
       "</defs>\n",
       "<polyline clip-path=\"url(#clip652)\" style=\"stroke:#000000; stroke-linecap:butt; stroke-linejoin:round; stroke-width:2; stroke-opacity:0.1; fill:none\" points=\"\n",
       "  481.217,1486.45 481.217,47.2441 \n",
       "  \"/>\n",
       "<polyline clip-path=\"url(#clip652)\" style=\"stroke:#000000; stroke-linecap:butt; stroke-linejoin:round; stroke-width:2; stroke-opacity:0.1; fill:none\" points=\"\n",
       "  883.764,1486.45 883.764,47.2441 \n",
       "  \"/>\n",
       "<polyline clip-path=\"url(#clip652)\" style=\"stroke:#000000; stroke-linecap:butt; stroke-linejoin:round; stroke-width:2; stroke-opacity:0.1; fill:none\" points=\"\n",
       "  1286.31,1486.45 1286.31,47.2441 \n",
       "  \"/>\n",
       "<polyline clip-path=\"url(#clip652)\" style=\"stroke:#000000; stroke-linecap:butt; stroke-linejoin:round; stroke-width:2; stroke-opacity:0.1; fill:none\" points=\"\n",
       "  1688.86,1486.45 1688.86,47.2441 \n",
       "  \"/>\n",
       "<polyline clip-path=\"url(#clip652)\" style=\"stroke:#000000; stroke-linecap:butt; stroke-linejoin:round; stroke-width:2; stroke-opacity:0.1; fill:none\" points=\"\n",
       "  2091.41,1486.45 2091.41,47.2441 \n",
       "  \"/>\n",
       "<polyline clip-path=\"url(#clip650)\" style=\"stroke:#000000; stroke-linecap:butt; stroke-linejoin:round; stroke-width:4; stroke-opacity:1; fill:none\" points=\"\n",
       "  219.866,1486.45 2352.76,1486.45 \n",
       "  \"/>\n",
       "<polyline clip-path=\"url(#clip650)\" style=\"stroke:#000000; stroke-linecap:butt; stroke-linejoin:round; stroke-width:4; stroke-opacity:1; fill:none\" points=\"\n",
       "  481.217,1486.45 481.217,1467.55 \n",
       "  \"/>\n",
       "<polyline clip-path=\"url(#clip650)\" style=\"stroke:#000000; stroke-linecap:butt; stroke-linejoin:round; stroke-width:4; stroke-opacity:1; fill:none\" points=\"\n",
       "  883.764,1486.45 883.764,1467.55 \n",
       "  \"/>\n",
       "<polyline clip-path=\"url(#clip650)\" style=\"stroke:#000000; stroke-linecap:butt; stroke-linejoin:round; stroke-width:4; stroke-opacity:1; fill:none\" points=\"\n",
       "  1286.31,1486.45 1286.31,1467.55 \n",
       "  \"/>\n",
       "<polyline clip-path=\"url(#clip650)\" style=\"stroke:#000000; stroke-linecap:butt; stroke-linejoin:round; stroke-width:4; stroke-opacity:1; fill:none\" points=\"\n",
       "  1688.86,1486.45 1688.86,1467.55 \n",
       "  \"/>\n",
       "<polyline clip-path=\"url(#clip650)\" style=\"stroke:#000000; stroke-linecap:butt; stroke-linejoin:round; stroke-width:4; stroke-opacity:1; fill:none\" points=\"\n",
       "  2091.41,1486.45 2091.41,1467.55 \n",
       "  \"/>\n",
       "<path clip-path=\"url(#clip650)\" d=\"M450.117 1532.02 L479.793 1532.02 L479.793 1535.95 L450.117 1535.95 L450.117 1532.02 Z\" fill=\"#000000\" fill-rule=\"evenodd\" fill-opacity=\"1\" /><path clip-path=\"url(#clip650)\" d=\"M502.733 1518.36 L490.927 1536.81 L502.733 1536.81 L502.733 1518.36 M501.506 1514.29 L507.385 1514.29 L507.385 1536.81 L512.316 1536.81 L512.316 1540.7 L507.385 1540.7 L507.385 1548.85 L502.733 1548.85 L502.733 1540.7 L487.131 1540.7 L487.131 1536.19 L501.506 1514.29 Z\" fill=\"#000000\" fill-rule=\"evenodd\" fill-opacity=\"1\" /><path clip-path=\"url(#clip650)\" d=\"M853.706 1532.02 L883.382 1532.02 L883.382 1535.95 L853.706 1535.95 L853.706 1532.02 Z\" fill=\"#000000\" fill-rule=\"evenodd\" fill-opacity=\"1\" /><path clip-path=\"url(#clip650)\" d=\"M897.502 1544.91 L913.822 1544.91 L913.822 1548.85 L891.877 1548.85 L891.877 1544.91 Q894.539 1542.16 899.123 1537.53 Q903.729 1532.88 904.91 1531.53 Q907.155 1529.01 908.035 1527.27 Q908.937 1525.51 908.937 1523.82 Q908.937 1521.07 906.993 1519.33 Q905.072 1517.6 901.97 1517.6 Q899.771 1517.6 897.317 1518.36 Q894.886 1519.13 892.109 1520.68 L892.109 1515.95 Q894.933 1514.82 897.386 1514.24 Q899.84 1513.66 901.877 1513.66 Q907.248 1513.66 910.442 1516.35 Q913.636 1519.03 913.636 1523.52 Q913.636 1525.65 912.826 1527.57 Q912.039 1529.47 909.933 1532.07 Q909.354 1532.74 906.252 1535.95 Q903.15 1539.15 897.502 1544.91 Z\" fill=\"#000000\" fill-rule=\"evenodd\" fill-opacity=\"1\" /><path clip-path=\"url(#clip650)\" d=\"M1286.31 1517.37 Q1282.7 1517.37 1280.87 1520.93 Q1279.07 1524.47 1279.07 1531.6 Q1279.07 1538.71 1280.87 1542.27 Q1282.7 1545.82 1286.31 1545.82 Q1289.95 1545.82 1291.75 1542.27 Q1293.58 1538.71 1293.58 1531.6 Q1293.58 1524.47 1291.75 1520.93 Q1289.95 1517.37 1286.31 1517.37 M1286.31 1513.66 Q1292.12 1513.66 1295.18 1518.27 Q1298.26 1522.85 1298.26 1531.6 Q1298.26 1540.33 1295.18 1544.94 Q1292.12 1549.52 1286.31 1549.52 Q1280.5 1549.52 1277.42 1544.94 Q1274.37 1540.33 1274.37 1531.6 Q1274.37 1522.85 1277.42 1518.27 Q1280.5 1513.66 1286.31 1513.66 Z\" fill=\"#000000\" fill-rule=\"evenodd\" fill-opacity=\"1\" /><path clip-path=\"url(#clip650)\" d=\"M1683.51 1544.91 L1699.83 1544.91 L1699.83 1548.85 L1677.89 1548.85 L1677.89 1544.91 Q1680.55 1542.16 1685.13 1537.53 Q1689.74 1532.88 1690.92 1531.53 Q1693.16 1529.01 1694.04 1527.27 Q1694.95 1525.51 1694.95 1523.82 Q1694.95 1521.07 1693 1519.33 Q1691.08 1517.6 1687.98 1517.6 Q1685.78 1517.6 1683.33 1518.36 Q1680.9 1519.13 1678.12 1520.68 L1678.12 1515.95 Q1680.94 1514.82 1683.4 1514.24 Q1685.85 1513.66 1687.89 1513.66 Q1693.26 1513.66 1696.45 1516.35 Q1699.65 1519.03 1699.65 1523.52 Q1699.65 1525.65 1698.84 1527.57 Q1698.05 1529.47 1695.94 1532.07 Q1695.36 1532.74 1692.26 1535.95 Q1689.16 1539.15 1683.51 1544.91 Z\" fill=\"#000000\" fill-rule=\"evenodd\" fill-opacity=\"1\" /><path clip-path=\"url(#clip650)\" d=\"M2094.41 1518.36 L2082.61 1536.81 L2094.41 1536.81 L2094.41 1518.36 M2093.19 1514.29 L2099.07 1514.29 L2099.07 1536.81 L2104 1536.81 L2104 1540.7 L2099.07 1540.7 L2099.07 1548.85 L2094.41 1548.85 L2094.41 1540.7 L2078.81 1540.7 L2078.81 1536.19 L2093.19 1514.29 Z\" fill=\"#000000\" fill-rule=\"evenodd\" fill-opacity=\"1\" /><polyline clip-path=\"url(#clip652)\" style=\"stroke:#000000; stroke-linecap:butt; stroke-linejoin:round; stroke-width:2; stroke-opacity:0.1; fill:none\" points=\"\n",
       "  219.866,1445.72 2352.76,1445.72 \n",
       "  \"/>\n",
       "<polyline clip-path=\"url(#clip652)\" style=\"stroke:#000000; stroke-linecap:butt; stroke-linejoin:round; stroke-width:2; stroke-opacity:0.1; fill:none\" points=\"\n",
       "  219.866,1119.84 2352.76,1119.84 \n",
       "  \"/>\n",
       "<polyline clip-path=\"url(#clip652)\" style=\"stroke:#000000; stroke-linecap:butt; stroke-linejoin:round; stroke-width:2; stroke-opacity:0.1; fill:none\" points=\"\n",
       "  219.866,793.963 2352.76,793.963 \n",
       "  \"/>\n",
       "<polyline clip-path=\"url(#clip652)\" style=\"stroke:#000000; stroke-linecap:butt; stroke-linejoin:round; stroke-width:2; stroke-opacity:0.1; fill:none\" points=\"\n",
       "  219.866,468.087 2352.76,468.087 \n",
       "  \"/>\n",
       "<polyline clip-path=\"url(#clip652)\" style=\"stroke:#000000; stroke-linecap:butt; stroke-linejoin:round; stroke-width:2; stroke-opacity:0.1; fill:none\" points=\"\n",
       "  219.866,142.21 2352.76,142.21 \n",
       "  \"/>\n",
       "<polyline clip-path=\"url(#clip650)\" style=\"stroke:#000000; stroke-linecap:butt; stroke-linejoin:round; stroke-width:4; stroke-opacity:1; fill:none\" points=\"\n",
       "  219.866,1486.45 219.866,47.2441 \n",
       "  \"/>\n",
       "<polyline clip-path=\"url(#clip650)\" style=\"stroke:#000000; stroke-linecap:butt; stroke-linejoin:round; stroke-width:4; stroke-opacity:1; fill:none\" points=\"\n",
       "  219.866,1445.72 238.764,1445.72 \n",
       "  \"/>\n",
       "<polyline clip-path=\"url(#clip650)\" style=\"stroke:#000000; stroke-linecap:butt; stroke-linejoin:round; stroke-width:4; stroke-opacity:1; fill:none\" points=\"\n",
       "  219.866,1119.84 238.764,1119.84 \n",
       "  \"/>\n",
       "<polyline clip-path=\"url(#clip650)\" style=\"stroke:#000000; stroke-linecap:butt; stroke-linejoin:round; stroke-width:4; stroke-opacity:1; fill:none\" points=\"\n",
       "  219.866,793.963 238.764,793.963 \n",
       "  \"/>\n",
       "<polyline clip-path=\"url(#clip650)\" style=\"stroke:#000000; stroke-linecap:butt; stroke-linejoin:round; stroke-width:4; stroke-opacity:1; fill:none\" points=\"\n",
       "  219.866,468.087 238.764,468.087 \n",
       "  \"/>\n",
       "<polyline clip-path=\"url(#clip650)\" style=\"stroke:#000000; stroke-linecap:butt; stroke-linejoin:round; stroke-width:4; stroke-opacity:1; fill:none\" points=\"\n",
       "  219.866,142.21 238.764,142.21 \n",
       "  \"/>\n",
       "<path clip-path=\"url(#clip650)\" d=\"M126.691 1431.51 Q123.08 1431.51 121.251 1435.08 Q119.445 1438.62 119.445 1445.75 Q119.445 1452.86 121.251 1456.42 Q123.08 1459.96 126.691 1459.96 Q130.325 1459.96 132.13 1456.42 Q133.959 1452.86 133.959 1445.75 Q133.959 1438.62 132.13 1435.08 Q130.325 1431.51 126.691 1431.51 M126.691 1427.81 Q132.501 1427.81 135.556 1432.42 Q138.635 1437 138.635 1445.75 Q138.635 1454.48 135.556 1459.08 Q132.501 1463.67 126.691 1463.67 Q120.88 1463.67 117.802 1459.08 Q114.746 1454.48 114.746 1445.75 Q114.746 1437 117.802 1432.42 Q120.88 1427.81 126.691 1427.81 Z\" fill=\"#000000\" fill-rule=\"evenodd\" fill-opacity=\"1\" /><path clip-path=\"url(#clip650)\" d=\"M146.853 1457.12 L151.737 1457.12 L151.737 1463 L146.853 1463 L146.853 1457.12 Z\" fill=\"#000000\" fill-rule=\"evenodd\" fill-opacity=\"1\" /><path clip-path=\"url(#clip650)\" d=\"M171.922 1431.51 Q168.311 1431.51 166.482 1435.08 Q164.677 1438.62 164.677 1445.75 Q164.677 1452.86 166.482 1456.42 Q168.311 1459.96 171.922 1459.96 Q175.556 1459.96 177.362 1456.42 Q179.19 1452.86 179.19 1445.75 Q179.19 1438.62 177.362 1435.08 Q175.556 1431.51 171.922 1431.51 M171.922 1427.81 Q177.732 1427.81 180.788 1432.42 Q183.866 1437 183.866 1445.75 Q183.866 1454.48 180.788 1459.08 Q177.732 1463.67 171.922 1463.67 Q166.112 1463.67 163.033 1459.08 Q159.978 1454.48 159.978 1445.75 Q159.978 1437 163.033 1432.42 Q166.112 1427.81 171.922 1427.81 Z\" fill=\"#000000\" fill-rule=\"evenodd\" fill-opacity=\"1\" /><path clip-path=\"url(#clip650)\" d=\"M127.917 1105.64 Q124.306 1105.64 122.478 1109.2 Q120.672 1112.74 120.672 1119.87 Q120.672 1126.98 122.478 1130.55 Q124.306 1134.09 127.917 1134.09 Q131.552 1134.09 133.357 1130.55 Q135.186 1126.98 135.186 1119.87 Q135.186 1112.74 133.357 1109.2 Q131.552 1105.64 127.917 1105.64 M127.917 1101.93 Q133.728 1101.93 136.783 1106.54 Q139.862 1111.12 139.862 1119.87 Q139.862 1128.6 136.783 1133.21 Q133.728 1137.79 127.917 1137.79 Q122.107 1137.79 119.029 1133.21 Q115.973 1128.6 115.973 1119.87 Q115.973 1111.12 119.029 1106.54 Q122.107 1101.93 127.917 1101.93 Z\" fill=\"#000000\" fill-rule=\"evenodd\" fill-opacity=\"1\" /><path clip-path=\"url(#clip650)\" d=\"M148.079 1131.24 L152.964 1131.24 L152.964 1137.12 L148.079 1137.12 L148.079 1131.24 Z\" fill=\"#000000\" fill-rule=\"evenodd\" fill-opacity=\"1\" /><path clip-path=\"url(#clip650)\" d=\"M163.959 1133.18 L171.598 1133.18 L171.598 1106.82 L163.288 1108.49 L163.288 1104.23 L171.552 1102.56 L176.227 1102.56 L176.227 1133.18 L183.866 1133.18 L183.866 1137.12 L163.959 1137.12 L163.959 1133.18 Z\" fill=\"#000000\" fill-rule=\"evenodd\" fill-opacity=\"1\" /><path clip-path=\"url(#clip650)\" d=\"M128.288 779.762 Q124.677 779.762 122.848 783.327 Q121.043 786.868 121.043 793.998 Q121.043 801.104 122.848 804.669 Q124.677 808.211 128.288 808.211 Q131.922 808.211 133.728 804.669 Q135.556 801.104 135.556 793.998 Q135.556 786.868 133.728 783.327 Q131.922 779.762 128.288 779.762 M128.288 776.058 Q134.098 776.058 137.154 780.665 Q140.232 785.248 140.232 793.998 Q140.232 802.725 137.154 807.331 Q134.098 811.914 128.288 811.914 Q122.478 811.914 119.399 807.331 Q116.343 802.725 116.343 793.998 Q116.343 785.248 119.399 780.665 Q122.478 776.058 128.288 776.058 Z\" fill=\"#000000\" fill-rule=\"evenodd\" fill-opacity=\"1\" /><path clip-path=\"url(#clip650)\" d=\"M148.45 805.363 L153.334 805.363 L153.334 811.243 L148.45 811.243 L148.45 805.363 Z\" fill=\"#000000\" fill-rule=\"evenodd\" fill-opacity=\"1\" /><path clip-path=\"url(#clip650)\" d=\"M167.547 807.308 L183.866 807.308 L183.866 811.243 L161.922 811.243 L161.922 807.308 Q164.584 804.553 169.167 799.924 Q173.774 795.271 174.954 793.928 Q177.2 791.405 178.079 789.669 Q178.982 787.91 178.982 786.22 Q178.982 783.465 177.038 781.729 Q175.116 779.993 172.014 779.993 Q169.815 779.993 167.362 780.757 Q164.931 781.521 162.153 783.072 L162.153 778.35 Q164.977 777.215 167.431 776.637 Q169.885 776.058 171.922 776.058 Q177.292 776.058 180.487 778.743 Q183.681 781.428 183.681 785.919 Q183.681 788.049 182.871 789.97 Q182.084 791.868 179.977 794.461 Q179.399 795.132 176.297 798.35 Q173.195 801.544 167.547 807.308 Z\" fill=\"#000000\" fill-rule=\"evenodd\" fill-opacity=\"1\" /><path clip-path=\"url(#clip650)\" d=\"M127.339 453.885 Q123.728 453.885 121.899 457.45 Q120.093 460.992 120.093 468.121 Q120.093 475.228 121.899 478.792 Q123.728 482.334 127.339 482.334 Q130.973 482.334 132.779 478.792 Q134.607 475.228 134.607 468.121 Q134.607 460.992 132.779 457.45 Q130.973 453.885 127.339 453.885 M127.339 450.182 Q133.149 450.182 136.204 454.788 Q139.283 459.371 139.283 468.121 Q139.283 476.848 136.204 481.454 Q133.149 486.038 127.339 486.038 Q121.529 486.038 118.45 481.454 Q115.394 476.848 115.394 468.121 Q115.394 459.371 118.45 454.788 Q121.529 450.182 127.339 450.182 Z\" fill=\"#000000\" fill-rule=\"evenodd\" fill-opacity=\"1\" /><path clip-path=\"url(#clip650)\" d=\"M147.501 479.487 L152.385 479.487 L152.385 485.367 L147.501 485.367 L147.501 479.487 Z\" fill=\"#000000\" fill-rule=\"evenodd\" fill-opacity=\"1\" /><path clip-path=\"url(#clip650)\" d=\"M176.737 466.732 Q180.093 467.45 181.968 469.718 Q183.866 471.987 183.866 475.32 Q183.866 480.436 180.348 483.237 Q176.829 486.038 170.348 486.038 Q168.172 486.038 165.857 485.598 Q163.565 485.181 161.112 484.325 L161.112 479.811 Q163.056 480.945 165.371 481.524 Q167.686 482.103 170.209 482.103 Q174.607 482.103 176.899 480.367 Q179.214 478.63 179.214 475.32 Q179.214 472.265 177.061 470.552 Q174.931 468.816 171.112 468.816 L167.084 468.816 L167.084 464.973 L171.297 464.973 Q174.746 464.973 176.575 463.607 Q178.403 462.218 178.403 459.626 Q178.403 456.964 176.505 455.552 Q174.63 454.117 171.112 454.117 Q169.19 454.117 166.991 454.533 Q164.792 454.95 162.153 455.83 L162.153 451.663 Q164.815 450.922 167.13 450.552 Q169.468 450.182 171.528 450.182 Q176.852 450.182 179.954 452.612 Q183.056 455.019 183.056 459.14 Q183.056 462.01 181.413 464.001 Q179.769 465.968 176.737 466.732 Z\" fill=\"#000000\" fill-rule=\"evenodd\" fill-opacity=\"1\" /><path clip-path=\"url(#clip650)\" d=\"M126.205 128.009 Q122.593 128.009 120.765 131.573 Q118.959 135.115 118.959 142.245 Q118.959 149.351 120.765 152.916 Q122.593 156.458 126.205 156.458 Q129.839 156.458 131.644 152.916 Q133.473 149.351 133.473 142.245 Q133.473 135.115 131.644 131.573 Q129.839 128.009 126.205 128.009 M126.205 124.305 Q132.015 124.305 135.07 128.911 Q138.149 133.495 138.149 142.245 Q138.149 150.971 135.07 155.578 Q132.015 160.161 126.205 160.161 Q120.394 160.161 117.316 155.578 Q114.26 150.971 114.26 142.245 Q114.26 133.495 117.316 128.911 Q120.394 124.305 126.205 124.305 Z\" fill=\"#000000\" fill-rule=\"evenodd\" fill-opacity=\"1\" /><path clip-path=\"url(#clip650)\" d=\"M146.366 153.61 L151.251 153.61 L151.251 159.49 L146.366 159.49 L146.366 153.61 Z\" fill=\"#000000\" fill-rule=\"evenodd\" fill-opacity=\"1\" /><path clip-path=\"url(#clip650)\" d=\"M174.283 129.004 L162.477 147.453 L174.283 147.453 L174.283 129.004 M173.056 124.93 L178.936 124.93 L178.936 147.453 L183.866 147.453 L183.866 151.342 L178.936 151.342 L178.936 159.49 L174.283 159.49 L174.283 151.342 L158.681 151.342 L158.681 146.828 L173.056 124.93 Z\" fill=\"#000000\" fill-rule=\"evenodd\" fill-opacity=\"1\" /><path clip-path=\"url(#clip650)\" d=\"M58.5933 933.58 L58.5933 923.076 L22.3406 923.076 L24.6323 934.503 L18.7758 934.503 L16.4842 923.14 L16.4842 916.711 L58.5933 916.711 L58.5933 906.207 L64.0042 906.207 L64.0042 933.58 L58.5933 933.58 Z\" fill=\"#000000\" fill-rule=\"evenodd\" fill-opacity=\"1\" /><path clip-path=\"url(#clip650)\" d=\"M16.4842 894.844 L16.4842 864.289 L19.2214 864.289 L64.0042 881.54 L64.0042 888.256 L21.895 872.023 L21.895 894.844 L16.4842 894.844 Z\" fill=\"#000000\" fill-rule=\"evenodd\" fill-opacity=\"1\" /><path clip-path=\"url(#clip650)\" d=\"M41.4377 837.999 Q41.4377 842.582 43.8885 845.224 Q46.3393 847.834 50.6362 847.834 Q54.933 847.834 57.3838 845.224 Q59.8346 842.582 59.8346 837.999 Q59.8346 833.415 57.3838 830.774 Q54.9012 828.132 50.6362 828.132 Q46.3393 828.132 43.8885 830.774 Q41.4377 833.384 41.4377 837.999 M38.7005 844.428 Q37.682 848.566 34.8492 850.889 Q32.0165 853.181 27.9424 853.181 Q22.2451 853.181 18.935 849.139 Q15.6248 845.065 15.6248 837.999 Q15.6248 830.901 18.935 826.859 Q22.2451 822.816 27.9424 822.816 Q32.0165 822.816 34.8492 825.14 Q37.682 827.432 38.7005 831.537 Q39.7826 826.891 42.9337 824.312 Q46.0847 821.702 50.6362 821.702 Q57.543 821.702 61.2351 825.936 Q64.9272 830.137 64.9272 837.999 Q64.9272 845.86 61.2351 850.094 Q57.543 854.295 50.6362 854.295 Q46.0847 854.295 42.9337 851.685 Q39.7826 849.075 38.7005 844.428 M28.5472 846.783 Q32.2393 846.783 34.3081 844.492 Q36.377 842.168 36.377 837.999 Q36.377 833.861 34.3081 831.537 Q32.2393 829.182 28.5472 829.182 Q24.8551 829.182 22.7862 831.537 Q20.7174 833.861 20.7174 837.999 Q20.7174 842.168 22.7862 844.492 Q24.8551 846.783 28.5472 846.783 Z\" fill=\"#000000\" fill-rule=\"evenodd\" fill-opacity=\"1\" /><path clip-path=\"url(#clip650)\" d=\"M43.5384 814.064 L43.5384 796.908 L48.7583 796.908 L48.7583 814.064 L43.5384 814.064 Z\" fill=\"#000000\" fill-rule=\"evenodd\" fill-opacity=\"1\" /><path clip-path=\"url(#clip650)\" d=\"M18.2347 781.789 L28.3562 781.789 L28.3562 769.726 L32.9077 769.726 L32.9077 781.789 L52.2594 781.789 Q56.6199 781.789 57.8613 780.612 Q59.1026 779.402 59.1026 775.742 L59.1026 769.726 L64.0042 769.726 L64.0042 775.742 Q64.0042 782.522 61.4897 785.1 Q58.9434 787.678 52.2594 787.678 L32.9077 787.678 L32.9077 791.975 L28.3562 791.975 L28.3562 787.678 L18.2347 787.678 L18.2347 781.789 Z\" fill=\"#000000\" fill-rule=\"evenodd\" fill-opacity=\"1\" /><path clip-path=\"url(#clip650)\" d=\"M42.4881 732.392 L64.0042 732.392 L64.0042 738.248 L42.679 738.248 Q37.6183 738.248 35.1038 740.221 Q32.5894 742.195 32.5894 746.142 Q32.5894 750.884 35.6131 753.621 Q38.6368 756.358 43.8567 756.358 L64.0042 756.358 L64.0042 762.247 L14.479 762.247 L14.479 756.358 L33.8944 756.358 Q30.6797 754.258 29.0883 751.425 Q27.4968 748.56 27.4968 744.837 Q27.4968 738.694 31.3163 735.543 Q35.1038 732.392 42.4881 732.392 Z\" fill=\"#000000\" fill-rule=\"evenodd\" fill-opacity=\"1\" /><path clip-path=\"url(#clip650)\" d=\"M58.657 694.325 L77.5631 694.325 L77.5631 700.213 L28.3562 700.213 L28.3562 694.325 L33.7671 694.325 Q30.5842 692.479 29.0564 689.678 Q27.4968 686.845 27.4968 682.93 Q27.4968 676.437 32.6531 672.395 Q37.8093 668.321 46.212 668.321 Q54.6147 668.321 59.771 672.395 Q64.9272 676.437 64.9272 682.93 Q64.9272 686.845 63.3994 689.678 Q61.8398 692.479 58.657 694.325 M46.212 674.4 Q39.7508 674.4 36.0905 677.074 Q32.3984 679.715 32.3984 684.362 Q32.3984 689.009 36.0905 691.683 Q39.7508 694.325 46.212 694.325 Q52.6732 694.325 56.3653 691.683 Q60.0256 689.009 60.0256 684.362 Q60.0256 679.715 56.3653 677.074 Q52.6732 674.4 46.212 674.4 Z\" fill=\"#000000\" fill-rule=\"evenodd\" fill-opacity=\"1\" /><path clip-path=\"url(#clip650)\" d=\"M33.7671 635.155 L14.479 635.155 L14.479 629.299 L64.0042 629.299 L64.0042 635.155 L58.657 635.155 Q61.8398 637.001 63.3994 639.834 Q64.9272 642.635 64.9272 646.582 Q64.9272 653.043 59.771 657.117 Q54.6147 661.159 46.212 661.159 Q37.8093 661.159 32.6531 657.117 Q27.4968 653.043 27.4968 646.582 Q27.4968 642.635 29.0564 639.834 Q30.5842 637.001 33.7671 635.155 M46.212 655.112 Q52.6732 655.112 56.3653 652.47 Q60.0256 649.797 60.0256 645.15 Q60.0256 640.503 56.3653 637.829 Q52.6732 635.155 46.212 635.155 Q39.7508 635.155 36.0905 637.829 Q32.3984 640.503 32.3984 645.15 Q32.3984 649.797 36.0905 652.47 Q39.7508 655.112 46.212 655.112 Z\" fill=\"#000000\" fill-rule=\"evenodd\" fill-opacity=\"1\" /><path clip-path=\"url(#clip650)\" d=\"M14.479 599.189 L19.3487 599.189 L19.3487 604.791 Q19.3487 607.942 20.6219 609.183 Q21.895 610.393 25.2052 610.393 L28.3562 610.393 L28.3562 600.749 L32.9077 600.749 L32.9077 610.393 L64.0042 610.393 L64.0042 616.281 L32.9077 616.281 L32.9077 621.883 L28.3562 621.883 L28.3562 616.281 L25.8736 616.281 Q19.9216 616.281 17.2162 613.512 Q14.479 610.743 14.479 604.727 L14.479 599.189 Z\" fill=\"#000000\" fill-rule=\"evenodd\" fill-opacity=\"1\" /><polyline clip-path=\"url(#clip652)\" style=\"stroke:#009af9; stroke-linecap:butt; stroke-linejoin:round; stroke-width:4; stroke-opacity:1; fill:none\" points=\"\n",
       "  280.231,1445.72 281.461,1445.72 283.671,1445.72 286.862,1445.72 291.029,1445.72 296.168,1445.72 302.275,1445.72 309.343,1445.71 317.366,1445.71 326.336,1445.71 \n",
       "  336.243,1445.71 347.079,1445.71 358.833,1445.71 371.493,1445.71 385.046,1445.71 399.481,1445.7 414.782,1445.69 430.934,1445.68 447.922,1445.66 465.729,1445.63 \n",
       "  484.338,1445.59 503.731,1445.51 523.888,1445.39 544.791,1445.2 566.418,1444.89 588.748,1444.41 611.76,1443.64 635.431,1442.43 659.737,1440.56 684.656,1437.67 \n",
       "  710.163,1433.29 736.233,1426.74 762.841,1417.1 789.959,1403.17 817.563,1383.44 845.625,1356.1 874.118,1319.12 903.013,1270.36 932.282,1207.85 961.898,1130.06 \n",
       "  991.83,1036.32 1022.05,927.217 1052.53,804.983 1083.24,673.666 1114.14,539.136 1145.22,408.757 1176.43,290.774 1207.75,193.445 1239.14,124.057 1270.58,87.9871 \n",
       "  1302.04,87.9763 1333.48,123.774 1364.88,192.204 1396.2,287.64 1427.41,402.793 1458.48,529.64 1489.39,660.351 1520.09,788.047 1550.57,907.307 1580.79,1014.4 \n",
       "  1610.72,1107.27 1640.34,1185.3 1669.61,1249 1698.5,1299.65 1727,1338.98 1755.06,1368.86 1782.66,1391.1 1809.78,1407.36 1836.39,1419.06 1862.46,1427.36 \n",
       "  1887.97,1433.17 1912.88,1437.19 1937.19,1439.95 1960.86,1441.82 1983.87,1443.09 2006.2,1443.95 2027.83,1444.52 2048.73,1444.91 2068.89,1445.17 2088.28,1445.34 \n",
       "  2106.89,1445.46 2124.7,1445.54 2141.69,1445.59 2157.84,1445.63 2173.14,1445.65 2187.58,1445.67 2201.13,1445.68 2213.79,1445.69 2225.54,1445.7 2236.38,1445.7 \n",
       "  2246.29,1445.7 2255.26,1445.71 2263.28,1445.71 2270.35,1445.71 2276.45,1445.71 2281.59,1445.71 2285.76,1445.71 2288.95,1445.71 2291.16,1445.71 2292.39,1445.71 \n",
       "  \n",
       "  \"/>\n",
       "<path clip-path=\"url(#clip650)\" d=\"\n",
       "M1992.24 198.898 L2281.66 198.898 L2281.66 95.2176 L1992.24 95.2176  Z\n",
       "  \" fill=\"#ffffff\" fill-rule=\"evenodd\" fill-opacity=\"1\"/>\n",
       "<polyline clip-path=\"url(#clip650)\" style=\"stroke:#000000; stroke-linecap:butt; stroke-linejoin:round; stroke-width:4; stroke-opacity:1; fill:none\" points=\"\n",
       "  1992.24,198.898 2281.66,198.898 2281.66,95.2176 1992.24,95.2176 1992.24,198.898 \n",
       "  \"/>\n",
       "<polyline clip-path=\"url(#clip650)\" style=\"stroke:#009af9; stroke-linecap:butt; stroke-linejoin:round; stroke-width:4; stroke-opacity:1; fill:none\" points=\"\n",
       "  2015.94,147.058 2158.13,147.058 \n",
       "  \"/>\n",
       "<path clip-path=\"url(#clip650)\" d=\"M2195.67 166.745 Q2193.87 171.375 2192.16 172.787 Q2190.44 174.199 2187.57 174.199 L2184.17 174.199 L2184.17 170.634 L2186.67 170.634 Q2188.43 170.634 2189.4 169.8 Q2190.37 168.967 2191.55 165.865 L2192.32 163.921 L2181.83 138.412 L2186.35 138.412 L2194.45 158.689 L2202.55 138.412 L2207.06 138.412 L2195.67 166.745 Z\" fill=\"#000000\" fill-rule=\"evenodd\" fill-opacity=\"1\" /><path clip-path=\"url(#clip650)\" d=\"M2214.35 160.402 L2221.99 160.402 L2221.99 134.037 L2213.68 135.703 L2213.68 131.444 L2221.95 129.778 L2226.62 129.778 L2226.62 160.402 L2234.26 160.402 L2234.26 164.338 L2214.35 164.338 L2214.35 160.402 Z\" fill=\"#000000\" fill-rule=\"evenodd\" fill-opacity=\"1\" /></svg>\n"
      ]
     },
     "execution_count": 8,
     "metadata": {},
     "output_type": "execute_result"
    }
   ],
   "source": [
    "idx = Int(floor(rand() * size(X, 2)))\n",
    "plot(data[1], data[idx], ylabel=\"$(idx)-th pdf\")"
   ]
  },
  {
   "cell_type": "markdown",
   "metadata": {},
   "source": [
    "### Model"
   ]
  },
  {
   "cell_type": "code",
   "execution_count": 9,
   "metadata": {},
   "outputs": [
    {
     "data": {
      "text/plain": [
       "1-element Vector{Symbol}:\n",
       " :nn"
      ]
     },
     "execution_count": 9,
     "metadata": {},
     "output_type": "execute_result"
    }
   ],
   "source": [
    "@load \"../nn.jld2\" nn"
   ]
  },
  {
   "cell_type": "code",
   "execution_count": 16,
   "metadata": {},
   "outputs": [
    {
     "data": {
      "text/plain": [
       "0.792"
      ]
     },
     "execution_count": 16,
     "metadata": {},
     "output_type": "execute_result"
    }
   ],
   "source": [
    "accuracy(nn, X, Y)"
   ]
  },
  {
   "cell_type": "code",
   "execution_count": 24,
   "metadata": {},
   "outputs": [
    {
     "data": {
      "text/plain": [
       "ADAM(0.001, (0.9, 0.999), IdDict{Any, Any}())"
      ]
     },
     "execution_count": 24,
     "metadata": {},
     "output_type": "execute_result"
    }
   ],
   "source": [
    "data = Flux.Data.DataLoader((X, Y), shuffle = true)\n",
    "ps = Flux.params(nn)\n",
    "sqnorm(x) = sum(abs2, x)\n",
    "loss(x, y) = sum(abs2, nn(x) - y) / size(x, 2) #+ 1e-6 * sum(sqnorm, ps)\n",
    "cb = () -> println(\"loss: $(loss(X, Y))\")\n",
    "opt = ADAM()"
   ]
  },
  {
   "cell_type": "code",
   "execution_count": 26,
   "metadata": {
    "scrolled": true
   },
   "outputs": [
    {
     "name": "stdout",
     "output_type": "stream",
     "text": [
      "loss: 0.2865936387093781\n"
     ]
    },
    {
     "name": "stderr",
     "output_type": "stream",
     "text": [
      "┌ Info: Epoch 1\n",
      "└ @ Main /home2/vavrines/.julia/packages/Flux/BPPNj/src/optimise/train.jl:138\n"
     ]
    },
    {
     "name": "stdout",
     "output_type": "stream",
     "text": [
      "loss: 0.2844522746214717\n"
     ]
    },
    {
     "name": "stderr",
     "output_type": "stream",
     "text": [
      "┌ Info: Epoch 2\n",
      "└ @ Main /home2/vavrines/.julia/packages/Flux/BPPNj/src/optimise/train.jl:138\n"
     ]
    },
    {
     "name": "stdout",
     "output_type": "stream",
     "text": [
      "loss: 0.28842323999469355\n",
      "loss: 0.2818765047195047\n"
     ]
    },
    {
     "name": "stderr",
     "output_type": "stream",
     "text": [
      "┌ Info: Epoch 3\n",
      "└ @ Main /home2/vavrines/.julia/packages/Flux/BPPNj/src/optimise/train.jl:138\n",
      "┌ Info: Epoch 4\n",
      "└ @ Main /home2/vavrines/.julia/packages/Flux/BPPNj/src/optimise/train.jl:138\n"
     ]
    },
    {
     "name": "stdout",
     "output_type": "stream",
     "text": [
      "loss: 0.2786341450178247\n"
     ]
    },
    {
     "name": "stderr",
     "output_type": "stream",
     "text": [
      "┌ Info: Epoch 5\n",
      "└ @ Main /home2/vavrines/.julia/packages/Flux/BPPNj/src/optimise/train.jl:138\n"
     ]
    },
    {
     "name": "stdout",
     "output_type": "stream",
     "text": [
      "loss: 0.28276115268210317\n"
     ]
    },
    {
     "name": "stderr",
     "output_type": "stream",
     "text": [
      "┌ Info: Epoch 6\n",
      "└ @ Main /home2/vavrines/.julia/packages/Flux/BPPNj/src/optimise/train.jl:138\n"
     ]
    },
    {
     "name": "stdout",
     "output_type": "stream",
     "text": [
      "loss: 0.2780040988534988\n",
      "loss: 0.2743536211834875\n"
     ]
    },
    {
     "name": "stderr",
     "output_type": "stream",
     "text": [
      "┌ Info: Epoch 7\n",
      "└ @ Main /home2/vavrines/.julia/packages/Flux/BPPNj/src/optimise/train.jl:138\n",
      "┌ Info: Epoch 8\n",
      "└ @ Main /home2/vavrines/.julia/packages/Flux/BPPNj/src/optimise/train.jl:138\n"
     ]
    },
    {
     "name": "stdout",
     "output_type": "stream",
     "text": [
      "loss: 0.27921401949636504\n"
     ]
    },
    {
     "name": "stderr",
     "output_type": "stream",
     "text": [
      "┌ Info: Epoch 9\n",
      "└ @ Main /home2/vavrines/.julia/packages/Flux/BPPNj/src/optimise/train.jl:138\n"
     ]
    },
    {
     "name": "stdout",
     "output_type": "stream",
     "text": [
      "loss: 0.290085044016791\n"
     ]
    },
    {
     "name": "stderr",
     "output_type": "stream",
     "text": [
      "┌ Info: Epoch 10\n",
      "└ @ Main /home2/vavrines/.julia/packages/Flux/BPPNj/src/optimise/train.jl:138\n"
     ]
    },
    {
     "name": "stdout",
     "output_type": "stream",
     "text": [
      "loss: 0.2638330758374741\n",
      "loss: 0.26161749766519427\n"
     ]
    },
    {
     "name": "stderr",
     "output_type": "stream",
     "text": [
      "┌ Info: Epoch 11\n",
      "└ @ Main /home2/vavrines/.julia/packages/Flux/BPPNj/src/optimise/train.jl:138\n",
      "┌ Info: Epoch 12\n",
      "└ @ Main /home2/vavrines/.julia/packages/Flux/BPPNj/src/optimise/train.jl:138\n"
     ]
    },
    {
     "name": "stdout",
     "output_type": "stream",
     "text": [
      "loss: 0.26862882174747615\n"
     ]
    },
    {
     "name": "stderr",
     "output_type": "stream",
     "text": [
      "┌ Info: Epoch 13\n",
      "└ @ Main /home2/vavrines/.julia/packages/Flux/BPPNj/src/optimise/train.jl:138\n"
     ]
    },
    {
     "name": "stdout",
     "output_type": "stream",
     "text": [
      "loss: 0.2940898523968339\n"
     ]
    },
    {
     "name": "stderr",
     "output_type": "stream",
     "text": [
      "┌ Info: Epoch 14\n",
      "└ @ Main /home2/vavrines/.julia/packages/Flux/BPPNj/src/optimise/train.jl:138\n"
     ]
    },
    {
     "name": "stdout",
     "output_type": "stream",
     "text": [
      "loss: 0.3029309679596423\n"
     ]
    },
    {
     "name": "stderr",
     "output_type": "stream",
     "text": [
      "┌ Info: Epoch 15\n",
      "└ @ Main /home2/vavrines/.julia/packages/Flux/BPPNj/src/optimise/train.jl:138\n"
     ]
    },
    {
     "name": "stdout",
     "output_type": "stream",
     "text": [
      "loss: 0.2665588125914212\n",
      "loss: 0.2551616117032353\n"
     ]
    },
    {
     "name": "stderr",
     "output_type": "stream",
     "text": [
      "┌ Info: Epoch 16\n",
      "└ @ Main /home2/vavrines/.julia/packages/Flux/BPPNj/src/optimise/train.jl:138\n",
      "┌ Info: Epoch 17\n",
      "└ @ Main /home2/vavrines/.julia/packages/Flux/BPPNj/src/optimise/train.jl:138\n"
     ]
    },
    {
     "name": "stdout",
     "output_type": "stream",
     "text": [
      "loss: 0.2534773630317041\n"
     ]
    },
    {
     "name": "stderr",
     "output_type": "stream",
     "text": [
      "┌ Info: Epoch 18\n",
      "└ @ Main /home2/vavrines/.julia/packages/Flux/BPPNj/src/optimise/train.jl:138\n"
     ]
    },
    {
     "name": "stdout",
     "output_type": "stream",
     "text": [
      "loss: 0.2558682315477883\n"
     ]
    },
    {
     "name": "stderr",
     "output_type": "stream",
     "text": [
      "┌ Info: Epoch 19\n",
      "└ @ Main /home2/vavrines/.julia/packages/Flux/BPPNj/src/optimise/train.jl:138\n"
     ]
    },
    {
     "name": "stdout",
     "output_type": "stream",
     "text": [
      "loss: 0.2527191592284318\n"
     ]
    },
    {
     "name": "stderr",
     "output_type": "stream",
     "text": [
      "┌ Info: Epoch 20\n",
      "└ @ Main /home2/vavrines/.julia/packages/Flux/BPPNj/src/optimise/train.jl:138\n"
     ]
    },
    {
     "name": "stdout",
     "output_type": "stream",
     "text": [
      "loss: 0.25690527595217205\n",
      "loss: 0.27268851429463925\n"
     ]
    },
    {
     "name": "stderr",
     "output_type": "stream",
     "text": [
      "┌ Info: Epoch 21\n",
      "└ @ Main /home2/vavrines/.julia/packages/Flux/BPPNj/src/optimise/train.jl:138\n",
      "┌ Info: Epoch 22\n",
      "└ @ Main /home2/vavrines/.julia/packages/Flux/BPPNj/src/optimise/train.jl:138\n"
     ]
    },
    {
     "name": "stdout",
     "output_type": "stream",
     "text": [
      "loss: 0.2572204347202314\n"
     ]
    },
    {
     "name": "stderr",
     "output_type": "stream",
     "text": [
      "┌ Info: Epoch 23\n",
      "└ @ Main /home2/vavrines/.julia/packages/Flux/BPPNj/src/optimise/train.jl:138\n"
     ]
    },
    {
     "name": "stdout",
     "output_type": "stream",
     "text": [
      "loss: 0.2548691183768451\n"
     ]
    },
    {
     "name": "stderr",
     "output_type": "stream",
     "text": [
      "┌ Info: Epoch 24\n",
      "└ @ Main /home2/vavrines/.julia/packages/Flux/BPPNj/src/optimise/train.jl:138\n"
     ]
    },
    {
     "name": "stdout",
     "output_type": "stream",
     "text": [
      "loss: 0.2540527349738174\n",
      "loss: 0.25745167055605067\n"
     ]
    },
    {
     "name": "stderr",
     "output_type": "stream",
     "text": [
      "┌ Info: Epoch 25\n",
      "└ @ Main /home2/vavrines/.julia/packages/Flux/BPPNj/src/optimise/train.jl:138\n",
      "┌ Info: Epoch 26\n",
      "└ @ Main /home2/vavrines/.julia/packages/Flux/BPPNj/src/optimise/train.jl:138\n"
     ]
    },
    {
     "name": "stdout",
     "output_type": "stream",
     "text": [
      "loss: 0.25057771684068547\n"
     ]
    },
    {
     "name": "stderr",
     "output_type": "stream",
     "text": [
      "┌ Info: Epoch 27\n",
      "└ @ Main /home2/vavrines/.julia/packages/Flux/BPPNj/src/optimise/train.jl:138\n"
     ]
    },
    {
     "name": "stdout",
     "output_type": "stream",
     "text": [
      "loss: 0.2558525140595919\n"
     ]
    },
    {
     "name": "stderr",
     "output_type": "stream",
     "text": [
      "┌ Info: Epoch 28\n",
      "└ @ Main /home2/vavrines/.julia/packages/Flux/BPPNj/src/optimise/train.jl:138\n"
     ]
    },
    {
     "name": "stdout",
     "output_type": "stream",
     "text": [
      "loss: 0.25453909079167136\n",
      "loss: 0.2654674530330756\n"
     ]
    },
    {
     "name": "stderr",
     "output_type": "stream",
     "text": [
      "┌ Info: Epoch 29\n",
      "└ @ Main /home2/vavrines/.julia/packages/Flux/BPPNj/src/optimise/train.jl:138\n",
      "┌ Info: Epoch 30\n",
      "└ @ Main /home2/vavrines/.julia/packages/Flux/BPPNj/src/optimise/train.jl:138\n"
     ]
    },
    {
     "name": "stdout",
     "output_type": "stream",
     "text": [
      "loss: 0.2508282345187434\n"
     ]
    },
    {
     "name": "stderr",
     "output_type": "stream",
     "text": [
      "┌ Info: Epoch 31\n",
      "└ @ Main /home2/vavrines/.julia/packages/Flux/BPPNj/src/optimise/train.jl:138\n"
     ]
    },
    {
     "name": "stdout",
     "output_type": "stream",
     "text": [
      "loss: 0.24605517546518738\n"
     ]
    },
    {
     "name": "stderr",
     "output_type": "stream",
     "text": [
      "┌ Info: Epoch 32\n",
      "└ @ Main /home2/vavrines/.julia/packages/Flux/BPPNj/src/optimise/train.jl:138\n"
     ]
    },
    {
     "name": "stdout",
     "output_type": "stream",
     "text": [
      "loss: 0.24843300909206278\n",
      "loss: 0.24603689621807356\n"
     ]
    },
    {
     "name": "stderr",
     "output_type": "stream",
     "text": [
      "┌ Info: Epoch 33\n",
      "└ @ Main /home2/vavrines/.julia/packages/Flux/BPPNj/src/optimise/train.jl:138\n",
      "┌ Info: Epoch 34\n",
      "└ @ Main /home2/vavrines/.julia/packages/Flux/BPPNj/src/optimise/train.jl:138\n"
     ]
    },
    {
     "name": "stdout",
     "output_type": "stream",
     "text": [
      "loss: 0.2493429610997691\n"
     ]
    },
    {
     "name": "stderr",
     "output_type": "stream",
     "text": [
      "┌ Info: Epoch 35\n",
      "└ @ Main /home2/vavrines/.julia/packages/Flux/BPPNj/src/optimise/train.jl:138\n"
     ]
    },
    {
     "name": "stdout",
     "output_type": "stream",
     "text": [
      "loss: 0.24216166753464077\n"
     ]
    },
    {
     "name": "stderr",
     "output_type": "stream",
     "text": [
      "┌ Info: Epoch 36\n",
      "└ @ Main /home2/vavrines/.julia/packages/Flux/BPPNj/src/optimise/train.jl:138\n"
     ]
    },
    {
     "name": "stdout",
     "output_type": "stream",
     "text": [
      "loss: 0.24212517673021103\n"
     ]
    },
    {
     "name": "stderr",
     "output_type": "stream",
     "text": [
      "┌ Info: Epoch 37\n",
      "└ @ Main /home2/vavrines/.julia/packages/Flux/BPPNj/src/optimise/train.jl:138\n"
     ]
    },
    {
     "name": "stdout",
     "output_type": "stream",
     "text": [
      "loss: 0.2507954124776118\n",
      "loss: 0.23951194750333507\n"
     ]
    },
    {
     "name": "stderr",
     "output_type": "stream",
     "text": [
      "┌ Info: Epoch 38\n",
      "└ @ Main /home2/vavrines/.julia/packages/Flux/BPPNj/src/optimise/train.jl:138\n",
      "┌ Info: Epoch 39\n",
      "└ @ Main /home2/vavrines/.julia/packages/Flux/BPPNj/src/optimise/train.jl:138\n"
     ]
    },
    {
     "name": "stdout",
     "output_type": "stream",
     "text": [
      "loss: 0.24619301843254085\n"
     ]
    },
    {
     "name": "stderr",
     "output_type": "stream",
     "text": [
      "┌ Info: Epoch 40\n",
      "└ @ Main /home2/vavrines/.julia/packages/Flux/BPPNj/src/optimise/train.jl:138\n"
     ]
    },
    {
     "name": "stdout",
     "output_type": "stream",
     "text": [
      "loss: 0.24786868240095725\n"
     ]
    },
    {
     "name": "stderr",
     "output_type": "stream",
     "text": [
      "┌ Info: Epoch 41\n",
      "└ @ Main /home2/vavrines/.julia/packages/Flux/BPPNj/src/optimise/train.jl:138\n"
     ]
    },
    {
     "name": "stdout",
     "output_type": "stream",
     "text": [
      "loss: 0.24991666521180927\n"
     ]
    },
    {
     "name": "stderr",
     "output_type": "stream",
     "text": [
      "┌ Info: Epoch 42\n",
      "└ @ Main /home2/vavrines/.julia/packages/Flux/BPPNj/src/optimise/train.jl:138\n"
     ]
    },
    {
     "name": "stdout",
     "output_type": "stream",
     "text": [
      "loss: 0.2423116189260524\n",
      "loss: 0.23787779559329977\n"
     ]
    },
    {
     "name": "stderr",
     "output_type": "stream",
     "text": [
      "┌ Info: Epoch 43\n",
      "└ @ Main /home2/vavrines/.julia/packages/Flux/BPPNj/src/optimise/train.jl:138\n",
      "┌ Info: Epoch 44\n",
      "└ @ Main /home2/vavrines/.julia/packages/Flux/BPPNj/src/optimise/train.jl:138\n"
     ]
    },
    {
     "name": "stdout",
     "output_type": "stream",
     "text": [
      "loss: 0.23894732763474252\n"
     ]
    },
    {
     "name": "stderr",
     "output_type": "stream",
     "text": [
      "┌ Info: Epoch 45\n",
      "└ @ Main /home2/vavrines/.julia/packages/Flux/BPPNj/src/optimise/train.jl:138\n"
     ]
    },
    {
     "name": "stdout",
     "output_type": "stream",
     "text": [
      "loss: 0.2447284587564286\n"
     ]
    },
    {
     "name": "stderr",
     "output_type": "stream",
     "text": [
      "┌ Info: Epoch 46\n",
      "└ @ Main /home2/vavrines/.julia/packages/Flux/BPPNj/src/optimise/train.jl:138\n"
     ]
    },
    {
     "name": "stdout",
     "output_type": "stream",
     "text": [
      "loss: 0.2401743465857877\n"
     ]
    },
    {
     "name": "stderr",
     "output_type": "stream",
     "text": [
      "┌ Info: Epoch 47\n",
      "└ @ Main /home2/vavrines/.julia/packages/Flux/BPPNj/src/optimise/train.jl:138\n"
     ]
    },
    {
     "name": "stdout",
     "output_type": "stream",
     "text": [
      "loss: 0.2388539493233805\n",
      "loss: 0.24841471725184333\n"
     ]
    },
    {
     "name": "stderr",
     "output_type": "stream",
     "text": [
      "┌ Info: Epoch 48\n",
      "└ @ Main /home2/vavrines/.julia/packages/Flux/BPPNj/src/optimise/train.jl:138\n",
      "┌ Info: Epoch 49\n",
      "└ @ Main /home2/vavrines/.julia/packages/Flux/BPPNj/src/optimise/train.jl:138\n"
     ]
    },
    {
     "name": "stdout",
     "output_type": "stream",
     "text": [
      "loss: 0.2463911739624983\n"
     ]
    },
    {
     "name": "stderr",
     "output_type": "stream",
     "text": [
      "┌ Info: Epoch 50\n",
      "└ @ Main /home2/vavrines/.julia/packages/Flux/BPPNj/src/optimise/train.jl:138\n"
     ]
    },
    {
     "name": "stdout",
     "output_type": "stream",
     "text": [
      "loss: 0.2390751576781648\n"
     ]
    },
    {
     "name": "stderr",
     "output_type": "stream",
     "text": [
      "┌ Info: Epoch 51\n",
      "└ @ Main /home2/vavrines/.julia/packages/Flux/BPPNj/src/optimise/train.jl:138\n"
     ]
    },
    {
     "name": "stdout",
     "output_type": "stream",
     "text": [
      "loss: 0.23920879822245503\n",
      "loss: 0.2421901067112119\n"
     ]
    },
    {
     "name": "stderr",
     "output_type": "stream",
     "text": [
      "┌ Info: Epoch 52\n",
      "└ @ Main /home2/vavrines/.julia/packages/Flux/BPPNj/src/optimise/train.jl:138\n",
      "┌ Info: Epoch 53\n",
      "└ @ Main /home2/vavrines/.julia/packages/Flux/BPPNj/src/optimise/train.jl:138\n"
     ]
    },
    {
     "name": "stdout",
     "output_type": "stream",
     "text": [
      "loss: 0.2490301646588407\n"
     ]
    },
    {
     "name": "stderr",
     "output_type": "stream",
     "text": [
      "┌ Info: Epoch 54\n",
      "└ @ Main /home2/vavrines/.julia/packages/Flux/BPPNj/src/optimise/train.jl:138\n"
     ]
    },
    {
     "name": "stdout",
     "output_type": "stream",
     "text": [
      "loss: 0.2332229466673936\n"
     ]
    },
    {
     "name": "stderr",
     "output_type": "stream",
     "text": [
      "┌ Info: Epoch 55\n",
      "└ @ Main /home2/vavrines/.julia/packages/Flux/BPPNj/src/optimise/train.jl:138\n"
     ]
    },
    {
     "name": "stdout",
     "output_type": "stream",
     "text": [
      "loss: 0.23641997267472095\n"
     ]
    },
    {
     "name": "stderr",
     "output_type": "stream",
     "text": [
      "┌ Info: Epoch 56\n",
      "└ @ Main /home2/vavrines/.julia/packages/Flux/BPPNj/src/optimise/train.jl:138\n"
     ]
    },
    {
     "name": "stdout",
     "output_type": "stream",
     "text": [
      "loss: 0.24216026149349135\n",
      "loss: 0.23502410870634083\n"
     ]
    },
    {
     "name": "stderr",
     "output_type": "stream",
     "text": [
      "┌ Info: Epoch 57\n",
      "└ @ Main /home2/vavrines/.julia/packages/Flux/BPPNj/src/optimise/train.jl:138\n",
      "┌ Info: Epoch 58\n",
      "└ @ Main /home2/vavrines/.julia/packages/Flux/BPPNj/src/optimise/train.jl:138\n"
     ]
    },
    {
     "name": "stdout",
     "output_type": "stream",
     "text": [
      "loss: 0.23593942395612955\n"
     ]
    },
    {
     "name": "stderr",
     "output_type": "stream",
     "text": [
      "┌ Info: Epoch 59\n",
      "└ @ Main /home2/vavrines/.julia/packages/Flux/BPPNj/src/optimise/train.jl:138\n"
     ]
    },
    {
     "name": "stdout",
     "output_type": "stream",
     "text": [
      "loss: 0.2300281259615668\n"
     ]
    },
    {
     "name": "stderr",
     "output_type": "stream",
     "text": [
      "┌ Info: Epoch 60\n",
      "└ @ Main /home2/vavrines/.julia/packages/Flux/BPPNj/src/optimise/train.jl:138\n"
     ]
    },
    {
     "name": "stdout",
     "output_type": "stream",
     "text": [
      "loss: 0.23008944573811493\n"
     ]
    },
    {
     "name": "stderr",
     "output_type": "stream",
     "text": [
      "┌ Info: Epoch 61\n",
      "└ @ Main /home2/vavrines/.julia/packages/Flux/BPPNj/src/optimise/train.jl:138\n",
      "┌ Info: Epoch 62\n",
      "└ @ Main /home2/vavrines/.julia/packages/Flux/BPPNj/src/optimise/train.jl:138\n"
     ]
    },
    {
     "name": "stdout",
     "output_type": "stream",
     "text": [
      "loss: 0.22888367826274192\n",
      "loss: 0.2323898249165552\n"
     ]
    },
    {
     "name": "stderr",
     "output_type": "stream",
     "text": [
      "┌ Info: Epoch 63\n",
      "└ @ Main /home2/vavrines/.julia/packages/Flux/BPPNj/src/optimise/train.jl:138\n"
     ]
    },
    {
     "name": "stdout",
     "output_type": "stream",
     "text": [
      "loss: 0.22843249798077017\n"
     ]
    },
    {
     "name": "stderr",
     "output_type": "stream",
     "text": [
      "┌ Info: Epoch 64\n",
      "└ @ Main /home2/vavrines/.julia/packages/Flux/BPPNj/src/optimise/train.jl:138\n"
     ]
    },
    {
     "name": "stdout",
     "output_type": "stream",
     "text": [
      "loss: 0.23243659764986366\n"
     ]
    },
    {
     "name": "stderr",
     "output_type": "stream",
     "text": [
      "┌ Info: Epoch 65\n",
      "└ @ Main /home2/vavrines/.julia/packages/Flux/BPPNj/src/optimise/train.jl:138\n"
     ]
    },
    {
     "name": "stdout",
     "output_type": "stream",
     "text": [
      "loss: 0.2277206365532568\n",
      "loss: 0.23718287404404279\n"
     ]
    },
    {
     "name": "stderr",
     "output_type": "stream",
     "text": [
      "┌ Info: Epoch 66\n",
      "└ @ Main /home2/vavrines/.julia/packages/Flux/BPPNj/src/optimise/train.jl:138\n",
      "┌ Info: Epoch 67\n",
      "└ @ Main /home2/vavrines/.julia/packages/Flux/BPPNj/src/optimise/train.jl:138\n"
     ]
    },
    {
     "name": "stdout",
     "output_type": "stream",
     "text": [
      "loss: 0.23331849549121886\n"
     ]
    },
    {
     "name": "stderr",
     "output_type": "stream",
     "text": [
      "┌ Info: Epoch 68\n",
      "└ @ Main /home2/vavrines/.julia/packages/Flux/BPPNj/src/optimise/train.jl:138\n"
     ]
    },
    {
     "name": "stdout",
     "output_type": "stream",
     "text": [
      "loss: 0.23086071134536984\n"
     ]
    },
    {
     "name": "stderr",
     "output_type": "stream",
     "text": [
      "┌ Info: Epoch 69\n",
      "└ @ Main /home2/vavrines/.julia/packages/Flux/BPPNj/src/optimise/train.jl:138\n"
     ]
    },
    {
     "name": "stdout",
     "output_type": "stream",
     "text": [
      "loss: 0.2362517058682428\n"
     ]
    },
    {
     "name": "stderr",
     "output_type": "stream",
     "text": [
      "┌ Info: Epoch 70\n",
      "└ @ Main /home2/vavrines/.julia/packages/Flux/BPPNj/src/optimise/train.jl:138\n"
     ]
    },
    {
     "name": "stdout",
     "output_type": "stream",
     "text": [
      "loss: 0.22895422901038415\n",
      "loss: 0.22810306813565234\n"
     ]
    },
    {
     "name": "stderr",
     "output_type": "stream",
     "text": [
      "┌ Info: Epoch 71\n",
      "└ @ Main /home2/vavrines/.julia/packages/Flux/BPPNj/src/optimise/train.jl:138\n",
      "┌ Info: Epoch 72\n",
      "└ @ Main /home2/vavrines/.julia/packages/Flux/BPPNj/src/optimise/train.jl:138\n"
     ]
    },
    {
     "name": "stdout",
     "output_type": "stream",
     "text": [
      "loss: 0.2238968951089272\n"
     ]
    },
    {
     "name": "stderr",
     "output_type": "stream",
     "text": [
      "┌ Info: Epoch 73\n",
      "└ @ Main /home2/vavrines/.julia/packages/Flux/BPPNj/src/optimise/train.jl:138\n"
     ]
    },
    {
     "name": "stdout",
     "output_type": "stream",
     "text": [
      "loss: 0.23010395162068237\n"
     ]
    },
    {
     "name": "stderr",
     "output_type": "stream",
     "text": [
      "┌ Info: Epoch 74\n",
      "└ @ Main /home2/vavrines/.julia/packages/Flux/BPPNj/src/optimise/train.jl:138\n"
     ]
    },
    {
     "name": "stdout",
     "output_type": "stream",
     "text": [
      "loss: 0.223072708941804\n"
     ]
    },
    {
     "name": "stderr",
     "output_type": "stream",
     "text": [
      "┌ Info: Epoch 75\n",
      "└ @ Main /home2/vavrines/.julia/packages/Flux/BPPNj/src/optimise/train.jl:138\n"
     ]
    },
    {
     "name": "stdout",
     "output_type": "stream",
     "text": [
      "loss: 0.22346136046433243\n",
      "loss: 0.22549886822047707\n"
     ]
    },
    {
     "name": "stderr",
     "output_type": "stream",
     "text": [
      "┌ Info: Epoch 76\n",
      "└ @ Main /home2/vavrines/.julia/packages/Flux/BPPNj/src/optimise/train.jl:138\n",
      "┌ Info: Epoch 77\n",
      "└ @ Main /home2/vavrines/.julia/packages/Flux/BPPNj/src/optimise/train.jl:138\n"
     ]
    },
    {
     "name": "stdout",
     "output_type": "stream",
     "text": [
      "loss: 0.22232298137127596\n"
     ]
    },
    {
     "name": "stderr",
     "output_type": "stream",
     "text": [
      "┌ Info: Epoch 78\n",
      "└ @ Main /home2/vavrines/.julia/packages/Flux/BPPNj/src/optimise/train.jl:138\n"
     ]
    },
    {
     "name": "stdout",
     "output_type": "stream",
     "text": [
      "loss: 0.2223641089227923\n"
     ]
    },
    {
     "name": "stderr",
     "output_type": "stream",
     "text": [
      "┌ Info: Epoch 79\n",
      "└ @ Main /home2/vavrines/.julia/packages/Flux/BPPNj/src/optimise/train.jl:138\n"
     ]
    },
    {
     "name": "stdout",
     "output_type": "stream",
     "text": [
      "loss: 0.2212041203668854\n",
      "loss: 0.22601970505538682\n"
     ]
    },
    {
     "name": "stderr",
     "output_type": "stream",
     "text": [
      "┌ Info: Epoch 80\n",
      "└ @ Main /home2/vavrines/.julia/packages/Flux/BPPNj/src/optimise/train.jl:138\n",
      "┌ Info: Epoch 81\n",
      "└ @ Main /home2/vavrines/.julia/packages/Flux/BPPNj/src/optimise/train.jl:138\n"
     ]
    },
    {
     "name": "stdout",
     "output_type": "stream",
     "text": [
      "loss: 0.22244418956495562\n"
     ]
    },
    {
     "name": "stderr",
     "output_type": "stream",
     "text": [
      "┌ Info: Epoch 82\n",
      "└ @ Main /home2/vavrines/.julia/packages/Flux/BPPNj/src/optimise/train.jl:138\n"
     ]
    },
    {
     "name": "stdout",
     "output_type": "stream",
     "text": [
      "loss: 0.2246360745194686\n"
     ]
    },
    {
     "name": "stderr",
     "output_type": "stream",
     "text": [
      "┌ Info: Epoch 83\n",
      "└ @ Main /home2/vavrines/.julia/packages/Flux/BPPNj/src/optimise/train.jl:138\n"
     ]
    },
    {
     "name": "stdout",
     "output_type": "stream",
     "text": [
      "loss: 0.22189041360082323\n"
     ]
    },
    {
     "name": "stderr",
     "output_type": "stream",
     "text": [
      "┌ Info: Epoch 84\n",
      "└ @ Main /home2/vavrines/.julia/packages/Flux/BPPNj/src/optimise/train.jl:138\n"
     ]
    },
    {
     "name": "stdout",
     "output_type": "stream",
     "text": [
      "loss: 0.22094116174477454\n",
      "loss: 0.2256525709446751\n"
     ]
    },
    {
     "name": "stderr",
     "output_type": "stream",
     "text": [
      "┌ Info: Epoch 85\n",
      "└ @ Main /home2/vavrines/.julia/packages/Flux/BPPNj/src/optimise/train.jl:138\n",
      "┌ Info: Epoch 86\n",
      "└ @ Main /home2/vavrines/.julia/packages/Flux/BPPNj/src/optimise/train.jl:138\n"
     ]
    },
    {
     "name": "stdout",
     "output_type": "stream",
     "text": [
      "loss: 0.2195256964679645\n"
     ]
    },
    {
     "name": "stderr",
     "output_type": "stream",
     "text": [
      "┌ Info: Epoch 87\n",
      "└ @ Main /home2/vavrines/.julia/packages/Flux/BPPNj/src/optimise/train.jl:138\n"
     ]
    },
    {
     "name": "stdout",
     "output_type": "stream",
     "text": [
      "loss: 0.22475999246367845\n"
     ]
    },
    {
     "name": "stderr",
     "output_type": "stream",
     "text": [
      "┌ Info: Epoch 88\n",
      "└ @ Main /home2/vavrines/.julia/packages/Flux/BPPNj/src/optimise/train.jl:138\n"
     ]
    },
    {
     "name": "stdout",
     "output_type": "stream",
     "text": [
      "loss: 0.2218097124047228\n",
      "loss: 0.21689913993977394\n"
     ]
    },
    {
     "name": "stderr",
     "output_type": "stream",
     "text": [
      "┌ Info: Epoch 89\n",
      "└ @ Main /home2/vavrines/.julia/packages/Flux/BPPNj/src/optimise/train.jl:138\n",
      "┌ Info: Epoch 90\n",
      "└ @ Main /home2/vavrines/.julia/packages/Flux/BPPNj/src/optimise/train.jl:138\n"
     ]
    },
    {
     "name": "stdout",
     "output_type": "stream",
     "text": [
      "loss: 0.2213118200700739\n"
     ]
    },
    {
     "name": "stderr",
     "output_type": "stream",
     "text": [
      "┌ Info: Epoch 91\n",
      "└ @ Main /home2/vavrines/.julia/packages/Flux/BPPNj/src/optimise/train.jl:138\n"
     ]
    },
    {
     "name": "stdout",
     "output_type": "stream",
     "text": [
      "loss: 0.21651671147163745\n"
     ]
    },
    {
     "name": "stderr",
     "output_type": "stream",
     "text": [
      "┌ Info: Epoch 92\n",
      "└ @ Main /home2/vavrines/.julia/packages/Flux/BPPNj/src/optimise/train.jl:138\n"
     ]
    },
    {
     "name": "stdout",
     "output_type": "stream",
     "text": [
      "loss: 0.21558709917200225\n"
     ]
    },
    {
     "name": "stderr",
     "output_type": "stream",
     "text": [
      "┌ Info: Epoch 93\n",
      "└ @ Main /home2/vavrines/.julia/packages/Flux/BPPNj/src/optimise/train.jl:138\n"
     ]
    },
    {
     "name": "stdout",
     "output_type": "stream",
     "text": [
      "loss: 0.2235327712804111\n",
      "loss: 0.2214723261149491\n"
     ]
    },
    {
     "name": "stderr",
     "output_type": "stream",
     "text": [
      "┌ Info: Epoch 94\n",
      "└ @ Main /home2/vavrines/.julia/packages/Flux/BPPNj/src/optimise/train.jl:138\n",
      "┌ Info: Epoch 95\n",
      "└ @ Main /home2/vavrines/.julia/packages/Flux/BPPNj/src/optimise/train.jl:138\n"
     ]
    },
    {
     "name": "stdout",
     "output_type": "stream",
     "text": [
      "loss: 0.23104368060900485\n"
     ]
    },
    {
     "name": "stderr",
     "output_type": "stream",
     "text": [
      "┌ Info: Epoch 96\n",
      "└ @ Main /home2/vavrines/.julia/packages/Flux/BPPNj/src/optimise/train.jl:138\n"
     ]
    },
    {
     "name": "stdout",
     "output_type": "stream",
     "text": [
      "loss: 0.22288226338513878\n"
     ]
    },
    {
     "name": "stderr",
     "output_type": "stream",
     "text": [
      "┌ Info: Epoch 97\n",
      "└ @ Main /home2/vavrines/.julia/packages/Flux/BPPNj/src/optimise/train.jl:138\n"
     ]
    },
    {
     "name": "stdout",
     "output_type": "stream",
     "text": [
      "loss: 0.22616001071448624\n",
      "loss: 0.2183269702430555\n"
     ]
    },
    {
     "name": "stderr",
     "output_type": "stream",
     "text": [
      "┌ Info: Epoch 98\n",
      "└ @ Main /home2/vavrines/.julia/packages/Flux/BPPNj/src/optimise/train.jl:138\n",
      "┌ Info: Epoch 99\n",
      "└ @ Main /home2/vavrines/.julia/packages/Flux/BPPNj/src/optimise/train.jl:138\n"
     ]
    },
    {
     "name": "stdout",
     "output_type": "stream",
     "text": [
      "loss: 0.21318292998360303\n"
     ]
    },
    {
     "name": "stderr",
     "output_type": "stream",
     "text": [
      "┌ Info: Epoch 100\n",
      "└ @ Main /home2/vavrines/.julia/packages/Flux/BPPNj/src/optimise/train.jl:138\n"
     ]
    }
   ],
   "source": [
    "@epochs 100 Flux.train!(loss, ps, data, opt, cb = Flux.throttle(cb, 1))"
   ]
  },
  {
   "cell_type": "code",
   "execution_count": 29,
   "metadata": {},
   "outputs": [],
   "source": [
    "cd(@__DIR__)"
   ]
  },
  {
   "cell_type": "code",
   "execution_count": 30,
   "metadata": {},
   "outputs": [],
   "source": [
    "@save \"nn.jld2\" nn"
   ]
  },
  {
   "cell_type": "markdown",
   "metadata": {},
   "source": [
    "### Test"
   ]
  },
  {
   "cell_type": "code",
   "execution_count": 28,
   "metadata": {},
   "outputs": [
    {
     "data": {
      "text/plain": [
       "0.858"
      ]
     },
     "execution_count": 28,
     "metadata": {},
     "output_type": "execute_result"
    }
   ],
   "source": [
    "accuracy(nn, X, Y)"
   ]
  },
  {
   "cell_type": "code",
   "execution_count": null,
   "metadata": {},
   "outputs": [],
   "source": []
  }
 ],
 "metadata": {
  "kernelspec": {
   "display_name": "Julia 1.6.2",
   "language": "julia",
   "name": "julia-1.6"
  },
  "language_info": {
   "file_extension": ".jl",
   "mimetype": "application/julia",
   "name": "julia",
   "version": "1.6.2"
  }
 },
 "nbformat": 4,
 "nbformat_minor": 4
}
