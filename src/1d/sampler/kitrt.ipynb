{
 "cells": [
  {
   "cell_type": "markdown",
   "metadata": {},
   "source": [
    "# Playground with sampled data from KiT-RT\n",
    "\n",
    "### Setup"
   ]
  },
  {
   "cell_type": "code",
   "execution_count": 179,
   "metadata": {},
   "outputs": [],
   "source": [
    "using KitBase, Plots, JLD2, Distributions, LinearAlgebra, Flux\n",
    "using Flux: onecold, @epochs"
   ]
  },
  {
   "cell_type": "code",
   "execution_count": 180,
   "metadata": {},
   "outputs": [
    {
     "data": {
      "text/plain": [
       "accuracy (generic function with 1 method)"
      ]
     },
     "execution_count": 180,
     "metadata": {},
     "output_type": "execute_result"
    }
   ],
   "source": [
    "function regime_data(w, sw, f, u, K, Kn, μ=ref_vhs_vis(Kn, 1.0, 0.5), ω=0.81)\n",
    "    gam = heat_capacity_ratio(K, 1)\n",
    "    prim = conserve_prim(w, gam)\n",
    "    Mu, Mxi, _, _1 = gauss_moments(prim, K)\n",
    "    a = pdf_slope(prim, sw, K)\n",
    "    swt = -prim[1] .* moments_conserve_slope(a, Mu, Mxi, 1)\n",
    "    A = pdf_slope(prim, swt, K)\n",
    "    tau = vhs_collision_time(prim, μ, ω)\n",
    "    fr = chapman_enskog(u, prim, a, A, tau)\n",
    "    L = norm((f .- fr) ./ prim[1])\n",
    "\n",
    "    x = [w; sw; tau]\n",
    "    y = ifelse(L <= 0.005, [1.0, 0.0], [0.0, 1.0])\n",
    "    return x, y\n",
    "end\n",
    "\n",
    "function regime_number(Y, rg=1)\n",
    "   idx = 0\n",
    "    for i in axes(Y, 2)\n",
    "       if Y[1, i] == rg\n",
    "            idx += 1\n",
    "        end\n",
    "    end\n",
    "    println(\"NS regime: $(idx) of $(size(Y, 2))\")\n",
    "    return nothing\n",
    "end\n",
    "\n",
    "function accuracy(nn, X, Y)\n",
    "    Y1 = nn(X)\n",
    "\n",
    "    YA1 = [onecold(Y1[:, i]) for i in axes(Y1, 2)]\n",
    "    YA = [onecold(Y[:, i]) for i in axes(Y, 2)]\n",
    "\n",
    "    accuracy = 0.0\n",
    "    for i in eachindex(YA)\n",
    "        if YA[i] == YA1[i]\n",
    "            accuracy += 1.0\n",
    "        end\n",
    "    end\n",
    "    accuracy /= length(YA)\n",
    "\n",
    "    return accuracy\n",
    "end"
   ]
  },
  {
   "cell_type": "markdown",
   "metadata": {},
   "source": [
    "### Dataset"
   ]
  },
  {
   "cell_type": "code",
   "execution_count": 181,
   "metadata": {},
   "outputs": [],
   "source": [
    "file = open(\"../../../data/1d/a3_ev5.csv\")\n",
    "data = []\n",
    "for line in eachline(file)\n",
    "    a = split(line, \",\")\n",
    "    b = [parse(Float64, a[i]) for i = 2:length(a)]\n",
    "    push!(data, b)\n",
    "end\n",
    "pdfs = data[3:end];"
   ]
  },
  {
   "cell_type": "code",
   "execution_count": 182,
   "metadata": {},
   "outputs": [
    {
     "data": {
      "text/plain": [
       "6003"
      ]
     },
     "execution_count": 182,
     "metadata": {},
     "output_type": "execute_result"
    }
   ],
   "source": [
    "file = open(\"../../../data/1d/a6_ev5.csv\")\n",
    "for line in eachline(file)\n",
    "    a = split(line, \",\")\n",
    "    b = [parse(Float64, a[i]) for i = 2:length(a)]\n",
    "    push!(data, b)\n",
    "end\n",
    "pdfs = [pdfs; data[3:end]]\n",
    "\n",
    "file = open(\"../../../data/1d/a8_ev5.csv\")\n",
    "for line in eachline(file)\n",
    "    a = split(line, \",\")\n",
    "    b = [parse(Float64, a[i]) for i = 2:length(a)]\n",
    "    push!(data, b)\n",
    "end\n",
    "pdfs = [pdfs; data[3:end]]\n",
    "nd = length(pdfs) ÷ 2"
   ]
  },
  {
   "cell_type": "code",
   "execution_count": 183,
   "metadata": {},
   "outputs": [
    {
     "data": {
      "text/plain": [
       "VelocitySpace1D{Float64,Int64,Vector{Float64},Vector{Float64}}\n",
       "domain: (-5.0,5.0)\n",
       "resolution: 100\n",
       "ghost: 0\n"
      ]
     },
     "execution_count": 183,
     "metadata": {},
     "output_type": "execute_result"
    }
   ],
   "source": [
    "vs = VSpace1D(-5.0, 5.0, length(data[1]), data[1], data[1][2:end] .- data[1][1:end-1], data[2])"
   ]
  },
  {
   "cell_type": "code",
   "execution_count": 184,
   "metadata": {},
   "outputs": [],
   "source": [
    "dist = Uniform(0.0001, 0.1)\n",
    "dxs = rand(dist, nd)\n",
    "dist = Uniform(0.000001, 1.0)\n",
    "kns = rand(dist, nd);"
   ]
  },
  {
   "cell_type": "code",
   "execution_count": 185,
   "metadata": {
    "scrolled": true
   },
   "outputs": [],
   "source": [
    "X = zeros(7, nd)\n",
    "Y = zeros(2, nd)\n",
    "for i = 1:nd\n",
    "    try\n",
    "        #fL = pdfs[i]; fR = pdfs[nd*2-i]\n",
    "        fL = pop!(pdfs); fR = pop!(pdfs) # shuffle\n",
    "        wL = moments_conserve(fL, vs.u, vs.weights); wR = moments_conserve(fR, vs.u, vs.weights)\n",
    "        #@show wL, wR\n",
    "        w = @. (wL + wR) / 2\n",
    "        sw = @. (wR - wL) / dxs[i]\n",
    "        f = @. (fL + fR) / 2\n",
    "\n",
    "        X[:, i], Y[:, i] = regime_data(w, sw, f, vs.u, 0, kns[i])\n",
    "    catch\n",
    "    end\n",
    "end"
   ]
  },
  {
   "cell_type": "code",
   "execution_count": 186,
   "metadata": {},
   "outputs": [
    {
     "name": "stdout",
     "output_type": "stream",
     "text": [
      "NS regime: 613 of 6003\n"
     ]
    }
   ],
   "source": [
    "regime_number(Y)"
   ]
  },
  {
   "cell_type": "code",
   "execution_count": 187,
   "metadata": {},
   "outputs": [
    {
     "data": {
      "image/svg+xml": [
       "<?xml version=\"1.0\" encoding=\"utf-8\"?>\n",
       "<svg xmlns=\"http://www.w3.org/2000/svg\" xmlns:xlink=\"http://www.w3.org/1999/xlink\" width=\"600\" height=\"400\" viewBox=\"0 0 2400 1600\">\n",
       "<defs>\n",
       "  <clipPath id=\"clip510\">\n",
       "    <rect x=\"0\" y=\"0\" width=\"2400\" height=\"1600\"/>\n",
       "  </clipPath>\n",
       "</defs>\n",
       "<path clip-path=\"url(#clip510)\" d=\"\n",
       "M0 1600 L2400 1600 L2400 0 L0 0  Z\n",
       "  \" fill=\"#ffffff\" fill-rule=\"evenodd\" fill-opacity=\"1\"/>\n",
       "<defs>\n",
       "  <clipPath id=\"clip511\">\n",
       "    <rect x=\"480\" y=\"0\" width=\"1681\" height=\"1600\"/>\n",
       "  </clipPath>\n",
       "</defs>\n",
       "<path clip-path=\"url(#clip510)\" d=\"\n",
       "M219.866 1486.45 L2352.76 1486.45 L2352.76 47.2441 L219.866 47.2441  Z\n",
       "  \" fill=\"#ffffff\" fill-rule=\"evenodd\" fill-opacity=\"1\"/>\n",
       "<defs>\n",
       "  <clipPath id=\"clip512\">\n",
       "    <rect x=\"219\" y=\"47\" width=\"2134\" height=\"1440\"/>\n",
       "  </clipPath>\n",
       "</defs>\n",
       "<polyline clip-path=\"url(#clip512)\" style=\"stroke:#000000; stroke-linecap:butt; stroke-linejoin:round; stroke-width:2; stroke-opacity:0.1; fill:none\" points=\"\n",
       "  481.217,1486.45 481.217,47.2441 \n",
       "  \"/>\n",
       "<polyline clip-path=\"url(#clip512)\" style=\"stroke:#000000; stroke-linecap:butt; stroke-linejoin:round; stroke-width:2; stroke-opacity:0.1; fill:none\" points=\"\n",
       "  883.764,1486.45 883.764,47.2441 \n",
       "  \"/>\n",
       "<polyline clip-path=\"url(#clip512)\" style=\"stroke:#000000; stroke-linecap:butt; stroke-linejoin:round; stroke-width:2; stroke-opacity:0.1; fill:none\" points=\"\n",
       "  1286.31,1486.45 1286.31,47.2441 \n",
       "  \"/>\n",
       "<polyline clip-path=\"url(#clip512)\" style=\"stroke:#000000; stroke-linecap:butt; stroke-linejoin:round; stroke-width:2; stroke-opacity:0.1; fill:none\" points=\"\n",
       "  1688.86,1486.45 1688.86,47.2441 \n",
       "  \"/>\n",
       "<polyline clip-path=\"url(#clip512)\" style=\"stroke:#000000; stroke-linecap:butt; stroke-linejoin:round; stroke-width:2; stroke-opacity:0.1; fill:none\" points=\"\n",
       "  2091.41,1486.45 2091.41,47.2441 \n",
       "  \"/>\n",
       "<polyline clip-path=\"url(#clip510)\" style=\"stroke:#000000; stroke-linecap:butt; stroke-linejoin:round; stroke-width:4; stroke-opacity:1; fill:none\" points=\"\n",
       "  219.866,1486.45 2352.76,1486.45 \n",
       "  \"/>\n",
       "<polyline clip-path=\"url(#clip510)\" style=\"stroke:#000000; stroke-linecap:butt; stroke-linejoin:round; stroke-width:4; stroke-opacity:1; fill:none\" points=\"\n",
       "  481.217,1486.45 481.217,1467.55 \n",
       "  \"/>\n",
       "<polyline clip-path=\"url(#clip510)\" style=\"stroke:#000000; stroke-linecap:butt; stroke-linejoin:round; stroke-width:4; stroke-opacity:1; fill:none\" points=\"\n",
       "  883.764,1486.45 883.764,1467.55 \n",
       "  \"/>\n",
       "<polyline clip-path=\"url(#clip510)\" style=\"stroke:#000000; stroke-linecap:butt; stroke-linejoin:round; stroke-width:4; stroke-opacity:1; fill:none\" points=\"\n",
       "  1286.31,1486.45 1286.31,1467.55 \n",
       "  \"/>\n",
       "<polyline clip-path=\"url(#clip510)\" style=\"stroke:#000000; stroke-linecap:butt; stroke-linejoin:round; stroke-width:4; stroke-opacity:1; fill:none\" points=\"\n",
       "  1688.86,1486.45 1688.86,1467.55 \n",
       "  \"/>\n",
       "<polyline clip-path=\"url(#clip510)\" style=\"stroke:#000000; stroke-linecap:butt; stroke-linejoin:round; stroke-width:4; stroke-opacity:1; fill:none\" points=\"\n",
       "  2091.41,1486.45 2091.41,1467.55 \n",
       "  \"/>\n",
       "<path clip-path=\"url(#clip510)\" d=\"M450.117 1532.02 L479.793 1532.02 L479.793 1535.95 L450.117 1535.95 L450.117 1532.02 Z\" fill=\"#000000\" fill-rule=\"evenodd\" fill-opacity=\"1\" /><path clip-path=\"url(#clip510)\" d=\"M502.733 1518.36 L490.927 1536.81 L502.733 1536.81 L502.733 1518.36 M501.506 1514.29 L507.385 1514.29 L507.385 1536.81 L512.316 1536.81 L512.316 1540.7 L507.385 1540.7 L507.385 1548.85 L502.733 1548.85 L502.733 1540.7 L487.131 1540.7 L487.131 1536.19 L501.506 1514.29 Z\" fill=\"#000000\" fill-rule=\"evenodd\" fill-opacity=\"1\" /><path clip-path=\"url(#clip510)\" d=\"M853.706 1532.02 L883.382 1532.02 L883.382 1535.95 L853.706 1535.95 L853.706 1532.02 Z\" fill=\"#000000\" fill-rule=\"evenodd\" fill-opacity=\"1\" /><path clip-path=\"url(#clip510)\" d=\"M897.502 1544.91 L913.822 1544.91 L913.822 1548.85 L891.877 1548.85 L891.877 1544.91 Q894.539 1542.16 899.123 1537.53 Q903.729 1532.88 904.91 1531.53 Q907.155 1529.01 908.035 1527.27 Q908.937 1525.51 908.937 1523.82 Q908.937 1521.07 906.993 1519.33 Q905.072 1517.6 901.97 1517.6 Q899.771 1517.6 897.317 1518.36 Q894.886 1519.13 892.109 1520.68 L892.109 1515.95 Q894.933 1514.82 897.386 1514.24 Q899.84 1513.66 901.877 1513.66 Q907.248 1513.66 910.442 1516.35 Q913.636 1519.03 913.636 1523.52 Q913.636 1525.65 912.826 1527.57 Q912.039 1529.47 909.933 1532.07 Q909.354 1532.74 906.252 1535.95 Q903.15 1539.15 897.502 1544.91 Z\" fill=\"#000000\" fill-rule=\"evenodd\" fill-opacity=\"1\" /><path clip-path=\"url(#clip510)\" d=\"M1286.31 1517.37 Q1282.7 1517.37 1280.87 1520.93 Q1279.07 1524.47 1279.07 1531.6 Q1279.07 1538.71 1280.87 1542.27 Q1282.7 1545.82 1286.31 1545.82 Q1289.95 1545.82 1291.75 1542.27 Q1293.58 1538.71 1293.58 1531.6 Q1293.58 1524.47 1291.75 1520.93 Q1289.95 1517.37 1286.31 1517.37 M1286.31 1513.66 Q1292.12 1513.66 1295.18 1518.27 Q1298.26 1522.85 1298.26 1531.6 Q1298.26 1540.33 1295.18 1544.94 Q1292.12 1549.52 1286.31 1549.52 Q1280.5 1549.52 1277.42 1544.94 Q1274.37 1540.33 1274.37 1531.6 Q1274.37 1522.85 1277.42 1518.27 Q1280.5 1513.66 1286.31 1513.66 Z\" fill=\"#000000\" fill-rule=\"evenodd\" fill-opacity=\"1\" /><path clip-path=\"url(#clip510)\" d=\"M1683.51 1544.91 L1699.83 1544.91 L1699.83 1548.85 L1677.89 1548.85 L1677.89 1544.91 Q1680.55 1542.16 1685.13 1537.53 Q1689.74 1532.88 1690.92 1531.53 Q1693.16 1529.01 1694.04 1527.27 Q1694.95 1525.51 1694.95 1523.82 Q1694.95 1521.07 1693 1519.33 Q1691.08 1517.6 1687.98 1517.6 Q1685.78 1517.6 1683.33 1518.36 Q1680.9 1519.13 1678.12 1520.68 L1678.12 1515.95 Q1680.94 1514.82 1683.4 1514.24 Q1685.85 1513.66 1687.89 1513.66 Q1693.26 1513.66 1696.45 1516.35 Q1699.65 1519.03 1699.65 1523.52 Q1699.65 1525.65 1698.84 1527.57 Q1698.05 1529.47 1695.94 1532.07 Q1695.36 1532.74 1692.26 1535.95 Q1689.16 1539.15 1683.51 1544.91 Z\" fill=\"#000000\" fill-rule=\"evenodd\" fill-opacity=\"1\" /><path clip-path=\"url(#clip510)\" d=\"M2094.41 1518.36 L2082.61 1536.81 L2094.41 1536.81 L2094.41 1518.36 M2093.19 1514.29 L2099.07 1514.29 L2099.07 1536.81 L2104 1536.81 L2104 1540.7 L2099.07 1540.7 L2099.07 1548.85 L2094.41 1548.85 L2094.41 1540.7 L2078.81 1540.7 L2078.81 1536.19 L2093.19 1514.29 Z\" fill=\"#000000\" fill-rule=\"evenodd\" fill-opacity=\"1\" /><polyline clip-path=\"url(#clip512)\" style=\"stroke:#000000; stroke-linecap:butt; stroke-linejoin:round; stroke-width:2; stroke-opacity:0.1; fill:none\" points=\"\n",
       "  219.866,1445.72 2352.76,1445.72 \n",
       "  \"/>\n",
       "<polyline clip-path=\"url(#clip512)\" style=\"stroke:#000000; stroke-linecap:butt; stroke-linejoin:round; stroke-width:2; stroke-opacity:0.1; fill:none\" points=\"\n",
       "  219.866,1142.01 2352.76,1142.01 \n",
       "  \"/>\n",
       "<polyline clip-path=\"url(#clip512)\" style=\"stroke:#000000; stroke-linecap:butt; stroke-linejoin:round; stroke-width:2; stroke-opacity:0.1; fill:none\" points=\"\n",
       "  219.866,838.305 2352.76,838.305 \n",
       "  \"/>\n",
       "<polyline clip-path=\"url(#clip512)\" style=\"stroke:#000000; stroke-linecap:butt; stroke-linejoin:round; stroke-width:2; stroke-opacity:0.1; fill:none\" points=\"\n",
       "  219.866,534.6 2352.76,534.6 \n",
       "  \"/>\n",
       "<polyline clip-path=\"url(#clip512)\" style=\"stroke:#000000; stroke-linecap:butt; stroke-linejoin:round; stroke-width:2; stroke-opacity:0.1; fill:none\" points=\"\n",
       "  219.866,230.895 2352.76,230.895 \n",
       "  \"/>\n",
       "<polyline clip-path=\"url(#clip510)\" style=\"stroke:#000000; stroke-linecap:butt; stroke-linejoin:round; stroke-width:4; stroke-opacity:1; fill:none\" points=\"\n",
       "  219.866,1486.45 219.866,47.2441 \n",
       "  \"/>\n",
       "<polyline clip-path=\"url(#clip510)\" style=\"stroke:#000000; stroke-linecap:butt; stroke-linejoin:round; stroke-width:4; stroke-opacity:1; fill:none\" points=\"\n",
       "  219.866,1445.72 238.764,1445.72 \n",
       "  \"/>\n",
       "<polyline clip-path=\"url(#clip510)\" style=\"stroke:#000000; stroke-linecap:butt; stroke-linejoin:round; stroke-width:4; stroke-opacity:1; fill:none\" points=\"\n",
       "  219.866,1142.01 238.764,1142.01 \n",
       "  \"/>\n",
       "<polyline clip-path=\"url(#clip510)\" style=\"stroke:#000000; stroke-linecap:butt; stroke-linejoin:round; stroke-width:4; stroke-opacity:1; fill:none\" points=\"\n",
       "  219.866,838.305 238.764,838.305 \n",
       "  \"/>\n",
       "<polyline clip-path=\"url(#clip510)\" style=\"stroke:#000000; stroke-linecap:butt; stroke-linejoin:round; stroke-width:4; stroke-opacity:1; fill:none\" points=\"\n",
       "  219.866,534.6 238.764,534.6 \n",
       "  \"/>\n",
       "<polyline clip-path=\"url(#clip510)\" style=\"stroke:#000000; stroke-linecap:butt; stroke-linejoin:round; stroke-width:4; stroke-opacity:1; fill:none\" points=\"\n",
       "  219.866,230.895 238.764,230.895 \n",
       "  \"/>\n",
       "<path clip-path=\"url(#clip510)\" d=\"M126.691 1431.51 Q123.08 1431.51 121.251 1435.08 Q119.445 1438.62 119.445 1445.75 Q119.445 1452.86 121.251 1456.42 Q123.08 1459.96 126.691 1459.96 Q130.325 1459.96 132.13 1456.42 Q133.959 1452.86 133.959 1445.75 Q133.959 1438.62 132.13 1435.08 Q130.325 1431.51 126.691 1431.51 M126.691 1427.81 Q132.501 1427.81 135.556 1432.42 Q138.635 1437 138.635 1445.75 Q138.635 1454.48 135.556 1459.08 Q132.501 1463.67 126.691 1463.67 Q120.88 1463.67 117.802 1459.08 Q114.746 1454.48 114.746 1445.75 Q114.746 1437 117.802 1432.42 Q120.88 1427.81 126.691 1427.81 Z\" fill=\"#000000\" fill-rule=\"evenodd\" fill-opacity=\"1\" /><path clip-path=\"url(#clip510)\" d=\"M146.853 1457.12 L151.737 1457.12 L151.737 1463 L146.853 1463 L146.853 1457.12 Z\" fill=\"#000000\" fill-rule=\"evenodd\" fill-opacity=\"1\" /><path clip-path=\"url(#clip510)\" d=\"M171.922 1431.51 Q168.311 1431.51 166.482 1435.08 Q164.677 1438.62 164.677 1445.75 Q164.677 1452.86 166.482 1456.42 Q168.311 1459.96 171.922 1459.96 Q175.556 1459.96 177.362 1456.42 Q179.19 1452.86 179.19 1445.75 Q179.19 1438.62 177.362 1435.08 Q175.556 1431.51 171.922 1431.51 M171.922 1427.81 Q177.732 1427.81 180.788 1432.42 Q183.866 1437 183.866 1445.75 Q183.866 1454.48 180.788 1459.08 Q177.732 1463.67 171.922 1463.67 Q166.112 1463.67 163.033 1459.08 Q159.978 1454.48 159.978 1445.75 Q159.978 1437 163.033 1432.42 Q166.112 1427.81 171.922 1427.81 Z\" fill=\"#000000\" fill-rule=\"evenodd\" fill-opacity=\"1\" /><path clip-path=\"url(#clip510)\" d=\"M127.917 1127.81 Q124.306 1127.81 122.478 1131.37 Q120.672 1134.92 120.672 1142.05 Q120.672 1149.15 122.478 1152.72 Q124.306 1156.26 127.917 1156.26 Q131.552 1156.26 133.357 1152.72 Q135.186 1149.15 135.186 1142.05 Q135.186 1134.92 133.357 1131.37 Q131.552 1127.81 127.917 1127.81 M127.917 1124.11 Q133.728 1124.11 136.783 1128.71 Q139.862 1133.3 139.862 1142.05 Q139.862 1150.77 136.783 1155.38 Q133.728 1159.96 127.917 1159.96 Q122.107 1159.96 119.029 1155.38 Q115.973 1150.77 115.973 1142.05 Q115.973 1133.3 119.029 1128.71 Q122.107 1124.11 127.917 1124.11 Z\" fill=\"#000000\" fill-rule=\"evenodd\" fill-opacity=\"1\" /><path clip-path=\"url(#clip510)\" d=\"M148.079 1153.41 L152.964 1153.41 L152.964 1159.29 L148.079 1159.29 L148.079 1153.41 Z\" fill=\"#000000\" fill-rule=\"evenodd\" fill-opacity=\"1\" /><path clip-path=\"url(#clip510)\" d=\"M163.959 1155.36 L171.598 1155.36 L171.598 1128.99 L163.288 1130.66 L163.288 1126.4 L171.552 1124.73 L176.227 1124.73 L176.227 1155.36 L183.866 1155.36 L183.866 1159.29 L163.959 1159.29 L163.959 1155.36 Z\" fill=\"#000000\" fill-rule=\"evenodd\" fill-opacity=\"1\" /><path clip-path=\"url(#clip510)\" d=\"M128.288 824.104 Q124.677 824.104 122.848 827.669 Q121.043 831.211 121.043 838.34 Q121.043 845.447 122.848 849.011 Q124.677 852.553 128.288 852.553 Q131.922 852.553 133.728 849.011 Q135.556 845.447 135.556 838.34 Q135.556 831.211 133.728 827.669 Q131.922 824.104 128.288 824.104 M128.288 820.4 Q134.098 820.4 137.154 825.007 Q140.232 829.59 140.232 838.34 Q140.232 847.067 137.154 851.673 Q134.098 856.257 128.288 856.257 Q122.478 856.257 119.399 851.673 Q116.343 847.067 116.343 838.34 Q116.343 829.59 119.399 825.007 Q122.478 820.4 128.288 820.4 Z\" fill=\"#000000\" fill-rule=\"evenodd\" fill-opacity=\"1\" /><path clip-path=\"url(#clip510)\" d=\"M148.45 849.706 L153.334 849.706 L153.334 855.585 L148.45 855.585 L148.45 849.706 Z\" fill=\"#000000\" fill-rule=\"evenodd\" fill-opacity=\"1\" /><path clip-path=\"url(#clip510)\" d=\"M167.547 851.65 L183.866 851.65 L183.866 855.585 L161.922 855.585 L161.922 851.65 Q164.584 848.896 169.167 844.266 Q173.774 839.613 174.954 838.271 Q177.2 835.748 178.079 834.011 Q178.982 832.252 178.982 830.562 Q178.982 827.808 177.038 826.072 Q175.116 824.336 172.014 824.336 Q169.815 824.336 167.362 825.1 Q164.931 825.863 162.153 827.414 L162.153 822.692 Q164.977 821.558 167.431 820.979 Q169.885 820.4 171.922 820.4 Q177.292 820.4 180.487 823.086 Q183.681 825.771 183.681 830.262 Q183.681 832.391 182.871 834.312 Q182.084 836.211 179.977 838.803 Q179.399 839.474 176.297 842.692 Q173.195 845.886 167.547 851.65 Z\" fill=\"#000000\" fill-rule=\"evenodd\" fill-opacity=\"1\" /><path clip-path=\"url(#clip510)\" d=\"M127.339 520.399 Q123.728 520.399 121.899 523.964 Q120.093 527.505 120.093 534.635 Q120.093 541.742 121.899 545.306 Q123.728 548.848 127.339 548.848 Q130.973 548.848 132.779 545.306 Q134.607 541.742 134.607 534.635 Q134.607 527.505 132.779 523.964 Q130.973 520.399 127.339 520.399 M127.339 516.695 Q133.149 516.695 136.204 521.302 Q139.283 525.885 139.283 534.635 Q139.283 543.362 136.204 547.968 Q133.149 552.552 127.339 552.552 Q121.529 552.552 118.45 547.968 Q115.394 543.362 115.394 534.635 Q115.394 525.885 118.45 521.302 Q121.529 516.695 127.339 516.695 Z\" fill=\"#000000\" fill-rule=\"evenodd\" fill-opacity=\"1\" /><path clip-path=\"url(#clip510)\" d=\"M147.501 546.001 L152.385 546.001 L152.385 551.88 L147.501 551.88 L147.501 546.001 Z\" fill=\"#000000\" fill-rule=\"evenodd\" fill-opacity=\"1\" /><path clip-path=\"url(#clip510)\" d=\"M176.737 533.246 Q180.093 533.964 181.968 536.232 Q183.866 538.501 183.866 541.834 Q183.866 546.95 180.348 549.751 Q176.829 552.552 170.348 552.552 Q168.172 552.552 165.857 552.112 Q163.565 551.695 161.112 550.839 L161.112 546.325 Q163.056 547.459 165.371 548.038 Q167.686 548.616 170.209 548.616 Q174.607 548.616 176.899 546.88 Q179.214 545.144 179.214 541.834 Q179.214 538.779 177.061 537.066 Q174.931 535.33 171.112 535.33 L167.084 535.33 L167.084 531.487 L171.297 531.487 Q174.746 531.487 176.575 530.121 Q178.403 528.732 178.403 526.14 Q178.403 523.478 176.505 522.066 Q174.63 520.631 171.112 520.631 Q169.19 520.631 166.991 521.047 Q164.792 521.464 162.153 522.343 L162.153 518.177 Q164.815 517.436 167.13 517.066 Q169.468 516.695 171.528 516.695 Q176.852 516.695 179.954 519.126 Q183.056 521.533 183.056 525.654 Q183.056 528.524 181.413 530.515 Q179.769 532.482 176.737 533.246 Z\" fill=\"#000000\" fill-rule=\"evenodd\" fill-opacity=\"1\" /><path clip-path=\"url(#clip510)\" d=\"M126.205 216.694 Q122.593 216.694 120.765 220.259 Q118.959 223.8 118.959 230.93 Q118.959 238.036 120.765 241.601 Q122.593 245.143 126.205 245.143 Q129.839 245.143 131.644 241.601 Q133.473 238.036 133.473 230.93 Q133.473 223.8 131.644 220.259 Q129.839 216.694 126.205 216.694 M126.205 212.99 Q132.015 212.99 135.07 217.597 Q138.149 222.18 138.149 230.93 Q138.149 239.657 135.07 244.263 Q132.015 248.847 126.205 248.847 Q120.394 248.847 117.316 244.263 Q114.26 239.657 114.26 230.93 Q114.26 222.18 117.316 217.597 Q120.394 212.99 126.205 212.99 Z\" fill=\"#000000\" fill-rule=\"evenodd\" fill-opacity=\"1\" /><path clip-path=\"url(#clip510)\" d=\"M146.366 242.296 L151.251 242.296 L151.251 248.175 L146.366 248.175 L146.366 242.296 Z\" fill=\"#000000\" fill-rule=\"evenodd\" fill-opacity=\"1\" /><path clip-path=\"url(#clip510)\" d=\"M174.283 217.689 L162.477 236.138 L174.283 236.138 L174.283 217.689 M173.056 213.615 L178.936 213.615 L178.936 236.138 L183.866 236.138 L183.866 240.027 L178.936 240.027 L178.936 248.175 L174.283 248.175 L174.283 240.027 L158.681 240.027 L158.681 235.513 L173.056 213.615 Z\" fill=\"#000000\" fill-rule=\"evenodd\" fill-opacity=\"1\" /><path clip-path=\"url(#clip510)\" d=\"M22.086 935.776 L47.4533 952.008 L47.4533 935.776 L22.086 935.776 M16.4842 937.463 L16.4842 929.378 L47.4533 929.378 L47.4533 922.599 L52.8005 922.599 L52.8005 929.378 L64.0042 929.378 L64.0042 935.776 L52.8005 935.776 L52.8005 957.228 L46.5939 957.228 L16.4842 937.463 Z\" fill=\"#000000\" fill-rule=\"evenodd\" fill-opacity=\"1\" /><path clip-path=\"url(#clip510)\" d=\"M20.7174 898.218 Q20.7174 903.184 25.6189 905.698 Q30.4887 908.181 40.2919 908.181 Q50.0633 908.181 54.9649 905.698 Q59.8346 903.184 59.8346 898.218 Q59.8346 893.221 54.9649 890.739 Q50.0633 888.224 40.2919 888.224 Q30.4887 888.224 25.6189 890.739 Q20.7174 893.221 20.7174 898.218 M15.6248 898.218 Q15.6248 890.229 21.9587 886.028 Q28.2607 881.795 40.2919 881.795 Q52.2913 881.795 58.6251 886.028 Q64.9272 890.229 64.9272 898.218 Q64.9272 906.207 58.6251 910.44 Q52.2913 914.642 40.2919 914.642 Q28.2607 914.642 21.9587 910.44 Q15.6248 906.207 15.6248 898.218 Z\" fill=\"#000000\" fill-rule=\"evenodd\" fill-opacity=\"1\" /><path clip-path=\"url(#clip510)\" d=\"M20.7174 856.746 Q20.7174 861.711 25.6189 864.225 Q30.4887 866.708 40.2919 866.708 Q50.0633 866.708 54.9649 864.225 Q59.8346 861.711 59.8346 856.746 Q59.8346 851.749 54.9649 849.266 Q50.0633 846.752 40.2919 846.752 Q30.4887 846.752 25.6189 849.266 Q20.7174 851.749 20.7174 856.746 M15.6248 856.746 Q15.6248 848.757 21.9587 844.555 Q28.2607 840.322 40.2919 840.322 Q52.2913 840.322 58.6251 844.555 Q64.9272 848.757 64.9272 856.746 Q64.9272 864.735 58.6251 868.968 Q52.2913 873.169 40.2919 873.169 Q28.2607 873.169 21.9587 868.968 Q15.6248 864.735 15.6248 856.746 Z\" fill=\"#000000\" fill-rule=\"evenodd\" fill-opacity=\"1\" /><path clip-path=\"url(#clip510)\" d=\"M20.7174 815.273 Q20.7174 820.238 25.6189 822.753 Q30.4887 825.235 40.2919 825.235 Q50.0633 825.235 54.9649 822.753 Q59.8346 820.238 59.8346 815.273 Q59.8346 810.276 54.9649 807.793 Q50.0633 805.279 40.2919 805.279 Q30.4887 805.279 25.6189 807.793 Q20.7174 810.276 20.7174 815.273 M15.6248 815.273 Q15.6248 807.284 21.9587 803.083 Q28.2607 798.85 40.2919 798.85 Q52.2913 798.85 58.6251 803.083 Q64.9272 807.284 64.9272 815.273 Q64.9272 823.262 58.6251 827.495 Q52.2913 831.697 40.2919 831.697 Q28.2607 831.697 21.9587 827.495 Q15.6248 823.262 15.6248 815.273 Z\" fill=\"#000000\" fill-rule=\"evenodd\" fill-opacity=\"1\" /><path clip-path=\"url(#clip510)\" d=\"M43.5384 791.338 L43.5384 774.182 L48.7583 774.182 L48.7583 791.338 L43.5384 791.338 Z\" fill=\"#000000\" fill-rule=\"evenodd\" fill-opacity=\"1\" /><path clip-path=\"url(#clip510)\" d=\"M18.2347 759.064 L28.3562 759.064 L28.3562 747.001 L32.9077 747.001 L32.9077 759.064 L52.2594 759.064 Q56.6199 759.064 57.8613 757.886 Q59.1026 756.677 59.1026 753.016 L59.1026 747.001 L64.0042 747.001 L64.0042 753.016 Q64.0042 759.796 61.4897 762.374 Q58.9434 764.952 52.2594 764.952 L32.9077 764.952 L32.9077 769.249 L28.3562 769.249 L28.3562 764.952 L18.2347 764.952 L18.2347 759.064 Z\" fill=\"#000000\" fill-rule=\"evenodd\" fill-opacity=\"1\" /><path clip-path=\"url(#clip510)\" d=\"M42.4881 709.666 L64.0042 709.666 L64.0042 715.522 L42.679 715.522 Q37.6183 715.522 35.1038 717.496 Q32.5894 719.469 32.5894 723.416 Q32.5894 728.158 35.6131 730.896 Q38.6368 733.633 43.8567 733.633 L64.0042 733.633 L64.0042 739.521 L14.479 739.521 L14.479 733.633 L33.8944 733.633 Q30.6797 731.532 29.0883 728.699 Q27.4968 725.835 27.4968 722.111 Q27.4968 715.968 31.3163 712.817 Q35.1038 709.666 42.4881 709.666 Z\" fill=\"#000000\" fill-rule=\"evenodd\" fill-opacity=\"1\" /><path clip-path=\"url(#clip510)\" d=\"M58.657 671.599 L77.5631 671.599 L77.5631 677.487 L28.3562 677.487 L28.3562 671.599 L33.7671 671.599 Q30.5842 669.753 29.0564 666.952 Q27.4968 664.119 27.4968 660.204 Q27.4968 653.711 32.6531 649.669 Q37.8093 645.595 46.212 645.595 Q54.6147 645.595 59.771 649.669 Q64.9272 653.711 64.9272 660.204 Q64.9272 664.119 63.3994 666.952 Q61.8398 669.753 58.657 671.599 M46.212 651.674 Q39.7508 651.674 36.0905 654.348 Q32.3984 656.99 32.3984 661.637 Q32.3984 666.284 36.0905 668.957 Q39.7508 671.599 46.212 671.599 Q52.6732 671.599 56.3653 668.957 Q60.0256 666.284 60.0256 661.637 Q60.0256 656.99 56.3653 654.348 Q52.6732 651.674 46.212 651.674 Z\" fill=\"#000000\" fill-rule=\"evenodd\" fill-opacity=\"1\" /><path clip-path=\"url(#clip510)\" d=\"M33.7671 612.43 L14.479 612.43 L14.479 606.573 L64.0042 606.573 L64.0042 612.43 L58.657 612.43 Q61.8398 614.276 63.3994 617.109 Q64.9272 619.91 64.9272 623.856 Q64.9272 630.317 59.771 634.392 Q54.6147 638.434 46.212 638.434 Q37.8093 638.434 32.6531 634.392 Q27.4968 630.317 27.4968 623.856 Q27.4968 619.91 29.0564 617.109 Q30.5842 614.276 33.7671 612.43 M46.212 632.386 Q52.6732 632.386 56.3653 629.745 Q60.0256 627.071 60.0256 622.424 Q60.0256 617.777 56.3653 615.103 Q52.6732 612.43 46.212 612.43 Q39.7508 612.43 36.0905 615.103 Q32.3984 617.777 32.3984 622.424 Q32.3984 627.071 36.0905 629.745 Q39.7508 632.386 46.212 632.386 Z\" fill=\"#000000\" fill-rule=\"evenodd\" fill-opacity=\"1\" /><path clip-path=\"url(#clip510)\" d=\"M14.479 576.464 L19.3487 576.464 L19.3487 582.065 Q19.3487 585.216 20.6219 586.458 Q21.895 587.667 25.2052 587.667 L28.3562 587.667 L28.3562 578.023 L32.9077 578.023 L32.9077 587.667 L64.0042 587.667 L64.0042 593.556 L32.9077 593.556 L32.9077 599.157 L28.3562 599.157 L28.3562 593.556 L25.8736 593.556 Q19.9216 593.556 17.2162 590.786 Q14.479 588.017 14.479 582.002 L14.479 576.464 Z\" fill=\"#000000\" fill-rule=\"evenodd\" fill-opacity=\"1\" /><polyline clip-path=\"url(#clip512)\" style=\"stroke:#009af9; stroke-linecap:butt; stroke-linejoin:round; stroke-width:4; stroke-opacity:1; fill:none\" points=\"\n",
       "  280.231,1445.72 281.461,1445.72 283.671,1445.72 286.862,1445.72 291.029,1445.72 296.168,1445.72 302.275,1445.72 309.343,1445.72 317.366,1445.72 326.336,1445.72 \n",
       "  336.243,1445.72 347.079,1445.72 358.833,1445.72 371.493,1445.72 385.046,1445.72 399.481,1445.72 414.782,1445.72 430.934,1445.72 447.922,1445.72 465.729,1445.72 \n",
       "  484.338,1445.72 503.731,1445.72 523.888,1445.72 544.791,1445.72 566.418,1445.72 588.748,1445.72 611.76,1445.72 635.431,1445.72 659.737,1445.72 684.656,1445.72 \n",
       "  710.163,1445.72 736.233,1445.71 762.841,1445.69 789.959,1445.52 817.563,1444.43 845.625,1439.91 874.118,1426.3 903.013,1394.97 932.282,1337.45 961.898,1249.43 \n",
       "  991.83,1132.92 1022.05,995.043 1052.53,845.175 1083.24,692.428 1114.14,544.555 1145.22,408.042 1176.43,288.701 1207.75,192.124 1239.14,123.68 1270.58,87.9763 \n",
       "  1302.04,87.9996 1333.48,124.248 1364.88,194.229 1396.2,292.575 1427.41,411.778 1458.48,543.346 1489.39,679.031 1520.09,811.777 1550.57,936.226 1580.79,1048.77 \n",
       "  1610.72,1147.28 1640.34,1230.69 1669.61,1298.69 1698.5,1351.54 1727,1390.13 1755.06,1416.08 1782.66,1431.77 1809.78,1440.08 1836.39,1443.82 1862.46,1445.2 \n",
       "  1887.97,1445.61 1912.88,1445.7 1937.19,1445.71 1960.86,1445.72 1983.87,1445.72 2006.2,1445.72 2027.83,1445.72 2048.73,1445.72 2068.89,1445.72 2088.28,1445.72 \n",
       "  2106.89,1445.72 2124.7,1445.72 2141.69,1445.72 2157.84,1445.72 2173.14,1445.72 2187.58,1445.72 2201.13,1445.72 2213.79,1445.72 2225.54,1445.72 2236.38,1445.72 \n",
       "  2246.29,1445.72 2255.26,1445.72 2263.28,1445.72 2270.35,1445.72 2276.45,1445.72 2281.59,1445.72 2285.76,1445.72 2288.95,1445.72 2291.16,1445.72 2292.39,1445.72 \n",
       "  \n",
       "  \"/>\n",
       "<path clip-path=\"url(#clip510)\" d=\"\n",
       "M1992.24 198.898 L2281.66 198.898 L2281.66 95.2176 L1992.24 95.2176  Z\n",
       "  \" fill=\"#ffffff\" fill-rule=\"evenodd\" fill-opacity=\"1\"/>\n",
       "<polyline clip-path=\"url(#clip510)\" style=\"stroke:#000000; stroke-linecap:butt; stroke-linejoin:round; stroke-width:4; stroke-opacity:1; fill:none\" points=\"\n",
       "  1992.24,198.898 2281.66,198.898 2281.66,95.2176 1992.24,95.2176 1992.24,198.898 \n",
       "  \"/>\n",
       "<polyline clip-path=\"url(#clip510)\" style=\"stroke:#009af9; stroke-linecap:butt; stroke-linejoin:round; stroke-width:4; stroke-opacity:1; fill:none\" points=\"\n",
       "  2015.94,147.058 2158.13,147.058 \n",
       "  \"/>\n",
       "<path clip-path=\"url(#clip510)\" d=\"M2195.67 166.745 Q2193.87 171.375 2192.16 172.787 Q2190.44 174.199 2187.57 174.199 L2184.17 174.199 L2184.17 170.634 L2186.67 170.634 Q2188.43 170.634 2189.4 169.8 Q2190.37 168.967 2191.55 165.865 L2192.32 163.921 L2181.83 138.412 L2186.35 138.412 L2194.45 158.689 L2202.55 138.412 L2207.06 138.412 L2195.67 166.745 Z\" fill=\"#000000\" fill-rule=\"evenodd\" fill-opacity=\"1\" /><path clip-path=\"url(#clip510)\" d=\"M2214.35 160.402 L2221.99 160.402 L2221.99 134.037 L2213.68 135.703 L2213.68 131.444 L2221.95 129.778 L2226.62 129.778 L2226.62 160.402 L2234.26 160.402 L2234.26 164.338 L2214.35 164.338 L2214.35 160.402 Z\" fill=\"#000000\" fill-rule=\"evenodd\" fill-opacity=\"1\" /></svg>\n"
      ]
     },
     "execution_count": 187,
     "metadata": {},
     "output_type": "execute_result"
    }
   ],
   "source": [
    "idx = Int(floor(rand() * size(X, 2)))\n",
    "plot(data[1], data[idx], ylabel=\"$(idx)-th pdf\")"
   ]
  },
  {
   "cell_type": "markdown",
   "metadata": {},
   "source": [
    "### Model"
   ]
  },
  {
   "cell_type": "code",
   "execution_count": 188,
   "metadata": {},
   "outputs": [
    {
     "data": {
      "text/plain": [
       "1-element Vector{Symbol}:\n",
       " :nn"
      ]
     },
     "execution_count": 188,
     "metadata": {},
     "output_type": "execute_result"
    }
   ],
   "source": [
    "@load \"../nn.jld2\" nn"
   ]
  },
  {
   "cell_type": "code",
   "execution_count": 189,
   "metadata": {},
   "outputs": [
    {
     "data": {
      "text/plain": [
       "0.8670664667666167"
      ]
     },
     "execution_count": 189,
     "metadata": {},
     "output_type": "execute_result"
    }
   ],
   "source": [
    "accuracy(nn, X, Y)"
   ]
  },
  {
   "cell_type": "code",
   "execution_count": 190,
   "metadata": {},
   "outputs": [
    {
     "data": {
      "text/plain": [
       "ADAM(0.001, (0.9, 0.999), IdDict{Any, Any}())"
      ]
     },
     "execution_count": 190,
     "metadata": {},
     "output_type": "execute_result"
    }
   ],
   "source": [
    "data = Flux.Data.DataLoader((X, Y), shuffle = true)\n",
    "ps = Flux.params(nn)\n",
    "sqnorm(x) = sum(abs2, x)\n",
    "loss(x, y) = sum(abs2, nn(x) - y) / size(x, 2) #+ 1e-6 * sum(sqnorm, ps)\n",
    "cb = () -> println(\"loss: $(loss(X, Y))\")\n",
    "opt = ADAM()"
   ]
  },
  {
   "cell_type": "code",
   "execution_count": 193,
   "metadata": {
    "scrolled": true
   },
   "outputs": [
    {
     "name": "stdout",
     "output_type": "stream",
     "text": [
      "loss: 0.12931036980230948\n"
     ]
    },
    {
     "name": "stderr",
     "output_type": "stream",
     "text": [
      "┌ Info: Epoch 1\n",
      "└ @ Main /home2/vavrines/.julia/packages/Flux/BPPNj/src/optimise/train.jl:138\n"
     ]
    },
    {
     "name": "stdout",
     "output_type": "stream",
     "text": [
      "loss: 0.13179975673165334\n"
     ]
    },
    {
     "name": "stderr",
     "output_type": "stream",
     "text": [
      "┌ Info: Epoch 2\n",
      "└ @ Main /home2/vavrines/.julia/packages/Flux/BPPNj/src/optimise/train.jl:138\n"
     ]
    },
    {
     "name": "stdout",
     "output_type": "stream",
     "text": [
      "loss: 0.1205669624379211\n"
     ]
    },
    {
     "name": "stderr",
     "output_type": "stream",
     "text": [
      "┌ Info: Epoch 3\n",
      "└ @ Main /home2/vavrines/.julia/packages/Flux/BPPNj/src/optimise/train.jl:138\n"
     ]
    },
    {
     "name": "stdout",
     "output_type": "stream",
     "text": [
      "loss: 0.1366726354873618\n"
     ]
    },
    {
     "name": "stderr",
     "output_type": "stream",
     "text": [
      "┌ Info: Epoch 4\n",
      "└ @ Main /home2/vavrines/.julia/packages/Flux/BPPNj/src/optimise/train.jl:138\n"
     ]
    },
    {
     "name": "stdout",
     "output_type": "stream",
     "text": [
      "loss: 0.11970069244626544\n"
     ]
    },
    {
     "name": "stderr",
     "output_type": "stream",
     "text": [
      "┌ Info: Epoch 5\n",
      "└ @ Main /home2/vavrines/.julia/packages/Flux/BPPNj/src/optimise/train.jl:138\n"
     ]
    },
    {
     "name": "stdout",
     "output_type": "stream",
     "text": [
      "loss: 0.12515433563358005\n"
     ]
    },
    {
     "name": "stderr",
     "output_type": "stream",
     "text": [
      "┌ Info: Epoch 6\n",
      "└ @ Main /home2/vavrines/.julia/packages/Flux/BPPNj/src/optimise/train.jl:138\n"
     ]
    },
    {
     "name": "stdout",
     "output_type": "stream",
     "text": [
      "loss: 0.12311641730003849\n"
     ]
    },
    {
     "name": "stderr",
     "output_type": "stream",
     "text": [
      "┌ Info: Epoch 7\n",
      "└ @ Main /home2/vavrines/.julia/packages/Flux/BPPNj/src/optimise/train.jl:138\n"
     ]
    },
    {
     "name": "stdout",
     "output_type": "stream",
     "text": [
      "loss: 0.11969960746644635\n"
     ]
    },
    {
     "name": "stderr",
     "output_type": "stream",
     "text": [
      "┌ Info: Epoch 8\n",
      "└ @ Main /home2/vavrines/.julia/packages/Flux/BPPNj/src/optimise/train.jl:138\n"
     ]
    },
    {
     "name": "stdout",
     "output_type": "stream",
     "text": [
      "loss: 0.12325444285130684\n"
     ]
    },
    {
     "name": "stderr",
     "output_type": "stream",
     "text": [
      "┌ Info: Epoch 9\n",
      "└ @ Main /home2/vavrines/.julia/packages/Flux/BPPNj/src/optimise/train.jl:138\n"
     ]
    },
    {
     "name": "stdout",
     "output_type": "stream",
     "text": [
      "loss: 0.13203034772836314\n"
     ]
    },
    {
     "name": "stderr",
     "output_type": "stream",
     "text": [
      "┌ Info: Epoch 10\n",
      "└ @ Main /home2/vavrines/.julia/packages/Flux/BPPNj/src/optimise/train.jl:138\n"
     ]
    },
    {
     "name": "stdout",
     "output_type": "stream",
     "text": [
      "loss: 0.11664005426084256\n"
     ]
    },
    {
     "name": "stderr",
     "output_type": "stream",
     "text": [
      "┌ Info: Epoch 11\n",
      "└ @ Main /home2/vavrines/.julia/packages/Flux/BPPNj/src/optimise/train.jl:138\n"
     ]
    },
    {
     "name": "stdout",
     "output_type": "stream",
     "text": [
      "loss: 0.15061156888229127\n"
     ]
    },
    {
     "name": "stderr",
     "output_type": "stream",
     "text": [
      "┌ Info: Epoch 12\n",
      "└ @ Main /home2/vavrines/.julia/packages/Flux/BPPNj/src/optimise/train.jl:138\n"
     ]
    },
    {
     "name": "stdout",
     "output_type": "stream",
     "text": [
      "loss: 0.20886346269924694\n"
     ]
    },
    {
     "name": "stderr",
     "output_type": "stream",
     "text": [
      "┌ Info: Epoch 13\n",
      "└ @ Main /home2/vavrines/.julia/packages/Flux/BPPNj/src/optimise/train.jl:138\n"
     ]
    },
    {
     "name": "stdout",
     "output_type": "stream",
     "text": [
      "loss: 0.12892240900087512\n"
     ]
    },
    {
     "name": "stderr",
     "output_type": "stream",
     "text": [
      "┌ Info: Epoch 14\n",
      "└ @ Main /home2/vavrines/.julia/packages/Flux/BPPNj/src/optimise/train.jl:138\n"
     ]
    },
    {
     "name": "stdout",
     "output_type": "stream",
     "text": [
      "loss: 0.11802782396533003\n"
     ]
    },
    {
     "name": "stderr",
     "output_type": "stream",
     "text": [
      "┌ Info: Epoch 15\n",
      "└ @ Main /home2/vavrines/.julia/packages/Flux/BPPNj/src/optimise/train.jl:138\n"
     ]
    },
    {
     "name": "stdout",
     "output_type": "stream",
     "text": [
      "loss: 0.13239848885429356\n"
     ]
    },
    {
     "name": "stderr",
     "output_type": "stream",
     "text": [
      "┌ Info: Epoch 16\n",
      "└ @ Main /home2/vavrines/.julia/packages/Flux/BPPNj/src/optimise/train.jl:138\n"
     ]
    },
    {
     "name": "stdout",
     "output_type": "stream",
     "text": [
      "loss: 0.11670046325449528\n"
     ]
    },
    {
     "name": "stderr",
     "output_type": "stream",
     "text": [
      "┌ Info: Epoch 17\n",
      "└ @ Main /home2/vavrines/.julia/packages/Flux/BPPNj/src/optimise/train.jl:138\n"
     ]
    },
    {
     "name": "stdout",
     "output_type": "stream",
     "text": [
      "loss: 0.11650080014073436\n"
     ]
    },
    {
     "name": "stderr",
     "output_type": "stream",
     "text": [
      "┌ Info: Epoch 18\n",
      "└ @ Main /home2/vavrines/.julia/packages/Flux/BPPNj/src/optimise/train.jl:138\n"
     ]
    },
    {
     "name": "stdout",
     "output_type": "stream",
     "text": [
      "loss: 0.12261992393544896\n"
     ]
    },
    {
     "name": "stderr",
     "output_type": "stream",
     "text": [
      "┌ Info: Epoch 19\n",
      "└ @ Main /home2/vavrines/.julia/packages/Flux/BPPNj/src/optimise/train.jl:138\n"
     ]
    },
    {
     "name": "stdout",
     "output_type": "stream",
     "text": [
      "loss: 0.12331896691964847\n"
     ]
    },
    {
     "name": "stderr",
     "output_type": "stream",
     "text": [
      "┌ Info: Epoch 20\n",
      "└ @ Main /home2/vavrines/.julia/packages/Flux/BPPNj/src/optimise/train.jl:138\n"
     ]
    },
    {
     "name": "stdout",
     "output_type": "stream",
     "text": [
      "loss: 0.11011432291264839\n"
     ]
    },
    {
     "name": "stderr",
     "output_type": "stream",
     "text": [
      "┌ Info: Epoch 21\n",
      "└ @ Main /home2/vavrines/.julia/packages/Flux/BPPNj/src/optimise/train.jl:138\n"
     ]
    },
    {
     "name": "stdout",
     "output_type": "stream",
     "text": [
      "loss: 0.11857863203428592\n"
     ]
    },
    {
     "name": "stderr",
     "output_type": "stream",
     "text": [
      "┌ Info: Epoch 22\n",
      "└ @ Main /home2/vavrines/.julia/packages/Flux/BPPNj/src/optimise/train.jl:138\n"
     ]
    },
    {
     "name": "stdout",
     "output_type": "stream",
     "text": [
      "loss: 0.11548667571709158\n"
     ]
    },
    {
     "name": "stderr",
     "output_type": "stream",
     "text": [
      "┌ Info: Epoch 23\n",
      "└ @ Main /home2/vavrines/.julia/packages/Flux/BPPNj/src/optimise/train.jl:138\n"
     ]
    },
    {
     "name": "stdout",
     "output_type": "stream",
     "text": [
      "loss: 0.11608542880406135\n"
     ]
    },
    {
     "name": "stderr",
     "output_type": "stream",
     "text": [
      "┌ Info: Epoch 24\n",
      "└ @ Main /home2/vavrines/.julia/packages/Flux/BPPNj/src/optimise/train.jl:138\n"
     ]
    },
    {
     "name": "stdout",
     "output_type": "stream",
     "text": [
      "loss: 0.11489516336734605\n"
     ]
    },
    {
     "name": "stderr",
     "output_type": "stream",
     "text": [
      "┌ Info: Epoch 25\n",
      "└ @ Main /home2/vavrines/.julia/packages/Flux/BPPNj/src/optimise/train.jl:138\n"
     ]
    },
    {
     "name": "stdout",
     "output_type": "stream",
     "text": [
      "loss: 0.11934551672998499\n"
     ]
    },
    {
     "name": "stderr",
     "output_type": "stream",
     "text": [
      "┌ Info: Epoch 26\n",
      "└ @ Main /home2/vavrines/.julia/packages/Flux/BPPNj/src/optimise/train.jl:138\n"
     ]
    },
    {
     "name": "stdout",
     "output_type": "stream",
     "text": [
      "loss: 0.11252260359328298\n"
     ]
    },
    {
     "name": "stderr",
     "output_type": "stream",
     "text": [
      "┌ Info: Epoch 27\n",
      "└ @ Main /home2/vavrines/.julia/packages/Flux/BPPNj/src/optimise/train.jl:138\n"
     ]
    },
    {
     "name": "stdout",
     "output_type": "stream",
     "text": [
      "loss: 0.1141032603891342\n"
     ]
    },
    {
     "name": "stderr",
     "output_type": "stream",
     "text": [
      "┌ Info: Epoch 28\n",
      "└ @ Main /home2/vavrines/.julia/packages/Flux/BPPNj/src/optimise/train.jl:138\n"
     ]
    },
    {
     "name": "stdout",
     "output_type": "stream",
     "text": [
      "loss: 0.12512166386017773\n"
     ]
    },
    {
     "name": "stderr",
     "output_type": "stream",
     "text": [
      "┌ Info: Epoch 29\n",
      "└ @ Main /home2/vavrines/.julia/packages/Flux/BPPNj/src/optimise/train.jl:138\n"
     ]
    },
    {
     "name": "stdout",
     "output_type": "stream",
     "text": [
      "loss: 0.11700754348276965\n"
     ]
    },
    {
     "name": "stderr",
     "output_type": "stream",
     "text": [
      "┌ Info: Epoch 30\n",
      "└ @ Main /home2/vavrines/.julia/packages/Flux/BPPNj/src/optimise/train.jl:138\n"
     ]
    },
    {
     "name": "stdout",
     "output_type": "stream",
     "text": [
      "loss: 0.11795501024032817\n"
     ]
    },
    {
     "name": "stderr",
     "output_type": "stream",
     "text": [
      "┌ Info: Epoch 31\n",
      "└ @ Main /home2/vavrines/.julia/packages/Flux/BPPNj/src/optimise/train.jl:138\n"
     ]
    },
    {
     "name": "stdout",
     "output_type": "stream",
     "text": [
      "loss: 0.10866667048348266\n"
     ]
    },
    {
     "name": "stderr",
     "output_type": "stream",
     "text": [
      "┌ Info: Epoch 32\n",
      "└ @ Main /home2/vavrines/.julia/packages/Flux/BPPNj/src/optimise/train.jl:138\n"
     ]
    },
    {
     "name": "stdout",
     "output_type": "stream",
     "text": [
      "loss: 0.10919739230216778\n"
     ]
    },
    {
     "name": "stderr",
     "output_type": "stream",
     "text": [
      "┌ Info: Epoch 33\n",
      "└ @ Main /home2/vavrines/.julia/packages/Flux/BPPNj/src/optimise/train.jl:138\n"
     ]
    },
    {
     "name": "stdout",
     "output_type": "stream",
     "text": [
      "loss: 0.10875723724823061\n"
     ]
    },
    {
     "name": "stderr",
     "output_type": "stream",
     "text": [
      "┌ Info: Epoch 34\n",
      "└ @ Main /home2/vavrines/.julia/packages/Flux/BPPNj/src/optimise/train.jl:138\n"
     ]
    },
    {
     "name": "stdout",
     "output_type": "stream",
     "text": [
      "loss: 0.10887067431426765\n"
     ]
    },
    {
     "name": "stderr",
     "output_type": "stream",
     "text": [
      "┌ Info: Epoch 35\n",
      "└ @ Main /home2/vavrines/.julia/packages/Flux/BPPNj/src/optimise/train.jl:138\n"
     ]
    },
    {
     "name": "stdout",
     "output_type": "stream",
     "text": [
      "loss: 0.10985178736181882\n"
     ]
    },
    {
     "name": "stderr",
     "output_type": "stream",
     "text": [
      "┌ Info: Epoch 36\n",
      "└ @ Main /home2/vavrines/.julia/packages/Flux/BPPNj/src/optimise/train.jl:138\n"
     ]
    },
    {
     "name": "stdout",
     "output_type": "stream",
     "text": [
      "loss: 0.10875690850144001\n"
     ]
    },
    {
     "name": "stderr",
     "output_type": "stream",
     "text": [
      "┌ Info: Epoch 37\n",
      "└ @ Main /home2/vavrines/.julia/packages/Flux/BPPNj/src/optimise/train.jl:138\n"
     ]
    },
    {
     "name": "stdout",
     "output_type": "stream",
     "text": [
      "loss: 0.11107354459994412\n"
     ]
    },
    {
     "name": "stderr",
     "output_type": "stream",
     "text": [
      "┌ Info: Epoch 38\n",
      "└ @ Main /home2/vavrines/.julia/packages/Flux/BPPNj/src/optimise/train.jl:138\n"
     ]
    },
    {
     "name": "stdout",
     "output_type": "stream",
     "text": [
      "loss: 0.11285010924317354\n"
     ]
    },
    {
     "name": "stderr",
     "output_type": "stream",
     "text": [
      "┌ Info: Epoch 39\n",
      "└ @ Main /home2/vavrines/.julia/packages/Flux/BPPNj/src/optimise/train.jl:138\n"
     ]
    },
    {
     "name": "stdout",
     "output_type": "stream",
     "text": [
      "loss: 0.14246143762823965\n"
     ]
    },
    {
     "name": "stderr",
     "output_type": "stream",
     "text": [
      "┌ Info: Epoch 40\n",
      "└ @ Main /home2/vavrines/.julia/packages/Flux/BPPNj/src/optimise/train.jl:138\n"
     ]
    },
    {
     "name": "stdout",
     "output_type": "stream",
     "text": [
      "loss: 0.11020173917192111\n"
     ]
    },
    {
     "name": "stderr",
     "output_type": "stream",
     "text": [
      "┌ Info: Epoch 41\n",
      "└ @ Main /home2/vavrines/.julia/packages/Flux/BPPNj/src/optimise/train.jl:138\n"
     ]
    },
    {
     "name": "stdout",
     "output_type": "stream",
     "text": [
      "loss: 0.11646658341732256\n"
     ]
    },
    {
     "name": "stderr",
     "output_type": "stream",
     "text": [
      "┌ Info: Epoch 42\n",
      "└ @ Main /home2/vavrines/.julia/packages/Flux/BPPNj/src/optimise/train.jl:138\n"
     ]
    },
    {
     "name": "stdout",
     "output_type": "stream",
     "text": [
      "loss: 0.1131517107990177\n"
     ]
    },
    {
     "name": "stderr",
     "output_type": "stream",
     "text": [
      "┌ Info: Epoch 43\n",
      "└ @ Main /home2/vavrines/.julia/packages/Flux/BPPNj/src/optimise/train.jl:138\n"
     ]
    },
    {
     "name": "stdout",
     "output_type": "stream",
     "text": [
      "loss: 0.10512371382286775\n"
     ]
    },
    {
     "name": "stderr",
     "output_type": "stream",
     "text": [
      "┌ Info: Epoch 44\n",
      "└ @ Main /home2/vavrines/.julia/packages/Flux/BPPNj/src/optimise/train.jl:138\n"
     ]
    },
    {
     "name": "stdout",
     "output_type": "stream",
     "text": [
      "loss: 0.10583242307999358\n"
     ]
    },
    {
     "name": "stderr",
     "output_type": "stream",
     "text": [
      "┌ Info: Epoch 45\n",
      "└ @ Main /home2/vavrines/.julia/packages/Flux/BPPNj/src/optimise/train.jl:138\n"
     ]
    },
    {
     "name": "stdout",
     "output_type": "stream",
     "text": [
      "loss: 0.11669767673152724\n"
     ]
    },
    {
     "name": "stderr",
     "output_type": "stream",
     "text": [
      "┌ Info: Epoch 46\n",
      "└ @ Main /home2/vavrines/.julia/packages/Flux/BPPNj/src/optimise/train.jl:138\n"
     ]
    },
    {
     "name": "stdout",
     "output_type": "stream",
     "text": [
      "loss: 0.10648971218900084\n"
     ]
    },
    {
     "name": "stderr",
     "output_type": "stream",
     "text": [
      "┌ Info: Epoch 47\n",
      "└ @ Main /home2/vavrines/.julia/packages/Flux/BPPNj/src/optimise/train.jl:138\n"
     ]
    },
    {
     "name": "stdout",
     "output_type": "stream",
     "text": [
      "loss: 0.1064954472916278\n"
     ]
    },
    {
     "name": "stderr",
     "output_type": "stream",
     "text": [
      "┌ Info: Epoch 48\n",
      "└ @ Main /home2/vavrines/.julia/packages/Flux/BPPNj/src/optimise/train.jl:138\n"
     ]
    },
    {
     "name": "stdout",
     "output_type": "stream",
     "text": [
      "loss: 0.10388963254368724\n"
     ]
    },
    {
     "name": "stderr",
     "output_type": "stream",
     "text": [
      "┌ Info: Epoch 49\n",
      "└ @ Main /home2/vavrines/.julia/packages/Flux/BPPNj/src/optimise/train.jl:138\n"
     ]
    },
    {
     "name": "stdout",
     "output_type": "stream",
     "text": [
      "loss: 0.10291218705618696\n"
     ]
    },
    {
     "name": "stderr",
     "output_type": "stream",
     "text": [
      "┌ Info: Epoch 50\n",
      "└ @ Main /home2/vavrines/.julia/packages/Flux/BPPNj/src/optimise/train.jl:138\n"
     ]
    }
   ],
   "source": [
    "@epochs 50 Flux.train!(loss, ps, data, opt, cb = Flux.throttle(cb, 1))"
   ]
  },
  {
   "cell_type": "code",
   "execution_count": 195,
   "metadata": {},
   "outputs": [],
   "source": [
    "cd(@__DIR__)\n",
    "@save \"nn_rif.jld2\" nn # reinforcement neural model"
   ]
  },
  {
   "cell_type": "code",
   "execution_count": 17,
   "metadata": {},
   "outputs": [],
   "source": []
  },
  {
   "cell_type": "markdown",
   "metadata": {},
   "source": [
    "### Test"
   ]
  },
  {
   "cell_type": "code",
   "execution_count": 194,
   "metadata": {},
   "outputs": [
    {
     "data": {
      "text/plain": [
       "0.9333666500083292"
      ]
     },
     "execution_count": 194,
     "metadata": {},
     "output_type": "execute_result"
    }
   ],
   "source": [
    "accuracy(nn, X, Y)"
   ]
  },
  {
   "cell_type": "code",
   "execution_count": null,
   "metadata": {},
   "outputs": [],
   "source": []
  }
 ],
 "metadata": {
  "kernelspec": {
   "display_name": "Julia 1.6.2",
   "language": "julia",
   "name": "julia-1.6"
  },
  "language_info": {
   "file_extension": ".jl",
   "mimetype": "application/julia",
   "name": "julia",
   "version": "1.6.2"
  }
 },
 "nbformat": 4,
 "nbformat_minor": 4
}
