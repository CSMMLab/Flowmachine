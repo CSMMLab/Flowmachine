{
 "cells": [
  {
   "cell_type": "code",
   "execution_count": 1,
   "metadata": {},
   "outputs": [
    {
     "name": "stderr",
     "output_type": "stream",
     "text": [
      "┌ Info: Kinetic will run serially\n",
      "└ @ KitBase /home2/vavrines/.julia/packages/KitBase/5jIce/src/KitBase.jl:61\n",
      "┌ Info: Kinetic will run with CUDA\n",
      "└ @ KitBase /home2/vavrines/.julia/packages/KitBase/5jIce/src/KitBase.jl:65\n",
      "┌ Info: 1: NVIDIA GeForce RTX 3070\n",
      "└ @ KitBase /home2/vavrines/.julia/packages/KitBase/5jIce/src/KitBase.jl:67\n",
      "┌ Info: Scalar operation is disabled in CUDA\n",
      "└ @ KitBase /home2/vavrines/.julia/packages/KitBase/5jIce/src/KitBase.jl:69\n"
     ]
    }
   ],
   "source": [
    "using KitBase, Plots, JLD2, Distributions, LinearAlgebra, Flux\n",
    "using Flux: onecold, @epochs"
   ]
  },
  {
   "cell_type": "code",
   "execution_count": 2,
   "metadata": {},
   "outputs": [
    {
     "data": {
      "text/plain": [
       "accuracy (generic function with 1 method)"
      ]
     },
     "execution_count": 2,
     "metadata": {},
     "output_type": "execute_result"
    }
   ],
   "source": [
    "function regime_data(w, sw, f, u, K, Kn, μ=ref_vhs_vis(Kn, 1.0, 0.5), ω=0.81)\n",
    "    gam = heat_capacity_ratio(K, 1)\n",
    "    prim = conserve_prim(w, gam)\n",
    "    Mu, Mxi, _, _1 = gauss_moments(prim, K)\n",
    "    a = pdf_slope(prim, sw, K)\n",
    "    swt = -prim[1] .* moments_conserve_slope(a, Mu, Mxi, 1)\n",
    "    A = pdf_slope(prim, swt, K)\n",
    "    tau = vhs_collision_time(prim, μ, ω)\n",
    "    fr = chapman_enskog(u, prim, a, A, tau)\n",
    "    L = norm((f .- fr) ./ prim[1])\n",
    "\n",
    "    x = [w; sw; tau]\n",
    "    y = ifelse(L <= 0.005, [1.0, 0.0], [0.0, 1.0])\n",
    "    return x, y\n",
    "end\n",
    "\n",
    "function regime_number(Y, rg=1)\n",
    "   idx = 0\n",
    "    for i in axes(Y, 2)\n",
    "       if Y[1, i] == rg\n",
    "            idx += 1\n",
    "        end\n",
    "    end\n",
    "    println(\"NS regime: $(idx) of $(size(Y, 2))\")\n",
    "    return nothing\n",
    "end\n",
    "\n",
    "function accuracy(nn, X, Y)\n",
    "    Y1 = nn(X)\n",
    "\n",
    "    YA1 = [onecold(Y1[:, i]) for i in axes(Y1, 2)]\n",
    "    YA = [onecold(Y[:, i]) for i in axes(Y, 2)]\n",
    "\n",
    "    accuracy = 0.0\n",
    "    for i in eachindex(YA)\n",
    "        if YA[i] == YA1[i]\n",
    "            accuracy += 1.0\n",
    "        end\n",
    "    end\n",
    "    accuracy /= length(YA)\n",
    "\n",
    "    return accuracy\n",
    "end"
   ]
  },
  {
   "cell_type": "markdown",
   "metadata": {},
   "source": [
    "### Dataset"
   ]
  },
  {
   "cell_type": "code",
   "execution_count": 3,
   "metadata": {},
   "outputs": [
    {
     "data": {
      "text/plain": [
       "500"
      ]
     },
     "execution_count": 3,
     "metadata": {},
     "output_type": "execute_result"
    }
   ],
   "source": [
    "file = open(\"a3_ev5.csv\")\n",
    "data = []\n",
    "for line in eachline(file)\n",
    "    a = split(line, \",\")\n",
    "    b = [parse(Float64, a[i]) for i = 2:length(a)]\n",
    "    push!(data, b)\n",
    "end\n",
    "pdfs = data[3:end]\n",
    "nd = length(pdfs) ÷ 2"
   ]
  },
  {
   "cell_type": "code",
   "execution_count": 4,
   "metadata": {},
   "outputs": [
    {
     "data": {
      "text/plain": [
       "VelocitySpace1D{Float64,Int64,Vector{Float64},Vector{Float64}}\n",
       "domain: (-5.0,5.0)\n",
       "resolution: 100\n",
       "ghost: 0\n"
      ]
     },
     "execution_count": 4,
     "metadata": {},
     "output_type": "execute_result"
    }
   ],
   "source": [
    "vs = VSpace1D(-5.0, 5.0, length(data[1]), data[1], data[1][2:end] .- data[1][1:end-1], data[2])"
   ]
  },
  {
   "cell_type": "code",
   "execution_count": 5,
   "metadata": {},
   "outputs": [],
   "source": [
    "dist = Uniform(0.0001, 0.1)\n",
    "dxs = rand(dist, nd)\n",
    "dist = Uniform(0.000001, 1.0)\n",
    "kns = rand(dist, nd);"
   ]
  },
  {
   "cell_type": "code",
   "execution_count": 6,
   "metadata": {
    "scrolled": true
   },
   "outputs": [],
   "source": [
    "X = zeros(7, nd)\n",
    "Y = zeros(2, nd)\n",
    "for i = 1:nd\n",
    "    #fL = pdfs[i]; fR = pdfs[nd*2-i]\n",
    "    fL = pop!(pdfs); fR = pop!(pdfs) # shuffle\n",
    "    wL = moments_conserve(fL, vs.u, vs.weights); wR = moments_conserve(fR, vs.u, vs.weights)\n",
    "    #@show wL, wR\n",
    "    w = @. (wL + wR) / 2\n",
    "    sw = @. (wR - wL) / dxs[i]\n",
    "    f = @. (fL + fR) / 2\n",
    "    \n",
    "    X[:, i], Y[:, i] = regime_data(w, sw, f, vs.u, 0, kns[i])\n",
    "end"
   ]
  },
  {
   "cell_type": "code",
   "execution_count": 7,
   "metadata": {},
   "outputs": [
    {
     "name": "stdout",
     "output_type": "stream",
     "text": [
      "NS regime: 108 of 500\n"
     ]
    }
   ],
   "source": [
    "regime_number(Y)"
   ]
  },
  {
   "cell_type": "code",
   "execution_count": 8,
   "metadata": {},
   "outputs": [
    {
     "data": {
      "image/svg+xml": [
       "<?xml version=\"1.0\" encoding=\"utf-8\"?>\n",
       "<svg xmlns=\"http://www.w3.org/2000/svg\" xmlns:xlink=\"http://www.w3.org/1999/xlink\" width=\"600\" height=\"400\" viewBox=\"0 0 2400 1600\">\n",
       "<defs>\n",
       "  <clipPath id=\"clip150\">\n",
       "    <rect x=\"0\" y=\"0\" width=\"2400\" height=\"1600\"/>\n",
       "  </clipPath>\n",
       "</defs>\n",
       "<path clip-path=\"url(#clip150)\" d=\"\n",
       "M0 1600 L2400 1600 L2400 0 L0 0  Z\n",
       "  \" fill=\"#ffffff\" fill-rule=\"evenodd\" fill-opacity=\"1\"/>\n",
       "<defs>\n",
       "  <clipPath id=\"clip151\">\n",
       "    <rect x=\"480\" y=\"0\" width=\"1681\" height=\"1600\"/>\n",
       "  </clipPath>\n",
       "</defs>\n",
       "<path clip-path=\"url(#clip150)\" d=\"\n",
       "M219.866 1486.45 L2352.76 1486.45 L2352.76 47.2441 L219.866 47.2441  Z\n",
       "  \" fill=\"#ffffff\" fill-rule=\"evenodd\" fill-opacity=\"1\"/>\n",
       "<defs>\n",
       "  <clipPath id=\"clip152\">\n",
       "    <rect x=\"219\" y=\"47\" width=\"2134\" height=\"1440\"/>\n",
       "  </clipPath>\n",
       "</defs>\n",
       "<polyline clip-path=\"url(#clip152)\" style=\"stroke:#000000; stroke-linecap:butt; stroke-linejoin:round; stroke-width:2; stroke-opacity:0.1; fill:none\" points=\"\n",
       "  481.217,1486.45 481.217,47.2441 \n",
       "  \"/>\n",
       "<polyline clip-path=\"url(#clip152)\" style=\"stroke:#000000; stroke-linecap:butt; stroke-linejoin:round; stroke-width:2; stroke-opacity:0.1; fill:none\" points=\"\n",
       "  883.764,1486.45 883.764,47.2441 \n",
       "  \"/>\n",
       "<polyline clip-path=\"url(#clip152)\" style=\"stroke:#000000; stroke-linecap:butt; stroke-linejoin:round; stroke-width:2; stroke-opacity:0.1; fill:none\" points=\"\n",
       "  1286.31,1486.45 1286.31,47.2441 \n",
       "  \"/>\n",
       "<polyline clip-path=\"url(#clip152)\" style=\"stroke:#000000; stroke-linecap:butt; stroke-linejoin:round; stroke-width:2; stroke-opacity:0.1; fill:none\" points=\"\n",
       "  1688.86,1486.45 1688.86,47.2441 \n",
       "  \"/>\n",
       "<polyline clip-path=\"url(#clip152)\" style=\"stroke:#000000; stroke-linecap:butt; stroke-linejoin:round; stroke-width:2; stroke-opacity:0.1; fill:none\" points=\"\n",
       "  2091.41,1486.45 2091.41,47.2441 \n",
       "  \"/>\n",
       "<polyline clip-path=\"url(#clip150)\" style=\"stroke:#000000; stroke-linecap:butt; stroke-linejoin:round; stroke-width:4; stroke-opacity:1; fill:none\" points=\"\n",
       "  219.866,1486.45 2352.76,1486.45 \n",
       "  \"/>\n",
       "<polyline clip-path=\"url(#clip150)\" style=\"stroke:#000000; stroke-linecap:butt; stroke-linejoin:round; stroke-width:4; stroke-opacity:1; fill:none\" points=\"\n",
       "  481.217,1486.45 481.217,1467.55 \n",
       "  \"/>\n",
       "<polyline clip-path=\"url(#clip150)\" style=\"stroke:#000000; stroke-linecap:butt; stroke-linejoin:round; stroke-width:4; stroke-opacity:1; fill:none\" points=\"\n",
       "  883.764,1486.45 883.764,1467.55 \n",
       "  \"/>\n",
       "<polyline clip-path=\"url(#clip150)\" style=\"stroke:#000000; stroke-linecap:butt; stroke-linejoin:round; stroke-width:4; stroke-opacity:1; fill:none\" points=\"\n",
       "  1286.31,1486.45 1286.31,1467.55 \n",
       "  \"/>\n",
       "<polyline clip-path=\"url(#clip150)\" style=\"stroke:#000000; stroke-linecap:butt; stroke-linejoin:round; stroke-width:4; stroke-opacity:1; fill:none\" points=\"\n",
       "  1688.86,1486.45 1688.86,1467.55 \n",
       "  \"/>\n",
       "<polyline clip-path=\"url(#clip150)\" style=\"stroke:#000000; stroke-linecap:butt; stroke-linejoin:round; stroke-width:4; stroke-opacity:1; fill:none\" points=\"\n",
       "  2091.41,1486.45 2091.41,1467.55 \n",
       "  \"/>\n",
       "<path clip-path=\"url(#clip150)\" d=\"M450.117 1532.02 L479.793 1532.02 L479.793 1535.95 L450.117 1535.95 L450.117 1532.02 Z\" fill=\"#000000\" fill-rule=\"evenodd\" fill-opacity=\"1\" /><path clip-path=\"url(#clip150)\" d=\"M502.733 1518.36 L490.927 1536.81 L502.733 1536.81 L502.733 1518.36 M501.506 1514.29 L507.385 1514.29 L507.385 1536.81 L512.316 1536.81 L512.316 1540.7 L507.385 1540.7 L507.385 1548.85 L502.733 1548.85 L502.733 1540.7 L487.131 1540.7 L487.131 1536.19 L501.506 1514.29 Z\" fill=\"#000000\" fill-rule=\"evenodd\" fill-opacity=\"1\" /><path clip-path=\"url(#clip150)\" d=\"M853.706 1532.02 L883.382 1532.02 L883.382 1535.95 L853.706 1535.95 L853.706 1532.02 Z\" fill=\"#000000\" fill-rule=\"evenodd\" fill-opacity=\"1\" /><path clip-path=\"url(#clip150)\" d=\"M897.502 1544.91 L913.822 1544.91 L913.822 1548.85 L891.877 1548.85 L891.877 1544.91 Q894.539 1542.16 899.123 1537.53 Q903.729 1532.88 904.91 1531.53 Q907.155 1529.01 908.035 1527.27 Q908.937 1525.51 908.937 1523.82 Q908.937 1521.07 906.993 1519.33 Q905.072 1517.6 901.97 1517.6 Q899.771 1517.6 897.317 1518.36 Q894.886 1519.13 892.109 1520.68 L892.109 1515.95 Q894.933 1514.82 897.386 1514.24 Q899.84 1513.66 901.877 1513.66 Q907.248 1513.66 910.442 1516.35 Q913.636 1519.03 913.636 1523.52 Q913.636 1525.65 912.826 1527.57 Q912.039 1529.47 909.933 1532.07 Q909.354 1532.74 906.252 1535.95 Q903.15 1539.15 897.502 1544.91 Z\" fill=\"#000000\" fill-rule=\"evenodd\" fill-opacity=\"1\" /><path clip-path=\"url(#clip150)\" d=\"M1286.31 1517.37 Q1282.7 1517.37 1280.87 1520.93 Q1279.07 1524.47 1279.07 1531.6 Q1279.07 1538.71 1280.87 1542.27 Q1282.7 1545.82 1286.31 1545.82 Q1289.95 1545.82 1291.75 1542.27 Q1293.58 1538.71 1293.58 1531.6 Q1293.58 1524.47 1291.75 1520.93 Q1289.95 1517.37 1286.31 1517.37 M1286.31 1513.66 Q1292.12 1513.66 1295.18 1518.27 Q1298.26 1522.85 1298.26 1531.6 Q1298.26 1540.33 1295.18 1544.94 Q1292.12 1549.52 1286.31 1549.52 Q1280.5 1549.52 1277.42 1544.94 Q1274.37 1540.33 1274.37 1531.6 Q1274.37 1522.85 1277.42 1518.27 Q1280.5 1513.66 1286.31 1513.66 Z\" fill=\"#000000\" fill-rule=\"evenodd\" fill-opacity=\"1\" /><path clip-path=\"url(#clip150)\" d=\"M1683.51 1544.91 L1699.83 1544.91 L1699.83 1548.85 L1677.89 1548.85 L1677.89 1544.91 Q1680.55 1542.16 1685.13 1537.53 Q1689.74 1532.88 1690.92 1531.53 Q1693.16 1529.01 1694.04 1527.27 Q1694.95 1525.51 1694.95 1523.82 Q1694.95 1521.07 1693 1519.33 Q1691.08 1517.6 1687.98 1517.6 Q1685.78 1517.6 1683.33 1518.36 Q1680.9 1519.13 1678.12 1520.68 L1678.12 1515.95 Q1680.94 1514.82 1683.4 1514.24 Q1685.85 1513.66 1687.89 1513.66 Q1693.26 1513.66 1696.45 1516.35 Q1699.65 1519.03 1699.65 1523.52 Q1699.65 1525.65 1698.84 1527.57 Q1698.05 1529.47 1695.94 1532.07 Q1695.36 1532.74 1692.26 1535.95 Q1689.16 1539.15 1683.51 1544.91 Z\" fill=\"#000000\" fill-rule=\"evenodd\" fill-opacity=\"1\" /><path clip-path=\"url(#clip150)\" d=\"M2094.41 1518.36 L2082.61 1536.81 L2094.41 1536.81 L2094.41 1518.36 M2093.19 1514.29 L2099.07 1514.29 L2099.07 1536.81 L2104 1536.81 L2104 1540.7 L2099.07 1540.7 L2099.07 1548.85 L2094.41 1548.85 L2094.41 1540.7 L2078.81 1540.7 L2078.81 1536.19 L2093.19 1514.29 Z\" fill=\"#000000\" fill-rule=\"evenodd\" fill-opacity=\"1\" /><polyline clip-path=\"url(#clip152)\" style=\"stroke:#000000; stroke-linecap:butt; stroke-linejoin:round; stroke-width:2; stroke-opacity:0.1; fill:none\" points=\"\n",
       "  219.866,1445.72 2352.76,1445.72 \n",
       "  \"/>\n",
       "<polyline clip-path=\"url(#clip152)\" style=\"stroke:#000000; stroke-linecap:butt; stroke-linejoin:round; stroke-width:2; stroke-opacity:0.1; fill:none\" points=\"\n",
       "  219.866,1119.6 2352.76,1119.6 \n",
       "  \"/>\n",
       "<polyline clip-path=\"url(#clip152)\" style=\"stroke:#000000; stroke-linecap:butt; stroke-linejoin:round; stroke-width:2; stroke-opacity:0.1; fill:none\" points=\"\n",
       "  219.866,793.49 2352.76,793.49 \n",
       "  \"/>\n",
       "<polyline clip-path=\"url(#clip152)\" style=\"stroke:#000000; stroke-linecap:butt; stroke-linejoin:round; stroke-width:2; stroke-opacity:0.1; fill:none\" points=\"\n",
       "  219.866,467.378 2352.76,467.378 \n",
       "  \"/>\n",
       "<polyline clip-path=\"url(#clip152)\" style=\"stroke:#000000; stroke-linecap:butt; stroke-linejoin:round; stroke-width:2; stroke-opacity:0.1; fill:none\" points=\"\n",
       "  219.866,141.265 2352.76,141.265 \n",
       "  \"/>\n",
       "<polyline clip-path=\"url(#clip150)\" style=\"stroke:#000000; stroke-linecap:butt; stroke-linejoin:round; stroke-width:4; stroke-opacity:1; fill:none\" points=\"\n",
       "  219.866,1486.45 219.866,47.2441 \n",
       "  \"/>\n",
       "<polyline clip-path=\"url(#clip150)\" style=\"stroke:#000000; stroke-linecap:butt; stroke-linejoin:round; stroke-width:4; stroke-opacity:1; fill:none\" points=\"\n",
       "  219.866,1445.72 238.764,1445.72 \n",
       "  \"/>\n",
       "<polyline clip-path=\"url(#clip150)\" style=\"stroke:#000000; stroke-linecap:butt; stroke-linejoin:round; stroke-width:4; stroke-opacity:1; fill:none\" points=\"\n",
       "  219.866,1119.6 238.764,1119.6 \n",
       "  \"/>\n",
       "<polyline clip-path=\"url(#clip150)\" style=\"stroke:#000000; stroke-linecap:butt; stroke-linejoin:round; stroke-width:4; stroke-opacity:1; fill:none\" points=\"\n",
       "  219.866,793.49 238.764,793.49 \n",
       "  \"/>\n",
       "<polyline clip-path=\"url(#clip150)\" style=\"stroke:#000000; stroke-linecap:butt; stroke-linejoin:round; stroke-width:4; stroke-opacity:1; fill:none\" points=\"\n",
       "  219.866,467.378 238.764,467.378 \n",
       "  \"/>\n",
       "<polyline clip-path=\"url(#clip150)\" style=\"stroke:#000000; stroke-linecap:butt; stroke-linejoin:round; stroke-width:4; stroke-opacity:1; fill:none\" points=\"\n",
       "  219.866,141.265 238.764,141.265 \n",
       "  \"/>\n",
       "<path clip-path=\"url(#clip150)\" d=\"M126.691 1431.51 Q123.08 1431.51 121.251 1435.08 Q119.445 1438.62 119.445 1445.75 Q119.445 1452.86 121.251 1456.42 Q123.08 1459.96 126.691 1459.96 Q130.325 1459.96 132.13 1456.42 Q133.959 1452.86 133.959 1445.75 Q133.959 1438.62 132.13 1435.08 Q130.325 1431.51 126.691 1431.51 M126.691 1427.81 Q132.501 1427.81 135.556 1432.42 Q138.635 1437 138.635 1445.75 Q138.635 1454.48 135.556 1459.08 Q132.501 1463.67 126.691 1463.67 Q120.88 1463.67 117.802 1459.08 Q114.746 1454.48 114.746 1445.75 Q114.746 1437 117.802 1432.42 Q120.88 1427.81 126.691 1427.81 Z\" fill=\"#000000\" fill-rule=\"evenodd\" fill-opacity=\"1\" /><path clip-path=\"url(#clip150)\" d=\"M146.853 1457.12 L151.737 1457.12 L151.737 1463 L146.853 1463 L146.853 1457.12 Z\" fill=\"#000000\" fill-rule=\"evenodd\" fill-opacity=\"1\" /><path clip-path=\"url(#clip150)\" d=\"M171.922 1431.51 Q168.311 1431.51 166.482 1435.08 Q164.677 1438.62 164.677 1445.75 Q164.677 1452.86 166.482 1456.42 Q168.311 1459.96 171.922 1459.96 Q175.556 1459.96 177.362 1456.42 Q179.19 1452.86 179.19 1445.75 Q179.19 1438.62 177.362 1435.08 Q175.556 1431.51 171.922 1431.51 M171.922 1427.81 Q177.732 1427.81 180.788 1432.42 Q183.866 1437 183.866 1445.75 Q183.866 1454.48 180.788 1459.08 Q177.732 1463.67 171.922 1463.67 Q166.112 1463.67 163.033 1459.08 Q159.978 1454.48 159.978 1445.75 Q159.978 1437 163.033 1432.42 Q166.112 1427.81 171.922 1427.81 Z\" fill=\"#000000\" fill-rule=\"evenodd\" fill-opacity=\"1\" /><path clip-path=\"url(#clip150)\" d=\"M127.917 1105.4 Q124.306 1105.4 122.478 1108.97 Q120.672 1112.51 120.672 1119.64 Q120.672 1126.74 122.478 1130.31 Q124.306 1133.85 127.917 1133.85 Q131.552 1133.85 133.357 1130.31 Q135.186 1126.74 135.186 1119.64 Q135.186 1112.51 133.357 1108.97 Q131.552 1105.4 127.917 1105.4 M127.917 1101.7 Q133.728 1101.7 136.783 1106.3 Q139.862 1110.89 139.862 1119.64 Q139.862 1128.36 136.783 1132.97 Q133.728 1137.55 127.917 1137.55 Q122.107 1137.55 119.029 1132.97 Q115.973 1128.36 115.973 1119.64 Q115.973 1110.89 119.029 1106.3 Q122.107 1101.7 127.917 1101.7 Z\" fill=\"#000000\" fill-rule=\"evenodd\" fill-opacity=\"1\" /><path clip-path=\"url(#clip150)\" d=\"M148.079 1131 L152.964 1131 L152.964 1136.88 L148.079 1136.88 L148.079 1131 Z\" fill=\"#000000\" fill-rule=\"evenodd\" fill-opacity=\"1\" /><path clip-path=\"url(#clip150)\" d=\"M163.959 1132.95 L171.598 1132.95 L171.598 1106.58 L163.288 1108.25 L163.288 1103.99 L171.552 1102.32 L176.227 1102.32 L176.227 1132.95 L183.866 1132.95 L183.866 1136.88 L163.959 1136.88 L163.959 1132.95 Z\" fill=\"#000000\" fill-rule=\"evenodd\" fill-opacity=\"1\" /><path clip-path=\"url(#clip150)\" d=\"M128.288 779.289 Q124.677 779.289 122.848 782.854 Q121.043 786.396 121.043 793.525 Q121.043 800.632 122.848 804.196 Q124.677 807.738 128.288 807.738 Q131.922 807.738 133.728 804.196 Q135.556 800.632 135.556 793.525 Q135.556 786.396 133.728 782.854 Q131.922 779.289 128.288 779.289 M128.288 775.585 Q134.098 775.585 137.154 780.192 Q140.232 784.775 140.232 793.525 Q140.232 802.252 137.154 806.858 Q134.098 811.442 128.288 811.442 Q122.478 811.442 119.399 806.858 Q116.343 802.252 116.343 793.525 Q116.343 784.775 119.399 780.192 Q122.478 775.585 128.288 775.585 Z\" fill=\"#000000\" fill-rule=\"evenodd\" fill-opacity=\"1\" /><path clip-path=\"url(#clip150)\" d=\"M148.45 804.891 L153.334 804.891 L153.334 810.77 L148.45 810.77 L148.45 804.891 Z\" fill=\"#000000\" fill-rule=\"evenodd\" fill-opacity=\"1\" /><path clip-path=\"url(#clip150)\" d=\"M167.547 806.835 L183.866 806.835 L183.866 810.77 L161.922 810.77 L161.922 806.835 Q164.584 804.081 169.167 799.451 Q173.774 794.798 174.954 793.456 Q177.2 790.933 178.079 789.197 Q178.982 787.437 178.982 785.747 Q178.982 782.993 177.038 781.257 Q175.116 779.521 172.014 779.521 Q169.815 779.521 167.362 780.285 Q164.931 781.048 162.153 782.599 L162.153 777.877 Q164.977 776.743 167.431 776.164 Q169.885 775.585 171.922 775.585 Q177.292 775.585 180.487 778.271 Q183.681 780.956 183.681 785.447 Q183.681 787.576 182.871 789.497 Q182.084 791.396 179.977 793.988 Q179.399 794.659 176.297 797.877 Q173.195 801.071 167.547 806.835 Z\" fill=\"#000000\" fill-rule=\"evenodd\" fill-opacity=\"1\" /><path clip-path=\"url(#clip150)\" d=\"M127.339 453.176 Q123.728 453.176 121.899 456.741 Q120.093 460.283 120.093 467.412 Q120.093 474.519 121.899 478.084 Q123.728 481.625 127.339 481.625 Q130.973 481.625 132.779 478.084 Q134.607 474.519 134.607 467.412 Q134.607 460.283 132.779 456.741 Q130.973 453.176 127.339 453.176 M127.339 449.473 Q133.149 449.473 136.204 454.079 Q139.283 458.662 139.283 467.412 Q139.283 476.139 136.204 480.746 Q133.149 485.329 127.339 485.329 Q121.529 485.329 118.45 480.746 Q115.394 476.139 115.394 467.412 Q115.394 458.662 118.45 454.079 Q121.529 449.473 127.339 449.473 Z\" fill=\"#000000\" fill-rule=\"evenodd\" fill-opacity=\"1\" /><path clip-path=\"url(#clip150)\" d=\"M147.501 478.778 L152.385 478.778 L152.385 484.658 L147.501 484.658 L147.501 478.778 Z\" fill=\"#000000\" fill-rule=\"evenodd\" fill-opacity=\"1\" /><path clip-path=\"url(#clip150)\" d=\"M176.737 466.024 Q180.093 466.741 181.968 469.01 Q183.866 471.278 183.866 474.611 Q183.866 479.727 180.348 482.528 Q176.829 485.329 170.348 485.329 Q168.172 485.329 165.857 484.889 Q163.565 484.473 161.112 483.616 L161.112 479.102 Q163.056 480.236 165.371 480.815 Q167.686 481.394 170.209 481.394 Q174.607 481.394 176.899 479.658 Q179.214 477.922 179.214 474.611 Q179.214 471.556 177.061 469.843 Q174.931 468.107 171.112 468.107 L167.084 468.107 L167.084 464.264 L171.297 464.264 Q174.746 464.264 176.575 462.899 Q178.403 461.51 178.403 458.917 Q178.403 456.255 176.505 454.843 Q174.63 453.408 171.112 453.408 Q169.19 453.408 166.991 453.825 Q164.792 454.241 162.153 455.121 L162.153 450.954 Q164.815 450.213 167.13 449.843 Q169.468 449.473 171.528 449.473 Q176.852 449.473 179.954 451.903 Q183.056 454.311 183.056 458.431 Q183.056 461.301 181.413 463.292 Q179.769 465.26 176.737 466.024 Z\" fill=\"#000000\" fill-rule=\"evenodd\" fill-opacity=\"1\" /><path clip-path=\"url(#clip150)\" d=\"M126.205 127.064 Q122.593 127.064 120.765 130.628 Q118.959 134.17 118.959 141.3 Q118.959 148.406 120.765 151.971 Q122.593 155.513 126.205 155.513 Q129.839 155.513 131.644 151.971 Q133.473 148.406 133.473 141.3 Q133.473 134.17 131.644 130.628 Q129.839 127.064 126.205 127.064 M126.205 123.36 Q132.015 123.36 135.07 127.966 Q138.149 132.55 138.149 141.3 Q138.149 150.027 135.07 154.633 Q132.015 159.216 126.205 159.216 Q120.394 159.216 117.316 154.633 Q114.26 150.027 114.26 141.3 Q114.26 132.55 117.316 127.966 Q120.394 123.36 126.205 123.36 Z\" fill=\"#000000\" fill-rule=\"evenodd\" fill-opacity=\"1\" /><path clip-path=\"url(#clip150)\" d=\"M146.366 152.665 L151.251 152.665 L151.251 158.545 L146.366 158.545 L146.366 152.665 Z\" fill=\"#000000\" fill-rule=\"evenodd\" fill-opacity=\"1\" /><path clip-path=\"url(#clip150)\" d=\"M174.283 128.059 L162.477 146.508 L174.283 146.508 L174.283 128.059 M173.056 123.985 L178.936 123.985 L178.936 146.508 L183.866 146.508 L183.866 150.397 L178.936 150.397 L178.936 158.545 L174.283 158.545 L174.283 150.397 L158.681 150.397 L158.681 145.883 L173.056 123.985 Z\" fill=\"#000000\" fill-rule=\"evenodd\" fill-opacity=\"1\" /><path clip-path=\"url(#clip150)\" d=\"M38.3822 893.38 Q39.3689 888.765 42.4881 886.187 Q45.6073 883.577 50.1906 883.577 Q57.2247 883.577 61.0759 888.415 Q64.9272 893.253 64.9272 902.165 Q64.9272 905.157 64.3224 908.34 Q63.7495 911.491 62.5719 914.865 L56.3653 914.865 Q57.9249 912.191 58.7206 909.008 Q59.5163 905.825 59.5163 902.356 Q59.5163 896.309 57.1292 893.158 Q54.7421 889.975 50.1906 889.975 Q45.9892 889.975 43.6339 892.935 Q41.2468 895.863 41.2468 901.115 L41.2468 906.653 L35.9632 906.653 L35.9632 900.86 Q35.9632 896.118 34.0853 893.603 Q32.1756 891.089 28.6108 891.089 Q24.9505 891.089 23.009 893.699 Q21.0356 896.277 21.0356 901.115 Q21.0356 903.756 21.6086 906.78 Q22.1815 909.804 23.3909 913.432 L17.6618 913.432 Q16.6433 909.772 16.134 906.589 Q15.6248 903.374 15.6248 900.542 Q15.6248 893.221 18.9668 888.956 Q22.277 884.691 27.9424 884.691 Q31.8892 884.691 34.6264 886.951 Q37.3318 889.211 38.3822 893.38 Z\" fill=\"#000000\" fill-rule=\"evenodd\" fill-opacity=\"1\" /><path clip-path=\"url(#clip150)\" d=\"M16.4842 871.323 L16.4842 846.083 L21.895 846.083 L21.895 865.435 L33.5443 865.435 Q33.0668 864.034 32.844 862.634 Q32.5894 861.233 32.5894 859.833 Q32.5894 851.876 36.9499 847.229 Q41.3104 842.582 48.7583 842.582 Q56.429 842.582 60.694 847.356 Q64.9272 852.131 64.9272 860.82 Q64.9272 863.812 64.4179 866.931 Q63.9087 870.018 62.8902 873.328 L56.429 873.328 Q57.9886 870.464 58.7524 867.408 Q59.5163 864.353 59.5163 860.947 Q59.5163 855.441 56.6199 852.226 Q53.7235 849.011 48.7583 849.011 Q43.793 849.011 40.8966 852.226 Q38.0002 855.441 38.0002 860.947 Q38.0002 863.525 38.5732 866.103 Q39.1461 868.65 40.3556 871.323 L16.4842 871.323 Z\" fill=\"#000000\" fill-rule=\"evenodd\" fill-opacity=\"1\" /><path clip-path=\"url(#clip150)\" d=\"M43.5384 833.702 L43.5384 816.546 L48.7583 816.546 L48.7583 833.702 L43.5384 833.702 Z\" fill=\"#000000\" fill-rule=\"evenodd\" fill-opacity=\"1\" /><path clip-path=\"url(#clip150)\" d=\"M18.2347 801.428 L28.3562 801.428 L28.3562 789.365 L32.9077 789.365 L32.9077 801.428 L52.2594 801.428 Q56.6199 801.428 57.8613 800.25 Q59.1026 799.041 59.1026 795.38 L59.1026 789.365 L64.0042 789.365 L64.0042 795.38 Q64.0042 802.16 61.4897 804.738 Q58.9434 807.316 52.2594 807.316 L32.9077 807.316 L32.9077 811.613 L28.3562 811.613 L28.3562 807.316 L18.2347 807.316 L18.2347 801.428 Z\" fill=\"#000000\" fill-rule=\"evenodd\" fill-opacity=\"1\" /><path clip-path=\"url(#clip150)\" d=\"M42.4881 752.03 L64.0042 752.03 L64.0042 757.886 L42.679 757.886 Q37.6183 757.886 35.1038 759.86 Q32.5894 761.833 32.5894 765.78 Q32.5894 770.522 35.6131 773.259 Q38.6368 775.997 43.8567 775.997 L64.0042 775.997 L64.0042 781.885 L14.479 781.885 L14.479 775.997 L33.8944 775.997 Q30.6797 773.896 29.0883 771.063 Q27.4968 768.199 27.4968 764.475 Q27.4968 758.332 31.3163 755.181 Q35.1038 752.03 42.4881 752.03 Z\" fill=\"#000000\" fill-rule=\"evenodd\" fill-opacity=\"1\" /><path clip-path=\"url(#clip150)\" d=\"M58.657 713.963 L77.5631 713.963 L77.5631 719.851 L28.3562 719.851 L28.3562 713.963 L33.7671 713.963 Q30.5842 712.117 29.0564 709.316 Q27.4968 706.483 27.4968 702.568 Q27.4968 696.075 32.6531 692.033 Q37.8093 687.959 46.212 687.959 Q54.6147 687.959 59.771 692.033 Q64.9272 696.075 64.9272 702.568 Q64.9272 706.483 63.3994 709.316 Q61.8398 712.117 58.657 713.963 M46.212 694.038 Q39.7508 694.038 36.0905 696.712 Q32.3984 699.354 32.3984 704.001 Q32.3984 708.648 36.0905 711.321 Q39.7508 713.963 46.212 713.963 Q52.6732 713.963 56.3653 711.321 Q60.0256 708.648 60.0256 704.001 Q60.0256 699.354 56.3653 696.712 Q52.6732 694.038 46.212 694.038 Z\" fill=\"#000000\" fill-rule=\"evenodd\" fill-opacity=\"1\" /><path clip-path=\"url(#clip150)\" d=\"M33.7671 654.794 L14.479 654.794 L14.479 648.937 L64.0042 648.937 L64.0042 654.794 L58.657 654.794 Q61.8398 656.64 63.3994 659.472 Q64.9272 662.273 64.9272 666.22 Q64.9272 672.681 59.771 676.755 Q54.6147 680.798 46.212 680.798 Q37.8093 680.798 32.6531 676.755 Q27.4968 672.681 27.4968 666.22 Q27.4968 662.273 29.0564 659.472 Q30.5842 656.64 33.7671 654.794 M46.212 674.75 Q52.6732 674.75 56.3653 672.108 Q60.0256 669.435 60.0256 664.788 Q60.0256 660.141 56.3653 657.467 Q52.6732 654.794 46.212 654.794 Q39.7508 654.794 36.0905 657.467 Q32.3984 660.141 32.3984 664.788 Q32.3984 669.435 36.0905 672.108 Q39.7508 674.75 46.212 674.75 Z\" fill=\"#000000\" fill-rule=\"evenodd\" fill-opacity=\"1\" /><path clip-path=\"url(#clip150)\" d=\"M14.479 618.827 L19.3487 618.827 L19.3487 624.429 Q19.3487 627.58 20.6219 628.822 Q21.895 630.031 25.2052 630.031 L28.3562 630.031 L28.3562 620.387 L32.9077 620.387 L32.9077 630.031 L64.0042 630.031 L64.0042 635.919 L32.9077 635.919 L32.9077 641.521 L28.3562 641.521 L28.3562 635.919 L25.8736 635.919 Q19.9216 635.919 17.2162 633.15 Q14.479 630.381 14.479 624.366 L14.479 618.827 Z\" fill=\"#000000\" fill-rule=\"evenodd\" fill-opacity=\"1\" /><polyline clip-path=\"url(#clip152)\" style=\"stroke:#009af9; stroke-linecap:butt; stroke-linejoin:round; stroke-width:4; stroke-opacity:1; fill:none\" points=\"\n",
       "  280.231,1445.72 281.461,1445.72 283.671,1445.72 286.862,1445.72 291.029,1445.72 296.168,1445.72 302.275,1445.72 309.343,1445.72 317.366,1445.72 326.336,1445.71 \n",
       "  336.243,1445.71 347.079,1445.71 358.833,1445.71 371.493,1445.71 385.046,1445.71 399.481,1445.71 414.782,1445.7 430.934,1445.69 447.922,1445.68 465.729,1445.66 \n",
       "  484.338,1445.62 503.731,1445.57 523.888,1445.48 544.791,1445.33 566.418,1445.08 588.748,1444.68 611.76,1444.04 635.431,1443.01 659.737,1441.37 684.656,1438.81 \n",
       "  710.163,1434.85 736.233,1428.83 762.841,1419.83 789.959,1406.65 817.563,1387.76 845.625,1361.3 874.118,1325.16 903.013,1277.13 932.282,1215.12 961.898,1137.5 \n",
       "  991.83,1043.56 1022.05,933.863 1052.53,810.68 1083.24,678.174 1114.14,542.366 1145.22,410.794 1176.43,291.847 1207.75,193.872 1239.14,124.158 1270.58,87.9944 \n",
       "  1302.04,87.9763 1333.48,123.681 1364.88,191.782 1396.2,286.569 1427.41,400.746 1458.48,526.369 1489.39,655.743 1520.09,782.149 1550.57,900.319 1580.79,1006.64 \n",
       "  1610.72,1099.1 1640.34,1177.09 1669.61,1241.1 1698.5,1292.33 1727,1332.41 1755.06,1363.12 1782.66,1386.23 1809.78,1403.32 1836.39,1415.78 1862.46,1424.73 \n",
       "  1887.97,1431.1 1912.88,1435.59 1937.19,1438.72 1960.86,1440.89 1983.87,1442.39 2006.2,1443.42 2027.83,1444.13 2048.73,1444.62 2068.89,1444.95 2088.28,1445.18 \n",
       "  2106.89,1445.34 2124.7,1445.44 2141.69,1445.52 2157.84,1445.57 2173.14,1445.61 2187.58,1445.64 2201.13,1445.66 2213.79,1445.67 2225.54,1445.68 2236.38,1445.69 \n",
       "  2246.29,1445.69 2255.26,1445.7 2263.28,1445.7 2270.35,1445.7 2276.45,1445.7 2281.59,1445.71 2285.76,1445.71 2288.95,1445.71 2291.16,1445.71 2292.39,1445.71 \n",
       "  \n",
       "  \"/>\n",
       "<path clip-path=\"url(#clip150)\" d=\"\n",
       "M1992.24 198.898 L2281.66 198.898 L2281.66 95.2176 L1992.24 95.2176  Z\n",
       "  \" fill=\"#ffffff\" fill-rule=\"evenodd\" fill-opacity=\"1\"/>\n",
       "<polyline clip-path=\"url(#clip150)\" style=\"stroke:#000000; stroke-linecap:butt; stroke-linejoin:round; stroke-width:4; stroke-opacity:1; fill:none\" points=\"\n",
       "  1992.24,198.898 2281.66,198.898 2281.66,95.2176 1992.24,95.2176 1992.24,198.898 \n",
       "  \"/>\n",
       "<polyline clip-path=\"url(#clip150)\" style=\"stroke:#009af9; stroke-linecap:butt; stroke-linejoin:round; stroke-width:4; stroke-opacity:1; fill:none\" points=\"\n",
       "  2015.94,147.058 2158.13,147.058 \n",
       "  \"/>\n",
       "<path clip-path=\"url(#clip150)\" d=\"M2195.67 166.745 Q2193.87 171.375 2192.16 172.787 Q2190.44 174.199 2187.57 174.199 L2184.17 174.199 L2184.17 170.634 L2186.67 170.634 Q2188.43 170.634 2189.4 169.8 Q2190.37 168.967 2191.55 165.865 L2192.32 163.921 L2181.83 138.412 L2186.35 138.412 L2194.45 158.689 L2202.55 138.412 L2207.06 138.412 L2195.67 166.745 Z\" fill=\"#000000\" fill-rule=\"evenodd\" fill-opacity=\"1\" /><path clip-path=\"url(#clip150)\" d=\"M2214.35 160.402 L2221.99 160.402 L2221.99 134.037 L2213.68 135.703 L2213.68 131.444 L2221.95 129.778 L2226.62 129.778 L2226.62 160.402 L2234.26 160.402 L2234.26 164.338 L2214.35 164.338 L2214.35 160.402 Z\" fill=\"#000000\" fill-rule=\"evenodd\" fill-opacity=\"1\" /></svg>\n"
      ]
     },
     "execution_count": 8,
     "metadata": {},
     "output_type": "execute_result"
    }
   ],
   "source": [
    "idx = Int(floor(rand() * size(X, 2)))\n",
    "plot(data[1], data[idx], ylabel=\"$(idx)-th pdf\")"
   ]
  },
  {
   "cell_type": "markdown",
   "metadata": {},
   "source": [
    "### Model"
   ]
  },
  {
   "cell_type": "code",
   "execution_count": 9,
   "metadata": {},
   "outputs": [
    {
     "data": {
      "text/plain": [
       "1-element Vector{Symbol}:\n",
       " :nn"
      ]
     },
     "execution_count": 9,
     "metadata": {},
     "output_type": "execute_result"
    }
   ],
   "source": [
    "@load \"../nn.jld2\" nn"
   ]
  },
  {
   "cell_type": "code",
   "execution_count": 10,
   "metadata": {},
   "outputs": [
    {
     "data": {
      "text/plain": [
       "0.78"
      ]
     },
     "execution_count": 10,
     "metadata": {},
     "output_type": "execute_result"
    }
   ],
   "source": [
    "accuracy(nn, X, Y)"
   ]
  },
  {
   "cell_type": "code",
   "execution_count": 11,
   "metadata": {},
   "outputs": [
    {
     "data": {
      "text/plain": [
       "ADAM(0.001, (0.9, 0.999), IdDict{Any, Any}())"
      ]
     },
     "execution_count": 11,
     "metadata": {},
     "output_type": "execute_result"
    }
   ],
   "source": [
    "data = Flux.Data.DataLoader((X, Y), shuffle = true)\n",
    "ps = Flux.params(nn)\n",
    "sqnorm(x) = sum(abs2, x)\n",
    "loss(x, y) = sum(abs2, nn(x) - y) / size(x, 2) #+ 1e-6 * sum(sqnorm, ps)\n",
    "cb = () -> println(\"loss: $(loss(X, Y))\")\n",
    "opt = ADAM()"
   ]
  },
  {
   "cell_type": "code",
   "execution_count": 14,
   "metadata": {
    "scrolled": true
   },
   "outputs": [
    {
     "name": "stdout",
     "output_type": "stream",
     "text": [
      "loss: 0.2268393221682696\n"
     ]
    },
    {
     "name": "stderr",
     "output_type": "stream",
     "text": [
      "┌ Info: Epoch 1\n",
      "└ @ Main /home2/vavrines/.julia/packages/Flux/BPPNj/src/optimise/train.jl:138\n"
     ]
    },
    {
     "name": "stdout",
     "output_type": "stream",
     "text": [
      "loss: 0.2329246144512409\n"
     ]
    },
    {
     "name": "stderr",
     "output_type": "stream",
     "text": [
      "┌ Info: Epoch 2\n",
      "└ @ Main /home2/vavrines/.julia/packages/Flux/BPPNj/src/optimise/train.jl:138\n"
     ]
    },
    {
     "name": "stdout",
     "output_type": "stream",
     "text": [
      "loss: 0.2315069051888967\n"
     ]
    },
    {
     "name": "stderr",
     "output_type": "stream",
     "text": [
      "┌ Info: Epoch 3\n",
      "└ @ Main /home2/vavrines/.julia/packages/Flux/BPPNj/src/optimise/train.jl:138\n"
     ]
    },
    {
     "name": "stdout",
     "output_type": "stream",
     "text": [
      "loss: 0.235145754716426\n",
      "loss: 0.22522334432381752\n"
     ]
    },
    {
     "name": "stderr",
     "output_type": "stream",
     "text": [
      "┌ Info: Epoch 4\n",
      "└ @ Main /home2/vavrines/.julia/packages/Flux/BPPNj/src/optimise/train.jl:138\n",
      "┌ Info: Epoch 5\n",
      "└ @ Main /home2/vavrines/.julia/packages/Flux/BPPNj/src/optimise/train.jl:138\n"
     ]
    },
    {
     "name": "stdout",
     "output_type": "stream",
     "text": [
      "loss: 0.23299661105435113\n"
     ]
    },
    {
     "name": "stderr",
     "output_type": "stream",
     "text": [
      "┌ Info: Epoch 6\n",
      "└ @ Main /home2/vavrines/.julia/packages/Flux/BPPNj/src/optimise/train.jl:138\n"
     ]
    },
    {
     "name": "stdout",
     "output_type": "stream",
     "text": [
      "loss: 0.22807463712035678\n"
     ]
    },
    {
     "name": "stderr",
     "output_type": "stream",
     "text": [
      "┌ Info: Epoch 7\n",
      "└ @ Main /home2/vavrines/.julia/packages/Flux/BPPNj/src/optimise/train.jl:138\n"
     ]
    },
    {
     "name": "stdout",
     "output_type": "stream",
     "text": [
      "loss: 0.23007206262437824\n"
     ]
    },
    {
     "name": "stderr",
     "output_type": "stream",
     "text": [
      "┌ Info: Epoch 8\n",
      "└ @ Main /home2/vavrines/.julia/packages/Flux/BPPNj/src/optimise/train.jl:138\n"
     ]
    },
    {
     "name": "stdout",
     "output_type": "stream",
     "text": [
      "loss: 0.22604936149344168\n",
      "loss: 0.23594917424558218\n"
     ]
    },
    {
     "name": "stderr",
     "output_type": "stream",
     "text": [
      "┌ Info: Epoch 9\n",
      "└ @ Main /home2/vavrines/.julia/packages/Flux/BPPNj/src/optimise/train.jl:138\n",
      "┌ Info: Epoch 10\n",
      "└ @ Main /home2/vavrines/.julia/packages/Flux/BPPNj/src/optimise/train.jl:138\n"
     ]
    },
    {
     "name": "stdout",
     "output_type": "stream",
     "text": [
      "loss: 0.2446462198836628\n"
     ]
    },
    {
     "name": "stderr",
     "output_type": "stream",
     "text": [
      "┌ Info: Epoch 11\n",
      "└ @ Main /home2/vavrines/.julia/packages/Flux/BPPNj/src/optimise/train.jl:138\n"
     ]
    },
    {
     "name": "stdout",
     "output_type": "stream",
     "text": [
      "loss: 0.23093770768946925\n"
     ]
    },
    {
     "name": "stderr",
     "output_type": "stream",
     "text": [
      "┌ Info: Epoch 12\n",
      "└ @ Main /home2/vavrines/.julia/packages/Flux/BPPNj/src/optimise/train.jl:138\n"
     ]
    },
    {
     "name": "stdout",
     "output_type": "stream",
     "text": [
      "loss: 0.22471007458034195\n",
      "loss: 0.22603531739420868\n"
     ]
    },
    {
     "name": "stderr",
     "output_type": "stream",
     "text": [
      "┌ Info: Epoch 13\n",
      "└ @ Main /home2/vavrines/.julia/packages/Flux/BPPNj/src/optimise/train.jl:138\n",
      "┌ Info: Epoch 14\n",
      "└ @ Main /home2/vavrines/.julia/packages/Flux/BPPNj/src/optimise/train.jl:138\n"
     ]
    },
    {
     "name": "stdout",
     "output_type": "stream",
     "text": [
      "loss: 0.2253307132770676\n"
     ]
    },
    {
     "name": "stderr",
     "output_type": "stream",
     "text": [
      "┌ Info: Epoch 15\n",
      "└ @ Main /home2/vavrines/.julia/packages/Flux/BPPNj/src/optimise/train.jl:138\n"
     ]
    },
    {
     "name": "stdout",
     "output_type": "stream",
     "text": [
      "loss: 0.24249232007537835\n"
     ]
    },
    {
     "name": "stderr",
     "output_type": "stream",
     "text": [
      "┌ Info: Epoch 16\n",
      "└ @ Main /home2/vavrines/.julia/packages/Flux/BPPNj/src/optimise/train.jl:138\n"
     ]
    },
    {
     "name": "stdout",
     "output_type": "stream",
     "text": [
      "loss: 0.2473177942561911\n",
      "loss: 0.22871334491971032\n"
     ]
    },
    {
     "name": "stderr",
     "output_type": "stream",
     "text": [
      "┌ Info: Epoch 17\n",
      "└ @ Main /home2/vavrines/.julia/packages/Flux/BPPNj/src/optimise/train.jl:138\n",
      "┌ Info: Epoch 18\n",
      "└ @ Main /home2/vavrines/.julia/packages/Flux/BPPNj/src/optimise/train.jl:138\n"
     ]
    },
    {
     "name": "stdout",
     "output_type": "stream",
     "text": [
      "loss: 0.23258670620551622\n"
     ]
    },
    {
     "name": "stderr",
     "output_type": "stream",
     "text": [
      "┌ Info: Epoch 19\n",
      "└ @ Main /home2/vavrines/.julia/packages/Flux/BPPNj/src/optimise/train.jl:138\n"
     ]
    },
    {
     "name": "stdout",
     "output_type": "stream",
     "text": [
      "loss: 0.22356745863899177\n"
     ]
    },
    {
     "name": "stderr",
     "output_type": "stream",
     "text": [
      "┌ Info: Epoch 20\n",
      "└ @ Main /home2/vavrines/.julia/packages/Flux/BPPNj/src/optimise/train.jl:138\n"
     ]
    },
    {
     "name": "stdout",
     "output_type": "stream",
     "text": [
      "loss: 0.22302761986607672\n"
     ]
    },
    {
     "name": "stderr",
     "output_type": "stream",
     "text": [
      "┌ Info: Epoch 21\n",
      "└ @ Main /home2/vavrines/.julia/packages/Flux/BPPNj/src/optimise/train.jl:138\n",
      "┌ Info: Epoch 22\n",
      "└ @ Main /home2/vavrines/.julia/packages/Flux/BPPNj/src/optimise/train.jl:138\n"
     ]
    },
    {
     "name": "stdout",
     "output_type": "stream",
     "text": [
      "loss: 0.23121530709500654\n",
      "loss: 0.22411573444880883\n"
     ]
    },
    {
     "name": "stderr",
     "output_type": "stream",
     "text": [
      "┌ Info: Epoch 23\n",
      "└ @ Main /home2/vavrines/.julia/packages/Flux/BPPNj/src/optimise/train.jl:138\n"
     ]
    },
    {
     "name": "stdout",
     "output_type": "stream",
     "text": [
      "loss: 0.2292151872791846\n"
     ]
    },
    {
     "name": "stderr",
     "output_type": "stream",
     "text": [
      "┌ Info: Epoch 24\n",
      "└ @ Main /home2/vavrines/.julia/packages/Flux/BPPNj/src/optimise/train.jl:138\n"
     ]
    },
    {
     "name": "stdout",
     "output_type": "stream",
     "text": [
      "loss: 0.220779558686386\n"
     ]
    },
    {
     "name": "stderr",
     "output_type": "stream",
     "text": [
      "┌ Info: Epoch 25\n",
      "└ @ Main /home2/vavrines/.julia/packages/Flux/BPPNj/src/optimise/train.jl:138\n"
     ]
    },
    {
     "name": "stdout",
     "output_type": "stream",
     "text": [
      "loss: 0.2287927360512102\n",
      "loss: 0.2164313302594969\n"
     ]
    },
    {
     "name": "stderr",
     "output_type": "stream",
     "text": [
      "┌ Info: Epoch 26\n",
      "└ @ Main /home2/vavrines/.julia/packages/Flux/BPPNj/src/optimise/train.jl:138\n",
      "┌ Info: Epoch 27\n",
      "└ @ Main /home2/vavrines/.julia/packages/Flux/BPPNj/src/optimise/train.jl:138\n"
     ]
    },
    {
     "name": "stdout",
     "output_type": "stream",
     "text": [
      "loss: 0.23556247628076538\n"
     ]
    },
    {
     "name": "stderr",
     "output_type": "stream",
     "text": [
      "┌ Info: Epoch 28\n",
      "└ @ Main /home2/vavrines/.julia/packages/Flux/BPPNj/src/optimise/train.jl:138\n"
     ]
    },
    {
     "name": "stdout",
     "output_type": "stream",
     "text": [
      "loss: 0.2219360741936034\n"
     ]
    },
    {
     "name": "stderr",
     "output_type": "stream",
     "text": [
      "┌ Info: Epoch 29\n",
      "└ @ Main /home2/vavrines/.julia/packages/Flux/BPPNj/src/optimise/train.jl:138\n"
     ]
    },
    {
     "name": "stdout",
     "output_type": "stream",
     "text": [
      "loss: 0.24093722097145395\n"
     ]
    },
    {
     "name": "stderr",
     "output_type": "stream",
     "text": [
      "┌ Info: Epoch 30\n",
      "└ @ Main /home2/vavrines/.julia/packages/Flux/BPPNj/src/optimise/train.jl:138\n"
     ]
    },
    {
     "name": "stdout",
     "output_type": "stream",
     "text": [
      "loss: 0.23950815797705938\n",
      "loss: 0.2239114599452683\n"
     ]
    },
    {
     "name": "stderr",
     "output_type": "stream",
     "text": [
      "┌ Info: Epoch 31\n",
      "└ @ Main /home2/vavrines/.julia/packages/Flux/BPPNj/src/optimise/train.jl:138\n",
      "┌ Info: Epoch 32\n",
      "└ @ Main /home2/vavrines/.julia/packages/Flux/BPPNj/src/optimise/train.jl:138\n"
     ]
    },
    {
     "name": "stdout",
     "output_type": "stream",
     "text": [
      "loss: 0.2256363938590503\n"
     ]
    },
    {
     "name": "stderr",
     "output_type": "stream",
     "text": [
      "┌ Info: Epoch 33\n",
      "└ @ Main /home2/vavrines/.julia/packages/Flux/BPPNj/src/optimise/train.jl:138\n"
     ]
    },
    {
     "name": "stdout",
     "output_type": "stream",
     "text": [
      "loss: 0.22963372589453235\n"
     ]
    },
    {
     "name": "stderr",
     "output_type": "stream",
     "text": [
      "┌ Info: Epoch 34\n",
      "└ @ Main /home2/vavrines/.julia/packages/Flux/BPPNj/src/optimise/train.jl:138\n"
     ]
    },
    {
     "name": "stdout",
     "output_type": "stream",
     "text": [
      "loss: 0.22849198041240018\n",
      "loss: 0.22582357116065224\n"
     ]
    },
    {
     "name": "stderr",
     "output_type": "stream",
     "text": [
      "┌ Info: Epoch 35\n",
      "└ @ Main /home2/vavrines/.julia/packages/Flux/BPPNj/src/optimise/train.jl:138\n",
      "┌ Info: Epoch 36\n",
      "└ @ Main /home2/vavrines/.julia/packages/Flux/BPPNj/src/optimise/train.jl:138\n"
     ]
    },
    {
     "name": "stdout",
     "output_type": "stream",
     "text": [
      "loss: 0.22412465361166883\n"
     ]
    },
    {
     "name": "stderr",
     "output_type": "stream",
     "text": [
      "┌ Info: Epoch 37\n",
      "└ @ Main /home2/vavrines/.julia/packages/Flux/BPPNj/src/optimise/train.jl:138\n"
     ]
    },
    {
     "name": "stdout",
     "output_type": "stream",
     "text": [
      "loss: 0.2179997287244694\n"
     ]
    },
    {
     "name": "stderr",
     "output_type": "stream",
     "text": [
      "┌ Info: Epoch 38\n",
      "└ @ Main /home2/vavrines/.julia/packages/Flux/BPPNj/src/optimise/train.jl:138\n"
     ]
    },
    {
     "name": "stdout",
     "output_type": "stream",
     "text": [
      "loss: 0.23299416861766953\n",
      "loss: 0.22129739804507007\n"
     ]
    },
    {
     "name": "stderr",
     "output_type": "stream",
     "text": [
      "┌ Info: Epoch 39\n",
      "└ @ Main /home2/vavrines/.julia/packages/Flux/BPPNj/src/optimise/train.jl:138\n",
      "┌ Info: Epoch 40\n",
      "└ @ Main /home2/vavrines/.julia/packages/Flux/BPPNj/src/optimise/train.jl:138\n"
     ]
    },
    {
     "name": "stdout",
     "output_type": "stream",
     "text": [
      "loss: 0.23613042143811822\n"
     ]
    },
    {
     "name": "stderr",
     "output_type": "stream",
     "text": [
      "┌ Info: Epoch 41\n",
      "└ @ Main /home2/vavrines/.julia/packages/Flux/BPPNj/src/optimise/train.jl:138\n"
     ]
    },
    {
     "name": "stdout",
     "output_type": "stream",
     "text": [
      "loss: 0.26425366461270694\n"
     ]
    },
    {
     "name": "stderr",
     "output_type": "stream",
     "text": [
      "┌ Info: Epoch 42\n",
      "└ @ Main /home2/vavrines/.julia/packages/Flux/BPPNj/src/optimise/train.jl:138\n"
     ]
    },
    {
     "name": "stdout",
     "output_type": "stream",
     "text": [
      "loss: 0.21964055478644087\n",
      "loss: 0.21204058509336937\n"
     ]
    },
    {
     "name": "stderr",
     "output_type": "stream",
     "text": [
      "┌ Info: Epoch 43\n",
      "└ @ Main /home2/vavrines/.julia/packages/Flux/BPPNj/src/optimise/train.jl:138\n",
      "┌ Info: Epoch 44\n",
      "└ @ Main /home2/vavrines/.julia/packages/Flux/BPPNj/src/optimise/train.jl:138\n"
     ]
    },
    {
     "name": "stdout",
     "output_type": "stream",
     "text": [
      "loss: 0.2099831805838173\n"
     ]
    },
    {
     "name": "stderr",
     "output_type": "stream",
     "text": [
      "┌ Info: Epoch 45\n",
      "└ @ Main /home2/vavrines/.julia/packages/Flux/BPPNj/src/optimise/train.jl:138\n"
     ]
    },
    {
     "name": "stdout",
     "output_type": "stream",
     "text": [
      "loss: 0.2189433371226097\n"
     ]
    },
    {
     "name": "stderr",
     "output_type": "stream",
     "text": [
      "┌ Info: Epoch 46\n",
      "└ @ Main /home2/vavrines/.julia/packages/Flux/BPPNj/src/optimise/train.jl:138\n"
     ]
    },
    {
     "name": "stdout",
     "output_type": "stream",
     "text": [
      "loss: 0.2162328728162202\n"
     ]
    },
    {
     "name": "stderr",
     "output_type": "stream",
     "text": [
      "┌ Info: Epoch 47\n",
      "└ @ Main /home2/vavrines/.julia/packages/Flux/BPPNj/src/optimise/train.jl:138\n"
     ]
    },
    {
     "name": "stdout",
     "output_type": "stream",
     "text": [
      "loss: 0.23990588866221826\n",
      "loss: 0.21841569982505538\n"
     ]
    },
    {
     "name": "stderr",
     "output_type": "stream",
     "text": [
      "┌ Info: Epoch 48\n",
      "└ @ Main /home2/vavrines/.julia/packages/Flux/BPPNj/src/optimise/train.jl:138\n",
      "┌ Info: Epoch 49\n",
      "└ @ Main /home2/vavrines/.julia/packages/Flux/BPPNj/src/optimise/train.jl:138\n"
     ]
    },
    {
     "name": "stdout",
     "output_type": "stream",
     "text": [
      "loss: 0.2188163148096779\n"
     ]
    },
    {
     "name": "stderr",
     "output_type": "stream",
     "text": [
      "┌ Info: Epoch 50\n",
      "└ @ Main /home2/vavrines/.julia/packages/Flux/BPPNj/src/optimise/train.jl:138\n"
     ]
    },
    {
     "name": "stdout",
     "output_type": "stream",
     "text": [
      "loss: 0.2100837713797802\n"
     ]
    },
    {
     "name": "stderr",
     "output_type": "stream",
     "text": [
      "┌ Info: Epoch 51\n",
      "└ @ Main /home2/vavrines/.julia/packages/Flux/BPPNj/src/optimise/train.jl:138\n"
     ]
    },
    {
     "name": "stdout",
     "output_type": "stream",
     "text": [
      "loss: 0.22895499111382728\n"
     ]
    },
    {
     "name": "stderr",
     "output_type": "stream",
     "text": [
      "┌ Info: Epoch 52\n",
      "└ @ Main /home2/vavrines/.julia/packages/Flux/BPPNj/src/optimise/train.jl:138\n"
     ]
    },
    {
     "name": "stdout",
     "output_type": "stream",
     "text": [
      "loss: 0.22211258164862963\n",
      "loss: 0.20921232564055217\n"
     ]
    },
    {
     "name": "stderr",
     "output_type": "stream",
     "text": [
      "┌ Info: Epoch 53\n",
      "└ @ Main /home2/vavrines/.julia/packages/Flux/BPPNj/src/optimise/train.jl:138\n",
      "┌ Info: Epoch 54\n",
      "└ @ Main /home2/vavrines/.julia/packages/Flux/BPPNj/src/optimise/train.jl:138\n"
     ]
    },
    {
     "name": "stdout",
     "output_type": "stream",
     "text": [
      "loss: 0.210490748710452\n"
     ]
    },
    {
     "name": "stderr",
     "output_type": "stream",
     "text": [
      "┌ Info: Epoch 55\n",
      "└ @ Main /home2/vavrines/.julia/packages/Flux/BPPNj/src/optimise/train.jl:138\n"
     ]
    },
    {
     "name": "stdout",
     "output_type": "stream",
     "text": [
      "loss: 0.2170403188092488\n",
      "loss: 0.21847292914400804\n"
     ]
    },
    {
     "name": "stderr",
     "output_type": "stream",
     "text": [
      "┌ Info: Epoch 56\n",
      "└ @ Main /home2/vavrines/.julia/packages/Flux/BPPNj/src/optimise/train.jl:138\n",
      "┌ Info: Epoch 57\n",
      "└ @ Main /home2/vavrines/.julia/packages/Flux/BPPNj/src/optimise/train.jl:138\n"
     ]
    },
    {
     "name": "stdout",
     "output_type": "stream",
     "text": [
      "loss: 0.21052626170386948\n"
     ]
    },
    {
     "name": "stderr",
     "output_type": "stream",
     "text": [
      "┌ Info: Epoch 58\n",
      "└ @ Main /home2/vavrines/.julia/packages/Flux/BPPNj/src/optimise/train.jl:138\n"
     ]
    },
    {
     "name": "stdout",
     "output_type": "stream",
     "text": [
      "loss: 0.21477989440464842\n"
     ]
    },
    {
     "name": "stderr",
     "output_type": "stream",
     "text": [
      "┌ Info: Epoch 59\n",
      "└ @ Main /home2/vavrines/.julia/packages/Flux/BPPNj/src/optimise/train.jl:138\n"
     ]
    },
    {
     "name": "stdout",
     "output_type": "stream",
     "text": [
      "loss: 0.21034257825522548\n"
     ]
    },
    {
     "name": "stderr",
     "output_type": "stream",
     "text": [
      "┌ Info: Epoch 60\n",
      "└ @ Main /home2/vavrines/.julia/packages/Flux/BPPNj/src/optimise/train.jl:138\n"
     ]
    },
    {
     "name": "stdout",
     "output_type": "stream",
     "text": [
      "loss: 0.22469849694233218\n",
      "loss: 0.20831866054032705\n"
     ]
    },
    {
     "name": "stderr",
     "output_type": "stream",
     "text": [
      "┌ Info: Epoch 61\n",
      "└ @ Main /home2/vavrines/.julia/packages/Flux/BPPNj/src/optimise/train.jl:138\n",
      "┌ Info: Epoch 62\n",
      "└ @ Main /home2/vavrines/.julia/packages/Flux/BPPNj/src/optimise/train.jl:138\n"
     ]
    },
    {
     "name": "stdout",
     "output_type": "stream",
     "text": [
      "loss: 0.21904226213050848\n"
     ]
    },
    {
     "name": "stderr",
     "output_type": "stream",
     "text": [
      "┌ Info: Epoch 63\n",
      "└ @ Main /home2/vavrines/.julia/packages/Flux/BPPNj/src/optimise/train.jl:138\n"
     ]
    },
    {
     "name": "stdout",
     "output_type": "stream",
     "text": [
      "loss: 0.209425349938029\n"
     ]
    },
    {
     "name": "stderr",
     "output_type": "stream",
     "text": [
      "┌ Info: Epoch 64\n",
      "└ @ Main /home2/vavrines/.julia/packages/Flux/BPPNj/src/optimise/train.jl:138\n"
     ]
    },
    {
     "name": "stdout",
     "output_type": "stream",
     "text": [
      "loss: 0.20786061607169662\n",
      "loss: 0.22066745569495994\n"
     ]
    },
    {
     "name": "stderr",
     "output_type": "stream",
     "text": [
      "┌ Info: Epoch 65\n",
      "└ @ Main /home2/vavrines/.julia/packages/Flux/BPPNj/src/optimise/train.jl:138\n",
      "┌ Info: Epoch 66\n",
      "└ @ Main /home2/vavrines/.julia/packages/Flux/BPPNj/src/optimise/train.jl:138\n"
     ]
    },
    {
     "name": "stdout",
     "output_type": "stream",
     "text": [
      "loss: 0.21145955338010922\n"
     ]
    },
    {
     "name": "stderr",
     "output_type": "stream",
     "text": [
      "┌ Info: Epoch 67\n",
      "└ @ Main /home2/vavrines/.julia/packages/Flux/BPPNj/src/optimise/train.jl:138\n"
     ]
    },
    {
     "name": "stdout",
     "output_type": "stream",
     "text": [
      "loss: 0.22587203396536962\n"
     ]
    },
    {
     "name": "stderr",
     "output_type": "stream",
     "text": [
      "┌ Info: Epoch 68\n",
      "└ @ Main /home2/vavrines/.julia/packages/Flux/BPPNj/src/optimise/train.jl:138\n"
     ]
    },
    {
     "name": "stdout",
     "output_type": "stream",
     "text": [
      "loss: 0.2094311086190034\n",
      "loss: 0.20432602889767693\n"
     ]
    },
    {
     "name": "stderr",
     "output_type": "stream",
     "text": [
      "┌ Info: Epoch 69\n",
      "└ @ Main /home2/vavrines/.julia/packages/Flux/BPPNj/src/optimise/train.jl:138\n",
      "┌ Info: Epoch 70\n",
      "└ @ Main /home2/vavrines/.julia/packages/Flux/BPPNj/src/optimise/train.jl:138\n"
     ]
    },
    {
     "name": "stdout",
     "output_type": "stream",
     "text": [
      "loss: 0.20806223771257754\n"
     ]
    },
    {
     "name": "stderr",
     "output_type": "stream",
     "text": [
      "┌ Info: Epoch 71\n",
      "└ @ Main /home2/vavrines/.julia/packages/Flux/BPPNj/src/optimise/train.jl:138\n"
     ]
    },
    {
     "name": "stdout",
     "output_type": "stream",
     "text": [
      "loss: 0.23438888770119068\n"
     ]
    },
    {
     "name": "stderr",
     "output_type": "stream",
     "text": [
      "┌ Info: Epoch 72\n",
      "└ @ Main /home2/vavrines/.julia/packages/Flux/BPPNj/src/optimise/train.jl:138\n"
     ]
    },
    {
     "name": "stdout",
     "output_type": "stream",
     "text": [
      "loss: 0.2130138945003327\n"
     ]
    },
    {
     "name": "stderr",
     "output_type": "stream",
     "text": [
      "┌ Info: Epoch 73\n",
      "└ @ Main /home2/vavrines/.julia/packages/Flux/BPPNj/src/optimise/train.jl:138\n"
     ]
    },
    {
     "name": "stdout",
     "output_type": "stream",
     "text": [
      "loss: 0.22994937980002844\n",
      "loss: 0.2122207614384434\n"
     ]
    },
    {
     "name": "stderr",
     "output_type": "stream",
     "text": [
      "┌ Info: Epoch 74\n",
      "└ @ Main /home2/vavrines/.julia/packages/Flux/BPPNj/src/optimise/train.jl:138\n",
      "┌ Info: Epoch 75\n",
      "└ @ Main /home2/vavrines/.julia/packages/Flux/BPPNj/src/optimise/train.jl:138\n"
     ]
    },
    {
     "name": "stdout",
     "output_type": "stream",
     "text": [
      "loss: 0.208165583050373\n"
     ]
    },
    {
     "name": "stderr",
     "output_type": "stream",
     "text": [
      "┌ Info: Epoch 76\n",
      "└ @ Main /home2/vavrines/.julia/packages/Flux/BPPNj/src/optimise/train.jl:138\n"
     ]
    },
    {
     "name": "stdout",
     "output_type": "stream",
     "text": [
      "loss: 0.20869534752915633\n"
     ]
    },
    {
     "name": "stderr",
     "output_type": "stream",
     "text": [
      "┌ Info: Epoch 77\n",
      "└ @ Main /home2/vavrines/.julia/packages/Flux/BPPNj/src/optimise/train.jl:138\n"
     ]
    },
    {
     "name": "stdout",
     "output_type": "stream",
     "text": [
      "loss: 0.21341805760250054\n",
      "loss: 0.2078727222089563\n"
     ]
    },
    {
     "name": "stderr",
     "output_type": "stream",
     "text": [
      "┌ Info: Epoch 78\n",
      "└ @ Main /home2/vavrines/.julia/packages/Flux/BPPNj/src/optimise/train.jl:138\n",
      "┌ Info: Epoch 79\n",
      "└ @ Main /home2/vavrines/.julia/packages/Flux/BPPNj/src/optimise/train.jl:138\n"
     ]
    },
    {
     "name": "stdout",
     "output_type": "stream",
     "text": [
      "loss: 0.2313048074065386\n"
     ]
    },
    {
     "name": "stderr",
     "output_type": "stream",
     "text": [
      "┌ Info: Epoch 80\n",
      "└ @ Main /home2/vavrines/.julia/packages/Flux/BPPNj/src/optimise/train.jl:138\n"
     ]
    },
    {
     "name": "stdout",
     "output_type": "stream",
     "text": [
      "loss: 0.2111102584728212\n"
     ]
    },
    {
     "name": "stderr",
     "output_type": "stream",
     "text": [
      "┌ Info: Epoch 81\n",
      "└ @ Main /home2/vavrines/.julia/packages/Flux/BPPNj/src/optimise/train.jl:138\n"
     ]
    },
    {
     "name": "stdout",
     "output_type": "stream",
     "text": [
      "loss: 0.20587790348975796\n",
      "loss: 0.20563019562440407\n"
     ]
    },
    {
     "name": "stderr",
     "output_type": "stream",
     "text": [
      "┌ Info: Epoch 82\n",
      "└ @ Main /home2/vavrines/.julia/packages/Flux/BPPNj/src/optimise/train.jl:138\n",
      "┌ Info: Epoch 83\n",
      "└ @ Main /home2/vavrines/.julia/packages/Flux/BPPNj/src/optimise/train.jl:138\n"
     ]
    },
    {
     "name": "stdout",
     "output_type": "stream",
     "text": [
      "loss: 0.21071158007668733\n"
     ]
    },
    {
     "name": "stderr",
     "output_type": "stream",
     "text": [
      "┌ Info: Epoch 84\n",
      "└ @ Main /home2/vavrines/.julia/packages/Flux/BPPNj/src/optimise/train.jl:138\n"
     ]
    },
    {
     "name": "stdout",
     "output_type": "stream",
     "text": [
      "loss: 0.20164338480310365\n"
     ]
    },
    {
     "name": "stderr",
     "output_type": "stream",
     "text": [
      "┌ Info: Epoch 85\n",
      "└ @ Main /home2/vavrines/.julia/packages/Flux/BPPNj/src/optimise/train.jl:138\n"
     ]
    },
    {
     "name": "stdout",
     "output_type": "stream",
     "text": [
      "loss: 0.20267602360465417\n",
      "loss: 0.20759242299806402\n"
     ]
    },
    {
     "name": "stderr",
     "output_type": "stream",
     "text": [
      "┌ Info: Epoch 86\n",
      "└ @ Main /home2/vavrines/.julia/packages/Flux/BPPNj/src/optimise/train.jl:138\n",
      "┌ Info: Epoch 87\n",
      "└ @ Main /home2/vavrines/.julia/packages/Flux/BPPNj/src/optimise/train.jl:138\n"
     ]
    },
    {
     "name": "stdout",
     "output_type": "stream",
     "text": [
      "loss: 0.21481451984502356\n"
     ]
    },
    {
     "name": "stderr",
     "output_type": "stream",
     "text": [
      "┌ Info: Epoch 88\n",
      "└ @ Main /home2/vavrines/.julia/packages/Flux/BPPNj/src/optimise/train.jl:138\n"
     ]
    },
    {
     "name": "stdout",
     "output_type": "stream",
     "text": [
      "loss: 0.23030689294939152\n"
     ]
    },
    {
     "name": "stderr",
     "output_type": "stream",
     "text": [
      "┌ Info: Epoch 89\n",
      "└ @ Main /home2/vavrines/.julia/packages/Flux/BPPNj/src/optimise/train.jl:138\n"
     ]
    },
    {
     "name": "stdout",
     "output_type": "stream",
     "text": [
      "loss: 0.20439560355077033\n"
     ]
    },
    {
     "name": "stderr",
     "output_type": "stream",
     "text": [
      "┌ Info: Epoch 90\n",
      "└ @ Main /home2/vavrines/.julia/packages/Flux/BPPNj/src/optimise/train.jl:138\n"
     ]
    },
    {
     "name": "stdout",
     "output_type": "stream",
     "text": [
      "loss: 0.20672392153438962\n",
      "loss: 0.2016555171023538\n"
     ]
    },
    {
     "name": "stderr",
     "output_type": "stream",
     "text": [
      "┌ Info: Epoch 91\n",
      "└ @ Main /home2/vavrines/.julia/packages/Flux/BPPNj/src/optimise/train.jl:138\n",
      "┌ Info: Epoch 92\n",
      "└ @ Main /home2/vavrines/.julia/packages/Flux/BPPNj/src/optimise/train.jl:138\n"
     ]
    },
    {
     "name": "stdout",
     "output_type": "stream",
     "text": [
      "loss: 0.20636130919498472\n"
     ]
    },
    {
     "name": "stderr",
     "output_type": "stream",
     "text": [
      "┌ Info: Epoch 93\n",
      "└ @ Main /home2/vavrines/.julia/packages/Flux/BPPNj/src/optimise/train.jl:138\n"
     ]
    },
    {
     "name": "stdout",
     "output_type": "stream",
     "text": [
      "loss: 0.20744072735596158\n"
     ]
    },
    {
     "name": "stderr",
     "output_type": "stream",
     "text": [
      "┌ Info: Epoch 94\n",
      "└ @ Main /home2/vavrines/.julia/packages/Flux/BPPNj/src/optimise/train.jl:138\n"
     ]
    },
    {
     "name": "stdout",
     "output_type": "stream",
     "text": [
      "loss: 0.20532445273935998\n"
     ]
    },
    {
     "name": "stderr",
     "output_type": "stream",
     "text": [
      "┌ Info: Epoch 95\n",
      "└ @ Main /home2/vavrines/.julia/packages/Flux/BPPNj/src/optimise/train.jl:138\n"
     ]
    },
    {
     "name": "stdout",
     "output_type": "stream",
     "text": [
      "loss: 0.20595673169204692\n",
      "loss: 0.21667410010681068\n"
     ]
    },
    {
     "name": "stderr",
     "output_type": "stream",
     "text": [
      "┌ Info: Epoch 96\n",
      "└ @ Main /home2/vavrines/.julia/packages/Flux/BPPNj/src/optimise/train.jl:138\n",
      "┌ Info: Epoch 97\n",
      "└ @ Main /home2/vavrines/.julia/packages/Flux/BPPNj/src/optimise/train.jl:138\n"
     ]
    },
    {
     "name": "stdout",
     "output_type": "stream",
     "text": [
      "loss: 0.2041061553969591\n"
     ]
    },
    {
     "name": "stderr",
     "output_type": "stream",
     "text": [
      "┌ Info: Epoch 98\n",
      "└ @ Main /home2/vavrines/.julia/packages/Flux/BPPNj/src/optimise/train.jl:138\n"
     ]
    },
    {
     "name": "stdout",
     "output_type": "stream",
     "text": [
      "loss: 0.1994417207644486\n"
     ]
    },
    {
     "name": "stderr",
     "output_type": "stream",
     "text": [
      "┌ Info: Epoch 99\n",
      "└ @ Main /home2/vavrines/.julia/packages/Flux/BPPNj/src/optimise/train.jl:138\n"
     ]
    },
    {
     "name": "stdout",
     "output_type": "stream",
     "text": [
      "loss: 0.2138204572585951\n"
     ]
    },
    {
     "name": "stderr",
     "output_type": "stream",
     "text": [
      "┌ Info: Epoch 100\n",
      "└ @ Main /home2/vavrines/.julia/packages/Flux/BPPNj/src/optimise/train.jl:138\n"
     ]
    }
   ],
   "source": [
    "@epochs 100 Flux.train!(loss, ps, data, opt, cb = Flux.throttle(cb, 1))"
   ]
  },
  {
   "cell_type": "code",
   "execution_count": 16,
   "metadata": {},
   "outputs": [],
   "source": [
    "cd(@__DIR__)\n",
    "@save \"nn_rif.jld2\" nn"
   ]
  },
  {
   "cell_type": "code",
   "execution_count": 17,
   "metadata": {},
   "outputs": [],
   "source": []
  },
  {
   "cell_type": "markdown",
   "metadata": {},
   "source": [
    "### Test"
   ]
  },
  {
   "cell_type": "code",
   "execution_count": 15,
   "metadata": {},
   "outputs": [
    {
     "data": {
      "text/plain": [
       "0.872"
      ]
     },
     "execution_count": 15,
     "metadata": {},
     "output_type": "execute_result"
    }
   ],
   "source": [
    "accuracy(nn, X, Y)"
   ]
  },
  {
   "cell_type": "code",
   "execution_count": null,
   "metadata": {},
   "outputs": [],
   "source": []
  }
 ],
 "metadata": {
  "kernelspec": {
   "display_name": "Julia 1.6.2",
   "language": "julia",
   "name": "julia-1.6"
  },
  "language_info": {
   "file_extension": ".jl",
   "mimetype": "application/julia",
   "name": "julia",
   "version": "1.6.2"
  }
 },
 "nbformat": 4,
 "nbformat_minor": 4
}
