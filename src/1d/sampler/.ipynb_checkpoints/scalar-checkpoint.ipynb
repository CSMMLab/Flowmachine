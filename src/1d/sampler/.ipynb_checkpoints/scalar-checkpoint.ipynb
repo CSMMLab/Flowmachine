{
 "cells": [
  {
   "cell_type": "markdown",
   "metadata": {},
   "source": [
    "# Playground with sampled data from KiT-RT\n",
    "\n",
    "### Setup"
   ]
  },
  {
   "cell_type": "code",
   "execution_count": 1,
   "metadata": {},
   "outputs": [
    {
     "name": "stderr",
     "output_type": "stream",
     "text": [
      "┌ Info: Kinetic will run serially\n",
      "└ @ KitBase /home/steffen/.julia/packages/KitBase/uRwN6/src/KitBase.jl:66\n"
     ]
    }
   ],
   "source": [
    "using KitBase, Plots, JLD2, Distributions, LinearAlgebra, Flux, NPZ\n",
    "using Flux: @epochs"
   ]
  },
  {
   "cell_type": "code",
   "execution_count": 2,
   "metadata": {},
   "outputs": [
    {
     "data": {
      "text/plain": [
       "accuracy (generic function with 1 method)"
      ]
     },
     "execution_count": 2,
     "metadata": {},
     "output_type": "execute_result"
    }
   ],
   "source": [
    "function regime_data(w, sw, f, u, K, Kn, μ=ref_vhs_vis(Kn, 1.0, 0.5), ω=0.81)\n",
    "    gam = heat_capacity_ratio(K, 1)\n",
    "    prim = conserve_prim(w, gam)\n",
    "    Mu, Mxi, _, _1 = gauss_moments(prim, K)\n",
    "    a = pdf_slope(prim, sw, K)\n",
    "    swt = -prim[1] .* moments_conserve_slope(a, Mu, Mxi, 1)\n",
    "    A = pdf_slope(prim, swt, K)\n",
    "    tau = vhs_collision_time(prim, μ, ω)\n",
    "    fr = chapman_enskog(u, prim, a, A, tau)\n",
    "    L = norm((f .- fr) ./ prim[1])\n",
    "\n",
    "    x = [w; sw; tau]\n",
    "    y = ifelse(L <= 0.005, 0.0, 1.0)\n",
    "    return x, y\n",
    "end\n",
    "\n",
    "function regime_number(Y, rg=0)\n",
    "   idx = 0\n",
    "    for i in axes(Y, 2)\n",
    "       if Y[1, i] == rg\n",
    "            idx += 1\n",
    "        end\n",
    "    end\n",
    "    println(\"NS regime: $(idx) of $(size(Y, 2))\")\n",
    "    return nothing\n",
    "end\n",
    "\n",
    "function accuracy(nn, X, Z)\n",
    "    Z1 = nn(X)\n",
    "\n",
    "    ZA1 = [round(Z1[1, i]) for i in axes(Z1, 2)]\n",
    "    ZA = [round(Z[1, i]) for i in axes(Z, 2)]\n",
    "\n",
    "    accuracy = 0.0\n",
    "    for i in eachindex(ZA)\n",
    "        if ZA[i] == ZA1[i]\n",
    "            accuracy += 1.0\n",
    "        end\n",
    "    end\n",
    "    accuracy /= length(ZA)\n",
    "\n",
    "    return accuracy\n",
    "end"
   ]
  },
  {
   "cell_type": "markdown",
   "metadata": {},
   "source": [
    "### Dataset"
   ]
  },
  {
   "cell_type": "code",
   "execution_count": 41,
   "metadata": {},
   "outputs": [],
   "source": [
    "file = open(\"../../../data/1d/a2_ev10.csv\")\n",
    "data = []\n",
    "for line in eachline(file)\n",
    "    a = split(line, \",\")\n",
    "    b = [parse(Float64, a[i]) for i = 2:length(a)]\n",
    "    push!(data, b)\n",
    "end\n",
    "pdfs = data[3:end];"
   ]
  },
  {
   "cell_type": "code",
   "execution_count": 42,
   "metadata": {},
   "outputs": [
    {
     "data": {
      "text/plain": [
       "15001"
      ]
     },
     "execution_count": 42,
     "metadata": {},
     "output_type": "execute_result"
    }
   ],
   "source": [
    "file = open(\"../../../data/1d/a3_ev10.csv\")\n",
    "for line in eachline(file)\n",
    "    a = split(line, \",\")\n",
    "    b = [parse(Float64, a[i]) for i = 2:length(a)]\n",
    "    push!(data, b)\n",
    "end\n",
    "pdfs = [pdfs; data[3:end]]\n",
    "\n",
    "#=file = open(\"../../../data/1d/a8_ev5.csv\")\n",
    "for line in eachline(file)\n",
    "    a = split(line, \",\")\n",
    "    b = [parse(Float64, a[i]) for i = 2:length(a)]\n",
    "    push!(data, b)\n",
    "end\n",
    "pdfs = [pdfs; data[3:end]]=#\n",
    "nd = length(pdfs) ÷ 2"
   ]
  },
  {
   "cell_type": "code",
   "execution_count": 43,
   "metadata": {},
   "outputs": [],
   "source": [
    "vs = VSpace1D(-5.0, 5.0, length(data[1]), data[1], data[1][2:end] .- data[1][1:end-1], data[2])\n",
    "δ = heaviside.(vs.u);"
   ]
  },
  {
   "cell_type": "code",
   "execution_count": 44,
   "metadata": {},
   "outputs": [],
   "source": [
    "dist = Uniform(0.005, 0.1)\n",
    "dxs = rand(dist, nd)\n",
    "dist = Uniform(0.0001, 1.0)\n",
    "kns = rand(dist, nd);\n",
    "dist = Uniform(0.5, 1.0)\n",
    "rhos = rand(dist, nd);"
   ]
  },
  {
   "cell_type": "code",
   "execution_count": 45,
   "metadata": {
    "scrolled": true
   },
   "outputs": [],
   "source": [
    "X = [1.0, 0.0, 1.0, 0.0, 0.0, 0.0, 1.0]\n",
    "Y = [0.0]\n",
    "for i = 1:nd\n",
    "    try\n",
    "        #fL = pdfs[i]; fR = pdfs[nd*2-i]\n",
    "        fL = pop!(pdfs) .* pop!(rhos); fR = pop!(pdfs) .* pop!(rhos) # shuffle\n",
    "        wL = moments_conserve(fL, vs.u, vs.weights); wR = moments_conserve(fR, vs.u, vs.weights)\n",
    "        #@show wL, wR\n",
    "        \n",
    "        f = @. fL * δ + fR * (1.0 - δ)\n",
    "        w = moments_conserve(f, vs.u, vs.weights)\n",
    "        #f = @. (fL + fR) / 2\n",
    "        #w = @. (wL + wR) / 2\n",
    "        \n",
    "        sw = @. (wR - wL) / dxs[i]\n",
    "        \n",
    "        tmpx, tmpy = regime_data(w, sw, f, vs.u, 0, kns[i])\n",
    "        X = hcat(X, tmpx)\n",
    "        Y = hcat(Y, tmpy)\n",
    "    catch\n",
    "    end\n",
    "end"
   ]
  },
  {
   "cell_type": "code",
   "execution_count": 46,
   "metadata": {},
   "outputs": [
    {
     "name": "stdout",
     "output_type": "stream",
     "text": [
      "NS regime: 293 of 7500\n"
     ]
    },
    {
     "data": {
      "text/plain": [
       "1×7500 Matrix{Float64}:\n",
       " 0.0  1.0  1.0  1.0  1.0  1.0  1.0  1.0  …  1.0  1.0  1.0  1.0  1.0  1.0  1.0"
      ]
     },
     "execution_count": 46,
     "metadata": {},
     "output_type": "execute_result"
    }
   ],
   "source": [
    "regime_number(Y)\n",
    "Y"
   ]
  },
  {
   "cell_type": "code",
   "execution_count": 32,
   "metadata": {},
   "outputs": [
    {
     "data": {
      "text/plain": [
       "7-element Vector{Float64}:\n",
       " 1.0\n",
       " 0.0\n",
       " 1.0\n",
       " 0.0\n",
       " 0.0\n",
       " 0.0\n",
       " 1.0"
      ]
     },
     "execution_count": 32,
     "metadata": {},
     "output_type": "execute_result"
    }
   ],
   "source": [
    "X\n",
    "npzwrite(\"data.npz\", Dict(\"X\" => X, \"Y\" => Y))\n"
   ]
  },
  {
   "cell_type": "code",
   "execution_count": 33,
   "metadata": {},
   "outputs": [
    {
     "ename": "LoadError",
     "evalue": "MethodError: no method matching getindex(::Flux.Data.DataLoader{Tuple{Matrix{Float64}, Matrix{Float64}}, Random._GLOBAL_RNG}, ::Int64)",
     "output_type": "error",
     "traceback": [
      "MethodError: no method matching getindex(::Flux.Data.DataLoader{Tuple{Matrix{Float64}, Matrix{Float64}}, Random._GLOBAL_RNG}, ::Int64)",
      "",
      "Stacktrace:",
      " [1] top-level scope",
      "   @ In[33]:2",
      " [2] eval",
      "   @ ./boot.jl:373 [inlined]",
      " [3] include_string(mapexpr::typeof(REPL.softscope), mod::Module, code::String, filename::String)",
      "   @ Base ./loading.jl:1196"
     ]
    }
   ],
   "source": [
    "idx = Int(floor(rand() * size(X, 2)))\n",
    "plot(data[1], data[idx], ylabel=\"$(idx)-th pdf\")"
   ]
  },
  {
   "cell_type": "markdown",
   "metadata": {},
   "source": [
    "### Model"
   ]
  },
  {
   "cell_type": "code",
   "execution_count": 12,
   "metadata": {},
   "outputs": [
    {
     "name": "stderr",
     "output_type": "stream",
     "text": [
      "┌ Warning: Opening file with JLD2.MmapIO failed, falling back to IOStream\n",
      "└ @ JLD2 /home/steffen/.julia/packages/JLD2/nt3Qf/src/JLD2.jl:230\n"
     ]
    },
    {
     "ename": "LoadError",
     "evalue": "SystemError: opening file \"../nn_scalar.jld2\": No such file or directory",
     "output_type": "error",
     "traceback": [
      "SystemError: opening file \"../nn_scalar.jld2\": No such file or directory",
      "",
      "Stacktrace:",
      "  [1] systemerror(p::String, errno::Int32; extrainfo::Nothing)",
      "    @ Base ./error.jl:174",
      "  [2] #systemerror#68",
      "    @ ./error.jl:173 [inlined]",
      "  [3] systemerror",
      "    @ ./error.jl:173 [inlined]",
      "  [4] open(fname::String; lock::Bool, read::Bool, write::Bool, create::Bool, truncate::Bool, append::Bool)",
      "    @ Base ./iostream.jl:293",
      "  [5] openfile",
      "    @ ~/.julia/packages/JLD2/nt3Qf/src/JLD2.jl:220 [inlined]",
      "  [6] openfile(T::Type, fname::String, wr::Bool, create::Bool, truncate::Bool, fallback::Type)",
      "    @ JLD2 ~/.julia/packages/JLD2/nt3Qf/src/JLD2.jl:231",
      "  [7] jldopen(fname::String, wr::Bool, create::Bool, truncate::Bool, iotype::Type{JLD2.MmapIO}; fallback::Type{IOStream}, compress::Bool, mmaparrays::Bool)",
      "    @ JLD2 ~/.julia/packages/JLD2/nt3Qf/src/JLD2.jl:286",
      "  [8] jldopen(fname::String, wr::Bool, create::Bool, truncate::Bool, iotype::Type{JLD2.MmapIO})",
      "    @ JLD2 ~/.julia/packages/JLD2/nt3Qf/src/JLD2.jl:249",
      "  [9] jldopen(fname::String, mode::String; iotype::Type, kwargs::Base.Pairs{Symbol, Union{}, Tuple{}, NamedTuple{(), Tuple{}}})",
      "    @ JLD2 ~/.julia/packages/JLD2/nt3Qf/src/JLD2.jl:342",
      " [10] jldopen (repeats 2 times)",
      "    @ ~/.julia/packages/JLD2/nt3Qf/src/JLD2.jl:337 [inlined]",
      " [11] jldopen(f::var\"#9#10\", args::String; kws::Base.Pairs{Symbol, Union{}, Tuple{}, NamedTuple{(), Tuple{}}})",
      "    @ JLD2 ~/.julia/packages/JLD2/nt3Qf/src/loadsave.jl:2",
      " [12] jldopen(f::Function, args::String)",
      "    @ JLD2 ~/.julia/packages/JLD2/nt3Qf/src/loadsave.jl:2",
      " [13] top-level scope",
      "    @ ~/.julia/packages/JLD2/nt3Qf/src/loadsave.jl:145",
      " [14] eval",
      "    @ ./boot.jl:373 [inlined]",
      " [15] include_string(mapexpr::typeof(REPL.softscope), mod::Module, code::String, filename::String)",
      "    @ Base ./loading.jl:1196"
     ]
    }
   ],
   "source": [
    "@load \"../nn_scalar.jld2\" nn"
   ]
  },
  {
   "cell_type": "code",
   "execution_count": 13,
   "metadata": {},
   "outputs": [
    {
     "ename": "LoadError",
     "evalue": "UndefVarError: nn not defined",
     "output_type": "error",
     "traceback": [
      "UndefVarError: nn not defined",
      "",
      "Stacktrace:",
      " [1] top-level scope",
      "   @ In[13]:1",
      " [2] eval",
      "   @ ./boot.jl:373 [inlined]",
      " [3] include_string(mapexpr::typeof(REPL.softscope), mod::Module, code::String, filename::String)",
      "   @ Base ./loading.jl:1196"
     ]
    }
   ],
   "source": [
    "accuracy(nn, X, Y)"
   ]
  },
  {
   "cell_type": "code",
   "execution_count": 14,
   "metadata": {},
   "outputs": [
    {
     "ename": "LoadError",
     "evalue": "UndefVarError: nn not defined",
     "output_type": "error",
     "traceback": [
      "UndefVarError: nn not defined",
      "",
      "Stacktrace:",
      " [1] top-level scope",
      "   @ In[14]:2",
      " [2] eval",
      "   @ ./boot.jl:373 [inlined]",
      " [3] include_string(mapexpr::typeof(REPL.softscope), mod::Module, code::String, filename::String)",
      "   @ Base ./loading.jl:1196"
     ]
    }
   ],
   "source": [
    "data = Flux.Data.DataLoader((X, Y), shuffle = true)\n",
    "ps = Flux.params(nn)\n",
    "sqnorm(x) = sum(abs2, x)\n",
    "#loss(x, y) = sum(abs2, nn(x) - y) / size(x, 2) #+ 1e-6 * sum(sqnorm, ps)\n",
    "loss(x, y) = Flux.binarycrossentropy(nn(x), y)\n",
    "cb = () -> println(\"loss: $(loss(X, Y))\")\n",
    "opt = ADAM()"
   ]
  },
  {
   "cell_type": "code",
   "execution_count": 15,
   "metadata": {
    "scrolled": true
   },
   "outputs": [
    {
     "name": "stderr",
     "output_type": "stream",
     "text": [
      "┌ Info: Epoch 1\n",
      "└ @ Main /home/steffen/.julia/packages/Flux/BPPNj/src/optimise/train.jl:138\n"
     ]
    },
    {
     "ename": "LoadError",
     "evalue": "UndefVarError: cb not defined",
     "output_type": "error",
     "traceback": [
      "UndefVarError: cb not defined",
      "",
      "Stacktrace:",
      " [1] macro expansion",
      "   @ ~/.julia/packages/Flux/BPPNj/src/optimise/train.jl:139 [inlined]",
      " [2] top-level scope",
      "   @ ~/.julia/packages/Juno/n6wyj/src/progress.jl:134",
      " [3] eval",
      "   @ ./boot.jl:373 [inlined]",
      " [4] include_string(mapexpr::typeof(REPL.softscope), mod::Module, code::String, filename::String)",
      "   @ Base ./loading.jl:1196"
     ]
    }
   ],
   "source": [
    "@epochs 2 Flux.train!(loss, ps, data, opt, cb = Flux.throttle(cb, 1))"
   ]
  },
  {
   "cell_type": "code",
   "execution_count": 16,
   "metadata": {},
   "outputs": [
    {
     "ename": "LoadError",
     "evalue": "UndefVarError: nn not defined",
     "output_type": "error",
     "traceback": [
      "UndefVarError: nn not defined",
      "",
      "Stacktrace:",
      " [1] top-level scope",
      "   @ ~/.julia/packages/JLD2/nt3Qf/src/loadsave.jl:66",
      " [2] eval",
      "   @ ./boot.jl:373 [inlined]",
      " [3] include_string(mapexpr::typeof(REPL.softscope), mod::Module, code::String, filename::String)",
      "   @ Base ./loading.jl:1196"
     ]
    }
   ],
   "source": [
    "cd(@__DIR__)\n",
    "@save \"nn_rif.jld2\" nn # reinforcement neural model"
   ]
  },
  {
   "cell_type": "code",
   "execution_count": null,
   "metadata": {},
   "outputs": [],
   "source": []
  },
  {
   "cell_type": "markdown",
   "metadata": {},
   "source": [
    "### Test"
   ]
  },
  {
   "cell_type": "code",
   "execution_count": 17,
   "metadata": {},
   "outputs": [
    {
     "ename": "LoadError",
     "evalue": "UndefVarError: nn not defined",
     "output_type": "error",
     "traceback": [
      "UndefVarError: nn not defined",
      "",
      "Stacktrace:",
      " [1] top-level scope",
      "   @ In[17]:1",
      " [2] eval",
      "   @ ./boot.jl:373 [inlined]",
      " [3] include_string(mapexpr::typeof(REPL.softscope), mod::Module, code::String, filename::String)",
      "   @ Base ./loading.jl:1196"
     ]
    }
   ],
   "source": [
    "accuracy(nn, X, Y)"
   ]
  },
  {
   "cell_type": "code",
   "execution_count": 18,
   "metadata": {},
   "outputs": [
    {
     "ename": "LoadError",
     "evalue": "UndefVarError: nn not defined",
     "output_type": "error",
     "traceback": [
      "UndefVarError: nn not defined",
      "",
      "Stacktrace:",
      " [1] top-level scope",
      "   @ In[18]:1",
      " [2] eval",
      "   @ ./boot.jl:373 [inlined]",
      " [3] include_string(mapexpr::typeof(REPL.softscope), mod::Module, code::String, filename::String)",
      "   @ Base ./loading.jl:1196"
     ]
    }
   ],
   "source": [
    "nn(X)"
   ]
  },
  {
   "cell_type": "code",
   "execution_count": 19,
   "metadata": {},
   "outputs": [
    {
     "data": {
      "text/plain": [
       "7×7501 Matrix{Float64}:\n",
       " 1.0   0.58618     0.71874     0.913093   …   0.322532      0.579254\n",
       " 0.0  -0.524337    0.0919413   0.0245476     -0.0641642     0.0301326\n",
       " 1.0   0.741353    0.89598     1.14025        0.39994       0.718275\n",
       " 0.0  10.5249     -2.46604    -0.117992       1.53832      -1.30401\n",
       " 0.0  -0.26498    -0.12582    -0.126376      -2.40126e-17   6.37536e-16\n",
       " 0.0  13.0635     -3.06854    -0.158506   …   1.90752      -1.61697\n",
       " 1.0   0.0160115   0.640434    0.433245       0.300584      1.09489"
      ]
     },
     "execution_count": 19,
     "metadata": {},
     "output_type": "execute_result"
    }
   ],
   "source": [
    "X"
   ]
  },
  {
   "cell_type": "code",
   "execution_count": 20,
   "metadata": {},
   "outputs": [
    {
     "data": {
      "text/plain": [
       "1×7501 Matrix{Float64}:\n",
       " 0.0  1.0  1.0  0.0  1.0  1.0  1.0  1.0  …  1.0  1.0  1.0  1.0  1.0  1.0  1.0"
      ]
     },
     "execution_count": 20,
     "metadata": {},
     "output_type": "execute_result"
    }
   ],
   "source": [
    "Y"
   ]
  },
  {
   "cell_type": "code",
   "execution_count": null,
   "metadata": {},
   "outputs": [],
   "source": []
  },
  {
   "cell_type": "code",
   "execution_count": null,
   "metadata": {},
   "outputs": [],
   "source": []
  },
  {
   "cell_type": "code",
   "execution_count": null,
   "metadata": {},
   "outputs": [],
   "source": []
  }
 ],
 "metadata": {
  "kernelspec": {
   "display_name": "Julia 1.7.0",
   "language": "julia",
   "name": "julia-1.7"
  },
  "language_info": {
   "file_extension": ".jl",
   "mimetype": "application/julia",
   "name": "julia",
   "version": "1.7.0"
  }
 },
 "nbformat": 4,
 "nbformat_minor": 4
}
