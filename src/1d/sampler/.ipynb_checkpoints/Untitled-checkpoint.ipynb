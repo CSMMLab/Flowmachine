{
 "cells": [
  {
   "cell_type": "code",
   "execution_count": 2,
   "metadata": {},
   "outputs": [],
   "source": [
    "using Flux, Plots"
   ]
  },
  {
   "cell_type": "code",
   "execution_count": null,
   "metadata": {},
   "outputs": [],
   "source": []
  },
  {
   "cell_type": "code",
   "execution_count": null,
   "metadata": {},
   "outputs": [],
   "source": []
  },
  {
   "cell_type": "code",
   "execution_count": null,
   "metadata": {},
   "outputs": [],
   "source": []
  },
  {
   "cell_type": "code",
   "execution_count": 29,
   "metadata": {},
   "outputs": [
    {
     "data": {
      "text/plain": [
       "Chain(\n",
       "  Dense(4, 4, σ),                       \u001b[90m# 20 parameters\u001b[39m\n",
       "  Dense(4, 1, σ),                       \u001b[90m# 5 parameters\u001b[39m\n",
       ")\u001b[90m                   # Total: 4 arrays, \u001b[39m25 parameters, 356 bytes."
      ]
     },
     "execution_count": 29,
     "metadata": {},
     "output_type": "execute_result"
    }
   ],
   "source": [
    "nn = Chain(Dense(4, 4, sigmoid), Dense(4, 1, sigmoid))"
   ]
  },
  {
   "cell_type": "code",
   "execution_count": 40,
   "metadata": {},
   "outputs": [
    {
     "data": {
      "text/plain": [
       "1-element Vector{Float64}:\n",
       " 0.5377955530052657"
      ]
     },
     "execution_count": 40,
     "metadata": {},
     "output_type": "execute_result"
    }
   ],
   "source": [
    "nn(randn(4))"
   ]
  },
  {
   "cell_type": "code",
   "execution_count": null,
   "metadata": {},
   "outputs": [],
   "source": []
  },
  {
   "cell_type": "code",
   "execution_count": null,
   "metadata": {},
   "outputs": [],
   "source": []
  },
  {
   "cell_type": "code",
   "execution_count": 5,
   "metadata": {},
   "outputs": [
    {
     "data": {
      "text/plain": [
       "loss (generic function with 1 method)"
      ]
     },
     "execution_count": 5,
     "metadata": {},
     "output_type": "execute_result"
    }
   ],
   "source": [
    "loss(x, y) = sum(Flux.binarycrossentropy.(nn(x), y)) "
   ]
  },
  {
   "cell_type": "code",
   "execution_count": null,
   "metadata": {},
   "outputs": [],
   "source": []
  },
  {
   "cell_type": "code",
   "execution_count": 15,
   "metadata": {},
   "outputs": [
    {
     "data": {
      "text/plain": [
       "1-element Vector{Float64}:\n",
       " -0.40002994884936033"
      ]
     },
     "execution_count": 15,
     "metadata": {},
     "output_type": "execute_result"
    }
   ],
   "source": [
    "nn(randn(4))"
   ]
  },
  {
   "cell_type": "code",
   "execution_count": null,
   "metadata": {},
   "outputs": [],
   "source": []
  },
  {
   "cell_type": "code",
   "execution_count": 20,
   "metadata": {},
   "outputs": [
    {
     "ename": "LoadError",
     "evalue": "DomainError with -0.33704978:\nlog will only return a complex result if called with a complex argument. Try log(Complex(x)).",
     "output_type": "error",
     "traceback": [
      "DomainError with -0.33704978:\nlog will only return a complex result if called with a complex argument. Try log(Complex(x)).",
      "",
      "Stacktrace:",
      "  [1] throw_complex_domainerror(f::Symbol, x::Float32)",
      "    @ Base.Math ./math.jl:33",
      "  [2] log(x::Float32)",
      "    @ Base.Math ./special/log.jl:321",
      "  [3] xlogy",
      "    @ ~/.julia/packages/Flux/BPPNj/src/losses/utils.jl:17 [inlined]",
      "  [4] _broadcast_getindex_evalf",
      "    @ ./broadcast.jl:648 [inlined]",
      "  [5] _broadcast_getindex",
      "    @ ./broadcast.jl:621 [inlined]",
      "  [6] _getindex",
      "    @ ./broadcast.jl:645 [inlined]",
      "  [7] _broadcast_getindex",
      "    @ ./broadcast.jl:620 [inlined]",
      "  [8] _getindex",
      "    @ ./broadcast.jl:644 [inlined]",
      "  [9] _broadcast_getindex",
      "    @ ./broadcast.jl:620 [inlined]",
      " [10] getindex",
      "    @ ./broadcast.jl:575 [inlined]",
      " [11] macro expansion",
      "    @ ./broadcast.jl:984 [inlined]",
      " [12] macro expansion",
      "    @ ./simdloop.jl:77 [inlined]",
      " [13] copyto!",
      "    @ ./broadcast.jl:983 [inlined]",
      " [14] copyto!",
      "    @ ./broadcast.jl:936 [inlined]",
      " [15] copy",
      "    @ ./broadcast.jl:908 [inlined]",
      " [16] materialize",
      "    @ ./broadcast.jl:883 [inlined]",
      " [17] binarycrossentropy(ŷ::Vector{Float32}, y::Int64; agg::typeof(Statistics.mean), ϵ::Float32)",
      "    @ Flux.Losses ~/.julia/packages/Flux/BPPNj/src/losses/functions.jl:304",
      " [18] binarycrossentropy(ŷ::Vector{Float32}, y::Int64)",
      "    @ Flux.Losses ~/.julia/packages/Flux/BPPNj/src/losses/functions.jl:303",
      " [19] top-level scope",
      "    @ In[20]:1",
      " [20] eval",
      "    @ ./boot.jl:360 [inlined]",
      " [21] include_string(mapexpr::typeof(REPL.softscope), mod::Module, code::String, filename::String)",
      "    @ Base ./loading.jl:1116"
     ]
    }
   ],
   "source": [
    "Flux.binarycrossentropy(nn([1,2,3,4]), 1)"
   ]
  },
  {
   "cell_type": "code",
   "execution_count": 28,
   "metadata": {},
   "outputs": [
    {
     "data": {
      "text/plain": [
       "0.8672183711416986"
      ]
     },
     "execution_count": 28,
     "metadata": {},
     "output_type": "execute_result"
    }
   ],
   "source": [
    "Flux.binarycrossentropy(rand(3), rand(3))"
   ]
  },
  {
   "cell_type": "code",
   "execution_count": null,
   "metadata": {},
   "outputs": [],
   "source": []
  }
 ],
 "metadata": {
  "kernelspec": {
   "display_name": "Julia 1.6.2",
   "language": "julia",
   "name": "julia-1.6"
  },
  "language_info": {
   "file_extension": ".jl",
   "mimetype": "application/julia",
   "name": "julia",
   "version": "1.6.2"
  }
 },
 "nbformat": 4,
 "nbformat_minor": 4
}
